{
 "cells": [
  {
   "cell_type": "markdown",
   "id": "70a78a63",
   "metadata": {},
   "source": [
    "<img src=\"./figures/rhdhv_logo.jpg\" width=200 height=400 align=\"right\" />\n",
    "\n",
    "***\n",
    "\n",
    "# Profile Optimizer (Bottom Level) DHydro - Jupyter notebook \n",
    "\n",
    "\n",
    "****"
   ]
  },
  {
   "cell_type": "markdown",
   "id": "82ecef3b",
   "metadata": {},
   "source": [
    "***\n",
    "\n",
    "## Introduction\n",
    "The **Profile Optimizer** is a Python tool in which the optimization of profiles for D-Hydro models is automated. Based on an existing D-Hydro model, part of the system will be modified to find an optimized situation. In this version (<font color='red'>v0.0.0-undecided</font>) it is possible to optimize the bottom level of profile of multiple branches based on the current bottom level and the slope. The bottom level is optimized to get higher water level during dry period while no flooding during storm events at the chosen location.\n",
    "\n",
    "This notebook was set up during TKI5 as a workflow for the Pilot Aa of Weerijs-Profile Optimizer at waterboard Brabantse Delta.\n",
    "\n",
    "\n",
    "## Contact \n",
    "The Profile Optimizer is part of HYDROLIB, an open source community for python tools for the D-Hydro software package. Visit the Hydrolib website for more information: https://github.com/Deltares/HYDROLIB\n",
    "\n",
    "The Profile Optimizer is developed by Royal HaskoningDHV:\n",
    "- <font color='red'>xxx</font>@rhdhv.com\n",
    "- <font color='red'>xxx</font>@rhdhv.com\n",
    "- <font color='red'>xxx</font>@rhdhv.com\n",
    "\n",
    "****"
   ]
  },
  {
   "cell_type": "markdown",
   "id": "d2e13f51",
   "metadata": {},
   "source": [
    "### Content\n",
    "\n",
    "* [Step 0: Prepare input](#step0)\n",
    "\n",
    "\n",
    "* [Step 1: Create geometry and select area](#step1)\n",
    "    * [Step 1.1: Create shapefiles for branches and cross section location](#step1.1)\n",
    "    * [Step 1.2: Compute strahler order](#step1.2)\n",
    "    * [Step 1.3: Select area](#step1.3)\n",
    "\n",
    "\n",
    "* [Step 2: Spatial check](#step2)\n",
    "\n",
    "\n",
    "* [Step 3: Optimize the bottom level](#step3)\n",
    "    * [Step 3.1: Prepare optimizer](#step3.1)\n",
    "    * [Step 3.2: Select reaches to be optimized](#step3.2)\n",
    "    * [Step 3.3: Get constraints](#step3.3)\n",
    "    * [Step 3.4: Get current water level](#step3.4)\n",
    "    * [Step 3.5: Run optimization algorithm](#step3.5)\n",
    "\n",
    "\n",
    "* [Limitations and suggestions](#step4)"
   ]
  },
  {
   "cell_type": "markdown",
   "id": "61681465-52ec-4947-a1e1-8b2336a02335",
   "metadata": {},
   "source": [
    "*****\n",
    "Import general packages:"
   ]
  },
  {
   "cell_type": "code",
   "execution_count": null,
   "id": "f1f491cc-349d-4abf-90e3-4e3da4a5e0db",
   "metadata": {},
   "outputs": [],
   "source": [
    "import numpy as np\n",
    "import pandas as pd\n",
    "import geopandas as gpd\n",
    "from osgeo import ogr\n",
    "from pathlib import Path\n",
    "import time"
   ]
  },
  {
   "cell_type": "code",
   "execution_count": null,
   "id": "9dc68524-393e-4cbe-afb8-89da7943af9a",
   "metadata": {},
   "outputs": [],
   "source": []
  },
  {
   "cell_type": "code",
   "execution_count": null,
   "id": "21cb72d3-1aea-42e9-9742-6bec2ca56b07",
   "metadata": {},
   "outputs": [],
   "source": [
    "from geometry import create_branches, create_crosssections\n"
   ]
  },
  {
   "cell_type": "markdown",
   "id": "ecaccfc1",
   "metadata": {},
   "source": [
    "***\n",
    "### Step 0: Prepare input"
   ]
  },
  {
   "cell_type": "markdown",
   "id": "0a42210e",
   "metadata": {},
   "source": [
    "In this step we select the model for which we want to use the Profile Optimizer (Bottom Level). From the selected model, a number of files are essential for this tool. These are identified in this step.\n",
    "\n",
    "The work and output folder are also created."
   ]
  },
  {
   "cell_type": "markdown",
   "id": "35e22267-c01f-4eb7-a426-57fb1d565396",
   "metadata": {},
   "source": [
    "### Folder"
   ]
  },
  {
   "cell_type": "markdown",
   "id": "99f2fbfd",
   "metadata": {},
   "source": [
    "`geometry_folder`: the folder where the datasets of branches, crosssection_locations, selected_profiles, etc. created in the steps are saved. This folder may not yet exist.<br>\n",
    "`spatialcheck_folder`: the folder where spatial checked model is written. This folder may not yet exist.<br>\n",
    "`temp_folder`: the temporary folder where iterations are written. This folder must not yet exist and can be automatically deleted at the end of the process.<br>\n",
    "`output_folder`: the folder where the optimized model is written. This folder must not yet exist."
   ]
  },
  {
   "cell_type": "code",
   "execution_count": null,
   "id": "1c358b95",
   "metadata": {},
   "outputs": [],
   "source": [
    "geometry_folder = 'C:/local/geometry'\n",
    "spatialcheck_folder = 'C:/local/spatial_check'\n",
    "temp_folder = 'C:/local/temp'\n",
    "output_folder = 'C:/local/output'"
   ]
  },
  {
   "cell_type": "markdown",
   "id": "f0448c26-9d9c-4c81-b619-066ee759ab4e",
   "metadata": {},
   "source": [
    "### D-Hydro model input"
   ]
  },
  {
   "cell_type": "markdown",
   "id": "1b0d5dea",
   "metadata": {},
   "source": [
    "`model_folder`: the folder where the source model is located (as for easy relative paths from here).<br>\n",
    "`model_mdu`:  the MDU of this model.<br>\n",
    "`model_network_nc`: the network file of this model.<br>\n",
    "`model_crossloc`: the file containing the cross section locations of this model.<br>\n",
    "`bat_file`: the batch file with which the DIMR calculation is performed."
   ]
  },
  {
   "cell_type": "code",
   "execution_count": null,
   "id": "859c26db",
   "metadata": {},
   "outputs": [],
   "source": [
    "model_folder = Path(r'c:\\Users\\922383\\Desktop\\06_profile_optimizer_bottom_level\\src\\fm_modify')\n",
    "model_mdu = model_folder/'Iteration_0.mdu'\n",
    "model_network_nc = model_folder/'test_9_aa_of_weerijs_net.nc'\n",
    "model_crossloc = model_folder/'crsloc.ini'\n",
    "bat_file = model_folder/'run_bat.bat'"
   ]
  },
  {
   "cell_type": "code",
   "execution_count": null,
   "id": "577099cb",
   "metadata": {},
   "outputs": [],
   "source": []
  },
  {
   "cell_type": "markdown",
   "id": "0cc88fe3-2631-4a9b-bf70-a81ba1e3e074",
   "metadata": {},
   "source": [
    "### Optimization area"
   ]
  },
  {
   "cell_type": "markdown",
   "id": "ede8d13a",
   "metadata": {},
   "source": [
    "`shapefile_path`shapefile (polygon) that selects the optimization area."
   ]
  },
  {
   "cell_type": "code",
   "execution_count": null,
   "id": "ef9e64e3",
   "metadata": {},
   "outputs": [],
   "source": [
    "shapefile_path = r'c:\\Users\\922383\\Desktop\\06_profile_optimizer_bottom_level\\src\\optimization_area_multireach.gpkg'"
   ]
  },
  {
   "cell_type": "markdown",
   "id": "45bc12e2-edf3-4f75-9127-db87c39c57d9",
   "metadata": {},
   "source": [
    "***\n",
    "### Step 1: Create geometry and select area"
   ]
  },
  {
   "cell_type": "markdown",
   "id": "5c679b33",
   "metadata": {},
   "source": [
    "In this step we create shapefiles for branches and cross section location based on network file and cross section location file from the model. Then, the strahler order will be computed using branches dataset. Last, we select part of the model for which we are going to do optimization. An example of branches and crosssection locations created are shown below. Note that strahler order 0 are bypasses which we will not take into consideration to optimize. \n",
    "\n",
    "<img src=\"./figures/geometry.jpg\" width=600 />"
   ]
  },
  {
   "cell_type": "markdown",
   "id": "2ce00a51",
   "metadata": {},
   "source": [
    "#### Step 1.1: Create geometry dataset for branches and cross section location"
   ]
  },
  {
   "cell_type": "code",
   "execution_count": null,
   "id": "9fb51485",
   "metadata": {},
   "outputs": [],
   "source": [
    "#from geometry import create_branches, create_crosssections\n",
    "branches = create_branches(model_network_nc, geometry_folder)\n",
    "#crosssection_locations = create_crosssections(branches, model_crossloc, geometry_folder)"
   ]
  },
  {
   "cell_type": "code",
   "execution_count": null,
   "id": "e0bb27be-304b-410c-8faa-e340779974c2",
   "metadata": {},
   "outputs": [],
   "source": [
    "crosssection_locations = create_crosssections(branches, model_crossloc, geometry_folder)"
   ]
  },
  {
   "cell_type": "markdown",
   "id": "824f23c5-3b78-49e6-b77e-bb4e66baef7d",
   "metadata": {},
   "source": [
    "#### Step 1.2: Compute strahler order"
   ]
  },
  {
   "cell_type": "markdown",
   "id": "7246e55c",
   "metadata": {},
   "source": [
    "We use strahler.py to compute strahler order based on branches created in Step 1.1. The script is credited to Dr. Cho (https://here.isnew.info/strahler-stream-order-in-python.html). However, it is not mandatory to use this script. The objective is to compute strahler order for all branches. It is also fine if you use other method. Note that if you will use this script, please always check in GIS application after computing strahler order before using, because this script sometimes can wrongly compute small branches. The computing result `branches_strahler` will be used in Step 2."
   ]
  },
  {
   "cell_type": "code",
   "execution_count": null,
   "id": "df8050ce",
   "metadata": {},
   "outputs": [],
   "source": [
    "from strahler import find_head_lines, find_prev_lines, find_next_line, find_sibling_line\n",
    "\n",
    "branches_shapefile = f'{geometry_folder}/branches.shp'\n",
    "driver = ogr.GetDriverByName('ESRI Shapefile')\n",
    "file = driver.Open(branches_shapefile, 1)\n",
    "lyr = file.GetLayer(0)\n",
    "num_features = lyr.GetFeatureCount()\n",
    "lines = []\n",
    "field_name = \"Strahler\"\n",
    "for i in range(num_features):\n",
    "        feat = lyr.GetFeature(i)\n",
    "        feat.SetField(field_name, 0)\n",
    "        lyr.SetFeature(feat)\n",
    "        geom = feat.geometry()\n",
    "        line = geom.GetPoints()\n",
    "        lines.append(line)\n",
    "    \n",
    "head_idx = find_head_lines(lines)\n",
    "\n",
    "for idx in head_idx:\n",
    "    curr_idx = idx\n",
    "    curr_feat = lyr.GetFeature(curr_idx)\n",
    "    curr_ord = 1\n",
    "    curr_feat.SetField(field_name, curr_ord) # head line always 1\n",
    "    lyr.SetFeature(curr_feat)    \n",
    "\n",
    "    while True:\n",
    "        next_idx = find_next_line(curr_idx, lines)\n",
    "        if not next_idx:\n",
    "            break\n",
    "        next_feat = lyr.GetFeature(next_idx)\n",
    "        next_ord = next_feat.GetField(field_name)\n",
    "\n",
    "        sibl_idx = find_sibling_line(curr_idx, lines)\n",
    "        if sibl_idx is not None:\n",
    "            sibl_feat = lyr.GetFeature(sibl_idx)\n",
    "            sibl_ord = sibl_feat.GetField(field_name)\n",
    "            \n",
    "            if sibl_ord:\n",
    "                if sibl_ord > curr_ord:\n",
    "                    break\n",
    "                elif sibl_ord < curr_ord:\n",
    "                    if next_ord == curr_ord:\n",
    "                        break\n",
    "                else:\n",
    "                    curr_ord += 1\n",
    "\n",
    "        next_feat.SetField(field_name, curr_ord)\n",
    "        lyr.SetFeature(next_feat)\n",
    "\n",
    "        curr_idx = next_idx\n",
    "            \n",
    "# export lyr as .shp\n",
    "driver = ogr.GetDriverByName('ESRI Shapefile')\n",
    "out_ds = driver.CreateDataSource(f'{geometry_folder}/branches_strahler.shp')\n",
    "out_layer = out_ds.CopyLayer(lyr, 'branches_strahler')\n",
    "del out_layer, out_ds\n",
    "print(f'Finished computing Strahler. The file is here: {geometry_folder}/branches_strahler.shp')\n",
    "branches_strahler = gpd.read_file(f'{geometry_folder}/branches_strahler.shp')"
   ]
  },
  {
   "cell_type": "markdown",
   "id": "18aab7a3-3ec1-4514-938d-3c1d18585aad",
   "metadata": {},
   "source": [
    "#### Step 1.3: Select area"
   ]
  },
  {
   "cell_type": "markdown",
   "id": "a5fd2184",
   "metadata": {},
   "source": [
    "Note that in this version of the Profile Optimizer (Bottom Level), you can select multiple branches with multiple polygons in one shapefile. But you need to select all profiles within these branches. And the 'max allowable WL' (max allowable water level) should be specified in the attribute table of shapefile. If there are multiple polygons, the 'max allowable WL' should be the same. Otherwise only the first value of 'max allowable WL' in the shapefile will be used. See the example below.\n",
    "\n",
    "<img src=\"./figures/select_area.jpg\" width=500 />"
   ]
  },
  {
   "cell_type": "code",
   "execution_count": null,
   "id": "0b864bf8",
   "metadata": {},
   "outputs": [],
   "source": [
    "from geometry import select_crosssection_locations\n",
    "selected_profiles = select_crosssection_locations(crosssection_locations, shapefile_path, geometry_folder)\n",
    "selected_profiles.head()\n"
   ]
  },
  {
   "cell_type": "markdown",
   "id": "b5792892-697d-4a27-ab78-723a9aca23c4",
   "metadata": {},
   "source": [
    "***\n",
    "### Step 2: Spatial check"
   ]
  },
  {
   "cell_type": "markdown",
   "id": "96277eda",
   "metadata": {},
   "source": [
    "In this step we will carry out spatial check for selected profile at joints and within each reach to make sure that the bottom levels does not increase from upstream to downstream. Key steps including preprocessing, route, spatial check at joints and within reaches, fill depression, and save the modified model. The saved model `spatial_check_mdu_path` will be used as the base model in Step 3. An example of profiles before and after spatial check is shown below.\n",
    "\n",
    "<img src=\"./figures/spatial_check.jpg\" width=900 />"
   ]
  },
  {
   "cell_type": "code",
   "execution_count": null,
   "id": "953c34c7",
   "metadata": {},
   "outputs": [],
   "source": [
    "model_mdu"
   ]
  },
  {
   "cell_type": "code",
   "execution_count": null,
   "id": "ed8e8170",
   "metadata": {},
   "outputs": [],
   "source": [
    "from spatial_check import SpatialCheck\n",
    "optimizer = SpatialCheck(base_model_fn=model_mdu, \n",
    "                         output_dir=spatialcheck_folder, \n",
    "                         selected_cross_loc=selected_profiles, \n",
    "                         branches=branches_strahler)\n",
    "\n",
    "selectie = optimizer.preprocessing()\n",
    "selectie_route = optimizer.route(selectie)\n",
    "selectie_checked = optimizer.spatial_check(selectie_route) \n",
    "selectie_checked.to_csv(f'{geometry_folder}/selectie_checked.csv') # save to csv in geometry_folder\n",
    "cross_def_new = optimizer.fill_depression(selectie_checked)\n",
    "spatial_check_mdu_path = optimizer.save_model(cross_def_new)\n",
    "spatial_check_mdu_path"
   ]
  },
  {
   "cell_type": "markdown",
   "id": "6a15831f-a720-4933-9e65-c1fef63369e6",
   "metadata": {},
   "source": [
    "***\n",
    "### Step 3: Optimize the bottom level"
   ]
  },
  {
   "cell_type": "markdown",
   "id": "e2111618",
   "metadata": {},
   "source": [
    "The bottom level is optimized to get higher water level during dry period while no flooding during storm events in select area. \n",
    "\n",
    "There are two constraints when increasing the bottom level. One is the 'overcapacity', which is the difference between 'max allowable WL' and current water level of branches. The other is the constraint at joint, which means that, at joints, the bottom level of downstream profile cannot be higher than that of upstream profile. The increment step size is determined based on these two constraints. A maximum increment step size of 0.1 meter is also included to make sure the bottom level does not increase too fast.\n",
    "\n",
    "<img src=\"./figures/illustrate.jpg\" width=500 />\n",
    "\n",
    "The bottom levels of specified profiles will be increased the same amount in each iteration. After increasing the bottom levels, we run the modified model and get water level results in select area. If the water level does not exceed the 'max allowable WL' and total increment of bottom level does not exceed the constraint at joints, we then calculate a new increment step size and carry out another iteration. The model will iterately run untill it does not meet the constraints anymore. After finishing the iteration, the model with optimized profiles will be saved as a separate new model."
   ]
  },
  {
   "cell_type": "markdown",
   "id": "f7ed9882",
   "metadata": {},
   "source": [
    "#### Step 3.1: Prepare optimizer"
   ]
  },
  {
   "cell_type": "code",
   "execution_count": null,
   "id": "27b17740",
   "metadata": {},
   "outputs": [],
   "source": [
    "from optimizer_bottom_level import ProfileOptimizer\n",
    "optimizer = ProfileOptimizer(base_model_fn=spatial_check_mdu_path,\n",
    "                             work_dir=temp_folder,\n",
    "                             output_dir=output_folder,\n",
    "                             bat_file = bat_file,\n",
    "                             shapefile= shapefile_path,\n",
    "                             selectie_checked=selectie_checked,\n",
    "                             iteration_name='Iteration')"
   ]
  },
  {
   "cell_type": "markdown",
   "id": "0c0cbf6e",
   "metadata": {},
   "source": [
    "#### Step 3.2: Select reaches to be optimized"
   ]
  },
  {
   "cell_type": "markdown",
   "id": "5a6db189",
   "metadata": {},
   "source": [
    "Please check 'selectie_checked' dataframe, specify the reachid or reaches with certain strahler orders in the function below as list for optimization. If no reachid or strahler is specified, all profiles in the select area will be optimized."
   ]
  },
  {
   "cell_type": "code",
   "execution_count": null,
   "id": "81776052",
   "metadata": {},
   "outputs": [],
   "source": [
    "selectie_checked"
   ]
  },
  {
   "cell_type": "code",
   "execution_count": null,
   "id": "be6d28a7",
   "metadata": {},
   "outputs": [],
   "source": [
    "ids = optimizer.optimize_reach(reachid=[], strahler=[])\n",
    "ids"
   ]
  },
  {
   "cell_type": "markdown",
   "id": "557fa4eb",
   "metadata": {},
   "source": [
    "#### Step 3.3: Get constraints"
   ]
  },
  {
   "cell_type": "code",
   "execution_count": null,
   "id": "fc7276a8",
   "metadata": {},
   "outputs": [],
   "source": [
    "# 'max allowable Wl' from shapefile_path\n",
    "constraints = optimizer.get_constraints()\n",
    "print(f'Max allowable water level = {constraints}')\n",
    "# check and get constraints at joints\n",
    "constraints2 = optimizer.constraint_at_joints(ids)  "
   ]
  },
  {
   "cell_type": "markdown",
   "id": "611b1dba",
   "metadata": {},
   "source": [
    "#### Step 3.4: Get current water level"
   ]
  },
  {
   "cell_type": "markdown",
   "id": "bc2fa1e5",
   "metadata": {},
   "source": [
    "In this step, we will run original model and get initial water levels"
   ]
  },
  {
   "cell_type": "code",
   "execution_count": null,
   "id": "e50bfe85",
   "metadata": {},
   "outputs": [],
   "source": [
    "increment = 0\n",
    "cross_def_new = optimizer.increase_bottom(ids, increment, output_folder=False)\n",
    "iteration_folder = optimizer.create_iteration(cross_def_new)\n",
    "print(iteration_folder)\n",
    "optimizer.run_model(optimizer.work_dir/'run_bat.bat', iteration_folder)\n",
    "selected_water_level = optimizer.get_water_level()"
   ]
  },
  {
   "cell_type": "markdown",
   "id": "4352abfc",
   "metadata": {},
   "source": [
    "#### Step 3.5: Run optimization algorithm"
   ]
  },
  {
   "cell_type": "code",
   "execution_count": null,
   "id": "bcf881a5",
   "metadata": {},
   "outputs": [],
   "source": [
    "tot_increse = 0\n",
    "# create iteration\n",
    "while (constraints - selected_water_level['WL'].max())>= 0.01 and (not tot_increse>constraints2):  # the accuracy (0.01) can be decided by user\n",
    "    if constraints2 == 0:\n",
    "        print('WARNING: cannot increase this reach bottom level, because at joints bottom level at downstream is already the same as upstream. Or you can increase both at same time')\n",
    "    else:\n",
    "        start_time = time.time()  # time each iteration\n",
    "        optimizer.iteration_nr += 1\n",
    "        increment = optimizer.increment_step(selected_water_level, constraints, constraints2)\n",
    "        cross_def_new = optimizer.increase_bottom(ids, increment, output_folder=False)\n",
    "        iteration_folder = optimizer.create_iteration(cross_def_new)\n",
    "        print(iteration_folder)\n",
    "        tot_increse += increment    \n",
    "        print('increment in this iteration: ', increment)\n",
    "        optimizer.run_model(optimizer.work_dir/'run_bat.bat',iteration_folder)\n",
    "        selected_water_level = optimizer.get_water_level()\n",
    "        print('max water level: ', selected_water_level['WL'].max())\n",
    "        print('total increse of bottom level: ', tot_increse)\n",
    "        end_time = time.time()  # time each iteration\n",
    "        print('time taken for this iteration:', end_time - start_time)  # print out the time taken for each iteration\n",
    "print('Iteration stops')"
   ]
  },
  {
   "cell_type": "code",
   "execution_count": null,
   "id": "f83e2e8a",
   "metadata": {},
   "outputs": [],
   "source": [
    "# export and save the modified model\n",
    "optimizer.run_latest()\n",
    "optimizer.export_model(specific_iteration='latest', cleanup=True)"
   ]
  },
  {
   "cell_type": "markdown",
   "id": "c57d7a5b",
   "metadata": {},
   "source": [
    "***\n",
    "### Limitations and suggestions"
   ]
  },
  {
   "cell_type": "markdown",
   "id": "f918a713",
   "metadata": {},
   "source": [
    "This is the first version of Profile Optimizer for Bottom Level. There are still a lot to improve. Here, I will discuss some main limitations of this version, and provide suggestions for future works.\n",
    "***\n",
    "**1. Type of water systems**<br>\n",
    "In this version, we focus and develop the profile optimizer based on \"natural drainage\" systems which has upstream and downstream. This version is not applicable to polder systems, especially the \"spatial_check\" which requires flow in one direction following bottom level slope. The \"Optimizer_bottom_level\" might be applicable to polder systems, but needs to be modified and tested.\n",
    "***\n",
    "**2. Spatial_check**<br>\n",
    "First, in this version, it is required that there is only one flow direction within one reach in select area. Because the \"route\" function needs to find the single most downstream profile. Therefore, it is suggested to check the model in DHydro software interface before select area to make sure the \"correct\" flow direction.\n",
    "\n",
    "Second, when \"fill_depression\" after finding the depression profiles, the bottom levels of these depression profiles are only raised to the same level as their closest downstream profile. This may generate stair-case like bottoms. For future works, we suggest to carry out interpolation between the bottom levels of upstream and downstream of the depression profiles to get more smooth bottom.\n",
    "***\n",
    "**3. Optimizer_bottom_level**<br>\n",
    "First, in this version, the select area can only allow the same constraint \"max allowable WL\" for all branches, which of course is not the case in reality. For future works, the scripts should be modified so that branches with different \"max allowable WL\" constraints are allowed in select area.\n",
    "\n",
    "Second, the \"max allowable WL\" constraint for the whole catchment has not yet been defined. Only the constraint in select area is defined. In this case, during optimization, only the water levels of select area are checked. Water levels outside the select area are not checked. In the future, it is suggested that the \"max allowable WL\" constraint for the whole catchment should be defined in advance, either defined in polygons shapefile or in branches dataset. And the scripts should be modified to check all water levels in the Aa of Weerijs model during optimization.\n",
    "***\n",
    "**4. Structures**<br>\n",
    "The structures within branches are not modified in this version. For example, the inlet and outlet level of culvert are not modified accordingly to the changes of profile bottom levels. This can influence the water level modeled. Therefore, in the future, the structures need to be taken into account when modifying profiles."
   ]
  },
  {
   "cell_type": "code",
   "execution_count": null,
   "id": "87f396e8",
   "metadata": {},
   "outputs": [],
   "source": []
  }
 ],
 "metadata": {
  "kernelspec": {
   "display_name": "Python 3 (ipykernel)",
   "language": "python",
   "name": "python3"
  },
  "language_info": {
   "codemirror_mode": {
    "name": "ipython",
    "version": 3
   },
   "file_extension": ".py",
   "mimetype": "text/x-python",
   "name": "python",
   "nbconvert_exporter": "python",
   "pygments_lexer": "ipython3",
   "version": "3.8.13"
  }
 },
 "nbformat": 4,
 "nbformat_minor": 5
}
