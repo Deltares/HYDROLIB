{
 "cells": [
  {
   "cell_type": "markdown",
   "id": "fcaaec55",
   "metadata": {},
   "source": [
    "# Example of generating a 1D2DRR D-HYDRO model - an overview of functionalities\n",
    "\n",
    "This notebook gives an overview of the functionalities of the D-HyDAMO module, part of the Hydrolib environment.\n",
    "\n",
    "This notebook is based on previous examples of the python package delft3dfmpy, but now connnected to the Hydrolib-core package, which is used for writing a D-HYDRO model. It contains similar functionalities as delft3dfmpy 2.0.3; input data is expected to be according to HyDAMO DAMO2.2 gpkg-format. The example model used here is based on a part of the Oostrumsche beek in Limburg, added with some fictional dummy data to better illustrate functionalities.\n",
    "\n",
    "Because of the dummy data and demonstation of certain features, the resulting model is not optimal from a hydrologic point of view."
   ]
  },
  {
   "cell_type": "markdown",
   "id": "1edcf262",
   "metadata": {},
   "source": [
    "## Jupyter-shortcuts:\n",
    "[H]: bekijken van alle shortcuts\n",
    "\n",
    "\n",
    "[SHIFT-Enter]: cel runnen en doorgaan\n",
    "\n",
    "[CNTRL-Enter]: runnen geselecteerde cellen\n",
    "\n",
    "[A]: nieuwe cel boven de huidge\n",
    "\n",
    "[B]: nieuwe cel onder de huidige\n",
    "\n",
    "[D-D]: cel verwijderen\n",
    "\n",
    "[SHIFT-TAB]: argumenten van functie weergeven (cel moet eerst gedraaid zijn)"
   ]
  },
  {
   "cell_type": "markdown",
   "id": "4c707fed",
   "metadata": {},
   "source": [
    "## Load Python libraries and Hydrolib-core functionality"
   ]
  },
  {
   "cell_type": "code",
   "execution_count": null,
   "id": "c88fa6ef",
   "metadata": {},
   "outputs": [],
   "source": [
    "# Basis\n",
    "from pathlib import Path\n",
    "import numpy as np\n",
    "import geopandas as gpd\n",
    "import pandas as pd\n",
    "from pathlib import Path\n",
    "import matplotlib.pyplot as plt\n",
    "from shapely.geometry import Point, Polygon\n",
    "import contextily as cx\n",
    "import warnings\n",
    "warnings.simplefilter(action='ignore', category=FutureWarning)"
   ]
  },
  {
   "cell_type": "code",
   "execution_count": null,
   "id": "74120eda",
   "metadata": {},
   "outputs": [],
   "source": [
    "# and from hydrolib-core\n",
    "from hydrolib.core.dimr.models import DIMR, FMComponent\n",
    "from hydrolib.core.dflowfm.inifield.models import IniFieldModel, DiskOnlyFileModel\n",
    "from hydrolib.core.dflowfm.onedfield.models import OneDFieldModel\n",
    "from hydrolib.core.dflowfm.structure.models import StructureModel\n",
    "from hydrolib.core.dflowfm.crosssection.models import CrossLocModel, CrossDefModel\n",
    "from hydrolib.core.dflowfm.ext.models import ExtModel\n",
    "from hydrolib.core.dflowfm.mdu.models import FMModel\n",
    "from hydrolib.core.dflowfm.friction.models import FrictionModel\n",
    "from hydrolib.core.dflowfm.obs.models import ObservationPointModel\n",
    "from hydrolib.core.dflowfm.storagenode.models import StorageNodeModel"
   ]
  },
  {
   "cell_type": "code",
   "execution_count": null,
   "id": "ef2bf3d4",
   "metadata": {},
   "outputs": [],
   "source": [
    "# Importing relevant classes from Hydrolib-dhydamo\n",
    "from hydrolib.dhydamo.core.hydamo import HyDAMO\n",
    "from hydrolib.dhydamo.converters.df2hydrolibmodel import Df2HydrolibModel\n",
    "from hydrolib.dhydamo.geometry import mesh\n",
    "from hydrolib.dhydamo.core.drr import DRRModel\n",
    "from hydrolib.dhydamo.core.drtc import DRTCModel\n",
    "from hydrolib.dhydamo.io.dimrwriter import DIMRWriter\n",
    "from hydrolib.dhydamo.io.drrwriter import DRRWriter\n",
    "from hydrolib.dhydamo.geometry.viz import plot_network\n",
    "from meshkernel.py_structures import DeleteMeshOption"
   ]
  },
  {
   "cell_type": "markdown",
   "id": "b21a51a0",
   "metadata": {},
   "source": [
    "Define in- and output paths"
   ]
  },
  {
   "cell_type": "code",
   "execution_count": null,
   "id": "a2bb9dbc",
   "metadata": {},
   "outputs": [],
   "source": [
    "# path to the package containing the dummy-data\n",
    "data_path = Path(\"../tests/data\").resolve()\n",
    "assert data_path.exists()\n",
    "\n",
    "# path to write the models\n",
    "output_path = Path(\"./model_oefening\").resolve()\n",
    "output_path.mkdir(exist_ok=True, parents=False)\n",
    "assert output_path.exists()"
   ]
  },
  {
   "cell_type": "markdown",
   "id": "be1ea9e7",
   "metadata": {},
   "source": [
    "Define components that should be used in the model. 1D is used in all cases."
   ]
  },
  {
   "cell_type": "code",
   "execution_count": null,
   "id": "15ca6e1a",
   "metadata": {},
   "outputs": [],
   "source": [
    "TwoD = True\n",
    "RR = True\n",
    "RTC = True"
   ]
  },
  {
   "cell_type": "markdown",
   "id": "44e2102b",
   "metadata": {},
   "source": [
    "This switch defines the mode in which RTC is used. Normally it can handle PID-, interval- and time controllers, but for calibration purposes (for instance) it may be desired to pass historical data, such as actual crest levels, to the model. If True, PID- and interval- and regular (seasonal) time controllers are replaced by time controllers containing a provided time series.\n",
    "\n",
    "This does require time series to be available. They should be provided as a file from which a dataframe can be read (here CSV), with structure codes as columns and time steps as row index."
   ]
  },
  {
   "cell_type": "code",
   "execution_count": null,
   "id": "056e8725",
   "metadata": {},
   "outputs": [],
   "source": [
    "rtc_onlytimeseries = False\n",
    "rtc_timeseriesdata = data_path / 'rtc_timeseries.csv'"
   ]
  },
  {
   "cell_type": "code",
   "execution_count": null,
   "id": "d0889591",
   "metadata": {},
   "outputs": [],
   "source": [
    "# overwrite output-path to write the models\n",
    "if rtc_onlytimeseries:\n",
    "    output_path = Path(\"../tests/model_tijdreeks\").resolve()\n",
    "else:\n",
    "    output_path = Path(\"../tests/model_sturing\").resolve()    "
   ]
  },
  {
   "cell_type": "markdown",
   "id": "c4d3d5b0",
   "metadata": {},
   "source": [
    "## Read HyDAMO DAMO2.2 data"
   ]
  },
  {
   "cell_type": "code",
   "execution_count": null,
   "id": "cc2f767c",
   "metadata": {},
   "outputs": [],
   "source": [
    "# all data is contained in one geopackage called 'Example model'\n",
    "gpkg_file = str(data_path / \"Example_model.gpkg\")\n",
    "\n",
    "# initialize a hydamo object\n",
    "hydamo = HyDAMO(extent_file=data_path / \"Oostrumschebeek_extent.shp\")\n",
    "\n",
    "# show content\n",
    "hydamo.branches.show_gpkg(gpkg_file)"
   ]
  },
  {
   "cell_type": "markdown",
   "id": "190964c2",
   "metadata": {},
   "source": [
    "Load branches and profiles."
   ]
  },
  {
   "cell_type": "markdown",
   "id": "856b8e6f",
   "metadata": {},
   "source": [
    "In the funtions below, the function 'snap_to_branch_and_drop' compares each object with a geometry to the branches. If the object is outside the specified maximum distance to any branch, the object and all objects related to it are dropped (if 'drop_related' is True).\n",
    "\n",
    "Moreover there are multiple options to snap:\n",
    "- overal: for points, based on minimum distance to the branch;\n",
    "- centroid: for lines and polygons, based on the mininimum distance of the objets' centroid to the branch;\n",
    "- intersecting: for lines, takes the first branch the object is intersecting (for lines);\n",
    "- ends: for lines, based on the cumulative distance of the lines' ends to the branch."
   ]
  },
  {
   "cell_type": "code",
   "execution_count": null,
   "id": "b5f0041c",
   "metadata": {},
   "outputs": [],
   "source": [
    "hydamo.branches.read_gpkg_layer(gpkg_file, layer_name=\"HydroObject\", index_col=\"code\")\n",
    "\n",
    "hydamo.profile.read_gpkg_layer(\n",
    "    gpkg_file,\n",
    "    layer_name=\"ProfielPunt\",\n",
    "    groupby_column=\"profiellijnid\",\n",
    "    order_column=\"codevolgnummer\",\n",
    "    id_col=\"code\",\n",
    "    index_col=\"code\"\n",
    ")\n",
    "hydamo.profile_roughness.read_gpkg_layer(gpkg_file, layer_name=\"RuwheidProfiel\")\n",
    "hydamo.profile_line.read_gpkg_layer(gpkg_file, layer_name=\"profiellijn\")\n",
    "hydamo.profile_group.read_gpkg_layer(gpkg_file, layer_name=\"profielgroep\")\n",
    "hydamo.profile.drop(\"code\", axis=1, inplace=True)\n",
    "hydamo.profile[\"code\"] = hydamo.profile[\"profiellijnid\"]\n",
    "hydamo.snap_to_branch_and_drop(hydamo.profile, hydamo.branches, snap_method=\"intersecting\", drop_related=True)"
   ]
  },
  {
   "cell_type": "markdown",
   "id": "fdcc35bd",
   "metadata": {},
   "source": [
    "Load structures"
   ]
  },
  {
   "cell_type": "code",
   "execution_count": null,
   "id": "623010e2",
   "metadata": {},
   "outputs": [],
   "source": [
    "hydamo.culverts.read_gpkg_layer(gpkg_file, layer_name=\"DuikerSifonHevel\", index_col=\"code\")\n",
    "hydamo.weirs.read_gpkg_layer(gpkg_file, layer_name=\"Stuw\", index_col=\"code\")\n",
    "hydamo.opening.read_gpkg_layer(gpkg_file, layer_name=\"Kunstwerkopening\")\n",
    "hydamo.management_device.read_gpkg_layer(gpkg_file, layer_name=\"Regelmiddel\")\n",
    "hydamo.snap_to_branch_and_drop(hydamo.culverts, hydamo.branches, snap_method=\"ends\", maxdist=5, drop_related=True)\n",
    "hydamo.snap_to_branch_and_drop(hydamo.weirs, hydamo.branches, snap_method=\"overal\", maxdist=10, drop_related=True)\n",
    "\n",
    "hydamo.pumpstations.read_gpkg_layer(gpkg_file, layer_name=\"Gemaal\", index_col=\"code\")\n",
    "hydamo.pumps.read_gpkg_layer(gpkg_file, layer_name=\"Pomp\", index_col=\"code\")\n",
    "hydamo.management.read_gpkg_layer(gpkg_file, layer_name=\"Sturing\", index_col=\"code\")\n",
    "hydamo.snap_to_branch_and_drop(hydamo.pumpstations, hydamo.branches, snap_method=\"overal\", maxdist=15, drop_related=True)\n",
    "\n",
    "hydamo.bridges.read_gpkg_layer(gpkg_file, layer_name=\"Brug\", index_col=\"code\")\n",
    "hydamo.snap_to_branch_and_drop(hydamo.bridges, hydamo.branches, snap_method=\"overal\", maxdist=1100, drop_related=True)"
   ]
  },
  {
   "cell_type": "markdown",
   "id": "68c9ebf3",
   "metadata": {},
   "source": [
    "### Oefening 1"
   ]
  },
  {
   "cell_type": "code",
   "execution_count": null,
   "id": "7816f98e",
   "metadata": {},
   "outputs": [],
   "source": [
    "############Oefening 1##################################################\n",
    "# Verwijder duiker D_21493 uit het model\n",
    "# tip gebruik de functie hydamo.culverts.drop(<\"duiker code\">, inplace=True)\n",
    "# Vergroot de duiker D_24405 van 0.5 naar 1 m\n",
    "#tip kijk naar de eigenschappen hoogteopening en breedteopening\n",
    "\n",
    "\n",
    "###########################################################################"
   ]
  },
  {
   "cell_type": "code",
   "execution_count": null,
   "id": "50661ae1",
   "metadata": {},
   "outputs": [],
   "source": [
    "###########Controle oefening 1###########################################\n",
    "if 'D_21493' in hydamo.culverts.index:\n",
    "    print('Duiker D_21493 is niet verwijderd')\n",
    "else:\n",
    "    print('Duiker D_21493 is succesvol verwijderd')\n",
    "    \n",
    "print(hydamo.culverts.loc['D_24405', :])\n"
   ]
  },
  {
   "cell_type": "markdown",
   "id": "6e06b49c",
   "metadata": {},
   "source": [
    "### Extra oefening"
   ]
  },
  {
   "cell_type": "code",
   "execution_count": null,
   "id": "2bab9dce",
   "metadata": {},
   "outputs": [],
   "source": [
    "#######Extra oefening######################################################\n",
    "#verwijder stuwen met een statusobject ongelijk aan gerealiseerd\n",
    "\n",
    "\n",
    "\n",
    "###########################################################################"
   ]
  },
  {
   "cell_type": "markdown",
   "id": "1ea18cce",
   "metadata": {},
   "source": [
    "Load boundaries"
   ]
  },
  {
   "cell_type": "code",
   "execution_count": null,
   "id": "1ef8401a",
   "metadata": {},
   "outputs": [],
   "source": [
    "# read boundaries\n",
    "hydamo.boundary_conditions.read_gpkg_layer(\n",
    "    gpkg_file, layer_name=\"hydrologischerandvoorwaarde\", index_col=\"code\"\n",
    ")\n",
    "hydamo.boundary_conditions.snap_to_branch(hydamo.branches, snap_method=\"overal\", maxdist=10)"
   ]
  },
  {
   "cell_type": "markdown",
   "id": "115cdf0b",
   "metadata": {},
   "source": [
    "Catchments and laterals"
   ]
  },
  {
   "cell_type": "code",
   "execution_count": null,
   "id": "5209a384",
   "metadata": {},
   "outputs": [],
   "source": [
    "# read catchments\n",
    "hydamo.catchments.read_gpkg_layer(gpkg_file, layer_name=\"afvoergebiedaanvoergebied\", index_col=\"code\", check_geotype=False)"
   ]
  },
  {
   "cell_type": "code",
   "execution_count": null,
   "id": "74b1c334",
   "metadata": {},
   "outputs": [],
   "source": [
    "# read laterals\n",
    "hydamo.laterals.read_gpkg_layer(gpkg_file, layer_name=\"lateraleknoop\")\n",
    "hydamo.laterals.snap_to_branch(hydamo.branches, snap_method=\"overal\", maxdist=5000)\n",
    "hydamo.catchments['boundary_node'] = [hydamo.laterals[hydamo.laterals.globalid==c['lateraleknoopid']].code.values[0] for _,c in hydamo.catchments.iterrows()]"
   ]
  },
  {
   "cell_type": "code",
   "execution_count": null,
   "id": "bc7ff2f3",
   "metadata": {},
   "outputs": [],
   "source": [
    "# plot the model objects\n",
    "fig, ax = plt.subplots(figsize=(20,20 ))\n",
    "xmin,ymin,xmax,ymax=hydamo.clipgeo.bounds\n",
    "ax.set_xlim(round(xmin), round(xmax))\n",
    "ax.set_ylim(round(ymin), round(ymax))\n",
    "\n",
    "hydamo.branches.geometry.plot(ax=ax)#, label=\"Channel\", linewidth=2, color=\"blue\")\n",
    "hydamo.profile.geometry.plot(ax=ax, color=\"black\", label=\"Cross section\", linewidth=4)\n",
    "hydamo.culverts.geometry.centroid.plot(\n",
    "    ax=ax, color=\"brown\", label=\"Culvert\", markersize=40, zorder=10, marker=\"^\"\n",
    ")\n",
    "hydamo.weirs.geometry.plot(ax=ax, color=\"green\", label=\"Weir\", markersize=25, zorder=10, marker=\"^\")\n",
    "\n",
    "hydamo.bridges.geometry.plot(ax=ax, color=\"red\", label=\"Bridge\", markersize=20, zorder=10, marker=\"^\")\n",
    "hydamo.pumpstations.geometry.plot(\n",
    "    ax=ax,\n",
    "    color=\"orange\",\n",
    "    label=\"Pump\",\n",
    "    marker=\"s\",\n",
    "    markersize=125,\n",
    "    zorder=10,\n",
    "    facecolor=\"none\",\n",
    "    linewidth=2.5,\n",
    ")\n",
    "hydamo.boundary_conditions.geometry.plot(\n",
    "    ax=ax, color=\"red\", label=\"Boundary\", marker=\"s\", markersize=125, zorder=10, facecolor=\"red\", linewidth=0\n",
    ")\n",
    "ax.legend()\n",
    "\n",
    "cx.add_basemap(ax, crs=28992, source=cx.providers.OpenStreetMap.Mapnik)\n",
    "fig.tight_layout()"
   ]
  },
  {
   "cell_type": "markdown",
   "id": "33ddfedd",
   "metadata": {},
   "source": [
    "## Data conversion\n"
   ]
  },
  {
   "cell_type": "markdown",
   "id": "eeb3f06b",
   "metadata": {},
   "source": [
    "At this stage it is necessary to initialize the FM-model to which objects will be added. We also define the start- stop times now to synchronize the modules' time settings."
   ]
  },
  {
   "cell_type": "code",
   "execution_count": null,
   "id": "40c1bba9",
   "metadata": {},
   "outputs": [],
   "source": [
    "fm = FMModel()\n",
    "# Set start and stop time\n",
    "fm.time.refdate = 20160601\n",
    "fm.time.tstop = 2 * 3600 * 24"
   ]
  },
  {
   "cell_type": "markdown",
   "id": "48fe3ac6",
   "metadata": {},
   "source": [
    "### Structures"
   ]
  },
  {
   "cell_type": "markdown",
   "id": "0eb09529",
   "metadata": {},
   "source": [
    "HyDAMO contains methods to convert HyDAMO DAMO data to internal dataframes, which correspond to the D-HYDRO format.\n",
    "\n",
    "We first import the structures from the HyDAMO-object, since the structures' positions are necessary for defining the 1D-mesh. Structures can also be added without the HyDAMO imports.\n",
    "\n",
    "Note that for importing most structures multiple objects are needed from the GPKG. For more info on how to add structures (directly or from HyDAMO), see: https://hkvconfluence.atlassian.net/wiki/spaces/DHYD/overview.\n",
    "\n",
    " - for weirs, a corresponding profile is looked up in the crossections. If one is found, the weir is implemented as a universal weir. If it is not found, a regular (rectangular) weir will be used. The cross-section ('hydamo.profile') should be related through 'hydamo.profile_line' to a 'hydamo.profile_group', which contains a 'stuwid' column which is equal to the GlobalID of the corresponding weir. The weir object can also include orifices, in that case the field 'overlaatonderlaat' in the 'management_device-object ('regelmiddel') is 'onderlaat'. For weirs it should be 'overlaat'. For regular weirs and orifices the crestlevel is inferred from the 'laagstedoorstroomhoogte' field in the hydamo.opening object. For universal weirs, this is also the case; however if no 'laagstedoorstroomhoogte' is present, or it is None, the crest level is derived from the lowest level of the associated profile. \n",
    " \n",
    " - for culverts, a regelmiddel can be used to model a 'schuif' and/or a 'terugslagklep'. This is specified by the field 'soortregelmiddel'. In case of a 'terugslagklep', the flow direction is set to 'positive' instead of 'both'. In case of a 'schuif', a valve is implemented. Note that in DAMO 2.2, an 'afsluitmiddel' can contain the same information. For now, only a regelmiddel (management_device) is implemented.\n",
    " \n",
    " - bridges need an associated crosssection. This is idential to universal weirs, but here the 'hydamo.profile_group'-object should contain a field 'brugid'. \n",
    " \n",
    " - pumps are composed from 'hydamo.pumpstations', 'hydamo.pumps' and 'hydamo.managmement'. Only suction-side direction is implemented. Maximal capacity should be in m3/min.\n",
    "\n",
    "In most cases, these 'extra' arguments are optional, i.e. they are not required and can be left out. Some are required:\n",
    "- pumps really need all 3 objects ('hydamo.pumpstations', 'hydamo.pumps' and 'hydamo.managmement');\n",
    "- bridges really need an associated crosssection (see above);\n",
    "\n",
    "For more info on the structure definitions one is referred to the D-Flow FM user manual: https://content.oss.deltares.nl/delft3d/manuals/D-Flow_FM_User_Manual.pdf."
   ]
  },
  {
   "cell_type": "code",
   "execution_count": null,
   "id": "0983b780",
   "metadata": {},
   "outputs": [],
   "source": [
    "hydamo.structures.convert.weirs(\n",
    "    weirs=hydamo.weirs,\n",
    "    profile_groups=hydamo.profile_group,\n",
    "    profile_lines=hydamo.profile_line,\n",
    "    profiles=hydamo.profile,\n",
    "    opening=hydamo.opening,\n",
    "    management_device=hydamo.management_device,\n",
    ")\n",
    "\n",
    "hydamo.structures.convert.culverts(hydamo.culverts, management_device=hydamo.management_device)\n",
    "\n",
    "hydamo.structures.convert.bridges(\n",
    "    hydamo.bridges,\n",
    "    profile_groups=hydamo.profile_group,\n",
    "    profile_lines=hydamo.profile_line,\n",
    "    profiles=hydamo.profile,\n",
    ")\n",
    "\n",
    "hydamo.structures.convert.pumps(hydamo.pumpstations, pumps=hydamo.pumps, management=hydamo.management)"
   ]
  },
  {
   "cell_type": "markdown",
   "id": "c381274f",
   "metadata": {},
   "source": [
    "Additional methods are available to add structures:"
   ]
  },
  {
   "cell_type": "markdown",
   "id": "47cd572f",
   "metadata": {},
   "source": [
    "### Oefening 2"
   ]
  },
  {
   "cell_type": "code",
   "execution_count": null,
   "id": "faa5501c",
   "metadata": {},
   "outputs": [],
   "source": [
    "########################Oefening 2######################################\n",
    "#Voeg een stuw toe met de volgende functie met de volgende eigenschappen\n",
    "# naam extra_weir\n",
    "# watergang W_2708_0 \n",
    "# chainage 40.0 m\n",
    "# Crest level 15.00 m NAP\n",
    "# Crest width 5 m\n",
    "\n",
    "#gebruik hiervoor onderstaande functie:\n",
    "#hydamo.structures.add_rweir()\n",
    "\n",
    "\n",
    "\n",
    "########################################################################\n",
    "\n"
   ]
  },
  {
   "cell_type": "code",
   "execution_count": null,
   "id": "cd56884f",
   "metadata": {},
   "outputs": [],
   "source": [
    "############Controle oefening 2###########################################\n",
    "if 'extra_weir' in hydamo.structures.rweirs_df.name.tolist():\n",
    "    print('extra stuw is toegevoegd')\n",
    "else:\n",
    "    print('extra stuw is nog niet toegevoegd')\n"
   ]
  },
  {
   "cell_type": "markdown",
   "id": "8f49b485",
   "metadata": {},
   "source": [
    "The resulting dataframes look like this:"
   ]
  },
  {
   "cell_type": "code",
   "execution_count": null,
   "id": "4e424d74",
   "metadata": {},
   "outputs": [],
   "source": [
    "hydamo.structures.rweirs_df"
   ]
  },
  {
   "cell_type": "markdown",
   "id": "2ddab08b",
   "metadata": {},
   "source": [
    "Indicate structures that are at the same location and should be treated as a compound structure. The D-Hydro GUI does this automatically, but for DIMR-calculations this should be done here."
   ]
  },
  {
   "cell_type": "code",
   "execution_count": null,
   "id": "07ed6ad9",
   "metadata": {},
   "outputs": [],
   "source": [
    "cmpnd_ids = [\"cmpnd_1\",\"cmpnd_2\",\"cmpnd_3\"]\n",
    "cmpnd_list = [[\"D_24521\", \"D_14808\"],[\"D_21450\", \"D_19758\"],[\"D_19757\", \"D_21451\"]]\n",
    "hydamo.structures.convert.compound_structures(cmpnd_ids, cmpnd_list)"
   ]
  },
  {
   "cell_type": "markdown",
   "id": "ac7d3d52",
   "metadata": {},
   "source": [
    "### Observation points"
   ]
  },
  {
   "cell_type": "markdown",
   "id": "1b15e110",
   "metadata": {},
   "source": [
    "Observation points are now written in the new format, where one can discriminate between 1D ('1d') and 2D ('2d') observation points. This can be done using the optional argument 'locationTypes'. If it is omitted, all points are assumed to be 1d. 1D-points are always snapped to a the nearest branch. 2D-observation points are always defined by their X/Y-coordinates.\n",
    "\n",
    "Note: add_points can be called only once: once dfmodel.observation_points is filled,the add_points-method is not available anymore. Observation point coordinates can be definied eiher as an (x,y)-tuple or as a shapely Point-object.\n",
    "\n",
    "Observation points need to be defined prior to constructing the 1d mesh, as they will be separated from structures and each other by calculation points."
   ]
  },
  {
   "cell_type": "code",
   "execution_count": null,
   "id": "6feec887",
   "metadata": {},
   "outputs": [],
   "source": [
    "hydamo.observationpoints.add_points(\n",
    "    [Point(199617,394885), Point(199421,393769), Point(199398,393770)],\n",
    "    [\"Obs_BV152054\", \"ObsS_96684\",\"ObsO_test\"],\n",
    "    locationTypes=[\"1d\", \"1d\", \"1d\"],\n",
    "    snap_distance=10.0,\n",
    ")\n",
    "\n",
    "hydamo.observationpoints.add_points(\n",
    "    [Point(200198,396489), Point(201129, 396269), Point(200264, 394761), Point(199665, 395323)],\n",
    "    [\"ObsS_96544\", \"ObsP_113GIS\", 'Obs_UWR', 'Obs_ORIF'],\n",
    "    locationTypes=[\"1d\", \"1d\",\"1d\", \"1d\"],\n",
    "    snap_distance=10.0,\n",
    ")\n",
    "hydamo.observationpoints.observation_points.head()"
   ]
  },
  {
   "attachments": {},
   "cell_type": "markdown",
   "id": "d15300cb",
   "metadata": {},
   "source": [
    "### The 1D mesh"
   ]
  },
  {
   "cell_type": "markdown",
   "id": "f8d93960",
   "metadata": {},
   "source": [
    "The above structures are collected in one dataframe and in the generation of calculation poins, as structures should be separated by calculation points."
   ]
  },
  {
   "cell_type": "code",
   "execution_count": null,
   "id": "7a18c79a",
   "metadata": {},
   "outputs": [],
   "source": [
    "structures = hydamo.structures.as_dataframe(\n",
    "    rweirs=True,\n",
    "    bridges=True,\n",
    "    uweirs=True,\n",
    "    culverts=True,\n",
    "    orifices=True,\n",
    "    pumps=True,\n",
    ")"
   ]
  },
  {
   "cell_type": "markdown",
   "id": "080bc888",
   "metadata": {},
   "source": [
    "Include also observation points\n"
   ]
  },
  {
   "cell_type": "code",
   "execution_count": null,
   "id": "6d1dfc9a",
   "metadata": {},
   "outputs": [],
   "source": [
    "objects = pd.concat([structures, hydamo.observationpoints.observation_points], axis=0)"
   ]
  },
  {
   "cell_type": "markdown",
   "id": "4caff7e0",
   "metadata": {},
   "source": [
    "### Oefening 3"
   ]
  },
  {
   "cell_type": "code",
   "execution_count": null,
   "id": "b4cfc010",
   "metadata": {},
   "outputs": [],
   "source": [
    "#################oefening 3#################\n",
    "#verander de rekenpunt afstand naar 10 m\n",
    "\n",
    "mesh.mesh1d_add_branches_from_gdf(\n",
    "    fm.geometry.netfile.network,\n",
    "    branches=hydamo.branches,\n",
    "    branch_name_col=\"code\",\n",
    "    node_distance=40,\n",
    "    max_dist_to_struc=None,\n",
    "    structures=objects,\n",
    ")"
   ]
  },
  {
   "cell_type": "markdown",
   "id": "fca4e969",
   "metadata": {},
   "source": [
    "### Crosssections"
   ]
  },
  {
   "cell_type": "markdown",
   "id": "2ecda859",
   "metadata": {},
   "source": [
    "Add cross-sections to the branches. To do this, many HyDAMO objects might be needed: if parameterised profiles occur, they are taken from hydamo.param_profile and, param_profile_values; if crosssections are associated with structures, those are specified in profile_group and profile lines. \n",
    "\n",
    "HyDAMO DAMO2.2 data contains two roughness values (high and low); here it can be specified which one to use.\n",
    "For branches without a crosssection, a default profile can be defined."
   ]
  },
  {
   "cell_type": "markdown",
   "id": "5ad46d38",
   "metadata": {},
   "source": [
    "Partly, missing crosssections can be resolved by interpolating over the main branch. We set all branches with identical names to the same order numbers and assign those to the branches. D-Hydro will then interpolate the cross-sections over the branches.\n"
   ]
  },
  {
   "cell_type": "code",
   "execution_count": null,
   "id": "403c0876",
   "metadata": {},
   "outputs": [],
   "source": [
    "# Here roughness variant \"High\" (\"ruwheidhoog\" in HyDAMO) is chosen. Variant \"Low\" (\"ruwheidlaag\" in HyDAMO) can also be chosen\n",
    "hydamo.crosssections.convert.profiles(\n",
    "    crosssections=hydamo.profile,\n",
    "    crosssection_roughness=hydamo.profile_roughness,\n",
    "    profile_groups=hydamo.profile_group,\n",
    "    profile_lines=hydamo.profile_line,\n",
    "    param_profile=hydamo.param_profile,\n",
    "    param_profile_values=hydamo.param_profile_values,\n",
    "    branches=hydamo.branches,\n",
    "    roughness_variant=\"High\",\n",
    ")"
   ]
  },
  {
   "cell_type": "markdown",
   "id": "d5d870b9",
   "metadata": {},
   "source": [
    "Check how many branches do not have a profile."
   ]
  },
  {
   "cell_type": "code",
   "execution_count": null,
   "id": "b2c31064",
   "metadata": {},
   "outputs": [],
   "source": [
    "missing = hydamo.crosssections.get_branches_without_crosssection()\n",
    "print(f\"{len(missing)} branches are still missing a cross section.\")\n",
    "\n",
    "print(\n",
    "    f\"{len(hydamo.crosssections.get_structures_without_crosssection())} structures are still missing a cross section.\"\n",
    ")"
   ]
  },
  {
   "cell_type": "markdown",
   "id": "e0c00592",
   "metadata": {},
   "source": [
    "We plot the missing ones."
   ]
  },
  {
   "cell_type": "code",
   "execution_count": null,
   "id": "f5ed40de",
   "metadata": {},
   "outputs": [],
   "source": [
    "fig, ax = plt.subplots(figsize=(16, 16))\n",
    "xmin,ymin,xmax,ymax=hydamo.clipgeo.bounds\n",
    "ax.set_xlim(round(xmin), round(xmax))\n",
    "ax.set_ylim(round(ymin), round(ymax))\n",
    "hydamo.profile.geometry.plot(ax=ax, color='black', label='dwarsprofielen', linewidth=5)\n",
    "hydamo.branches.loc[missing,:].geometry.plot(ax=ax, color='C4', label='geen dwarsprofiel',linewidth=10)\n",
    "hydamo.branches.geometry.plot(ax=ax, label='Watergangen')\n",
    "ax.get_xaxis().set_visible(False)\n",
    "ax.get_yaxis().set_visible(False)\n",
    "ax.legend()\n",
    "cx.add_basemap(ax, crs=28992, source=cx.providers.OpenStreetMap.Mapnik)\n",
    "fig.tight_layout()\n",
    "plt.show()"
   ]
  },
  {
   "cell_type": "markdown",
   "id": "a251c672",
   "metadata": {},
   "source": [
    "One way to assign crosssections to branches is to assigning order numbers to branches, so the crosssections are interpolated over branches with the same order number. The functino below aassigns the same order number to branches with a common attribute of hydamo.branches. In this example, all branches with the same 'naam' are given the same order number. \n",
    "\n",
    "Only branches that are in the 'missing' list (and do not have a crosssection) are taken into account.\n",
    "\n",
    "There are exceptions: for instance the branch \"Retentiebekken Rosmolen\" has a name, and therefore an ordernumber, but it cannot be interpolated since it consists of only one segment. Its branch-id is W_1386_0. We pass a list of exceptions like that, making sure that no order numbers will be assigned to those branches."
   ]
  },
  {
   "cell_type": "markdown",
   "id": "50f7f2e5",
   "metadata": {},
   "source": [
    "Retentiebekken Rosmolen has a name, and therefore an ordernumber, but cannot be interpolated. Set the order to 0, so it gets a default profile."
   ]
  },
  {
   "cell_type": "code",
   "execution_count": null,
   "id": "cd487586",
   "metadata": {},
   "outputs": [],
   "source": [
    "missing_after_interpolation = mesh.mesh1d_order_numbers_from_attribute(hydamo.branches, \n",
    "                                                                       missing, \n",
    "                                                                       order_attribute='naam', \n",
    "                                                                       network=fm.geometry.netfile.network,  \n",
    "                                                                       exceptions=['W_1386_0'])"
   ]
  },
  {
   "cell_type": "code",
   "execution_count": null,
   "id": "5e348da2",
   "metadata": {},
   "outputs": [],
   "source": [
    "print(f\"After interpolation, {len(missing_after_interpolation)} branches are still missing a cross section.\")"
   ]
  },
  {
   "cell_type": "code",
   "execution_count": null,
   "id": "2becef5b",
   "metadata": {},
   "outputs": [],
   "source": [
    "fig, ax = plt.subplots(figsize=(16, 16))\n",
    "xmin,ymin,xmax,ymax=hydamo.clipgeo.bounds\n",
    "ax.set_xlim(round(xmin), round(xmax))\n",
    "ax.set_ylim(round(ymin), round(ymax))\n",
    "hydamo.profile.geometry.plot(ax=ax, color='C3', label='dwarsprofielen', linewidth=5)\n",
    "hydamo.branches.loc[missing,:].geometry.plot(ax=ax, color='C4', label='geen dwarsprofiel',linewidth=10)\n",
    "hydamo.branches.geometry.plot(ax=ax, label='Watergangen')\n",
    "ax.get_xaxis().set_visible(False)\n",
    "ax.get_yaxis().set_visible(False)\n",
    "ax.legend()\n",
    "cx.add_basemap(ax, crs=28992, source=cx.providers.OpenStreetMap.Mapnik)\n",
    "fig.tight_layout()\n",
    "plt.show()"
   ]
  },
  {
   "cell_type": "markdown",
   "id": "6bdc29c4",
   "metadata": {},
   "source": [
    "For these ones, we apply a default profile. In this case an yz-profile, but it can also be a rectangular or other type or profile."
   ]
  },
  {
   "cell_type": "markdown",
   "id": "ed3c5c5f",
   "metadata": {},
   "source": [
    "### Oefening 4"
   ]
  },
  {
   "cell_type": "code",
   "execution_count": null,
   "id": "cb7e1d63",
   "metadata": {},
   "outputs": [],
   "source": [
    "#########################Oefening 4#########################################################\n",
    "# Pas het standaard yz-profiel aan naar:\n",
    "# Verbreed de bodem van 5 meter naar 7 meter\n",
    "# Verdiep het profiel door de bodemhoogte te verlagen van 19 m NAP naar 18 m NAP\n",
    "\n",
    "\n",
    "# Set a default cross section\n",
    "profiel=np.array([[0,21],[2,19],[7,19],[9,21]]) \n",
    "default = hydamo.crosssections.add_yz_definition(yz=profiel, \n",
    "                                                   thalweg = 4.5,\n",
    "                                                   roughnesstype='StricklerKs',\n",
    "                                                   roughnessvalue=25.0, \n",
    "                                                   name='default'\n",
    "                                                  )\n",
    "\n",
    "hydamo.crosssections.set_default_definition(definition=default, shift=0.0)\n",
    "hydamo.crosssections.set_default_locations(missing_after_interpolation)"
   ]
  },
  {
   "cell_type": "code",
   "execution_count": null,
   "id": "a6fb7bdc",
   "metadata": {},
   "outputs": [],
   "source": [
    "###########controle oefening 4: controleer je yz-profiel met deze code#################\n",
    "x=[]\n",
    "y=[]\n",
    "for i in range(len(profiel)):\n",
    "    x.append(profiel[i][0])\n",
    "    y.append(profiel[i][1])\n",
    "plt.plot(x,y, label='nieuw')\n",
    "plt.xlabel('x')\n",
    "plt.ylabel('y')\n",
    "plt.legend()\n",
    "plt.grid()\n",
    "plt.show()"
   ]
  },
  {
   "attachments": {},
   "cell_type": "markdown",
   "id": "9b140a86",
   "metadata": {},
   "source": [
    "### Storage nodes"
   ]
  },
  {
   "cell_type": "markdown",
   "id": "789c8b42",
   "metadata": {},
   "source": [
    "Storage nodes can be added from a layer with a geometry and a table in CSV of Excel. The geometry can contain polygons or points and is snapped to the nearest branch. The table should contain a code (identical to the one in the geometry) and a series of areas (in m2) and levels (m+NAP)of equal length. "
   ]
  },
  {
   "cell_type": "code",
   "execution_count": null,
   "id": "39806db4",
   "metadata": {},
   "outputs": [],
   "source": [
    "# geometry\n",
    "f_storage_areas = data_path / 'bergingspolygonen.shp'\n",
    "hydamo.storage_areas.read_shp(f_storage_areas,index_col='code')\n",
    "hydamo.storage_areas.snap_to_branch(hydamo.branches, snap_method='centroid', maxdist=1000)\n",
    "\n",
    "# data\n",
    "storage_node_data = pd.read_excel(data_path / 'storage_data.xls')\n",
    "storage_node_data= storage_node_data.rename(columns={'GEBIEDID': 'code', 'OPPERVLAK':'area', 'MAAIVELD': 'level'})\n",
    "# they can also contain a name, this will be used in the model if available\n",
    "\n",
    "hydamo.storage_areas['name'] = hydamo.storage_areas['code'] "
   ]
  },
  {
   "cell_type": "markdown",
   "id": "761f4fba",
   "metadata": {},
   "source": [
    "The resulting data frame of geometries can be added to the model at once:"
   ]
  },
  {
   "cell_type": "code",
   "execution_count": null,
   "id": "ddf88b41",
   "metadata": {},
   "outputs": [],
   "source": [
    "# convert all storage\n",
    "hydamo.storagenodes.convert.storagenodes_from_input(storagenodes=hydamo.storage_areas, storagedata=storage_node_data, network=fm.geometry.netfile.network)"
   ]
  },
  {
   "cell_type": "markdown",
   "id": "96b2b247",
   "metadata": {},
   "source": [
    "Or an extra storage node can be added from the notebook:"
   ]
  },
  {
   "cell_type": "code",
   "execution_count": null,
   "id": "de4e1df1",
   "metadata": {},
   "outputs": [],
   "source": [
    "hydamo.storagenodes.add_storagenode(       \n",
    "        id='sto_test',\n",
    "        xy=(141001, 395030),                \n",
    "        name='sto_test',\n",
    "        usetable=\"true\",\n",
    "        levels=' '.join(np.arange(17.1, 19.6, 0.1).astype(str)),\n",
    "        storagearea=' '.join(np.arange(100, 1000, 900/25.).astype(str)),\n",
    "        interpolate=\"linear\",\n",
    "        network=fm.geometry.netfile.network)"
   ]
  },
  {
   "cell_type": "markdown",
   "id": "53054c58",
   "metadata": {},
   "source": [
    "Note that if 'usetable=True' an area-waterlevel relation is provided. The alternative, meant for an urban setting, implies constant storage between bedlevel and streetlevel and upwards. For most applications of D-HyDAMO, the first application is most relevant, like the example below."
   ]
  },
  {
   "cell_type": "markdown",
   "id": "59e953b4",
   "metadata": {},
   "source": [
    "### Boundary conditions"
   ]
  },
  {
   "cell_type": "markdown",
   "id": "71c11fd1",
   "metadata": {},
   "source": [
    "The HyDAMO database contains constant boundaries. They are added to the model:"
   ]
  },
  {
   "cell_type": "code",
   "execution_count": null,
   "id": "99785e0c",
   "metadata": {},
   "outputs": [],
   "source": [
    "hydamo.external_forcings.convert.boundaries(hydamo.boundary_conditions, mesh1d=fm.geometry.netfile.network)"
   ]
  },
  {
   "cell_type": "markdown",
   "id": "b7f74f18",
   "metadata": {},
   "source": [
    "However, we also need an upstream discharge boundary, which is not constant. We add a fictional time series, which can be read from Excel as well:"
   ]
  },
  {
   "cell_type": "code",
   "execution_count": null,
   "id": "ba39f8c1",
   "metadata": {},
   "outputs": [],
   "source": [
    "series = pd.Series(np.sin(np.linspace(2, 8, 120) * -1) + 3.0)\n",
    "series.index = [pd.Timestamp(\"2016-06-01 00:00:00\") + pd.Timedelta(hours=i) for i in range(120)]\n",
    "series.plot()\n",
    "plt.show()"
   ]
  },
  {
   "cell_type": "markdown",
   "id": "cfcd1c84",
   "metadata": {},
   "source": [
    "There is also a fuction to convert laterals, but to run this we also need the RR model. Therefore, see below. It also possible to manually add boundaries and laterals as constants or timeseries. We implement the sinoid above as an upstream streamflow boundary and a lateral:"
   ]
  },
  {
   "cell_type": "code",
   "execution_count": null,
   "id": "f26b855c",
   "metadata": {},
   "outputs": [],
   "source": [
    "hydamo.external_forcings.add_boundary_condition(\n",
    "    \"RVW_01\", (197464.0, 392130.0), \"dischargebnd\", series, fm.geometry.netfile.network\n",
    ")"
   ]
  },
  {
   "cell_type": "code",
   "execution_count": null,
   "id": "3a13e17b",
   "metadata": {},
   "outputs": [],
   "source": [
    "hydamo.dict_to_dataframe(hydamo.external_forcings.boundary_nodes)"
   ]
  },
  {
   "cell_type": "markdown",
   "id": "d19c373a",
   "metadata": {},
   "source": [
    "In the same way as for boundaries, it is possible to add laterals using a fuction. Here are two examples. The first one adds a constant flow (1.5 m3/s) to a location on branch W_2399.0:"
   ]
  },
  {
   "cell_type": "code",
   "execution_count": null,
   "id": "477c2295",
   "metadata": {},
   "outputs": [],
   "source": [
    "hydamo.external_forcings.add_lateral(id='LAT01', branchid='W_2399_0', chainage=100., discharge=1.5 )"
   ]
  },
  {
   "cell_type": "markdown",
   "id": "77dc85ca",
   "metadata": {},
   "source": [
    "The second example adds a timeseries, provided as a pandas series-object, to another location on the same branch.It can be read from CSV, but here we pass a hypothetical sine-function."
   ]
  },
  {
   "cell_type": "code",
   "execution_count": null,
   "id": "d4721cd4",
   "metadata": {},
   "outputs": [],
   "source": [
    "series = pd.Series(np.sin(np.linspace(2, 8, 120) * -1) + 2.0)\n",
    "series.index = [pd.Timestamp(\"2016-06-01 00:00:00\") + pd.Timedelta(hours=i) for i in range(120)]\n",
    "hydamo.external_forcings.add_lateral(id='LAT02', branchid='W_2399_0', chainage=900., discharge=series )"
   ]
  },
  {
   "cell_type": "markdown",
   "id": "4685f219",
   "metadata": {},
   "source": [
    "Set the initial water depth to 0.5 m. It is also possible to set a global water level using the equivalent function \"set_initial_waterlevel\"."
   ]
  },
  {
   "cell_type": "code",
   "execution_count": null,
   "id": "61e50a03",
   "metadata": {},
   "outputs": [],
   "source": [
    "hydamo.external_forcings.set_initial_waterdepth(1.5)"
   ]
  },
  {
   "cell_type": "markdown",
   "id": "fa58b70b",
   "metadata": {},
   "source": [
    "## 2D Mesh"
   ]
  },
  {
   "attachments": {},
   "cell_type": "markdown",
   "id": "3747d1a4",
   "metadata": {},
   "source": [
    "As explained above, several options exist for mesh generation.\n",
    "\n",
    "1. Meshkernel (MK). This is the preferred option: it is platform-independent, supports triangular meshes and has orthogenalization functionality. \n",
    "2. Gridgeom (GG). Older functionality from delft3dfmpy. It is still available in D-HyDAMO but will de depracated and fully replaced by Meshkernel.\n",
    "3. Import a mesh from other software, such as SMS.\n",
    "\n",
    "To generate a mesh we illustrate the following steps:\n",
    "    - Generate grid within a polygon. The polygon is the extent given to the HyDAMO model.\n",
    "    - Refine along the main branch\n",
    "    - clip the mesh around the branches\n",
    "    - Determine altitude from a DEM. \n",
    "\n",
    "<span style='color:Blue'> Important note: Triangular meshes are created without optimalization of smoothness or orthogonalization. This can be handled in de D-HYDRO GUI. In future we will implement this in D-HyDAMO.  </span>"
   ]
  },
  {
   "cell_type": "code",
   "execution_count": null,
   "id": "7ba87f40",
   "metadata": {},
   "outputs": [],
   "source": [
    "# 2d mesh extent\n",
    "if TwoD:\n",
    "    extent = gpd.read_file(data_path / \"2D_extent.shp\").at[0, \"geometry\"]\n",
    "    network = fm.geometry.netfile.network\n",
    "    rasterpath = data_path / 'rasters/AHN_2m_clipped_filled.tif'"
   ]
  },
  {
   "cell_type": "markdown",
   "id": "979b6bc8",
   "metadata": {},
   "source": [
    "Also the creation of a triangular mesh is possible. Note that there are maybe issues with the mesh orthogenality and additional steps in the D-Hydro GUI to orthogenalize the mesh may be necessary. In future we will implement this functionality in D-HyDAMO."
   ]
  },
  {
   "cell_type": "code",
   "execution_count": null,
   "id": "cbff42f3",
   "metadata": {},
   "outputs": [],
   "source": [
    "# if TwoD:\n",
    "#     mesh.mesh2d_add_triangular(network, extent, edge_length=50.0)"
   ]
  },
  {
   "cell_type": "markdown",
   "id": "0d689151",
   "metadata": {},
   "source": [
    "And a rectangular mesh with an arbitrary 50 m cell size:"
   ]
  },
  {
   "cell_type": "markdown",
   "id": "204a3cea",
   "metadata": {},
   "source": [
    "### Oefening 5"
   ]
  },
  {
   "cell_type": "code",
   "execution_count": null,
   "id": "958d37b4",
   "metadata": {},
   "outputs": [],
   "source": [
    "##############################Oefening 5########################################\n",
    "#voeg een 2D grid toe met een resolutie van 40 m\n",
    "\n",
    "\n",
    "if TwoD:\n",
    "    mesh.mesh2d_add_rectilinear(network, extent, dx=20, dy=20) #dx en dy aangepast"
   ]
  },
  {
   "attachments": {},
   "cell_type": "markdown",
   "id": "2ae44d33",
   "metadata": {},
   "source": [
    "Refine the 2D mesh within an arbitrary distance of 50 m from all branches (works on a subselection as well). There are several (optional) arguments to the refinement function, that typically give good results so it is not needed to pass them. For illustration, they are listed here. For more details, see https://deltares.github.io/MeshKernel. "
   ]
  },
  {
   "cell_type": "code",
   "execution_count": null,
   "id": "f5d859f7",
   "metadata": {},
   "outputs": [],
   "source": [
    "if TwoD:  \n",
    "    refine_parameters = {\n",
    "        'refine_intersected': True,\n",
    "        'use_mass_center_when_refining': True,\n",
    "        'min_edge_size': 1.0,\n",
    "        'refinement_type': 2,\n",
    "        'connect_hanging_nodes': True,\n",
    "        'account_for_samples_outside_face': True,\n",
    "        'max_refinement_iterations': 1,\n",
    "        'smoothing_iterations': 5,\n",
    "        'max_courant_time': 120.0,\n",
    "        'directional_refinement': False\n",
    "    }"
   ]
  },
  {
   "cell_type": "code",
   "execution_count": null,
   "id": "779416a0",
   "metadata": {},
   "outputs": [],
   "source": [
    "if TwoD:\n",
    "    print(\"Nodes before refinement:\", network._mesh2d.mesh2d_node_x.size)\n",
    "    buffer = Polygon(hydamo.branches.buffer(50.0).unary_union.exterior)\n",
    "    mesh.mesh2d_refine(network, buffer, 1, refine_parameters)\n",
    "    print(\"Nodes after refinement:\", network._mesh2d.mesh2d_node_x.size)       "
   ]
  },
  {
   "attachments": {},
   "cell_type": "markdown",
   "id": "aaeb70a1",
   "metadata": {},
   "source": [
    "Clip the 2D mesh in a 20m buffer around a number of branches. This is to illustrate the use of both lateral (when the mesh is clipped) ad embedded (without clipping) links."
   ]
  },
  {
   "cell_type": "markdown",
   "id": "815a81c2",
   "metadata": {},
   "source": [
    "### Oefening 6"
   ]
  },
  {
   "cell_type": "code",
   "execution_count": null,
   "id": "a367b807",
   "metadata": {},
   "outputs": [],
   "source": [
    "if TwoD:\n",
    "    print(\"Nodes before clipping:\", network._mesh2d.mesh2d_node_x.size)\n",
    "#################Oefening 6#######################################################################\n",
    "# Knip de watergang met id \"W_242224_0\" uit met de functie mesh.mesh2d_clip \n",
    "# Gebruik de volgende code om de Oostrumsche beek te selecteren:\n",
    "#  branch = hydamo.branches.loc['W_242224_0'].geometry.buffer(40.)\n",
    "    \n",
    "\n",
    "###################################################################################################\n",
    "    print(\"Nodes after clipping:\", network._mesh2d.mesh2d_node_x.size)\n",
    "    \n"
   ]
  },
  {
   "cell_type": "markdown",
   "id": "ec3e80f0",
   "metadata": {},
   "source": [
    "Alternatively, the mesh can be read from a netcdf file:"
   ]
  },
  {
   "cell_type": "code",
   "execution_count": null,
   "id": "658b3e91",
   "metadata": {},
   "outputs": [],
   "source": [
    "# if TwoD:\n",
    "#     mesh.mesh2d_from_netcdf(network, data_path / \"import.nc\")"
   ]
  },
  {
   "cell_type": "markdown",
   "id": "c7f916a5",
   "metadata": {},
   "source": [
    "Add elevation data to the cells"
   ]
  },
  {
   "cell_type": "code",
   "execution_count": null,
   "id": "f84208f0",
   "metadata": {},
   "outputs": [],
   "source": [
    "if TwoD:        \n",
    "    mesh.mesh2d_altitude_from_raster(network, rasterpath, \"face\", \"mean\", fill_value=-999)"
   ]
  },
  {
   "attachments": {},
   "cell_type": "markdown",
   "id": "e8b0b924",
   "metadata": {},
   "source": [
    "To add a mesh, currently 2 options exist:\n",
    "1. The converter can generate a relatively simple mesh, with a rotation or refinement. Note that rotation _and_ refinement is currently not possible. In the section below we generate a refined 2D mesh with the following steps:\n",
    "\n",
    "    - Generate grid within a polygon. The polygon is the extent given to the HyDAMO model.\n",
    "    - Refine along the main branch\n",
    "    - clip the mesh around the branches\n",
    "    - Determine altitude from a DEM. \n",
    "\n",
    "<span style='color:Blue'> Important note: Triangular meshes are created without optimalization of smoothness or orthogonalization. This can be handled in de D-HYDRO GUI. In future we will implement this in D-HyDAMO.  </span>"
   ]
  },
  {
   "cell_type": "markdown",
   "id": "1d27ac16",
   "metadata": {},
   "source": [
    "### Add 1d-2d links"
   ]
  },
  {
   "cell_type": "markdown",
   "id": "2ff30cb1",
   "metadata": {},
   "source": [
    "Three options exist to add 1d2d links to the network:\n",
    " - from 1d to 2d\n",
    " - from 2d to 1d embedded: allowing overlap (i.e., the 2D cells and 1D branches are allowed to intersect)\n",
    " - from 2d to 1d lateral: there is no overlap and from each cell the closest 1d points are used. \n",
    " \n",
    " See https://hkvconfluence.atlassian.net/wiki/spaces/DHYD/pages/601030709/1D2D-links for details."
   ]
  },
  {
   "cell_type": "code",
   "execution_count": null,
   "id": "115c5a07",
   "metadata": {},
   "outputs": [],
   "source": [
    "if TwoD:         \n",
    "    # mesh.links1d2d_add_links_1d_to_2d()\n",
    "    mesh.links1d2d_add_links_2d_to_1d_embedded(network)\n",
    "    mesh.links1d2d_add_links_2d_to_1d_lateral(network, max_length=100.)        \n",
    "    mesh.links1d2d_remove_1d_endpoints(network)\n",
    "    mesh.links1d2d_remove_within(network, hydamo.branches.loc['W_1598_0'].geometry.buffer(100.))"
   ]
  },
  {
   "cell_type": "code",
   "execution_count": null,
   "id": "67e0925d",
   "metadata": {},
   "outputs": [],
   "source": [
    "# plot the network\n",
    "if TwoD:\n",
    "    network = fm.geometry.netfile.network\n",
    "    fig, axs = plt.subplots(figsize=(13.5, 6), ncols=2, constrained_layout=True)\n",
    "    plot_network(network, ax=axs[0])\n",
    "    plot_network(network, ax=axs[1], links1d2d_kwargs=dict(lw=3, color=\"k\"))\n",
    "    axs[0].autoscale_view()\n",
    "    axs[1].set_xlim(200000, 200500)\n",
    "    axs[1].set_ylim(395750, 396250)\n",
    "\n",
    "    sc = axs[1].scatter(\n",
    "        x=network._mesh2d.mesh2d_face_x,\n",
    "        y=network._mesh2d.mesh2d_face_y,\n",
    "        c=network._mesh2d.mesh2d_face_z,\n",
    "        s=10,\n",
    "        vmin=22,\n",
    "        vmax=27,\n",
    "    )\n",
    "    cb = plt.colorbar(sc, ax=axs[1])\n",
    "    cb.set_label(\"Face level [m+NAP]\")\n",
    "\n",
    "    plt.show()"
   ]
  },
  {
   "cell_type": "markdown",
   "id": "93490473",
   "metadata": {},
   "source": [
    "For finalizing the FM-model, we also need the coupling to the other modules. Therefore, we will do that first."
   ]
  },
  {
   "cell_type": "markdown",
   "id": "38fe7683",
   "metadata": {},
   "source": [
    "# Add an RTC model"
   ]
  },
  {
   "cell_type": "markdown",
   "id": "5d032bdf",
   "metadata": {},
   "source": [
    "RTC contains many different options. Three are now implemented in D-HyDAMO: \n",
    "- a PID controller (crest level is determined by water level at an observation point);\n",
    "- a time controller (a time series of crest level is provided);\n",
    "- the possibility for the users to provide their own XML-files for more complex cases. Depending on the complexity, the integration might not yet work for all cases."
   ]
  },
  {
   "attachments": {},
   "cell_type": "markdown",
   "id": "175384fe",
   "metadata": {},
   "source": [
    "First, initialize a DRTCModel-object. The input is hydamo (for the data), fm (for the time settings), a path where the model will be created (typically an 'rtc' subfolder), a timestep (default 60 seconds) and, optionally, a folder where the user can put 'custom' XML code that will be integrated in the RTC-model. These files will be parsed now and be integrated later.\n",
    "\n",
    "These files can, for example, be obtained by schematizing a control group in DHYDRO and export it to a DIMR model. The RTC XML-code can then be parsed by D-HyDAMO.\n",
    "\n",
    "if rtc_onlytimesries is True, supplied timeseries (of observed crest levels, for instance) will be used to replace PID- and intervan controllers by time controllers. This is useful in model calibration, for instance."
   ]
  },
  {
   "cell_type": "code",
   "execution_count": null,
   "id": "8efe740a",
   "metadata": {},
   "outputs": [],
   "source": [
    "if RTC:    \n",
    "    if rtc_onlytimeseries:\n",
    "        timeseries = pd.read_csv(rtc_timeseriesdata, sep=\",\", index_col='Time', parse_dates=True)\n",
    "        drtcmodel = DRTCModel(\n",
    "            hydamo,\n",
    "            fm,\n",
    "            output_path=output_path,\n",
    "            rtc_timestep=60.0,\n",
    "            rtc_onlytimeseries=True,\n",
    "            rtc_timeseriesdata=timeseries\n",
    "        )\n",
    "    else:\n",
    "        drtcmodel = DRTCModel(\n",
    "            hydamo,\n",
    "            fm,\n",
    "            output_path=output_path,\n",
    "            rtc_timestep=60.0,\n",
    "            complex_controllers_folder=data_path / \"complex_controllers\"  # location where user defined XLM-code should be located\n",
    "        )\n"
   ]
  },
  {
   "cell_type": "markdown",
   "id": "4ae598b9",
   "metadata": {},
   "source": [
    "If PID controllers are present, they need settings that are not included in the HyDAMO DAMO2.2 data. We define those in a dictionary. They can be specified for each structure - in that case the key of the dictionary should match the key in the HyDAMO DAMO2.2 'sturing'-object. If no separate settings are provided the 'global' settings are used."
   ]
  },
  {
   "cell_type": "markdown",
   "id": "668762ab",
   "metadata": {},
   "source": [
    "If PID- or interval controllers are present, they need settings that are not included in the HyDAMO DAMO2.2 data. We define those in dictionaries. They can be specified for each structure - in that case the key of the dictionary should match the key in the HyDAMO DAMO2.2 'sturing'-object. If no separate settings are provided the 'global' settings are used.\n",
    "\n",
    "Note that it is also possible to add RTC objects individually, in that case the settings should provided in the correct function as shown below. When interval controllers are converted from HyDAMO data, the settings above and below the deadband are taken from the min- and max setting."
   ]
  },
  {
   "cell_type": "markdown",
   "id": "242d491c",
   "metadata": {},
   "source": [
    "PID- and interval controllers shoud have an observation location. We added those before, but we can check them here:"
   ]
  },
  {
   "cell_type": "code",
   "execution_count": null,
   "id": "ca578931",
   "metadata": {},
   "outputs": [],
   "source": [
    "hydamo.observationpoints.observation_points.head()"
   ]
  },
  {
   "cell_type": "code",
   "execution_count": null,
   "id": "061fdcfb",
   "metadata": {},
   "outputs": [],
   "source": [
    "if RTC and not rtc_onlytimeseries:\n",
    "    pid_settings = {}\n",
    "    interval_settings = {}\n",
    "    \n",
    "    pid_settings[\"global\"] = {\n",
    "        \"ki\": 0.001,\n",
    "        \"kp\": 0.00,\n",
    "        \"kd\": 0.0,\n",
    "        \"maxspeed\": 0.00033,\n",
    "    }\n",
    "    interval_settings[\"global\"] = {\n",
    "        \"deadband\": 0.2,\n",
    "        \"maxspeed\": 0.00033,\n",
    "    }    \n",
    "    pid_settings[\"kst_pid\"] = {\n",
    "            \"ki\": 0.001,\n",
    "            \"kp\": 0.0,\n",
    "            \"kd\": 0.0,\n",
    "            \"maxspeed\": 0.00033,\n",
    "        }"
   ]
  },
  {
   "cell_type": "markdown",
   "id": "8c10860b",
   "metadata": {},
   "source": [
    "The function 'from_hydamo' converts the controllers that are specified in the HyDAMO DAMO2.2 data. The extra input consists of the settings for PID controllers (see above) and a dataframe with time series for the time controllers."
   ]
  },
  {
   "cell_type": "code",
   "execution_count": null,
   "id": "7533226f",
   "metadata": {},
   "outputs": [],
   "source": [
    "if RTC and not rtc_onlytimeseries:\n",
    "    if not hydamo.management.typecontroller.empty:\n",
    "        timeseries = pd.read_csv(data_path / \"timecontrollers.csv\")\n",
    "        timeseries.index = timeseries.Time        \n",
    "\n",
    "        drtcmodel.from_hydamo(pid_settings=pid_settings, interval_settings=interval_settings, timeseries=timeseries)\n"
   ]
  },
  {
   "cell_type": "markdown",
   "id": "5e337578",
   "metadata": {},
   "source": [
    "Additional controllers, that are not included in D-HyDAMO DAMO2.2 might be specified like this:"
   ]
  },
  {
   "cell_type": "code",
   "execution_count": null,
   "id": "cd1a0fc6",
   "metadata": {},
   "outputs": [],
   "source": [
    "if RTC and not rtc_onlytimeseries:\n",
    "    drtcmodel.add_time_controller(\n",
    "        structure_id=\"S_96548\", steering_variable=\"Crest level (s)\", data=timeseries.loc[:,'S_96548']\n",
    "    )"
   ]
  },
  {
   "cell_type": "markdown",
   "id": "34b08879",
   "metadata": {},
   "source": [
    "Additional controllers, that are not included in D-HyDAMO DAMO2.2 might be specified like this:"
   ]
  },
  {
   "cell_type": "code",
   "execution_count": null,
   "id": "a13f1d6d",
   "metadata": {},
   "outputs": [],
   "source": [
    "if RTC:\n",
    "    drtcmodel.add_time_controller(\n",
    "        structure_id=\"S_96548\", steering_variable=\"Crest level (s)\", data=timeseries.loc[:,'S_96548']\n",
    "    )"
   ]
  },
  {
   "cell_type": "markdown",
   "id": "d44bd99d",
   "metadata": {},
   "source": [
    "### Oefening 7"
   ]
  },
  {
   "cell_type": "code",
   "execution_count": null,
   "id": "628beb69",
   "metadata": {},
   "outputs": [],
   "source": [
    "#######################Oefening 7##############################\n",
    "#gebruik onderstaande functie om een pid controller toe te voegen voor stuw S_96544. Het meetpunt heet ObsS_96544 en het streefpeil is 13.2 m+NAP.\n",
    "\n",
    "# if RTC:\n",
    "#     drtcmodel.add_pid_controller(structure_id=, \n",
    "#                                 observation_location=, \n",
    "#                                 steering_variable=, \n",
    "#                                 target_variable=, \n",
    "#                                 setpoint=,\n",
    "#                                 upper_bound=,\n",
    "#                                 lower_bound=,\n",
    "#                                 ki=0.001,\n",
    "#                                 kp=0.0,\n",
    "#                                 kd=0.0,\n",
    "#                                 max_speed=0.00033)"
   ]
  },
  {
   "cell_type": "code",
   "execution_count": null,
   "id": "fea6a84e",
   "metadata": {},
   "outputs": [],
   "source": [
    "####################### Controle oefening 7#####################\n",
    "if 'S_96544' in list(drtcmodel.pid_controllers.keys()):\n",
    "    print('extra controller is toegevoegd')\n",
    "else:\n",
    "    print('extra controller is nog niet toegevoegd')\n",
    "drtcmodel.pid_controllers"
   ]
  },
  {
   "cell_type": "markdown",
   "id": "7d2b4ee3",
   "metadata": {},
   "source": [
    "## Add a rainfall runoff model"
   ]
  },
  {
   "cell_type": "markdown",
   "id": "2a94188f",
   "metadata": {},
   "source": [
    "RR has not changed yet compared to delft3dfmpy. Initialize a model:"
   ]
  },
  {
   "cell_type": "code",
   "execution_count": null,
   "id": "0c951f7a",
   "metadata": {},
   "outputs": [],
   "source": [
    "if RR:\n",
    "    drrmodel = DRRModel()"
   ]
  },
  {
   "cell_type": "markdown",
   "id": "7df8819e",
   "metadata": {},
   "source": [
    "Catchments are provided in the HyDAMO DAMO2.2 format and included in the GPKG. They can also be read from other formats using 'read_gml', or 'read_shp'. Note that in case of shapefiles column mapping is necessary because the column names are truncated. \n",
    "\n",
    "Note that when catchments have a \"MultiPolygon' geometry, the multipolygons are 'exploded' into single polygon geometries. A warning of this is isued, and a suffix is added to every polygons ID to prevent duplicates. \n",
    "\n",
    "For every catchment, the land use areas will be calculated and if appopriate a maximum of four RR-nodes will be created per catchment:\n",
    " - unpaved (based on the Ernst concept)\n",
    " - paved \n",
    " - greenhouse\n",
    " - open water (not the full Sobek2 open water, but only used to transfer (net) precipitation that falls on open water that is schematized in RR to the 1D/2D network.\n",
    " \n",
    "At the moment, two options exist for the schematisation of the paved area:\n",
    " 1) simple: the paved fraction of each catchment is modelled with a paved node, directly connected to catchments' boundary node\n",
    " <br>\n",
    " 2) more complex: sewer area polygons and overflow points are used a input as well. For each sewer area, the overlapping paved area is the distributed over the overflows that are associated with the sewerarea (the column 'lateraleknoopcode') using the area fraction (column 'fractie') for each overflow. In each catchment, paved area that does not intersect with a sewer area gets an unpaved node as in option (1).\n"
   ]
  },
  {
   "cell_type": "markdown",
   "id": "9a31065e",
   "metadata": {},
   "source": [
    "Load data and settings. RR-parameters can be derived from a raster (using zonal statistics per catchment), or provided as a standard number. Rasters can be in any format that is accepted by the package rasterio: https://gdal.org/drivers/raster/index.html. All common GIS-formats (.asc, .tif) are accepted."
   ]
  },
  {
   "cell_type": "code",
   "execution_count": null,
   "id": "6e7817a9",
   "metadata": {},
   "outputs": [],
   "source": [
    "if RR:\n",
    "    lu_file = data_path / \"rasters\" / \"sobek_landuse.tif\"\n",
    "    ahn_file = data_path / \"rasters\" / \"AHN_2m_clipped_filled.tif\"\n",
    "    soil_file = data_path / \"rasters\" / \"sobek_soil.tif\"\n",
    "    surface_storage = 10.0 # [mm]\n",
    "    infiltration_capacity = 100.0 # [mm/hr]\n",
    "    initial_gwd = 1.2  # water level depth below surface [m]  \n",
    "    runoff_resistance = 1.0 # [d]\n",
    "    infil_resistance = 300.0 # [d]\n",
    "    layer_depths = [0.0, 1.0, 2.0] # [m]\n",
    "    layer_resistances = [30, 200, 10000] # [d]"
   ]
  },
  {
   "cell_type": "markdown",
   "id": "fa96a195",
   "metadata": {},
   "source": [
    "A different meteo-station can be assigned to each catchment, of a different shape can be provided. Here, 'meteo_areas' are assumed equal to the catchments."
   ]
  },
  {
   "cell_type": "code",
   "execution_count": null,
   "id": "a9af4a4e",
   "metadata": {},
   "outputs": [],
   "source": [
    "if RR:\n",
    "    meteo_areas = hydamo.catchments "
   ]
  },
  {
   "cell_type": "markdown",
   "id": "5950fb5b",
   "metadata": {},
   "source": [
    "### Configuration of greenhouse_areas"
   ]
  },
  {
   "cell_type": "markdown",
   "id": "e67060cb",
   "metadata": {},
   "source": [
    "Similar to sewage areas and overflows for paved nodes, known greenhouse areas and greenhouse discharge locations can be assigned. Two extra shapefiles or geopackage layers are needed:\n",
    "- contains polygons with greenhouse areas, with a column 'code' containing the ID. They are read into the object 'greenhouse_areas'. These areas are converted to greenhouse nodes irrespective of the underlying landuse in the landuse raster;\n",
    "- greenhouse outflow points: with a column 'codegerelateerdobject' to couple it with the right polygon. They are read into the object 'greenhouse_laterals';\n",
    "  \n",
    "By adding columns to greenhouse_areas their parameters can be specified: roof_storage_mm is the storage on the roof, basin_storage_class is the above-ground storageclass that is used in D-RR. It discreminates in 10 classes each with different basin storage capacities (in m3/ha).  If no specific numbers per greenhouse provided per greenhouse_are provided uniform values can be provided.\n",
    "\n",
    "These storage classes identified by 'basin_storage_class' are as follows:\n",
    " 1. 0-500 m3/ha;\n",
    " 2. 500-1000 m3/ha;\n",
    " 3. 1000-1500 m3/ha;\n",
    " 4. 1500-2000 m3/ha;\n",
    " 5. 2000-2500 m3/ha;\n",
    " 6. 2500-3000 m3/ha;\n",
    " 7. 3000-4000 m3/ha;\n",
    " 8. 4000-5000 m3/ha;\n",
    " 9. 5000-6000 m3/ha;\n",
    "10. more than 600 m3/ha."
   ]
  },
  {
   "cell_type": "code",
   "execution_count": null,
   "id": "14da2e9c",
   "metadata": {},
   "outputs": [],
   "source": [
    "if RR:\n",
    "    roof_storage = 5.0 # [mm]\n",
    "    basin_storage_class = 3# default class\n",
    "    hydamo.greenhouse_areas.read_gpkg_layer( data_path / 'greenhouses.gpkg', layer_name='greenhouses', index_col='code')\n",
    "    hydamo.greenhouse_laterals.read_gpkg_layer(data_path / 'greenhouse_laterals.gpkg', layer_name='laterals')\n",
    "    hydamo.greenhouse_laterals.snap_to_branch(hydamo.branches, snap_method=\"overal\", maxdist=1100)\n",
    "    hydamo.greenhouse_areas['roof_storage_mm'] = roof_storage \n",
    "    hydamo.greenhouse_areas['basin_storage_class'] = [i+1 for i in range(hydamo.greenhouse_areas.shape[0])]"
   ]
  },
  {
   "cell_type": "code",
   "execution_count": null,
   "id": "73d8de93",
   "metadata": {},
   "outputs": [],
   "source": [
    "hydamo.greenhouse_areas.head()"
   ]
  },
  {
   "cell_type": "markdown",
   "id": "2a06fc01",
   "metadata": {},
   "source": [
    "## Unpaved nodes"
   ]
  },
  {
   "cell_type": "markdown",
   "id": "c1f473ee",
   "metadata": {},
   "source": [
    "For land use and soil type a coding is prescribed. For landuse, the legend of the map is expected to be as follows: <br>\n",
    " 1 potatoes  <br>\n",
    " 2 wheat<br>\n",
    " 3 sugar beet<br> \n",
    " 4 corn       <br> \n",
    " 5 other crops <br> \n",
    " 6 bulbous plants<br> \n",
    " 7 orchard<br>\n",
    " 8 grass  <br>\n",
    " 9 deciduous forest  <br>\n",
    "10 coniferous forest<br>\n",
    "11 nature<br>\n",
    "12 barren<br>\n",
    "13 open water<br>\n",
    "14 built-up<br>\n",
    "15 greenhouses<br>\n",
    "\n",
    "For classes 1-12, the areas are calculated from the provided raster and remapped to the classification in the Sobek RR-tables.\n",
    "\n",
    "\n",
    "The coding for the soil types:<br>\n",
    "1 'Veengrond met veraarde bovengrond'<br>\n",
    " 2 'Veengrond met veraarde bovengrond, zand'<br>\n",
    " 3 'Veengrond met kleidek'<br>\n",
    " 4 'Veengrond met kleidek op zand'<br>\n",
    " 5 'Veengrond met zanddek op zand'<br>\n",
    " 6 'Veengrond op ongerijpte klei'<br>\n",
    " 7 'Stuifzand'<br>\n",
    " 8 'Podzol (Leemarm, fijn zand)'<br>\n",
    " 9 'Podzol (zwak lemig, fijn zand)'<br>\n",
    "10 'Podzol (zwak lemig, fijn zand op grof zand)'<br>\n",
    "11 'Podzol (lemig keileem)'<br>\n",
    "12 'Enkeerd (zwak lemig, fijn zand)'<br>\n",
    "13 'Beekeerd (lemig fijn zand)'<br>\n",
    "14 'Podzol (grof zand)'<br>\n",
    "15 'Zavel'<br>\n",
    "16 'Lichte klei'<br>\n",
    "17 'Zware klei'<br>\n",
    "18 'Klei op veen'<br>\n",
    "19 'Klei op zand'<br>\n",
    "20 'Klei op grof zand'<br>\n",
    "21 'Leem'<br>\n",
    "\n",
    "\n",
    "And surface elevation needs to be in m+NAP."
   ]
  },
  {
   "cell_type": "code",
   "execution_count": null,
   "id": "412c235d",
   "metadata": {},
   "outputs": [],
   "source": [
    "if RR:\n",
    "    drrmodel.unpaved.io.unpaved_from_input(\n",
    "        hydamo.catchments,\n",
    "        lu_file,\n",
    "        ahn_file,\n",
    "        soil_file,\n",
    "        surface_storage,\n",
    "        infiltration_capacity,\n",
    "        initial_gwd,\n",
    "        meteo_areas,\n",
    "        greenhouse_areas=hydamo.greenhouse_areas,\n",
    "\n",
    "    )\n",
    "    drrmodel.unpaved.io.ernst_from_input(\n",
    "        hydamo.catchments,\n",
    "        depths=layer_depths,\n",
    "        resistance=layer_resistances,\n",
    "        infiltration_resistance=infil_resistance,\n",
    "        runoff_resistance=runoff_resistance,\n",
    "    )    "
   ]
  },
  {
   "cell_type": "markdown",
   "id": "353c305c",
   "metadata": {},
   "source": [
    "## Paved nodes"
   ]
  },
  {
   "cell_type": "code",
   "execution_count": null,
   "id": "bf4df670",
   "metadata": {},
   "outputs": [],
   "source": [
    "if RR:    \n",
    "    street_storage = 5.0 # [mm]\n",
    "    sewer_storage = 5.0 # [mm]\n",
    "    pumpcapacity = 0.2 # [m3/s]"
   ]
  },
  {
   "cell_type": "markdown",
   "id": "c421a23c",
   "metadata": {},
   "source": [
    "For paved areas, two options are allowed.\n",
    "1) simply assign a paved noded to the catchment area that is paved in the landuse map."
   ]
  },
  {
   "cell_type": "code",
   "execution_count": null,
   "id": "37949290",
   "metadata": {},
   "outputs": [],
   "source": [
    "# if RR:\n",
    "#     drrmodel.paved.io.paved_from_input(\n",
    "#             catchments=hydamo.catchments,\n",
    "#             landuse=lu_file,\n",
    "#             surface_level=ahn_file,\n",
    "#             street_storage=street_storage,\n",
    "#             sewer_storage=sewer_storage,\n",
    "#             pump_capacity=pumpcapacity,\n",
    "#             meteo_areas=meteo_areas,\n",
    "#             zonalstats_alltouched=True,\n",
    "#         )\n"
   ]
  },
  {
   "cell_type": "markdown",
   "id": "71356428",
   "metadata": {},
   "source": [
    " 2. Also use sewer-areas and overflows by providing them to the function. In that case, the 'overflows' shapefile should have a field 'codegerelateerdobject' that contains the 'code' of the sewer area it is linked to, and a 'fraction' (float) that contains the fraction of the sewer area that drains through that overflow. \n",
    "\n",
    "For every overflow, a paved node is created, containing the fraction of the sewer area. The paved area of the catchment that intersects the sewer-area is corrected for this; for the remaining paved area a seperate paved node is created.|"
   ]
  },
  {
   "cell_type": "code",
   "execution_count": null,
   "id": "6e843111",
   "metadata": {},
   "outputs": [],
   "source": [
    "if RR:\n",
    "    hydamo.sewer_areas.read_shp(str(data_path / 'rioleringsgebieden.shp'), index_col='code', column_mapping={'Code':'code', 'Berging_mm':'riool_berging_mm', 'POC_m3s':'riool_poc_m3s' })\n",
    "    hydamo.overflows.read_shp(str(data_path / 'overstorten.shp'), column_mapping={'codegerela': 'codegerelateerdobject'})\n",
    "    hydamo.overflows.snap_to_branch(hydamo.branches, snap_method=\"overal\", maxdist=1100)"
   ]
  },
  {
   "cell_type": "code",
   "execution_count": null,
   "id": "79fbf72e",
   "metadata": {},
   "outputs": [],
   "source": [
    "hydamo.sewer_areas"
   ]
  },
  {
   "cell_type": "code",
   "execution_count": null,
   "id": "7c146e9c",
   "metadata": {},
   "outputs": [],
   "source": [
    "if RR:\n",
    "     drrmodel.paved.io.paved_from_input(\n",
    "            catchments=hydamo.catchments,\n",
    "            landuse=lu_file,\n",
    "            surface_level=ahn_file,\n",
    "            sewer_areas=hydamo.sewer_areas,\n",
    "            overflows=hydamo.overflows,\n",
    "            street_storage=street_storage,\n",
    "            sewer_storage=sewer_storage,\n",
    "            pump_capacity=pumpcapacity,\n",
    "            meteo_areas=meteo_areas,\n",
    "            zonalstats_alltouched=True,\n",
    "        )"
   ]
  },
  {
   "cell_type": "markdown",
   "id": "a1a3b950",
   "metadata": {},
   "source": [
    "## Greenhouse nodes"
   ]
  },
  {
   "cell_type": "markdown",
   "id": "ea67f2f3",
   "metadata": {},
   "source": [
    "Also for greenhouses two options exist. <br>\n",
    "Option 1: use both the land use map and supply separate greenhouse areas and laterals. "
   ]
  },
  {
   "cell_type": "code",
   "execution_count": null,
   "id": "fdcf8f67",
   "metadata": {},
   "outputs": [],
   "source": [
    "if RR:\n",
    "    # greenhouse with additional greenhouse nodes\n",
    "    drrmodel.greenhouse.io.greenhouse_from_input(\n",
    "            catchments=hydamo.catchments,\n",
    "            landuse=lu_file,\n",
    "            surface_level=ahn_file,\n",
    "            greenhouse_areas=hydamo.greenhouse_areas,\n",
    "            greenhouse_laterals=hydamo.greenhouse_laterals,\n",
    "            roof_storage=roof_storage,\n",
    "            basin_storage_class=basin_storage_class,\n",
    "            meteo_areas=meteo_areas,\n",
    "            zonalstats_alltouched=True            \n",
    "        )"
   ]
  },
  {
   "cell_type": "markdown",
   "id": "6033cf6b",
   "metadata": {},
   "source": [
    "Option 2: base greenhouse areas only on the land use map."
   ]
  },
  {
   "cell_type": "code",
   "execution_count": null,
   "id": "bef0401e",
   "metadata": {},
   "outputs": [],
   "source": [
    "# if RR:\n",
    "#     drrmodel.greenhouse.io.greenhouse_from_input(\n",
    "#         hydamo.catchments, lu_file, ahn_file, roof_storage, meteo_areas, zonalstats_alltouched=True\n",
    "#     )"
   ]
  },
  {
   "cell_type": "markdown",
   "id": "32218cf8",
   "metadata": {},
   "source": [
    "## Open water"
   ]
  },
  {
   "cell_type": "markdown",
   "id": "f4a62b41",
   "metadata": {},
   "source": [
    "As opposed to Sobek, in D-Hydro open water is merely an interface for precpitation and evaporation. No management and water levels are included."
   ]
  },
  {
   "cell_type": "code",
   "execution_count": null,
   "id": "3d8610c3",
   "metadata": {},
   "outputs": [],
   "source": [
    "# RR\n",
    "if RR:\n",
    "    drrmodel.openwater.io.openwater_from_input(\n",
    "        hydamo.catchments, lu_file, meteo_areas, zonalstats_alltouched=True\n",
    "    )"
   ]
  },
  {
   "cell_type": "markdown",
   "id": "dc8ca07c",
   "metadata": {},
   "source": [
    "## RR boundaries"
   ]
  },
  {
   "attachments": {},
   "cell_type": "markdown",
   "id": "30fc94e3",
   "metadata": {},
   "source": [
    "The overflows argument is optional and only needed if overflow and sewer areas are included above."
   ]
  },
  {
   "cell_type": "code",
   "execution_count": null,
   "id": "583fc40e",
   "metadata": {},
   "outputs": [],
   "source": [
    "if RR:    \n",
    "    drrmodel.external_forcings.io.boundary_from_input(hydamo.laterals, hydamo.catchments, drrmodel, overflows=hydamo.overflows, greenhouse_laterals=hydamo.greenhouse_laterals)"
   ]
  },
  {
   "cell_type": "markdown",
   "id": "df5a22a3",
   "metadata": {},
   "source": [
    "### External forcings\n",
    "\n",
    "Three types of external forcing need to be provided:<br>\n",
    "- Seepage/drainage\n",
    "- Precipitation\n",
    "- Evaporation\n",
    "\n",
    "All are assumed to be spatially variable and thus need to pe provided as rasters per time step. Only the locations of the folders containing the rasters need to be provided; the time step is then derived from the file names.\n",
    "\n",
    "Precipitation and evaporation are assumed to be in mm/d. As for evaporation only one meteostation is used, the meteo_areas are dissolved. For seepage, as the use of Metaswap-rasters is allowed, the unit is assumed to m3/grid cell/timestep.\n",
    "\n",
    "Rastertypes can be any type that is recognized by rasterio (in any case Geotiff and ArcASCII rasters). If the file extension is 'IDF', as is the case in Modflow output, the raster is read using the 'imod'-package.\n",
    "\n",
    "IMPORTANT: time steps are extracted from the file names. Therefore, the names should cohere to some conditions:\n",
    "The filename should consist of at least two parts, separated by underscores. The second part needs to contain time information, which should be formatted as YYYYMMDDHHMMSS (SS may be omitted). Or, for daily data YYYYMMDD.\n",
    "\n",
    "For example: 'precip_20200605151500.tif'\n",
    "\n",
    "Extracting meteo-data from rasters can be time consuming. If precip_file and evap_file are specified, meteo-files are copied from an existing location."
   ]
  },
  {
   "cell_type": "code",
   "execution_count": null,
   "id": "c058ddd9",
   "metadata": {},
   "outputs": [],
   "source": [
    "if RR:\n",
    "    seepage_folder = data_path / \"rasters\" / \"seepage\"\n",
    "    precip_file = str(data_path / \"DEFAULT.BUI\")\n",
    "    evap_folder = data_path / \"rasters\" / \"evaporation\"\n",
    "    drrmodel.external_forcings.io.seepage_from_input(hydamo.catchments, seepage_folder)\n",
    "    drrmodel.external_forcings.io.precip_from_input(meteo_areas, precip_folder=None, precip_file=precip_file)\n",
    "    drrmodel.external_forcings.io.evap_from_input(meteo_areas, evap_folder=evap_folder, evap_file=None)"
   ]
  },
  {
   "cell_type": "markdown",
   "id": "349d4572",
   "metadata": {},
   "source": [
    "Add the main parameters:"
   ]
  },
  {
   "cell_type": "code",
   "execution_count": null,
   "id": "6786bed3",
   "metadata": {},
   "outputs": [],
   "source": [
    "if RR:   \n",
    "    drrmodel.d3b_parameters[\"Timestepsize\"] = 300\n",
    "    drrmodel.d3b_parameters[\"StartTime\"] = \"'2016/06/01;00:00:00'\"  # should be equal to refdate for D-HYDRO\n",
    "    drrmodel.d3b_parameters[\"EndTime\"] = \"'2016/06/03;00:00:00'\"\n",
    "    drrmodel.d3b_parameters[\"RestartIn\"] = 0\n",
    "    drrmodel.d3b_parameters[\"RestartOut\"] = 0\n",
    "    drrmodel.d3b_parameters[\"RestartFileNamePrefix\"] = \"Test\"\n",
    "    drrmodel.d3b_parameters[\"UnsaturatedZone\"] = 1\n",
    "    drrmodel.d3b_parameters[\"UnpavedPercolationLikeSobek213\"] = -1\n",
    "    drrmodel.d3b_parameters[\"VolumeCheckFactorToCF\"] = 100000\n"
   ]
  },
  {
   "cell_type": "markdown",
   "id": "48b04f61",
   "metadata": {},
   "source": [
    "Laterals are different for the case with and without RR. There can be three options:\n",
    "1) laterals from the RR model (RR=True). There will be real-time coupling where RR and FM are calculated in parallel. Note that, again, the overflows are needed because there are extra boundaries. If there are no overflows, it does not have to be provided.\n",
    "2) timeseries: lateral_discharges can be a dataframe with the code of the lateral as column headers and timesteps as index\n",
    "3) constant: lateral_discharges can be a pandas Series with the code of the lateral as the index. This is the case in the example when RR=False."
   ]
  },
  {
   "cell_type": "code",
   "execution_count": null,
   "id": "ad2488b4",
   "metadata": {},
   "outputs": [],
   "source": [
    "if RR:\n",
    "    hydamo.external_forcings.convert.laterals(\n",
    "        hydamo.laterals,\n",
    "        overflows=hydamo.overflows,\n",
    "        greenhouse_laterals=hydamo.greenhouse_laterals,\n",
    "        lateral_discharges=None,\n",
    "        rr_boundaries=drrmodel.external_forcings.boundary_nodes\n",
    "    )\n",
    "else:\n",
    "    lateral_discharges = hydamo.laterals[\"afvoer\"]\n",
    "    lateral_discharges.index = hydamo.laterals.code\n",
    "    hydamo.external_forcings.convert.laterals(\n",
    "        hydamo.laterals, lateral_discharges=lateral_discharges, rr_boundaries=None\n",
    "    )\n"
   ]
  },
  {
   "cell_type": "markdown",
   "id": "d461d8c4",
   "metadata": {},
   "source": [
    "### Plot the RR model"
   ]
  },
  {
   "cell_type": "code",
   "execution_count": null,
   "id": "67504aa7",
   "metadata": {},
   "outputs": [],
   "source": [
    "def node_geometry(dict):\n",
    "    # Function to put the node geometries in geodataframes\n",
    "    from shapely.geometry import Point, LineString\n",
    "\n",
    "    geoms = []\n",
    "    links = []\n",
    "    for i in dict.items():\n",
    "        if \"ar\" in i[1]:\n",
    "            if np.sum([float(s) for s in i[1][\"ar\"].split(\" \")]) > 0:\n",
    "                geoms.append(Point((float(i[1][\"px\"]), float(i[1][\"py\"]))))\n",
    "                links.append(\n",
    "                    LineString(\n",
    "                        (\n",
    "                            Point(float(i[1][\"px\"]), float(i[1][\"py\"])),\n",
    "                            Point(\n",
    "                                float(drrmodel.external_forcings.boundary_nodes[i[1][\"boundary_node\"]][\"px\"]),\n",
    "                                float(drrmodel.external_forcings.boundary_nodes[i[1][\"boundary_node\"]][\"py\"]),\n",
    "                            ),\n",
    "                        )\n",
    "                    )\n",
    "                )\n",
    "        else:\n",
    "            geoms.append(Point((float(i[1][\"px\"]), float(i[1][\"py\"]))))\n",
    "    return ((gpd.GeoDataFrame(geoms, columns=[\"geometry\"])), gpd.GeoDataFrame(links, columns=[\"geometry\"]))"
   ]
  },
  {
   "cell_type": "code",
   "execution_count": null,
   "id": "029c5df4",
   "metadata": {},
   "outputs": [],
   "source": [
    "if RR:\n",
    "    import matplotlib.patches as mpatches\n",
    "\n",
    "    fig, ax = plt.subplots(figsize=(10, 10))\n",
    "\n",
    "    ax.xaxis.set_visible(False)\n",
    "    ax.yaxis.set_visible(False)\n",
    "    xmin,ymin,xmax,ymax=hydamo.clipgeo.bounds\n",
    "    ax.set_xlim(round(xmin), round(xmax))\n",
    "    ax.set_ylim(round(ymin), round(ymax))\n",
    "\n",
    "    hydamo.catchments.geometry.plot(ax=ax, label=\"Catchments\", edgecolor=\"black\", facecolor=\"pink\", alpha=0.5)\n",
    "    hydamo.branches.geometry.plot(ax=ax, label=\"Channel\")\n",
    "    node_geometry(drrmodel.unpaved.unp_nodes)[0].plot(\n",
    "        ax=ax, markersize=30, marker=\"s\", color=\"green\", label=\"Unpaved\"\n",
    "    )\n",
    "    node_geometry(drrmodel.unpaved.unp_nodes)[1].plot(ax=ax, color=\"black\", linewidth=0.5)\n",
    "    node_geometry(drrmodel.paved.pav_nodes)[0].plot(ax=ax, markersize=20, marker=\"s\", color=\"red\", label=\"Paved\")\n",
    "    node_geometry(drrmodel.paved.pav_nodes)[1].plot(ax=ax, color=\"black\", linewidth=0.5)\n",
    "    node_geometry(drrmodel.greenhouse.gh_nodes)[0].plot(ax=ax, markersize=15, color=\"yellow\", label=\"Greenhouse\")\n",
    "    node_geometry(drrmodel.greenhouse.gh_nodes)[1].plot(ax=ax, color=\"black\", linewidth=0.5)\n",
    "    node_geometry(drrmodel.openwater.ow_nodes)[0].plot(ax=ax, markersize=10, color=\"blue\", label=\"Openwater\")\n",
    "    node_geometry(drrmodel.openwater.ow_nodes)[1].plot(ax=ax, color=\"black\", linewidth=0.5, label=\"RR-link\")\n",
    "    node_geometry(drrmodel.external_forcings.boundary_nodes)[0].plot(\n",
    "        ax=ax, markersize=15, color=\"purple\", label=\"RR Boundary\"\n",
    "    )\n",
    "\n",
    "    # manually add handles for polygon plot\n",
    "    handles, labels = ax.get_legend_handles_labels()\n",
    "    poly = mpatches.Patch(facecolor=\"pink\", edgecolor=\"black\", alpha=0.5)    \n",
    "    ax.legend(handles=handles.append(poly), labels=labels.append(\"Catchments\"))\n",
    "    cx.add_basemap(ax, crs=28992, source=cx.providers.OpenStreetMap.Mapnik)\n",
    "    fig.tight_layout()"
   ]
  },
  {
   "cell_type": "markdown",
   "id": "0dd8abbb",
   "metadata": {},
   "source": [
    "## Writing the model"
   ]
  },
  {
   "cell_type": "markdown",
   "id": "ead04408",
   "metadata": {},
   "source": [
    "Now we call Hydrolib-core functionality to write the model. First, we initialize an object that converts all dataframes to Hydrolib-core objects. Then we add these models to the file structure of the FM model."
   ]
  },
  {
   "cell_type": "markdown",
   "id": "05789e0d",
   "metadata": {},
   "source": [
    "Call a function to convert the dataframes to Hydrolib-core classes:"
   ]
  },
  {
   "cell_type": "code",
   "execution_count": null,
   "id": "cdfc9bed",
   "metadata": {},
   "outputs": [],
   "source": [
    "models = Df2HydrolibModel(hydamo, assign_default_profiles=True)"
   ]
  },
  {
   "cell_type": "markdown",
   "id": "20f805f1",
   "metadata": {},
   "source": [
    "And add the classes to the file structure. Each class requires a different approach, and at the moment Hydrolib-core is still in development. The code below is subject to change in future releases."
   ]
  },
  {
   "cell_type": "code",
   "execution_count": null,
   "id": "b9657dc6",
   "metadata": {},
   "outputs": [],
   "source": [
    "fm.geometry.structurefile = [StructureModel(structure=models.structures)]\n",
    "fm.geometry.crosslocfile = CrossLocModel(crosssection=models.crosslocs)\n",
    "fm.geometry.crossdeffile = CrossDefModel(definition=models.crossdefs)\n",
    "fm.geometry.storagenodefile = StorageNodeModel(storagenode=models.storagenodes)\n",
    "\n",
    "fm.geometry.frictfile = []\n",
    "for i, fric_def in enumerate(models.friction_defs):\n",
    "    fric_model = FrictionModel(global_=fric_def)\n",
    "    fric_model.filepath = f\"roughness_{i}.ini\"\n",
    "    fm.geometry.frictfile.append(fric_model)\n",
    "\n",
    "if hasattr(hydamo.observationpoints, 'observation_points'):\n",
    "    fm.output.obsfile = [ObservationPointModel(observationpoint=models.obspoints)]\n",
    "\n",
    "extmodel = ExtModel()\n",
    "extmodel.boundary = models.boundaries_ext\n",
    "extmodel.lateral = models.laterals_ext\n",
    "fm.external_forcing.extforcefilenew = extmodel\n",
    "\n",
    "fm.geometry.inifieldfile = IniFieldModel(initial=models.inifields)\n",
    "\n",
    "for ifield, onedfield in enumerate(models.onedfieldmodels):\n",
    "    # eventually this is the way, but it has not been implemented yet in Hydrolib core\n",
    "    # fm.geometry.inifieldfile.initial[ifield].datafile = OneDFieldModel(global_=onedfield)\n",
    "\n",
    "    # this is a workaround to do the same\n",
    "    onedfield_filepath = output_path / \"fm\" / \"initialwaterdepth.ini\"\n",
    "    onedfieldmodel = OneDFieldModel(global_=onedfield)\n",
    "    onedfieldmodel.save(filepath=onedfield_filepath)\n",
    "    fm.geometry.inifieldfile.initial[ifield].datafile = DiskOnlyFileModel(\n",
    "        filepath=onedfield_filepath\n",
    "    )"
   ]
  },
  {
   "cell_type": "markdown",
   "id": "9c1838b7",
   "metadata": {},
   "source": [
    "Add some setttings to the MDU that are recommened by Deltares."
   ]
  },
  {
   "cell_type": "code",
   "execution_count": null,
   "id": "67646378",
   "metadata": {},
   "outputs": [],
   "source": [
    "fm.geometry.uniformwidth1d = 1.0            # default  breedte \n",
    "fm.geometry.bedlevtype = 1                  # 1: at cell center (tiles xz,yz,bl,bob=max(bl)), 2: at face (tiles xu,yu,blu,bob=blu), 3: at face (using mean node values), 4: at face \n",
    "fm.geometry.changestructuredimensions = 0   # Change the structure dimensions in case these are inconsistent with the channel dimensions.\n",
    "\n",
    "fm.sediment.sedimentmodelnr = 0\n",
    "\n",
    "fm.numerics.cflmax = 0.7                    # Maximum Courant nr.\n",
    "# the following two settings are not supportedy by hydrolib-core 0.4.1\n",
    "# fm.numerics.epsmaxlev = 0.0001            # stop criterion for non-linear solver\n",
    "# fm.numerics.epsmaxlevm = 0.0001           # stop criterion for Nested Newton loop\n",
    "fm.numerics.advectype = 33                  # Adv type, 0=no, 33=Perot q(uio-u) fast, 3=Perot q(uio-u).\n",
    "\n",
    "fm.volumetables.increment = 0.2             # parameter setting advised by Deltares for better performance\n",
    "fm.volumetables.usevolumetables = 1         # parameter setting advised by Deltares for better performance\n",
    "\n",
    "fm.restart.restartfile     = None           # Restart file, only from netCDF-file, hence: either *_rst.nc or *_map.nc.\n",
    "fm.restart.restartdatetime = None           # Restart time [YYYYMMDDHHMMSS], only relevant in case of restart from *_map.nc.\n",
    "fm.sediment.sedimentmodelnr = 4\n",
    "fm.output.mapformat=4                       # parameter setting advised by Deltares for better performance\n",
    "fm.output.ncformat = 4                      # parameter setting advised by Deltares for better performance\n",
    "fm.output.ncnoforcedflush = 1               # parameter setting advised by Deltares for better performance\n",
    "fm.output.ncnounlimited = 1                 # parameter setting advised by Deltares for better performance\n",
    "fm.output.wrimap_wet_waterdepth_threshold = 0.01                     # Waterdepth threshold above which a grid point counts as 'wet'\n",
    "fm.output.mapinterval = [1200.0, fm.time.tstart, fm.time.tstop]      # Map file output, given as 'interval' 'start period' 'end period' [s].\n",
    "fm.output.rstinterval  = [86400.0, fm.time.tstart, fm.time.tstop]    # Restart file output, given as 'interval' 'start period' 'end period' [s].\n",
    "fm.output.hisinterval = [300., fm.time.tstart, fm.time.tstop]        # History output, given as 'interval' 'start period' 'end period' [s].\n",
    "fm.output.wrimap_flow_analysis = 1                                   # write information for flow analysis"
   ]
  },
  {
   "cell_type": "markdown",
   "id": "10c13958",
   "metadata": {},
   "source": [
    "The default sediment model settings raise an error in DIMR. Delete them."
   ]
  },
  {
   "cell_type": "code",
   "execution_count": null,
   "id": "75757170",
   "metadata": {},
   "outputs": [],
   "source": [
    "if hasattr(fm, 'sediment'):\n",
    "    delattr(fm, 'sediment')"
   ]
  },
  {
   "cell_type": "markdown",
   "id": "dcfa6509",
   "metadata": {},
   "source": [
    "In D-Hydro the 1D timestep (dt user) should be at least equal to than the smallest timestep of RR and RTC, otherwise water balance problems may occur.\n",
    "The following code sets 'dtuser' equal to the smallest time step."
   ]
  },
  {
   "cell_type": "code",
   "execution_count": null,
   "id": "3af09781",
   "metadata": {},
   "outputs": [],
   "source": [
    "# check the timesteps:\n",
    "timesteps = []\n",
    "if RR:\n",
    "    timesteps.append(drrmodel.d3b_parameters['Timestepsize'])\n",
    "if RTC:\n",
    "    timesteps.append(drtcmodel.time_settings['step'])\n",
    "if len(timesteps)>0 and fm.time.dtuser > np.min(timesteps):\n",
    "    fm.time.dtuser = np.min(timesteps)"
   ]
  },
  {
   "cell_type": "markdown",
   "id": "9cb438c9",
   "metadata": {},
   "source": [
    "Now we write the file structure:"
   ]
  },
  {
   "cell_type": "code",
   "execution_count": null,
   "id": "06e963bf",
   "metadata": {},
   "outputs": [],
   "source": [
    "fm.filepath = Path(output_path) / \"fm\" / \"test.mdu\"\n",
    "dimr = DIMR()\n",
    "dimr.component.append(\n",
    "    FMComponent(name=\"DFM\", workingDir=Path(output_path) / \"fm\", model=fm, inputfile=fm.filepath)    \n",
    ")\n",
    "dimr.save(recurse=True)"
   ]
  },
  {
   "cell_type": "markdown",
   "id": "e7d3cac8",
   "metadata": {},
   "source": [
    "The writers for RR and RTC are not yet available in the HYDROLIB-core library. We use the original delft3dfmpy writer for RR and a custom writer for RTC:"
   ]
  },
  {
   "cell_type": "code",
   "execution_count": null,
   "id": "00835d2d",
   "metadata": {},
   "outputs": [],
   "source": [
    "if RTC:\n",
    "    drtcmodel.write_xml_v1()"
   ]
  },
  {
   "cell_type": "markdown",
   "id": "74b7e29b",
   "metadata": {},
   "source": [
    "Note that with the WWTP-argument, the coordinates for a (fictional) WWTP are provided. From each paved node, a sewage link is connected to this WWTP."
   ]
  },
  {
   "cell_type": "code",
   "execution_count": null,
   "id": "42c688be",
   "metadata": {},
   "outputs": [],
   "source": [
    "if RR:\n",
    "    rr_writer = DRRWriter(drrmodel, output_dir=output_path, name=\"test\", wwtp=(199000.0, 396000.0))\n",
    "    rr_writer.write_all()"
   ]
  },
  {
   "cell_type": "markdown",
   "id": "dd4d90fb",
   "metadata": {},
   "source": [
    "A run.bat that will run DIMR is written by the following command. Adjust this with your local D-Hydro Suite version."
   ]
  },
  {
   "cell_type": "code",
   "execution_count": null,
   "id": "c0989884",
   "metadata": {},
   "outputs": [],
   "source": [
    "dimr = DIMRWriter(output_path=output_path, dimr_path=str(r\"C:\\Program Files\\Deltares\\D-HYDRO Suite 2024.03 1D2D\\plugins\\DeltaShell.Dimr\\kernels\\x64\\bin\\run_dimr.bat\"))"
   ]
  },
  {
   "cell_type": "code",
   "execution_count": null,
   "id": "44cad98d",
   "metadata": {},
   "outputs": [],
   "source": [
    "if not RR:\n",
    "    drrmodel = None\n",
    "if not RTC:\n",
    "    drtcmodel = None"
   ]
  },
  {
   "cell_type": "code",
   "execution_count": null,
   "id": "e98dbf48",
   "metadata": {},
   "outputs": [],
   "source": [
    "dimr.write_dimrconfig(fm, rr_model=drrmodel, rtc_model=drtcmodel)"
   ]
  },
  {
   "cell_type": "code",
   "execution_count": null,
   "id": "82063f0d",
   "metadata": {},
   "outputs": [],
   "source": [
    "dimr.write_runbat()"
   ]
  },
  {
   "cell_type": "markdown",
   "id": "48f8920f",
   "metadata": {},
   "source": [
    "Add projection information (Rijksdriehoeksstelsel) to the net.nc-file."
   ]
  },
  {
   "cell_type": "code",
   "execution_count": null,
   "id": "e4d8588e",
   "metadata": {},
   "outputs": [],
   "source": [
    "\n",
    "dimr.add_crs()"
   ]
  },
  {
   "cell_type": "markdown",
   "id": "49c4e00d",
   "metadata": {},
   "source": [
    "Hydrolib-core schrijft een van de bestanden weg met een absoluut pad, waardoor het model niet meer werkt als het verplaatst wordt. Via onderstaande code repareren we dit en vervangen het pad door een relatief pad."
   ]
  },
  {
   "cell_type": "code",
   "execution_count": null,
   "id": "c4bd16e0",
   "metadata": {},
   "outputs": [],
   "source": [
    "with open(output_path / 'fm' / 'fieldFile.ini','r') as f:\n",
    "    lines = f.readlines()\n",
    "    lines2 = []\n",
    "    for line in lines:\n",
    "        if 'initialwaterdepth.ini' in line:            \n",
    "            if '\\\\' in line:\n",
    "                lines2.append('    datafile    = '+line.split('=')[1].rstrip(' #\\n').split('\\\\')[-1]+ '\\n')\n",
    "            elif '/' in line:\n",
    "                lines2.append('    datafile    = '+line.split('=')[1].rstrip(' #\\n').split('/')[-1]+ '\\n')\n",
    "        else:\n",
    "            lines2.append(line)\n",
    "with open(output_path / 'fm' / 'fieldFile2.ini','w') as f:\n",
    "    f.writelines(lines2)\n",
    "(output_path / 'fm' / 'fieldFile.ini').unlink()\n",
    "(output_path / 'fm' / 'fieldFile2.ini').rename(output_path / 'fm' / 'fieldFile.ini')"
   ]
  },
  {
   "cell_type": "markdown",
   "id": "f98e05dc",
   "metadata": {},
   "source": [
    "Zip the model into a downloadable file."
   ]
  },
  {
   "cell_type": "code",
   "execution_count": null,
   "id": "0be9ce9a",
   "metadata": {},
   "outputs": [],
   "source": [
    "import shutil\n",
    "shutil.make_archive(str(output_path),'zip',output_path)"
   ]
  },
  {
   "cell_type": "code",
   "execution_count": null,
   "id": "d15de41b",
   "metadata": {},
   "outputs": [],
   "source": [
    "print(\"Done!\")"
   ]
  },
  {
   "cell_type": "code",
   "execution_count": null,
   "id": "5a270d1d",
   "metadata": {},
   "outputs": [],
   "source": []
  }
 ],
 "metadata": {
  "kernelspec": {
   "display_name": "Python 3 (ipykernel)",
   "language": "python",
   "name": "python3"
  },
  "language_info": {
   "codemirror_mode": {
    "name": "ipython",
    "version": 3
   },
   "file_extension": ".py",
   "mimetype": "text/x-python",
   "name": "python",
   "nbconvert_exporter": "python",
   "pygments_lexer": "ipython3",
   "version": "3.12.10"
  },
  "toc": {
   "base_numbering": 1,
   "nav_menu": {},
   "number_sections": true,
   "sideBar": true,
   "skip_h1_title": true,
   "title_cell": "Table of Contents",
   "title_sidebar": "Contents",
   "toc_cell": false,
   "toc_position": {
    "height": "calc(100% - 180px)",
    "left": "10px",
    "top": "150px",
    "width": "435.2px"
   },
   "toc_section_display": true,
   "toc_window_display": true
  },
  "vscode": {
   "interpreter": {
    "hash": "c8f3abdefbf881e2b3539f5584c87a896a4670262e33cdd4a4c9f3bebf419aeb"
   }
  }
 },
 "nbformat": 4,
 "nbformat_minor": 5
}
