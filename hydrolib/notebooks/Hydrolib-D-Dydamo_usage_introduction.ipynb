{
 "cells": [
  {
   "cell_type": "markdown",
   "id": "76640c54",
   "metadata": {},
   "source": [
    "# Example of generating a 1D2DRR D-HYDRO model - an overview of functionalities\n",
    "\n",
    "This notebook gives an overview of the functionalities of the D-HyDAMO module, part of the Hydrolib environment.\n",
    "\n",
    "This notebook is based on previous examples of the python package delft3dfmpy, but now connnected to the Hydrolib-core package, which is used for writing a D-HYDRO model. It contains similar functionalities as delft3dfmpy v2.0.2; input data is expected to be according to HyDAMO DAMO2.2 gpkg-format. The example model used here is based on a part of the Oostrumsche beek in Limburg, added with some fictional dummy data to better illustrate functionalities."
   ]
  },
  {
   "cell_type": "markdown",
   "id": "4c707fed",
   "metadata": {},
   "source": [
    "## Load Python libraries and Hydrolib-core functionality"
   ]
  },
  {
   "cell_type": "code",
   "execution_count": 3,
   "id": "c88fa6ef",
   "metadata": {},
   "outputs": [],
   "source": [
    "# Basis\n",
    "from pathlib import Path\n",
    "import sys\n",
    "import numpy as np\n",
    "import geopandas as gpd\n",
    "import pandas as pd\n",
    "from pathlib import Path\n",
    "import matplotlib.pyplot as plt\n",
    "from shapely.geometry import Point, Polygon\n",
    "import matplotlib.pyplot as plt\n",
    "import contextily as cx\n",
    "import os\n",
    "import sys"
   ]
  },
  {
   "cell_type": "code",
   "execution_count": 6,
   "id": "74120eda",
   "metadata": {},
   "outputs": [
    {
     "ename": "ModuleNotFoundError",
     "evalue": "No module named 'rasterstats'",
     "output_type": "error",
     "traceback": [
      "\u001b[1;31m---------------------------------------------------------------------------\u001b[0m",
      "\u001b[1;31mModuleNotFoundError\u001b[0m                       Traceback (most recent call last)",
      "Cell \u001b[1;32mIn[6], line 22\u001b[0m\n\u001b[0;32m     20\u001b[0m \u001b[38;5;28;01mfrom\u001b[39;00m \u001b[38;5;21;01mhydrolib\u001b[39;00m\u001b[38;5;21;01m.\u001b[39;00m\u001b[38;5;21;01mdhydamo\u001b[39;00m\u001b[38;5;21;01m.\u001b[39;00m\u001b[38;5;21;01mconverters\u001b[39;00m\u001b[38;5;21;01m.\u001b[39;00m\u001b[38;5;21;01mdf2hydrolibmodel\u001b[39;00m \u001b[38;5;28;01mimport\u001b[39;00m Df2HydrolibModel\n\u001b[0;32m     21\u001b[0m \u001b[38;5;28;01mfrom\u001b[39;00m \u001b[38;5;21;01mhydrolib\u001b[39;00m\u001b[38;5;21;01m.\u001b[39;00m\u001b[38;5;21;01mdhydamo\u001b[39;00m\u001b[38;5;21;01m.\u001b[39;00m\u001b[38;5;21;01mgeometry\u001b[39;00m \u001b[38;5;28;01mimport\u001b[39;00m mesh\n\u001b[1;32m---> 22\u001b[0m \u001b[38;5;28;01mfrom\u001b[39;00m \u001b[38;5;21;01mhydrolib\u001b[39;00m\u001b[38;5;21;01m.\u001b[39;00m\u001b[38;5;21;01mdhydamo\u001b[39;00m\u001b[38;5;21;01m.\u001b[39;00m\u001b[38;5;21;01mcore\u001b[39;00m\u001b[38;5;21;01m.\u001b[39;00m\u001b[38;5;21;01mdrr\u001b[39;00m \u001b[38;5;28;01mimport\u001b[39;00m DRRModel\n\u001b[0;32m     23\u001b[0m \u001b[38;5;28;01mfrom\u001b[39;00m \u001b[38;5;21;01mhydrolib\u001b[39;00m\u001b[38;5;21;01m.\u001b[39;00m\u001b[38;5;21;01mdhydamo\u001b[39;00m\u001b[38;5;21;01m.\u001b[39;00m\u001b[38;5;21;01mcore\u001b[39;00m\u001b[38;5;21;01m.\u001b[39;00m\u001b[38;5;21;01mdrtc\u001b[39;00m \u001b[38;5;28;01mimport\u001b[39;00m DRTCModel\n\u001b[0;32m     24\u001b[0m \u001b[38;5;28;01mfrom\u001b[39;00m \u001b[38;5;21;01mhydrolib\u001b[39;00m\u001b[38;5;21;01m.\u001b[39;00m\u001b[38;5;21;01mdhydamo\u001b[39;00m\u001b[38;5;21;01m.\u001b[39;00m\u001b[38;5;21;01mio\u001b[39;00m\u001b[38;5;21;01m.\u001b[39;00m\u001b[38;5;21;01mdimrwriter\u001b[39;00m \u001b[38;5;28;01mimport\u001b[39;00m DIMRWriter\n",
      "File \u001b[1;32mD:\\3640.20\\HYDROLIB-dhydamo\\hydrolib\\dhydamo\\core\\drr.py:12\u001b[0m\n\u001b[0;32m      9\u001b[0m \u001b[38;5;28;01mfrom\u001b[39;00m \u001b[38;5;21;01mpydantic\u001b[39;00m \u001b[38;5;28;01mimport\u001b[39;00m validate_arguments\n\u001b[0;32m     10\u001b[0m \u001b[38;5;28;01mfrom\u001b[39;00m \u001b[38;5;21;01mrasterio\u001b[39;00m\u001b[38;5;21;01m.\u001b[39;00m\u001b[38;5;21;01mtransform\u001b[39;00m \u001b[38;5;28;01mimport\u001b[39;00m from_origin\n\u001b[1;32m---> 12\u001b[0m \u001b[38;5;28;01mfrom\u001b[39;00m \u001b[38;5;21;01mhydrolib\u001b[39;00m\u001b[38;5;21;01m.\u001b[39;00m\u001b[38;5;21;01mdhydamo\u001b[39;00m\u001b[38;5;21;01m.\u001b[39;00m\u001b[38;5;21;01mio\u001b[39;00m \u001b[38;5;28;01mimport\u001b[39;00m drrreader\n\u001b[0;32m     14\u001b[0m logger \u001b[38;5;241m=\u001b[39m logging\u001b[38;5;241m.\u001b[39mgetLogger(\u001b[38;5;18m__name__\u001b[39m)\n\u001b[0;32m     17\u001b[0m \u001b[38;5;28;01mclass\u001b[39;00m \u001b[38;5;21;01mDRRModel\u001b[39;00m:\n",
      "File \u001b[1;32mD:\\3640.20\\HYDROLIB-dhydamo\\hydrolib\\dhydamo\\io\\drrreader.py:10\u001b[0m\n\u001b[0;32m      8\u001b[0m \u001b[38;5;28;01mimport\u001b[39;00m \u001b[38;5;21;01mpandas\u001b[39;00m \u001b[38;5;28;01mas\u001b[39;00m \u001b[38;5;21;01mpd\u001b[39;00m\n\u001b[0;32m      9\u001b[0m \u001b[38;5;28;01mfrom\u001b[39;00m \u001b[38;5;21;01mpydantic\u001b[39;00m \u001b[38;5;28;01mimport\u001b[39;00m validate_arguments\n\u001b[1;32m---> 10\u001b[0m \u001b[38;5;28;01mfrom\u001b[39;00m \u001b[38;5;21;01mrasterstats\u001b[39;00m \u001b[38;5;28;01mimport\u001b[39;00m zonal_stats\n\u001b[0;32m     11\u001b[0m \u001b[38;5;28;01mfrom\u001b[39;00m \u001b[38;5;21;01mtqdm\u001b[39;00m\u001b[38;5;21;01m.\u001b[39;00m\u001b[38;5;21;01mauto\u001b[39;00m \u001b[38;5;28;01mimport\u001b[39;00m tqdm\n\u001b[0;32m     13\u001b[0m \u001b[38;5;28;01mfrom\u001b[39;00m \u001b[38;5;21;01mhydrolib\u001b[39;00m\u001b[38;5;21;01m.\u001b[39;00m\u001b[38;5;21;01mdhydamo\u001b[39;00m\u001b[38;5;21;01m.\u001b[39;00m\u001b[38;5;21;01mio\u001b[39;00m\u001b[38;5;21;01m.\u001b[39;00m\u001b[38;5;21;01mcommon\u001b[39;00m \u001b[38;5;28;01mimport\u001b[39;00m ExtendedDataFrame, ExtendedGeoDataFrame\n",
      "\u001b[1;31mModuleNotFoundError\u001b[0m: No module named 'rasterstats'"
     ]
    }
   ],
   "source": [
    "## In not installed, add a path from where hydrolib it can be imported\n",
    "#sys.path.insert(0, \"d:/Documents/GitHub/HYDROLIB\")\n",
    "sys.path.insert(0, r\"D:\\3640.20\\HYDROLIB-dhydamo\")\n",
    "\n",
    "# NOTE: core and dhydamo need to be in the same folder to be imported correctly\n",
    "# and from hydrolib-core\n",
    "# from hydrolib.core.io.dimr.models import DIMR, FMComponent\n",
    "# from hydrolib.core.io.inifield.models import IniFieldModel\n",
    "# from hydrolib.core.io.onedfield.models import OneDFieldModel\n",
    "# from hydrolib.core.io.structure.models import *\n",
    "# from hydrolib.core.io.crosssection.models import *\n",
    "# from hydrolib.core.io.ext.models import ExtModel\n",
    "# from hydrolib.core.io.mdu.models import FMModel\n",
    "# from hydrolib.core.io.bc.models import ForcingModel\n",
    "# from hydrolib.core.io.friction.models import FrictionModel\n",
    "# from hydrolib.core.io.obs.models import ObservationPointModel\n",
    "\n",
    "# Importing relevant classes from Hydrolib-dhydamo\n",
    "from hydrolib.dhydamo.core.hydamo import HyDAMO\n",
    "from hydrolib.dhydamo.converters.df2hydrolibmodel import Df2HydrolibModel\n",
    "from hydrolib.dhydamo.geometry import mesh\n",
    "from hydrolib.dhydamo.core.drr import DRRModel\n",
    "from hydrolib.dhydamo.core.drtc import DRTCModel\n",
    "from hydrolib.dhydamo.io.dimrwriter import DIMRWriter\n",
    "from hydrolib.dhydamo.io.drrwriter import DRRWriter\n",
    "from hydrolib.dhydamo.geometry.viz import plot_network"
   ]
  },
  {
   "cell_type": "markdown",
   "id": "b21a51a0",
   "metadata": {},
   "source": [
    "Define in- and output paths"
   ]
  },
  {
   "cell_type": "code",
   "execution_count": null,
   "id": "a2bb9dbc",
   "metadata": {},
   "outputs": [],
   "source": [
    "# path to the package containing the dummy-data\n",
    "data_path = Path(\"../tests/data\").resolve()\n",
    "assert data_path.exists()\n",
    "\n",
    "# path to write the models\n",
    "output_path = Path(\"../tests/model\").resolve()\n",
    "# assert output_path.exists()"
   ]
  },
  {
   "cell_type": "markdown",
   "id": "be1ea9e7",
   "metadata": {},
   "source": [
    "Define components that should be used in the model. 1D is used in all cases."
   ]
  },
  {
   "cell_type": "code",
   "execution_count": null,
   "id": "15ca6e1a",
   "metadata": {},
   "outputs": [],
   "source": [
    "TwoD = True\n",
    "RR = True\n",
    "RTC = True"
   ]
  },
  {
   "cell_type": "markdown",
   "id": "c4d3d5b0",
   "metadata": {},
   "source": [
    "## Read HyDAMO DAMO2.2 data"
   ]
  },
  {
   "cell_type": "code",
   "execution_count": null,
   "id": "cc2f767c",
   "metadata": {},
   "outputs": [],
   "source": [
    "# all data is contained in one geopackage called 'Example model'\n",
    "gpkg_file = str(data_path / \"Example_model.gpkg\")\n",
    "\n",
    "# initialize a hydamo object\n",
    "hydamo = HyDAMO(extent_file=data_path / \"OLO_stroomgebied_incl.maas.shp\")\n",
    "\n",
    "# show content\n",
    "hydamo.branches.show_gpkg(gpkg_file)"
   ]
  },
  {
   "cell_type": "code",
   "execution_count": null,
   "id": "0a28c527",
   "metadata": {},
   "outputs": [],
   "source": [
    "# read branchs\n",
    "hydamo.branches.read_gpkg_layer(gpkg_file, layer_name=\"HydroObject\", index_col=\"code\")\n",
    "# read profiles\n",
    "hydamo.profile.read_gpkg_layer(\n",
    "    gpkg_file,\n",
    "    layer_name=\"ProfielPunt\",\n",
    "    groupby_column=\"profiellijnid\",\n",
    "    order_column=\"codevolgnummer\",\n",
    "    id_col=\"code\",\n",
    "    index_col=\"code\"\n",
    ")\n",
    "hydamo.profile_roughness.read_gpkg_layer(gpkg_file, layer_name=\"RuwheidProfiel\")\n",
    "hydamo.profile.snap_to_branch(hydamo.branches, snap_method=\"intersecting\")\n",
    "hydamo.profile.dropna(axis=0, inplace=True, subset=[\"branch_offset\"])\n",
    "hydamo.profile_line.read_gpkg_layer(gpkg_file, layer_name=\"profiellijn\")\n",
    "hydamo.profile_group.read_gpkg_layer(gpkg_file, layer_name=\"profielgroep\")\n",
    "hydamo.profile.drop(\"code\", axis=1, inplace=True)\n",
    "hydamo.profile[\"code\"] = hydamo.profile[\"profiellijnid\"]\n",
    "# read structures\n",
    "hydamo.culverts.read_gpkg_layer(gpkg_file, layer_name=\"DuikerSifonHevel\", index_col=\"code\")\n",
    "hydamo.culverts.snap_to_branch(hydamo.branches, snap_method=\"ends\", maxdist=5)\n",
    "hydamo.culverts.dropna(axis=0, inplace=True, subset=[\"branch_offset\"])\n",
    "\n",
    "hydamo.weirs.read_gpkg_layer(gpkg_file, layer_name=\"Stuw\", index_col=\"code\")\n",
    "hydamo.weirs.snap_to_branch(hydamo.branches, snap_method=\"overal\", maxdist=10)\n",
    "hydamo.weirs.dropna(axis=0, inplace=True, subset=[\"branch_offset\"])\n",
    "hydamo.weirs.geometry= hydamo.weirs.geometry\n",
    "hydamo.opening.read_gpkg_layer(gpkg_file, layer_name=\"Kunstwerkopening\")\n",
    "hydamo.management_device.read_gpkg_layer(gpkg_file, layer_name=\"Regelmiddel\")\n",
    "\n",
    "idx = hydamo.management_device[hydamo.management_device[\"duikersifonhevelid\"].notnull()].index\n",
    "for i in idx:\n",
    "    globid = hydamo.culverts[\n",
    "        hydamo.culverts.code == hydamo.management_device.duikersifonhevelid.loc[i]\n",
    "    ].globalid.values[0]\n",
    "    hydamo.management_device.at[i, \"duikersifonhevelid\"] = globid\n",
    "\n",
    "hydamo.pumpstations.read_gpkg_layer(gpkg_file, layer_name=\"Gemaal\", index_col=\"code\")\n",
    "hydamo.pumpstations.snap_to_branch(hydamo.branches, snap_method=\"overal\", maxdist=10)\n",
    "hydamo.pumpstations.dropna(axis=0, inplace=True, subset=[\"branch_offset\"])\n",
    "hydamo.pumpstations.geometry = hydamo.pumpstations.geometry\n",
    "hydamo.pumps.read_gpkg_layer(gpkg_file, layer_name=\"Pomp\", index_col=\"code\")\n",
    "hydamo.management.read_gpkg_layer(gpkg_file, layer_name=\"Sturing\", index_col=\"code\")\n",
    "\n",
    "hydamo.bridges.read_gpkg_layer(gpkg_file, layer_name=\"Brug\", index_col=\"code\")\n",
    "hydamo.bridges.snap_to_branch(hydamo.branches, snap_method=\"overal\", maxdist=1100)\n",
    "hydamo.bridges.dropna(axis=0, inplace=True, subset=[\"branch_offset\"])\n",
    "hydamo.bridges.geometry= hydamo.bridges.geometry\n",
    "# read boundaries\n",
    "hydamo.boundary_conditions.read_gpkg_layer(\n",
    "    gpkg_file, layer_name=\"hydrologischerandvoorwaarde\", index_col=\"code\"\n",
    ")\n",
    "hydamo.boundary_conditions.snap_to_branch(hydamo.branches, snap_method=\"overal\", maxdist=10)\n",
    "\n",
    "# read catchments\n",
    "hydamo.catchments.read_gpkg_layer(gpkg_file, layer_name=\"afvoergebiedaanvoergebied\", index_col=\"code\")\n",
    "# read laterals\n",
    "hydamo.laterals.read_gpkg_layer(gpkg_file, layer_name=\"lateraleknoop\")\n",
    "for ind, cat in hydamo.catchments.iterrows():\n",
    "    hydamo.catchments.loc[ind, \"lateraleknoopcode\"] = hydamo.laterals[\n",
    "        hydamo.laterals.globalid == cat.lateraleknoopid\n",
    "    ].code.values[0]\n",
    "hydamo.laterals.snap_to_branch(hydamo.branches, snap_method=\"overal\", maxdist=5000)"
   ]
  },
  {
   "cell_type": "code",
   "execution_count": null,
   "id": "92fc332a",
   "metadata": {},
   "outputs": [],
   "source": [
    "# plot the model objects\n",
    "plt.rcParams[\"axes.edgecolor\"] = \"w\"\n",
    "\n",
    "fig, ax = plt.subplots(figsize=(20,20 ))\n",
    "\n",
    "ax.set_xlim(196000, 205000)\n",
    "ax.set_ylim(391000, 397000)\n",
    "\n",
    "hydamo.branches.geometry.plot(ax=ax, label=\"Channel\", linewidth=2, color=\"blue\")\n",
    "hydamo.profile.geometry.plot(ax=ax, color=\"red\", label=\"Cross section\", linewidth=4)\n",
    "hydamo.culverts.geometry.centroid.plot(\n",
    "    ax=ax, color=\"brown\", label=\"Culvert\", markersize=40, zorder=10, marker=\"^\"\n",
    ")\n",
    "hydamo.weirs.geometry.plot(ax=ax, color=\"green\", label=\"Weir\", markersize=25, zorder=10, marker=\"^\")\n",
    "\n",
    "hydamo.bridges.geometry.plot(ax=ax, color=\"red\", label=\"Bridge\", markersize=20, zorder=10, marker=\"^\")\n",
    "hydamo.pumpstations.geometry.plot(\n",
    "    ax=ax,\n",
    "    color=\"orange\",\n",
    "    label=\"Pump\",\n",
    "    marker=\"s\",\n",
    "    markersize=125,\n",
    "    zorder=10,\n",
    "    facecolor=\"none\",\n",
    "    linewidth=2.5,\n",
    ")\n",
    "hydamo.boundary_conditions.geometry.plot(\n",
    "    ax=ax, color=\"red\", label=\"Boundary\", marker=\"s\", markersize=125, zorder=10, facecolor=\"red\", linewidth=0\n",
    ")\n",
    "ax.legend()\n",
    "\n",
    "cx.add_basemap(ax, crs=28992, source=cx.providers.OpenStreetMap.Mapnik)\n",
    "fig.tight_layout()"
   ]
  },
  {
   "cell_type": "markdown",
   "id": "a858b13c",
   "metadata": {},
   "source": [
    "## Data conversion\n"
   ]
  },
  {
   "cell_type": "markdown",
   "id": "6c7a4ff4",
   "metadata": {},
   "source": [
    "### Structures"
   ]
  },
  {
   "cell_type": "markdown",
   "id": "92428470",
   "metadata": {},
   "source": [
    "HyDAMO contains methods to convert HyDAMO DAMO2.2 data to internal dataframes, which correspond to the D-HYDRO format.\n",
    "\n",
    "We first import the structures from the HyDAMO-object, since the structures' positions are necessary for defining the position of the 1D-mesh. Structures can also be added without the HyDAMO imports.\n",
    "\n",
    "Note that for importing most structures multiple objects are needed from the GPKG. For more info on how to add structures (directly or from HyDAMO), see: https://hkvconfluence.atlassian.net/wiki/spaces/DHYD/overview.\n",
    "\n",
    " - for weirs, a corresponding profile is looked up in the crossections. If one is found, the weir is implemented as a universal weir. If it is not found, a regular (rectangular) weir will be used. The cross-section ('hydamo.profile') should be related through 'hydamo.profile_line' to a 'hydamo.profile_group', which contains a 'stuwid' column which is equal to the GlobalID of the corresponding weir. The weir object can also include orifices, in that case the field 'overlaatonderlaat' in the 'management_device-object ('regelmiddel') is 'onderlaat'. For weirs it should be 'overlaat'.\n",
    " \n",
    " - for culverts, a regelmiddel can be used to model a 'schuif' and/or a 'terugslagklep'. This is specified by the field 'soortregelmiddel'. In case of a 'terugslagklep', the flow direction is set to 'positive' instead of 'both'. In case of a 'schuif', a valve is implemented. Note that in DAMO2.2, an 'afsluitmiddel' can contain the same information. For now, only a regelmiddel (management_device) is implemented.\n",
    " \n",
    " - bridges need an associated crosssection. This is idential to universal weirs, but here the 'hydamo.profile_group'-object should contain a field 'brugid'. \n",
    " \n",
    " - pumps are composed from 'hydamo.pumpstations', 'hydamo.pumps' and 'hydamo.managmement'. Only suction-side direction is implemented. Maximal capacity should be in m3/min.\n",
    "\n",
    "In most cases, these 'extra' arguments are optional, i.e. they are not required and can be left out. Some are required:\n",
    "- pumps really need all 3 objects ('hydamo.pumpstations', 'hydamo.pumps' and 'hydamo.managmement');\n",
    "- bridges really need an associated crosssection (see above);\n",
    "\n",
    "For more info on the structure definitions one is referred to the D-Flow FM user manual: https://content.oss.deltares.nl/delft3d/manuals/D-Flow_FM_User_Manual.pdf."
   ]
  },
  {
   "cell_type": "code",
   "execution_count": null,
   "id": "5e4140a5",
   "metadata": {},
   "outputs": [],
   "source": [
    "hydamo.structures.convert.weirs(\n",
    "    hydamo.weirs,\n",
    "    hydamo.profile_group,\n",
    "    hydamo.profile_line,\n",
    "    hydamo.profile,\n",
    "    hydamo.opening,\n",
    "    hydamo.management_device,\n",
    ")\n",
    "\n",
    "hydamo.structures.convert.culverts(hydamo.culverts, management_device=hydamo.management_device)\n",
    "\n",
    "hydamo.structures.convert.bridges(\n",
    "    hydamo.bridges,\n",
    "    profile_groups=hydamo.profile_group,\n",
    "    profile_lines=hydamo.profile_line,\n",
    "    profiles=hydamo.profile,\n",
    ")\n",
    "\n",
    "hydamo.structures.convert.pumps(hydamo.pumpstations, pumps=hydamo.pumps, management=hydamo.management)"
   ]
  },
  {
   "cell_type": "markdown",
   "id": "c381274f",
   "metadata": {},
   "source": [
    "Additional methods are available to add structures:"
   ]
  },
  {
   "cell_type": "code",
   "execution_count": null,
   "id": "faa5501c",
   "metadata": {},
   "outputs": [],
   "source": [
    "hydamo.structures.add_rweir(\n",
    "    id=\"rwtest\",\n",
    "    name=\"rwtest\",\n",
    "    branchid=\"W_1386_0\",\n",
    "    chainage=2.0,\n",
    "    crestlevel=18.0,\n",
    "    crestwidth=3.0,\n",
    "    corrcoeff=1.0,\n",
    ")\n",
    "\n",
    "hydamo.structures.add_orifice(\n",
    "    id=\"orifice_test\",\n",
    "    branchid=\"W_242213_0\",\n",
    "    chainage=43.0,\n",
    "    crestlevel=18.00,\n",
    "    gateloweredgelevel=18.5,\n",
    "    crestwidth=7.5,\n",
    "    corrcoeff=1.0,\n",
    ")\n"
   ]
  },
  {
   "cell_type": "markdown",
   "id": "8f49b485",
   "metadata": {},
   "source": [
    "The resulting dataframes look like this:"
   ]
  },
  {
   "cell_type": "code",
   "execution_count": null,
   "id": "4e424d74",
   "metadata": {},
   "outputs": [],
   "source": [
    "hydamo.structures.culverts_df.head()"
   ]
  },
  {
   "cell_type": "markdown",
   "id": "a306425d",
   "metadata": {},
   "source": [
    "# Initialize the FM-model"
   ]
  },
  {
   "cell_type": "markdown",
   "id": "94e75b6c",
   "metadata": {},
   "source": [
    "At this stage also the start and stoptime are defined, they will be used in the other modules if needed"
   ]
  },
  {
   "cell_type": "code",
   "execution_count": null,
   "id": "6095ca92",
   "metadata": {},
   "outputs": [],
   "source": [
    "fm = FMModel()\n",
    "# Set start and stop time\n",
    "fm.time.refdate = 20160601\n",
    "fm.time.tstop = 2 * 3600 * 24"
   ]
  },
  {
   "cell_type": "markdown",
   "id": "b2946f07",
   "metadata": {},
   "source": [
    "## Add the 1D mesh"
   ]
  },
  {
   "cell_type": "markdown",
   "id": "f8d93960",
   "metadata": {},
   "source": [
    "The above structures are collected in one dataframe and in the generation of calculation poins, as structures should be separated by calculation points."
   ]
  },
  {
   "cell_type": "code",
   "execution_count": null,
   "id": "7a18c79a",
   "metadata": {},
   "outputs": [],
   "source": [
    "structures = hydamo.structures.as_dataframe(\n",
    "    rweirs=True,\n",
    "    bridges=True,\n",
    "    uweirs=True,\n",
    "    culverts=True,\n",
    "    orifices=True,\n",
    "    pumps=True,\n",
    ")"
   ]
  },
  {
   "cell_type": "code",
   "execution_count": null,
   "id": "b4cfc010",
   "metadata": {},
   "outputs": [],
   "source": [
    "mesh.mesh1d_add_branches_from_gdf(\n",
    "    fm.geometry.netfile.network,\n",
    "    branches=hydamo.branches,\n",
    "    branch_name_col=\"code\",\n",
    "    node_distance=20,\n",
    "    max_dist_to_struc=None,\n",
    "    structures=structures,\n",
    ")"
   ]
  },
  {
   "cell_type": "markdown",
   "id": "df982e0c",
   "metadata": {},
   "source": [
    "Add cross-sections to the branches. TO do this, many HyDAMO objects might be needed: if parameterised profiles occur, they are taken from hydamo.param_profile and, param_profile_values; if crosssections are associated with structures, those are specified in profile_group and profile lines. \n",
    "\n",
    "HyDAMO DAMO2.2 data contains two roughness values (high and low); here it can be specified which one to use.\n",
    "For branches without a crosssection, a default profile can be defined."
   ]
  },
  {
   "cell_type": "markdown",
   "id": "379c9a28",
   "metadata": {},
   "source": [
    "Partly, missing crosssections can be resolved by interpolating over the main branch. We set all branches with identical names to the same order numbers and assign those to the branches. D-Hydro will then interpolate the cross-sections over the branches.\n"
   ]
  },
  {
   "cell_type": "code",
   "execution_count": null,
   "id": "403c0876",
   "metadata": {},
   "outputs": [],
   "source": [
    "hydamo.crosssections.convert.profiles(\n",
    "    crosssections=hydamo.profile,\n",
    "    crosssection_roughness=hydamo.profile_roughness,\n",
    "    profile_groups=hydamo.profile_group,\n",
    "    profile_lines=hydamo.profile_line,\n",
    "    param_profile=hydamo.param_profile,\n",
    "    param_profile_values=hydamo.param_profile_values,\n",
    "    branches=hydamo.branches,\n",
    "    roughness_variant=\"High\",\n",
    ")"
   ]
  },
  {
   "cell_type": "markdown",
   "id": "d5d870b9",
   "metadata": {},
   "source": [
    "Check how many branches do not have a profile."
   ]
  },
  {
   "cell_type": "code",
   "execution_count": null,
   "id": "b2c31064",
   "metadata": {},
   "outputs": [],
   "source": [
    "missing = hydamo.crosssections.get_branches_without_crosssection()\n",
    "print(f\"{len(missing)} branches are still missing a cross section.\")\n",
    "\n",
    "print(\n",
    "    f\"{len(hydamo.crosssections.get_structures_without_crosssection())} structures are still missing a cross section.\"\n",
    ")"
   ]
  },
  {
   "cell_type": "markdown",
   "id": "e0c00592",
   "metadata": {},
   "source": [
    "We plot the missing ones."
   ]
  },
  {
   "cell_type": "code",
   "execution_count": null,
   "id": "f5ed40de",
   "metadata": {},
   "outputs": [],
   "source": [
    "plt.rcParams['axes.edgecolor'] = 'w'\n",
    "fig, ax = plt.subplots(figsize=(16, 16))\n",
    "hydamo.profile.geometry.plot(ax=ax, color='C3', label='dwarsprofielen', linewidth=5)\n",
    "hydamo.branches.loc[missing,:].geometry.plot(ax=ax, color='C4', label='geen dwarsprofiel',linewidth=30)\n",
    "hydamo.branches.geometry.plot(ax=ax, label='Watergangen')\n",
    "ax.get_xaxis().set_visible(False)\n",
    "ax.get_yaxis().set_visible(False)\n",
    "ax.legend()"
   ]
  },
  {
   "cell_type": "markdown",
   "id": "a298580f",
   "metadata": {},
   "source": [
    "One way to fix this is by assigning order numbers to branches, so the crosssections are interpolated over branches with the same order. First, we assign branches iwth the same 'naam' the same branch order."
   ]
  },
  {
   "cell_type": "code",
   "execution_count": null,
   "id": "152d42e3",
   "metadata": {},
   "outputs": [],
   "source": [
    "j = 0\n",
    "hydamo.branches[\"order\"] = np.nan\n",
    "for i in hydamo.branches.naam.unique():\n",
    "    if i != None:\n",
    "        if (\n",
    "            all(\n",
    "                x in missing\n",
    "                for x in hydamo.branches.loc[\n",
    "                    hydamo.branches.loc[:, \"naam\"] == i, \"code\"\n",
    "                ]\n",
    "            )\n",
    "            == False\n",
    "        ):\n",
    "            hydamo.branches.loc[hydamo.branches.loc[:, \"naam\"] == i, \"order\"] = int(j)\n",
    "            j = j + 1\n",
    "# branch W_1386_0 has a name, but is  single side branch, it's order is no use. Reset it.\n",
    "hydamo.branches.loc[hydamo.branches.code == 'W_1386_0', 'order']  = -1"
   ]
  },
  {
   "cell_type": "markdown",
   "id": "55f16208",
   "metadata": {},
   "source": [
    "We assign these orders, now as column in the hydamo.branches dataframe, to the network."
   ]
  },
  {
   "cell_type": "code",
   "execution_count": null,
   "id": "d5b60c64",
   "metadata": {},
   "outputs": [],
   "source": [
    "interpolation = []\n",
    "for i in hydamo.branches.order.unique():\n",
    "    if i > 0:\n",
    "        mesh.mesh1d_set_branch_order(\n",
    "            fm.geometry.netfile.network,\n",
    "            hydamo.branches.code[hydamo.branches.order == i].to_list(),\n",
    "            idx=int(i),\n",
    "        )\n",
    "        interpolation = (\n",
    "            interpolation + hydamo.branches.code[hydamo.branches.order == i].to_list()\n",
    "        )"
   ]
  },
  {
   "cell_type": "markdown",
   "id": "ec8ccbb5",
   "metadata": {},
   "source": [
    "Check for how many branches no interpolation can be applied."
   ]
  },
  {
   "cell_type": "code",
   "execution_count": null,
   "id": "9186d325",
   "metadata": {},
   "outputs": [],
   "source": [
    "missing_after_interpolation = np.setdiff1d(missing, interpolation)\n",
    "print(\n",
    "    \"After interpolation\",\n",
    "    len(missing_after_interpolation),\n",
    "    \"crosssections are missing.\",\n",
    ")\n"
   ]
  },
  {
   "cell_type": "code",
   "execution_count": null,
   "id": "2becef5b",
   "metadata": {},
   "outputs": [],
   "source": [
    "plt.rcParams['axes.edgecolor'] = 'w'\n",
    "fig, ax = plt.subplots(figsize=(16, 16))\n",
    "\n",
    "hydamo.profile.geometry.plot(ax=ax, color='C3', label='dwarsprofielen', linewidth=5)\n",
    "hydamo.branches.loc[missing,:].geometry.plot(ax=ax, color='C4', label='geen dwarsprofiel',linewidth=30)\n",
    "hydamo.branches.geometry.plot(ax=ax, label='Watergangen')\n",
    "ax.get_xaxis().set_visible(False)\n",
    "ax.get_yaxis().set_visible(False)\n",
    "ax.legend()"
   ]
  },
  {
   "cell_type": "markdown",
   "id": "6bdc29c4",
   "metadata": {},
   "source": [
    "For these ones, we apply a default profile."
   ]
  },
  {
   "cell_type": "code",
   "execution_count": null,
   "id": "10ea2a40",
   "metadata": {},
   "outputs": [],
   "source": [
    "missing"
   ]
  },
  {
   "cell_type": "code",
   "execution_count": null,
   "id": "cb7e1d63",
   "metadata": {},
   "outputs": [],
   "source": [
    "# Set a default cross section\n",
    "default = hydamo.crosssections.add_rectangle_definition(\n",
    "    height=5.0, width=5.0, closed=False, roughnesstype=\"StricklerKs\", roughnessvalue=30, name=\"default\"\n",
    ")\n",
    "hydamo.crosssections.set_default_definition(definition=default, shift=10.0)\n",
    "hydamo.crosssections.set_default_locations(missing_after_interpolation)"
   ]
  },
  {
   "cell_type": "markdown",
   "id": "9b140a86",
   "metadata": {},
   "source": [
    "### Observation points"
   ]
  },
  {
   "cell_type": "markdown",
   "id": "113e9418",
   "metadata": {},
   "source": [
    "Observation points are now written in the new format, where one can discriminate between 1D ('1d') and 2D ('2d') observation points. This can be done using the optional argument 'locationTypes'. If it is omitted, all points are assumed to be 1d. 1D-points are always snapped to a the nearest branch. 2D-observation points are always defined by their X/Y-coordinates.\n",
    "\n",
    "Note: add_points can be called only once: once dfmodel.observation_points is filled,the add_points-method is not available anymore. Observation point coordinates can be definied eiher as an (x,y)-tuple or as a shapely Point-object."
   ]
  },
  {
   "cell_type": "code",
   "execution_count": null,
   "id": "da050004",
   "metadata": {},
   "outputs": [],
   "source": [
    "hydamo.observationpoints.add_points(\n",
    "    [\n",
    "        Point(199617, 394885),\n",
    "        Point(199421, 393769),\n",
    "        Point(199398, 393770),\n",
    "        Point(200198, 396489),\n",
    "    ],\n",
    "    [\"Obs_BV152054\", \"ObsS_96684_1\", \"ObsS_96684_2\", \"ObsS_96544\"],\n",
    "    locationTypes=[\"1d\", \"1d\", \"1d\", \"1d\"],\n",
    "    snap_distance=10.0,\n",
    ")\n"
   ]
  },
  {
   "cell_type": "markdown",
   "id": "59e953b4",
   "metadata": {},
   "source": [
    "### Boundary conditions"
   ]
  },
  {
   "cell_type": "code",
   "execution_count": null,
   "id": "99785e0c",
   "metadata": {},
   "outputs": [],
   "source": [
    "hydamo.external_forcings.convert.boundaries(hydamo.boundary_conditions, mesh1d=fm.geometry.netfile.network)"
   ]
  },
  {
   "cell_type": "markdown",
   "id": "b7f74f18",
   "metadata": {},
   "source": [
    "#### Add a fictional time series to use in the BC file"
   ]
  },
  {
   "cell_type": "code",
   "execution_count": null,
   "id": "ba39f8c1",
   "metadata": {},
   "outputs": [],
   "source": [
    "series = pd.Series(np.sin(np.linspace(2, 8, 120) * -1) + 1.0)\n",
    "series.index = [pd.Timestamp(\"2016-06-01 00:00:00\") + pd.Timedelta(hours=i) for i in range(120)]\n",
    "series.plot()"
   ]
  },
  {
   "cell_type": "markdown",
   "id": "cfcd1c84",
   "metadata": {},
   "source": [
    "There is also a fuction to convert laterals, but to run this we also need the RR model. Therefore, see below. It also possible to manually add boundaries and laterals as constants or timeseries. We implement the sinoid above as an upstream streamflow boundary and a lateral:"
   ]
  },
  {
   "cell_type": "code",
   "execution_count": null,
   "id": "f26b855c",
   "metadata": {},
   "outputs": [],
   "source": [
    "hydamo.external_forcings.add_boundary_condition(\n",
    "    \"RVW_01\", (197464.0, 392130.0), \"dischargebnd\", series, fm.geometry.netfile.network\n",
    ")"
   ]
  },
  {
   "cell_type": "code",
   "execution_count": null,
   "id": "3a13e17b",
   "metadata": {},
   "outputs": [],
   "source": [
    "hydamo.dict_to_dataframe(hydamo.external_forcings.boundary_nodes)"
   ]
  },
  {
   "cell_type": "markdown",
   "id": "429fac25",
   "metadata": {},
   "source": [
    "### Initial conditions"
   ]
  },
  {
   "cell_type": "markdown",
   "id": "19a39bed",
   "metadata": {},
   "source": [
    "Set the initial water depth to 1.5 m. It is also possible to set a global water level using the equivalent function \"set_initial_waterlevel\"."
   ]
  },
  {
   "cell_type": "code",
   "execution_count": null,
   "id": "a4cc515c",
   "metadata": {},
   "outputs": [],
   "source": [
    "hydamo.external_forcings.set_initial_waterdepth(1.5)"
   ]
  },
  {
   "cell_type": "markdown",
   "id": "a2b119c7",
   "metadata": {},
   "source": [
    "### 2D mesh"
   ]
  },
  {
   "cell_type": "markdown",
   "id": "f0f124f8",
   "metadata": {},
   "source": [
    "To add a mesh, currently 2 options exist:\n",
    "1. The converter can generate a relatively simple mesh, with a rotation or refinement. Note that rotation _and_ refinement is currently not possible. In the section below we generate a refined 2D mesh with the following steps:\n",
    "\n",
    "    - Generate grid within a polygon. The polygon is the extent given to the HyDAMO model.\n",
    "    - Refine along the main branch\n",
    "    - Determine altitude from a DEM. \n"
   ]
  },
  {
   "cell_type": "code",
   "execution_count": null,
   "id": "7ba87f40",
   "metadata": {},
   "outputs": [],
   "source": [
    "# 2d mesh extent\n",
    "if TwoD:\n",
    "    extent = gpd.read_file(r\"..\\tests\\data\\2D_extent.shp\").at[0, \"geometry\"]\n",
    "    network = fm.geometry.netfile.network"
   ]
  },
  {
   "cell_type": "markdown",
   "id": "92b2e5b0",
   "metadata": {},
   "source": [
    "To generate a triangular mesh:"
   ]
  },
  {
   "cell_type": "code",
   "execution_count": null,
   "id": "cbff42f3",
   "metadata": {},
   "outputs": [],
   "source": [
    "#if TwoD:\n",
    "    #mesh.mesh2d_add_triangular(network, extent, edge_length=50.0)"
   ]
  },
  {
   "cell_type": "markdown",
   "id": "0d689151",
   "metadata": {},
   "source": [
    "And a rectangular mesh with an arbitrary 50 m cell size:"
   ]
  },
  {
   "cell_type": "code",
   "execution_count": null,
   "id": "958d37b4",
   "metadata": {},
   "outputs": [],
   "source": [
    "if TwoD:\n",
    "    mesh.mesh2d_add_rectilinear(network, extent, dx=50, dy=50)"
   ]
  },
  {
   "cell_type": "markdown",
   "id": "2ae44d33",
   "metadata": {},
   "source": [
    "Refine the 2D mesh within an arbitrary distance of 50 m from all branches (works on a subselection as well):"
   ]
  },
  {
   "cell_type": "code",
   "execution_count": null,
   "id": "f84208f0",
   "metadata": {},
   "outputs": [],
   "source": [
    "if TwoD:\n",
    "    print(\"Nodes before refinement:\", network._mesh2d.mesh2d_node_x.size)\n",
    "\n",
    "    # refine around the branches. This does only work for a polygon without holes, so use the exterior\n",
    "    buffer = Polygon(hydamo.branches.buffer(50.0).unary_union.exterior)\n",
    "    mesh.mesh2d_refine(network, buffer, 1)\n",
    "    print(\"Nodes after refinement:\", network._mesh2d.mesh2d_node_x.size)\n",
    "\n",
    "    # add terrain level\n",
    "    mesh.mesh2d_altitude_from_raster(network, \"../tests/data/rasters/AHN_2m_clipped_filled.tif\", \"face\", \"mean\", fill_value=-999)"
   ]
  },
  {
   "cell_type": "markdown",
   "id": "067cba73",
   "metadata": {},
   "source": [
    "For linking the 1D and 2D model, three options are available:\n",
    "1. Generating links from each 1d node to the nearest 2d node.\n",
    "2. Generating links from each 2d node to the nearest 1d node (intersecting==True)\n",
    "3. Generating links from each 2d node to the nearest 1d node, while not allowing the links to intersect other cells (intersecting==True).\n",
    "\n",
    "Intersecting indicates whether or not the 2D cells cross the 1D network (lateral versus embedded links).\n",
    "So, option 3 is relevant when there is no 2d mesh on top of the 1d mesh: the lateral links.\n",
    "\n",
    "Note that for each option a maximum link length can be chosen, to prevent creating long (and perhaps unrealistic) links."
   ]
  },
  {
   "cell_type": "markdown",
   "id": "1d27ac16",
   "metadata": {},
   "source": [
    "### Add 1d-2d links"
   ]
  },
  {
   "cell_type": "code",
   "execution_count": null,
   "id": "115c5a07",
   "metadata": {},
   "outputs": [],
   "source": [
    "if TwoD:\n",
    "    mesh.links1d2d_add_links_1d_to_2d(fm.geometry.netfile.network)"
   ]
  },
  {
   "cell_type": "code",
   "execution_count": null,
   "id": "67e0925d",
   "metadata": {},
   "outputs": [],
   "source": [
    "# plot the network\n",
    "if TwoD:\n",
    "    network = fm.geometry.netfile.network\n",
    "    fig, axs = plt.subplots(figsize=(13.5, 6), ncols=2, constrained_layout=True)\n",
    "    plot_network(network, ax=axs[0])\n",
    "    plot_network(network, ax=axs[1], links1d2d_kwargs=dict(lw=3, color=\"k\"))\n",
    "    for ax in axs:\n",
    "        ax.set_aspect(1.0)\n",
    "        ax.plot(*buffer.exterior.coords.xy, color=\"k\", lw=0.5)\n",
    "    axs[0].autoscale_view()\n",
    "    axs[1].set_xlim(199700, 200200)\n",
    "    axs[1].set_ylim(393600, 394100)\n",
    "\n",
    "    sc = axs[1].scatter(\n",
    "        x=network._mesh2d.mesh2d_face_x,\n",
    "        y=network._mesh2d.mesh2d_face_y,\n",
    "        c=network._mesh2d.mesh2d_face_z,\n",
    "        s=10,\n",
    "        vmin=17,\n",
    "        vmax=20,\n",
    "    )\n",
    "    cb = plt.colorbar(sc, ax=axs[1])\n",
    "    cb.set_label(\"Face level [m+NAP]\")\n",
    "\n",
    "    plt.show()"
   ]
  },
  {
   "cell_type": "markdown",
   "id": "93490473",
   "metadata": {},
   "source": [
    "For finalizing the FM-model, we also need the coupling to the other modules. Therefore, we will do that first."
   ]
  },
  {
   "cell_type": "markdown",
   "id": "38fe7683",
   "metadata": {},
   "source": [
    "# Add an RTC model"
   ]
  },
  {
   "cell_type": "markdown",
   "id": "5d032bdf",
   "metadata": {},
   "source": [
    "RTC contains many different options. Three are now implemented in D-HyDAMO: \n",
    "- a PID controller (crest level is determined by water level at an observation point);\n",
    "- a time controller (a time series of crest level is provided);\n",
    "- the possibility for the users to provide their own XML-files for more complex cases. Depending on the complexity, the integration might not yet work for all cases."
   ]
  },
  {
   "cell_type": "markdown",
   "id": "175384fe",
   "metadata": {},
   "source": [
    "First, initialize a DRTCModel-object. The input is hydamo (for the data), fm (for the time settings), a path where the model will be created (typically an 'rtc' subfolder), a timestep (default 60 seconds) and, optionally, a folder where the user can put 'custom' XML code that will be integrated in the RTC-model. These files will be parsed now and be integrated later."
   ]
  },
  {
   "cell_type": "code",
   "execution_count": null,
   "id": "8efe740a",
   "metadata": {},
   "outputs": [],
   "source": [
    "if RTC:\n",
    "    drtcmodel = DRTCModel(\n",
    "        hydamo,\n",
    "        fm,\n",
    "        output_path=output_path,\n",
    "        rtc_timestep=60.0,\n",
    "        complex_controllers_folder=data_path / \"complex_controllers\"        \n",
    "    )"
   ]
  },
  {
   "cell_type": "markdown",
   "id": "4ae598b9",
   "metadata": {},
   "source": [
    "If PID controllers are present, they need settings that are not included in the HyDAMO DAMO2.2 data. We define those in a dictionary. They can be specified for each structure - in that case the key of the dictionary should match the key in the HyDAMO DAMO2.2 'sturing'-object. If no separate settings are provided the 'global' settings are used."
   ]
  },
  {
   "cell_type": "code",
   "execution_count": null,
   "id": "d8fdcc1a",
   "metadata": {},
   "outputs": [],
   "source": [
    "if RTC:\n",
    "    pid_settings = {}\n",
    "    pid_settings[\"global\"] = {\n",
    "        \"ki\": -0.05,\n",
    "        \"kp\": -0.03,\n",
    "        \"kd\": 0.0,\n",
    "        \"maxspeed\": 0.00033,\n",
    "    }\n",
    "    pid_settings[\"kst_pid\"] = {\n",
    "            \"ki\": -0.03,\n",
    "            \"kp\": -0.0,\n",
    "            \"kd\": 0.0,\n",
    "            \"maxspeed\": 0.00033,\n",
    "        }"
   ]
  },
  {
   "cell_type": "markdown",
   "id": "c6a879df",
   "metadata": {},
   "source": [
    "The function 'from_hydamo' converts the controllers that are specified in the HyDAMO DAMO2.2 data. The extra input consists of the settings for PID controllers (see above) and a dataframe with time series for the time controllers."
   ]
  },
  {
   "cell_type": "code",
   "execution_count": null,
   "id": "ce6f6af9",
   "metadata": {},
   "outputs": [],
   "source": [
    "if RTC:\n",
    "    if not hydamo.management.typecontroller.empty:\n",
    "        timeseries = pd.read_csv(data_path / \"timecontrollers.csv\")\n",
    "        timeseries.index = timeseries.Time        \n",
    "\n",
    "        drtcmodel.from_hydamo(pid_settings=pid_settings, timeseries=timeseries)"
   ]
  },
  {
   "cell_type": "markdown",
   "id": "34b08879",
   "metadata": {},
   "source": [
    "Additional controllers, that are not included in D-HyDAMO DAMO2.2 might be specified like this:"
   ]
  },
  {
   "cell_type": "code",
   "execution_count": null,
   "id": "a13f1d6d",
   "metadata": {},
   "outputs": [],
   "source": [
    "drtcmodel.add_pid_controller(\n",
    "        structure_id=\"S_96544\",\n",
    "        steering_variable=\"Crest level (s)\",\n",
    "        target_variable=\"Water level (op)\",\n",
    "        setpoint=18.2,\n",
    "        observation_location=\"ObsS_96544\",\n",
    "        lower_bound=18.0,\n",
    "        upper_bound=18.4,\n",
    "        pid_settings=pid_settings[\"global\"],\n",
    "    )\n",
    "\n",
    "drtcmodel.add_time_controller(\n",
    "        structure_id=\"S_96548\",\n",
    "        steering_variable=\"Crest level (s)\",\n",
    "        data=timeseries.iloc[:, 1],\n",
    "    )"
   ]
  },
  {
   "cell_type": "markdown",
   "id": "fcc041dd",
   "metadata": {},
   "source": [
    "Note that the provided complex controllers use observation points that are not yet in the model. As opposed to delft3dfmpy, it is now possible to add observation points in stages. So we add the missing point now:"
   ]
  },
  {
   "cell_type": "markdown",
   "id": "7d2b4ee3",
   "metadata": {},
   "source": [
    "## Add a rainfall runoff model"
   ]
  },
  {
   "cell_type": "markdown",
   "id": "2a94188f",
   "metadata": {},
   "source": [
    "RR has not changed yet compared to delft3dfmpy. Initialize a model:"
   ]
  },
  {
   "cell_type": "code",
   "execution_count": null,
   "id": "0c951f7a",
   "metadata": {},
   "outputs": [],
   "source": [
    "if RR:\n",
    "    drrmodel = DRRModel()"
   ]
  },
  {
   "cell_type": "markdown",
   "id": "7df8819e",
   "metadata": {},
   "source": [
    "Catchments are provided in the HyDAMO DAMO2.2 format and included in the GPKG. They can also be read from other formats using 'read_gml', or 'read_shp'. Note that in case of shapefiles column mapping is necessary because the column names are truncated. \n",
    "\n",
    "Note that when catchments have a \"MultiPolygon' geometry, the multipolygons are 'exploded' into single polygon geometries. A warning of this is isued, and a suffix is added to every polygons ID to prevent duplicates. \n",
    "\n",
    "For every catchment, the land use areas will be calculated and if appopriate a maximum of four RR-nodes will be created per catchment:\n",
    " - unpaved (based on the Ernst concept)\n",
    " - paved \n",
    " - greenhouse\n",
    " - open water (not the full Sobek2 open water, but only used to transfer (net) precipitation that falls on open water that is schematized in RR to the 1D/2D network.\n",
    " \n",
    "At the moment, two options exist for the schematisation of the paved area:\n",
    " 1) simple: the paved fraction of each catchment is modelled with a paved node, directly connected to catchments' boundary node\n",
    " <br>\n",
    " 2) more complex: sewer area polygons and overflow points are used a input as well. For each sewer area, the overlapping paved area is the distributed over the overflows that are associated with the sewerarea (the column 'lateraleknoopcode') using the area fraction (column 'fractie') for each overflow. In each catchment, paved area that does not intersect with a sewer area gets an unpaved node as in option (1).\n"
   ]
  },
  {
   "cell_type": "markdown",
   "id": "9a31065e",
   "metadata": {},
   "source": [
    "Load data and settings (still to fill with documentatation from delft3dfmpy)"
   ]
  },
  {
   "cell_type": "code",
   "execution_count": null,
   "id": "6e7817a9",
   "metadata": {},
   "outputs": [],
   "source": [
    "if RR:\n",
    "    # all data and settings to create the RR-model\n",
    "    lu_file = data_path / \"rasters\" / \"sobek_landuse.tif\"\n",
    "    ahn_file = data_path / \"rasters\" / \"AHN_2m_clipped_filled.tif\"\n",
    "    soil_file = data_path / \"rasters\" / \"sobek_soil.tif\"\n",
    "    surface_storage = 10.0\n",
    "    infiltration_capacity = 100.0\n",
    "    initial_gwd = 1.2  # water level depth below surface\n",
    "\n",
    "    runoff_resistance = 1.0\n",
    "    infil_resistance = 300.0\n",
    "    layer_depths = [0.0, 1.0, 2.0]\n",
    "    layer_resistances = [30, 200, 10000]\n",
    "    street_storage = 10.0\n",
    "    sewer_storage = 10.0\n",
    "    pumpcapacity = 10.0\n",
    "    roof_storage = 10.0\n",
    "    meteo_areas = hydamo.catchments"
   ]
  },
  {
   "cell_type": "markdown",
   "id": "2a06fc01",
   "metadata": {},
   "source": [
    "Fill the nodes:"
   ]
  },
  {
   "cell_type": "markdown",
   "id": "c1f473ee",
   "metadata": {},
   "source": [
    "For land use and soil type a coding is prescribed. For landuse, the legend of the map is expected to be as follows: <br>\n",
    " 1 potatoes  <br>\n",
    " 2 wheat<br>\n",
    " 3 sugar beet<br> \n",
    " 4 corn       <br> \n",
    " 5 other crops <br> \n",
    " 6 bulbous plants<br> \n",
    " 7 orchard<br>\n",
    " 8 grass  <br>\n",
    " 9 deciduous forest  <br>\n",
    "10 coniferous forest<br>\n",
    "11 nature<br>\n",
    "12 barren<br>\n",
    "13 open water<br>\n",
    "14 built-up<br>\n",
    "15 greenhouses<br>\n",
    "\n",
    "For classes 1-12, the areas are calculated from the provided raster and remapped to the classification in the Sobek RR-tables.\n",
    "\n",
    "\n",
    "The coding for the soil types:<br>\n",
    "1 'Veengrond met veraarde bovengrond'<br>\n",
    " 2 'Veengrond met veraarde bovengrond, zand'<br>\n",
    " 3 'Veengrond met kleidek'<br>\n",
    " 4 'Veengrond met kleidek op zand'<br>\n",
    " 5 'Veengrond met zanddek op zand'<br>\n",
    " 6 'Veengrond op ongerijpte klei'<br>\n",
    " 7 'Stuifzand'<br>\n",
    " 8 'Podzol (Leemarm, fijn zand)'<br>\n",
    " 9 'Podzol (zwak lemig, fijn zand)'<br>\n",
    "10 'Podzol (zwak lemig, fijn zand op grof zand)'<br>\n",
    "11 'Podzol (lemig keileem)'<br>\n",
    "12 'Enkeerd (zwak lemig, fijn zand)'<br>\n",
    "13 'Beekeerd (lemig fijn zand)'<br>\n",
    "14 'Podzol (grof zand)'<br>\n",
    "15 'Zavel'<br>\n",
    "16 'Lichte klei'<br>\n",
    "17 'Zware klei'<br>\n",
    "18 'Klei op veen'<br>\n",
    "19 'Klei op zand'<br>\n",
    "20 'Klei op grof zand'<br>\n",
    "21 'Leem'<br>\n",
    "\n",
    "\n",
    "And surface elevation needs to be in m+NAP."
   ]
  },
  {
   "cell_type": "code",
   "execution_count": null,
   "id": "3d8610c3",
   "metadata": {},
   "outputs": [],
   "source": [
    "if RR:\n",
    "    drrmodel.unpaved.io.unpaved_from_input(\n",
    "        hydamo.catchments,\n",
    "        lu_file,\n",
    "        ahn_file,\n",
    "        soil_file,\n",
    "        surface_storage,\n",
    "        infiltration_capacity,\n",
    "        initial_gwd,\n",
    "        meteo_areas,\n",
    "    )\n",
    "    drrmodel.unpaved.io.ernst_from_input(\n",
    "        hydamo.catchments,\n",
    "        depths=layer_depths,\n",
    "        resistance=layer_resistances,\n",
    "        infiltration_resistance=infil_resistance,\n",
    "        runoff_resistance=runoff_resistance,\n",
    "    )\n",
    "    drrmodel.paved.io.paved_from_input(\n",
    "        catchments=hydamo.catchments,\n",
    "        landuse=lu_file,\n",
    "        surface_level=ahn_file,\n",
    "        street_storage=street_storage,\n",
    "        sewer_storage=sewer_storage,\n",
    "        pump_capacity=pumpcapacity,\n",
    "        meteo_areas=meteo_areas,\n",
    "        zonalstats_alltouched=True,\n",
    "    )\n",
    "    drrmodel.greenhouse.io.greenhouse_from_input(\n",
    "        hydamo.catchments, lu_file, ahn_file, roof_storage, meteo_areas, zonalstats_alltouched=True\n",
    "    )\n",
    "    drrmodel.openwater.io.openwater_from_input(\n",
    "        hydamo.catchments, lu_file, meteo_areas, zonalstats_alltouched=True\n",
    "    )"
   ]
  },
  {
   "cell_type": "markdown",
   "id": "dc8ca07c",
   "metadata": {},
   "source": [
    "Make the RR boundaries:"
   ]
  },
  {
   "cell_type": "code",
   "execution_count": null,
   "id": "583fc40e",
   "metadata": {},
   "outputs": [],
   "source": [
    "if RR:\n",
    "    drrmodel.external_forcings.io.boundary_from_input(hydamo.laterals, hydamo.catchments, drrmodel)"
   ]
  },
  {
   "cell_type": "markdown",
   "id": "19edd28d",
   "metadata": {},
   "source": [
    "Again, the result is a dictionary, but it can be easily displayed as a dataframe:"
   ]
  },
  {
   "cell_type": "code",
   "execution_count": null,
   "id": "f1f73362",
   "metadata": {},
   "outputs": [],
   "source": [
    "if RR:\n",
    "    hydamo.dict_to_dataframe(drrmodel.paved.pav_nodes).tail()"
   ]
  },
  {
   "cell_type": "markdown",
   "id": "df5a22a3",
   "metadata": {},
   "source": [
    "### External forcings\n",
    "\n",
    "Three types of external forcing need to be provided:<br>\n",
    "- Seepage/drainage\n",
    "- Precipitation\n",
    "- Evaporation\n",
    "\n",
    "All are assumed to be spatially variable and thus need to pe provided as rasters per time step. Only the locations of the folders containing the rasters need to be provided; the time step is then derived from the file names.\n",
    "\n",
    "Precipitation and evaporation are assumed to be in mm/d. As for evaporation only one meteostation is used, the meteo_areas are dissolved. For seepage, as the use of Metaswap-rasters is allowed, the unit is assumed to m3/grid cell/timestep.\n",
    "\n",
    "Rastertypes can be any type that is recognized by rasterio (in any case Geotiff and ArcASCII rasters). If the file extension is 'IDF', as is the case in Modflow output, the raster is read using the 'imod'-package.\n",
    "\n",
    "IMPORTANT: time steps are extracted from the file names. Therefore, the names should cohere to some conditions:\n",
    "The filename should consist of at least two parts, separated by underscores. The second part needs to contain time information, which should be formatted as YYYYMMDDHHMMSS (SS may be omitted). Or, for daily data YYYYMMDD.\n",
    "\n",
    "For example: 'precip_20200605151500.tif'\n",
    "\n",
    "Extracting meteo-data from rasters can be time consuming. If precip_file and evap_file are specified, meteo-files are copied from an existing location."
   ]
  },
  {
   "cell_type": "code",
   "execution_count": null,
   "id": "c058ddd9",
   "metadata": {},
   "outputs": [],
   "source": [
    "if RR:\n",
    "    seepage_folder = data_path / \"rasters\" / \"seepage\"\n",
    "    precip_file = str(data_path / \"DEFAULT.BUI\")\n",
    "    evap_folder = data_path / \"rasters\" / \"evaporation\"\n",
    "    drrmodel.external_forcings.io.seepage_from_input(hydamo.catchments, seepage_folder)\n",
    "    drrmodel.external_forcings.io.precip_from_input(meteo_areas, precip_folder=None, precip_file=precip_file)\n",
    "    drrmodel.external_forcings.io.evap_from_input(meteo_areas, evap_folder=evap_folder, evap_file=None)"
   ]
  },
  {
   "cell_type": "markdown",
   "id": "349d4572",
   "metadata": {},
   "source": [
    "Add the main parameters:"
   ]
  },
  {
   "cell_type": "code",
   "execution_count": null,
   "id": "6786bed3",
   "metadata": {},
   "outputs": [],
   "source": [
    "if RR:   \n",
    "    drrmodel.d3b_parameters[\"Timestepsize\"] = 300\n",
    "    drrmodel.d3b_parameters[\"StartTime\"] = \"'2016/06/01;00:00:00'\"  # should be equal to refdate for D-HYDRO\n",
    "    drrmodel.d3b_parameters[\"EndTime\"] = \"'2016/06/03;00:00:00'\"\n",
    "    drrmodel.d3b_parameters[\"RestartIn\"] = 0\n",
    "    drrmodel.d3b_parameters[\"RestartOut\"] = 0\n",
    "    drrmodel.d3b_parameters[\"RestartFileNamePrefix\"] = \"Test\"\n",
    "    drrmodel.d3b_parameters[\"UnsaturatedZone\"] = 1\n",
    "    drrmodel.d3b_parameters[\"UnpavedPercolationLikeSobek213\"] = -1\n",
    "    drrmodel.d3b_parameters[\"VolumeCheckFactorToCF\"] = 100000\n"
   ]
  },
  {
   "cell_type": "markdown",
   "id": "d837496f",
   "metadata": {},
   "source": [
    "And now we can also add the laterals to FM with the correct settings:"
   ]
  },
  {
   "cell_type": "code",
   "execution_count": null,
   "id": "ad2488b4",
   "metadata": {},
   "outputs": [],
   "source": [
    "if RR:\n",
    "    hydamo.external_forcings.convert.laterals(\n",
    "        hydamo.laterals,\n",
    "        lateral_discharges=None,\n",
    "        rr_boundaries=drrmodel.external_forcings.boundary_nodes,\n",
    "    )\n",
    "else:\n",
    "    lateral_discharges = hydamo.laterals[\"afvoer\"]\n",
    "    lateral_discharges.index = hydamo.laterals.code\n",
    "    hydamo.external_forcings.convert.laterals(\n",
    "        hydamo.laterals, lateral_discharges=lateral_discharges, rr_boundaries=None\n",
    "    )\n"
   ]
  },
  {
   "cell_type": "markdown",
   "id": "bf6d3c67",
   "metadata": {},
   "source": [
    "And now we can also manually add lateral nodes, which we still need to convert to a dataframe."
   ]
  },
  {
   "cell_type": "code",
   "execution_count": null,
   "id": "b2e3a719",
   "metadata": {},
   "outputs": [],
   "source": [
    "if not RR:\n",
    "    hydamo.external_forcings.add_lateral(\"LAT_01\", \"W_242209_0\", \"5.0\", series)\n",
    "    hydamo.dict_to_dataframe(hydamo.external_forcings.lateral_nodes).tail()"
   ]
  },
  {
   "cell_type": "markdown",
   "id": "d461d8c4",
   "metadata": {},
   "source": [
    "### Plot the RR model"
   ]
  },
  {
   "cell_type": "code",
   "execution_count": null,
   "id": "67504aa7",
   "metadata": {},
   "outputs": [],
   "source": [
    "def node_geometry(dict):\n",
    "    # Function to put the node geometries in geodataframes\n",
    "    from shapely.geometry import Point, LineString\n",
    "\n",
    "    geoms = []\n",
    "    links = []\n",
    "    for i in dict.items():\n",
    "        if \"ar\" in i[1]:\n",
    "            if np.sum([float(s) for s in i[1][\"ar\"].split(\" \")]) > 0:\n",
    "                geoms.append(Point((float(i[1][\"px\"]), float(i[1][\"py\"]))))\n",
    "                links.append(\n",
    "                    LineString(\n",
    "                        (\n",
    "                            Point(float(i[1][\"px\"]), float(i[1][\"py\"])),\n",
    "                            Point(\n",
    "                                float(drrmodel.external_forcings.boundary_nodes[i[1][\"boundary_node\"]][\"px\"]),\n",
    "                                float(drrmodel.external_forcings.boundary_nodes[i[1][\"boundary_node\"]][\"py\"]),\n",
    "                            ),\n",
    "                        )\n",
    "                    )\n",
    "                )\n",
    "        else:\n",
    "            geoms.append(Point((float(i[1][\"px\"]), float(i[1][\"py\"]))))\n",
    "    return ((gpd.GeoDataFrame(geoms, columns=[\"geometry\"])), gpd.GeoDataFrame(links, columns=[\"geometry\"]))"
   ]
  },
  {
   "cell_type": "code",
   "execution_count": null,
   "id": "029c5df4",
   "metadata": {},
   "outputs": [],
   "source": [
    "## plt.rcParams['axes.edgecolor'] = 'w'\n",
    "import matplotlib.patches as mpatches\n",
    "\n",
    "fig, ax = plt.subplots(figsize=(10, 10))\n",
    "\n",
    "ax.xaxis.set_visible(False)\n",
    "ax.yaxis.set_visible(False)\n",
    "ax.set_xlim(195000, 205000)\n",
    "ax.set_ylim(390000, 399000)\n",
    "\n",
    "hydamo.catchments.geometry.plot(ax=ax, label=\"Catchments\", edgecolor=\"black\", facecolor=\"pink\", alpha=0.5)\n",
    "hydamo.branches.geometry.plot(ax=ax, label=\"Channel\")\n",
    "node_geometry(drrmodel.unpaved.unp_nodes)[0].plot(\n",
    "    ax=ax, markersize=30, marker=\"s\", color=\"green\", label=\"Unpaved\"\n",
    ")\n",
    "node_geometry(drrmodel.unpaved.unp_nodes)[1].plot(ax=ax, color=\"black\", linewidth=0.5)\n",
    "node_geometry(drrmodel.paved.pav_nodes)[0].plot(ax=ax, markersize=20, marker=\"s\", color=\"red\", label=\"Paved\")\n",
    "node_geometry(drrmodel.paved.pav_nodes)[1].plot(ax=ax, color=\"black\", linewidth=0.5)\n",
    "node_geometry(drrmodel.greenhouse.gh_nodes)[0].plot(ax=ax, markersize=15, color=\"yellow\", label=\"Greenhouse\")\n",
    "node_geometry(drrmodel.greenhouse.gh_nodes)[1].plot(ax=ax, color=\"black\", linewidth=0.5)\n",
    "node_geometry(drrmodel.openwater.ow_nodes)[0].plot(ax=ax, markersize=10, color=\"blue\", label=\"Openwater\")\n",
    "node_geometry(drrmodel.openwater.ow_nodes)[1].plot(ax=ax, color=\"black\", linewidth=0.5, label=\"RR-link\")\n",
    "node_geometry(drrmodel.external_forcings.boundary_nodes)[0].plot(\n",
    "    ax=ax, markersize=15, color=\"purple\", label=\"RR Boundary\"\n",
    ")\n",
    "\n",
    "# manually add handles for polygon plot\n",
    "handles, labels = ax.get_legend_handles_labels()\n",
    "poly = mpatches.Patch(facecolor=\"pink\", edgecolor=\"black\", alpha=0.5)\n",
    "cx.add_basemap(ax, crs=28992, source=cx.providers.OpenStreetMap.Mapnik)\n",
    "ax.legend(handles=handles.append(poly), labels=labels.append(\"Catchments\"))\n",
    "fig.tight_layout()"
   ]
  },
  {
   "cell_type": "markdown",
   "id": "0dd8abbb",
   "metadata": {},
   "source": [
    "## Writing the model"
   ]
  },
  {
   "cell_type": "markdown",
   "id": "ead04408",
   "metadata": {},
   "source": [
    "Now we call Hydrolib-core functionality to write the model. First, we initialize an object that converts all dataframes to Hydrolib-core objects. Then we add these models to the file structure of the FM model."
   ]
  },
  {
   "cell_type": "markdown",
   "id": "05789e0d",
   "metadata": {},
   "source": [
    "Call a function to convert the dataframes to Hydrolib-core classes:"
   ]
  },
  {
   "cell_type": "code",
   "execution_count": null,
   "id": "cdfc9bed",
   "metadata": {},
   "outputs": [],
   "source": [
    "models = Df2HydrolibModel(hydamo)"
   ]
  },
  {
   "cell_type": "markdown",
   "id": "071fbee9",
   "metadata": {},
   "source": [
    "And add the classes to the file structure"
   ]
  },
  {
   "cell_type": "code",
   "execution_count": null,
   "id": "67646378",
   "metadata": {},
   "outputs": [],
   "source": [
    "fm.geometry.structurefile = [StructureModel(structure=models.structures)]\n",
    "fm.geometry.crosslocfile = CrossLocModel(crosssection=models.crosslocs)\n",
    "fm.geometry.crossdeffile = CrossDefModel(definition=models.crossdefs)\n",
    "\n",
    "fm.geometry.frictfile = []\n",
    "for i, fric_def in enumerate(models.friction_defs):\n",
    "    fric_model = FrictionModel(global_=fric_def)\n",
    "    fric_model.filepath = f\"roughness_{i}.ini\"\n",
    "    fm.geometry.frictfile.append(fric_model)\n",
    "\n",
    "fm.output.obsfile = [ObservationPointModel(observationpoint=models.obspoints)]\n",
    "\n",
    "extmodel = ExtModel()\n",
    "extmodel.boundary = models.boundaries_ext\n",
    "extmodel.lateral = models.laterals_ext\n",
    "fm.external_forcing.extforcefilenew = extmodel\n",
    "\n",
    "fm.geometry.inifieldfile = IniFieldModel(initial=models.inifields)\n",
    "# for ifield, onedfield in enumerate(models.onedfieldmodels):\n",
    "#     fm.geometry.inifieldfile.initial[ifield].datafile = OneDFieldModel(\n",
    "#         global_= onedfield\n",
    "#     )\n",
    "fm.geometry.bedlevtype = 1"
   ]
  },
  {
   "cell_type": "markdown",
   "id": "b1cb9a7b",
   "metadata": {},
   "source": [
    "Now we write the file structure:"
   ]
  },
  {
   "cell_type": "code",
   "execution_count": null,
   "id": "06e963bf",
   "metadata": {},
   "outputs": [],
   "source": [
    "fm.filepath = Path(output_path) / \"fm\" / \"test.mdu\"\n",
    "dimr = DIMR()\n",
    "dimr.component.append(\n",
    "    FMComponent(name=\"DFM\", workingDir=Path(output_path) / \"fm\", model=fm, inputfile=fm.filepath)    \n",
    ")\n",
    "dimr.save(recurse=True)"
   ]
  },
  {
   "cell_type": "code",
   "execution_count": null,
   "id": "0b474b51",
   "metadata": {},
   "outputs": [],
   "source": [
    "import shutil\n",
    "shutil.copy(data_path / \"initialWaterDepth.ini\", output_path / \"fm\")"
   ]
  },
  {
   "cell_type": "markdown",
   "id": "e7d3cac8",
   "metadata": {},
   "source": [
    "The writers for RR and RTC are not yet available in the HYDROLIB-core library. We use the original delft3dfmpy writer for RR and a custom writer for RTC:"
   ]
  },
  {
   "cell_type": "code",
   "execution_count": null,
   "id": "00835d2d",
   "metadata": {},
   "outputs": [],
   "source": [
    "if RTC:\n",
    "    drtcmodel.write_xml_v1()"
   ]
  },
  {
   "cell_type": "code",
   "execution_count": null,
   "id": "42c688be",
   "metadata": {},
   "outputs": [],
   "source": [
    "if RR:\n",
    "    rr_writer = DRRWriter(drrmodel, output_dir=output_path, name=\"test\", wwtp=(199000.0, 396000.0))\n",
    "    rr_writer.write_all()"
   ]
  },
  {
   "cell_type": "code",
   "execution_count": null,
   "id": "82063f0d",
   "metadata": {},
   "outputs": [],
   "source": [
    "dimr = DIMRWriter(output_path=output_path)\n",
    "dimr.write_dimrconfig(fm, rr_model=drrmodel, rtc_model=drtcmodel)\n",
    "dimr.write_runbat()"
   ]
  },
  {
   "cell_type": "code",
   "execution_count": null,
   "id": "d15de41b",
   "metadata": {},
   "outputs": [],
   "source": [
    "print(\"Done!\")"
   ]
  },
  {
   "cell_type": "code",
   "execution_count": null,
   "id": "37757f67",
   "metadata": {},
   "outputs": [],
   "source": []
  },
  {
   "cell_type": "code",
   "execution_count": null,
   "id": "c62fb5ed",
   "metadata": {},
   "outputs": [],
   "source": []
  }
 ],
 "metadata": {
  "kernelspec": {
   "display_name": "Python 3 (ipykernel)",
   "language": "python",
   "name": "python3"
  },
  "language_info": {
   "codemirror_mode": {
    "name": "ipython",
    "version": 3
   },
   "file_extension": ".py",
   "mimetype": "text/x-python",
   "name": "python",
   "nbconvert_exporter": "python",
   "pygments_lexer": "ipython3",
   "version": "3.10.8"
  },
  "toc": {
   "base_numbering": 1,
   "nav_menu": {},
   "number_sections": true,
   "sideBar": true,
   "skip_h1_title": true,
   "title_cell": "Table of Contents",
   "title_sidebar": "Contents",
   "toc_cell": false,
   "toc_position": {
    "height": "calc(100% - 180px)",
    "left": "10px",
    "top": "150px",
    "width": "435.2px"
   },
   "toc_section_display": true,
   "toc_window_display": true
  },
  "vscode": {
   "interpreter": {
    "hash": "c8f3abdefbf881e2b3539f5584c87a896a4670262e33cdd4a4c9f3bebf419aeb"
   }
  }
 },
 "nbformat": 4,
 "nbformat_minor": 5
}
