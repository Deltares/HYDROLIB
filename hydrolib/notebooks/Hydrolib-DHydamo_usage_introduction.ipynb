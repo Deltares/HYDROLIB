{
 "cells": [
  {
   "cell_type": "markdown",
   "id": "f5f0a86d",
   "metadata": {},
   "source": [
    "# Example of generating a 1D2DRR D-HYDRO model - an overview of functionalities\n",
    "\n",
    "This notebook gives an overview of the functionalities of the D-HyDAMO module, part of the Hydrolib environment.\n",
    "\n",
    "This notebook is based on previous examples of the python package delft3dfmpy, but now connnected to the Hydrolib-core package, which is used for writing a D-HYDRO model. It contains similar functionalities as delft3dfmpy v2.0.2; input data is expected to be according to HyDAMO DAMO2.2 gpkg-format. The example model used here is based on a part of the Oostrumsche beek in Limburg, added with some fictional dummy data to better illustrate functionalities.\n",
    "\n",
    "Because of the dummy data and demonstation of certain features, the resulting model is not optimal from a hydrologic point of view."
   ]
  },
  {
   "cell_type": "markdown",
   "id": "dbc1bc5a",
   "metadata": {},
   "source": [
    "## Load Python libraries and Hydrolib-core functionality"
   ]
  },
  {
   "cell_type": "code",
   "execution_count": null,
   "id": "3c954a25",
   "metadata": {},
   "outputs": [],
   "source": [
    "# Basis\n",
    "from pathlib import Path\n",
    "import sys\n",
    "import numpy as np\n",
    "import geopandas as gpd\n",
    "import pandas as pd\n",
    "from pathlib import Path\n",
    "import matplotlib.pyplot as plt\n",
    "from shapely.geometry import Point, Polygon\n",
    "import matplotlib.pyplot as plt\n",
    "import contextily as cx\n",
    "import os\n",
    "import sys\n",
    "import warnings\n",
    "warnings.filterwarnings('ignore')"
   ]
  },
  {
   "cell_type": "code",
   "execution_count": null,
   "id": "1ee70cab",
   "metadata": {},
   "outputs": [],
   "source": [
    "## In not installed, add a path from where hydrolib it can be imported\n",
    "#sys.path.insert(0, \"d:/Documents/GitHub/HYDROLIB\")\n",
    "sys.path.insert(0, \"../..\")\n",
    "\n",
    "# NOTE: core and dhydamo need to be in the same folder to be imported correctly\n",
    "# and from hydrolib-core\n",
    "!{sys.executable} -m pip install pydantic==1.8\n",
    "!{sys.executable} -m pip install meshkernel\n",
    "!{sys.executable} -m pip install lxml\n",
    "from hydrolib.core.io.dimr.models import DIMR, FMComponent\n",
    "from hydrolib.core.io.structure.models import StructureModel\n",
    "from hydrolib.core.io.crosssection.models import CrossLocModel, CrossDefModel\n",
    "from hydrolib.core.io.inifield.models import IniFieldModel\n",
    "from hydrolib.core.io.onedfield.models import OneDFieldModel\n",
    "from hydrolib.core.io.ext.models import ExtModel\n",
    "from hydrolib.core.io.mdu.models import FMModel\n",
    "from hydrolib.core.io.bc.models import ForcingModel\n",
    "from hydrolib.core.io.friction.models import FrictionModel\n",
    "from hydrolib.core.io.obs.models import ObservationPointModel\n",
    "\n",
    "# Importing relevant classes from Hydrolib-dhydamo\n",
    "from hydrolib.dhydamo.core.hydamo import HyDAMO\n",
    "from hydrolib.dhydamo.converters.df2hydrolibmodel import Df2HydrolibModel\n",
    "from hydrolib.dhydamo.geometry import mesh\n",
    "from hydrolib.dhydamo.core.drr import DRRModel\n",
    "from hydrolib.dhydamo.core.drtc import DRTCModel\n",
    "from hydrolib.dhydamo.io.dimrwriter import DIMRWriter\n",
    "from hydrolib.dhydamo.io.drrwriter import DRRWriter\n",
    "from hydrolib.dhydamo.geometry.viz import plot_network"
   ]
  },
  {
   "cell_type": "markdown",
   "id": "c50de59a",
   "metadata": {},
   "source": [
    "Define in- and output paths"
   ]
  },
  {
   "cell_type": "code",
   "execution_count": null,
   "id": "7a494ef6",
   "metadata": {},
   "outputs": [],
   "source": [
    "# path to the package containing the dummy-data\n",
    "data_path = Path(\"../tests/data\").resolve()\n",
    "assert data_path.exists()\n",
    "\n",
    "# path to write the models\n",
    "output_path = Path(\"./model\").resolve()\n",
    "output_path.mkdir(exist_ok=True, parents=False)\n",
    "assert output_path.exists()"
   ]
  },
  {
   "cell_type": "markdown",
   "id": "0da8637d",
   "metadata": {},
   "source": [
    "Define components that should be used in the model. 1D is used in all cases."
   ]
  },
  {
   "cell_type": "code",
   "execution_count": null,
   "id": "6f00de7b",
   "metadata": {},
   "outputs": [],
   "source": [
    "TwoD = True\n",
    "RR = True\n",
    "RTC = True"
   ]
  },
  {
   "cell_type": "markdown",
   "id": "f6bf9b21",
   "metadata": {},
   "source": [
    "## Read HyDAMO DAMO2.2 data"
   ]
  },
  {
   "cell_type": "code",
   "execution_count": null,
   "id": "03c667b2",
   "metadata": {},
   "outputs": [],
   "source": [
    "# all data is contained in one geopackage called 'Example model'\n",
    "gpkg_file = str(data_path / \"Example_model.gpkg\")\n",
    "\n",
    "# initialize a hydamo object\n",
    "hydamo = HyDAMO(extent_file=data_path / \"OLO_stroomgebied_incl.maas.shp\")\n",
    "\n",
    "# show content\n",
    "hydamo.branches.show_gpkg(gpkg_file)"
   ]
  },
  {
   "cell_type": "code",
   "execution_count": null,
   "id": "a86cfdb0",
   "metadata": {},
   "outputs": [],
   "source": [
    "# read branchs\n",
    "hydamo.branches.read_gpkg_layer(gpkg_file, layer_name=\"HydroObject\", index_col=\"code\")\n",
    "# read profiles\n",
    "hydamo.profile.read_gpkg_layer(\n",
    "    gpkg_file,\n",
    "    layer_name=\"ProfielPunt\",\n",
    "    groupby_column=\"profiellijnid\",\n",
    "    order_column=\"codevolgnummer\",\n",
    "    id_col=\"code\",\n",
    ")\n",
    "hydamo.profile_roughness.read_gpkg_layer(gpkg_file, layer_name=\"RuwheidProfiel\")\n",
    "hydamo.profile.snap_to_branch(hydamo.branches, snap_method=\"intersecting\")\n",
    "hydamo.profile.dropna(axis=0, inplace=True, subset=[\"branch_offset\"])\n",
    "hydamo.profile_line.read_gpkg_layer(gpkg_file, layer_name=\"profiellijn\")\n",
    "hydamo.profile_group.read_gpkg_layer(gpkg_file, layer_name=\"profielgroep\")\n",
    "hydamo.profile.drop(\"code\", axis=1, inplace=True)\n",
    "hydamo.profile[\"code\"] = hydamo.profile[\"profiellijnid\"]\n",
    "# read structures\n",
    "hydamo.culverts.read_gpkg_layer(gpkg_file, layer_name=\"DuikerSifonHevel\", index_col=\"code\")\n",
    "hydamo.culverts.snap_to_branch(hydamo.branches, snap_method=\"ends\", maxdist=5)\n",
    "hydamo.culverts.dropna(axis=0, inplace=True, subset=[\"branch_offset\"])\n",
    "\n",
    "hydamo.weirs.read_gpkg_layer(gpkg_file, layer_name=\"Stuw\")\n",
    "hydamo.weirs.snap_to_branch(hydamo.branches, snap_method=\"overal\", maxdist=10)\n",
    "hydamo.weirs.dropna(axis=0, inplace=True, subset=[\"branch_offset\"])\n",
    "hydamo.opening.read_gpkg_layer(gpkg_file, layer_name=\"Kunstwerkopening\")\n",
    "hydamo.management_device.read_gpkg_layer(gpkg_file, layer_name=\"Regelmiddel\")\n",
    "\n",
    "idx = hydamo.management_device[hydamo.management_device[\"duikersifonhevelid\"].notnull()].index\n",
    "for i in idx:\n",
    "    globid = hydamo.culverts[\n",
    "        hydamo.culverts.code == hydamo.management_device.duikersifonhevelid.loc[i]\n",
    "    ].globalid.values[0]\n",
    "    hydamo.management_device.at[i, \"duikersifonhevelid\"] = globid\n",
    "\n",
    "hydamo.pumpstations.read_gpkg_layer(gpkg_file, layer_name=\"Gemaal\", index_col=\"code\")\n",
    "hydamo.pumpstations.snap_to_branch(hydamo.branches, snap_method=\"overal\", maxdist=10)\n",
    "hydamo.pumps.read_gpkg_layer(gpkg_file, layer_name=\"Pomp\", index_col=\"code\")\n",
    "hydamo.management.read_gpkg_layer(gpkg_file, layer_name=\"Sturing\", index_col=\"code\")\n",
    "\n",
    "hydamo.bridges.read_gpkg_layer(gpkg_file, layer_name=\"Brug\", index_col=\"code\")\n",
    "hydamo.bridges.snap_to_branch(hydamo.branches, snap_method=\"overal\", maxdist=1100)\n",
    "hydamo.bridges.dropna(axis=0, inplace=True, subset=[\"branch_offset\"])\n",
    "# read boundaries\n",
    "hydamo.boundary_conditions.read_gpkg_layer(\n",
    "    gpkg_file, layer_name=\"hydrologischerandvoorwaarde\", index_col=\"code\"\n",
    ")\n",
    "hydamo.boundary_conditions.snap_to_branch(hydamo.branches, snap_method=\"overal\", maxdist=10)\n",
    "\n",
    "# read catchments\n",
    "hydamo.catchments.read_gpkg_layer(gpkg_file, layer_name=\"afvoergebiedaanvoergebied\", index_col=\"code\")\n",
    "# read laterals\n",
    "hydamo.laterals.read_gpkg_layer(gpkg_file, layer_name=\"lateraleknoop\")\n",
    "for ind, cat in hydamo.catchments.iterrows():\n",
    "    hydamo.catchments.loc[ind, \"lateraleknoopcode\"] = hydamo.laterals[\n",
    "        hydamo.laterals.globalid == cat.lateraleknoopid\n",
    "    ].code.values[0]\n",
    "hydamo.laterals.snap_to_branch(hydamo.branches, snap_method=\"overal\", maxdist=5000)"
   ]
  },
  {
   "cell_type": "code",
   "execution_count": null,
   "id": "af80aa71",
   "metadata": {},
   "outputs": [],
   "source": [
    "# plot the model objects\n",
    "plt.rcParams[\"axes.edgecolor\"] = \"w\"\n",
    "\n",
    "fig, ax = plt.subplots(figsize=(10, 10))\n",
    "\n",
    "ax.set_xlim(196000, 205000)\n",
    "ax.set_ylim(391000, 397000)\n",
    "\n",
    "hydamo.branches.geometry.plot(ax=ax, label=\"Channel\", linewidth=2, color=\"blue\")\n",
    "hydamo.profile.geometry.plot(ax=ax, color=\"red\", label=\"Cross section\", linewidth=1)\n",
    "hydamo.culverts.geometry.centroid.plot(\n",
    "    ax=ax, color=\"yellow\", label=\"Culvert\", markersize=20, zorder=10, marker=\"^\"\n",
    ")\n",
    "hydamo.weirs.geometry.centroid.plot(ax=ax, color=\"green\", label=\"Weir\", markersize=25, zorder=10, marker=\"^\")\n",
    "hydamo.bridges.geometry.plot(ax=ax, color=\"red\", label=\"Bridge\", markersize=20, zorder=10, marker=\"^\")\n",
    "hydamo.pumpstations.geometry.plot(\n",
    "    ax=ax,\n",
    "    color=\"orange\",\n",
    "    label=\"Pump\",\n",
    "    marker=\"s\",\n",
    "    markersize=125,\n",
    "    zorder=10,\n",
    "    facecolor=\"none\",\n",
    "    linewidth=2.5,\n",
    ")\n",
    "hydamo.boundary_conditions.geometry.plot(\n",
    "    ax=ax, color=\"red\", label=\"Boundary\", marker=\"s\", markersize=125, zorder=10, facecolor=\"red\", linewidth=0\n",
    ")\n",
    "ax.legend()\n",
    "\n",
    "cx.add_basemap(ax, crs=28992, source=cx.providers.OpenStreetMap.Mapnik)\n",
    "fig.tight_layout()\n",
    "plt.show()"
   ]
  },
  {
   "cell_type": "markdown",
   "id": "e65eb829",
   "metadata": {},
   "source": [
    "## Data conversion\n"
   ]
  },
  {
   "cell_type": "markdown",
   "id": "66260073",
   "metadata": {},
   "source": [
    "### Structures"
   ]
  },
  {
   "cell_type": "markdown",
   "id": "8d81ddc4",
   "metadata": {},
   "source": [
    "HyDAMO contains methods to convert HyDAMO DAMO2.2 data to internal dataframes, which correspond to the D-HYDRO format.\n",
    "\n",
    "We first import the structures from the HyDAMO-object, since the structures' positions are necessary for defining the position of the 1D-mesh. Structures can also be added without the HyDAMO imports.\n",
    "\n",
    "Note that for importing most structures multiple objects are needed from the GPKG. For more info on how to add structures (directly or from HyDAMO), see: https://hkvconfluence.atlassian.net/wiki/spaces/DHYD/overview.\n",
    "\n",
    " - for weirs, a corresponding profile is looked up in the crossections. If one is found, the weir is implemented as a universal weir. If it is not found, a regular (rectangular) weir will be used. The cross-section ('hydamo.profile') should be related through 'hydamo.profile_line' to a 'hydamo.profile_group', which contains a 'stuwid' column which is equal to the GlobalID of the corresponding weir. The weir object can also include orifices, in that case the field 'overlaatonderlaat' in the 'management_device-object ('regelmiddel') is 'onderlaat'. For weirs it should be 'overlaat'.\n",
    " \n",
    " - for culverts, a regelmiddel can be used to model a 'schuif' and/or a 'terugslagklep'. This is specified by the field 'soortregelmiddel'. In case of a 'terugslagklep', the flow direction is set to 'positive' instead of 'both'. In case of a 'schuif', a valve is implemented. Note that in DAMO2.2, an 'afsluitmiddel' can contain the same information. For now, only a regelmiddel (management_device) is implemented.\n",
    " \n",
    " - bridges need an associated crosssection. This is idential to universal weirs, but here the 'hydamo.profile_group'-object should contain a field 'brugid'. \n",
    " \n",
    " - pumps are composed from 'hydamo.pumpstations', 'hydamo.pumps' and 'hydamo.managmement'. Only suction-side direction is implemented. Maximal capacity should be in m3/min.\n",
    "\n",
    "In most cases, these 'extra' arguments are optional, i.e. they are not required and can be left out. Some are required:\n",
    "- pumps really need all 3 objects ('hydamo.pumpstations', 'hydamo.pumps' and 'hydamo.managmement');\n",
    "- bridges really need an associated crosssection (see above);\n",
    "\n",
    "For more info on the structure definitions one is referred to the D-Flow FM user manual: https://content.oss.deltares.nl/delft3d/manuals/D-Flow_FM_User_Manual.pdf."
   ]
  },
  {
   "cell_type": "code",
   "execution_count": null,
   "id": "e6e868c4",
   "metadata": {},
   "outputs": [],
   "source": [
    "hydamo.structures.convert.weirs(\n",
    "    hydamo.weirs,\n",
    "    hydamo.profile_group,\n",
    "    hydamo.profile_line,\n",
    "    hydamo.profile,\n",
    "    hydamo.opening,\n",
    "    hydamo.management_device,\n",
    ")\n",
    "\n",
    "hydamo.structures.convert.culverts(hydamo.culverts, management_device=hydamo.management_device)\n",
    "\n",
    "hydamo.structures.convert.bridges(\n",
    "    hydamo.bridges,\n",
    "    profile_groups=hydamo.profile_group,\n",
    "    profile_lines=hydamo.profile_line,\n",
    "    profiles=hydamo.profile,\n",
    ")\n",
    "\n",
    "hydamo.structures.convert.pumps(hydamo.pumpstations, pumps=hydamo.pumps, management=hydamo.management)"
   ]
  },
  {
   "cell_type": "markdown",
   "id": "dfd57482",
   "metadata": {},
   "source": [
    "Additional methods are available to add structures:"
   ]
  },
  {
   "cell_type": "code",
   "execution_count": null,
   "id": "dab1eb66",
   "metadata": {},
   "outputs": [],
   "source": [
    "hydamo.structures.add_rweir(\n",
    "    id=\"rwtest\",\n",
    "    name=\"rwtest\",\n",
    "    branchid=\"W_1386_0\",\n",
    "    chainage=2.0,\n",
    "    crestlevel=18.0,\n",
    "    crestwidth=3.0,\n",
    "    corrcoeff=1.0,\n",
    ")"
   ]
  },
  {
   "cell_type": "markdown",
   "id": "b028ef59",
   "metadata": {},
   "source": [
    "The resulting dataframes look like this:"
   ]
  },
  {
   "cell_type": "code",
   "execution_count": null,
   "id": "9fb2e151",
   "metadata": {},
   "outputs": [],
   "source": [
    "hydamo.structures.culverts_df.head()"
   ]
  },
  {
   "cell_type": "markdown",
   "id": "9f9d5f76",
   "metadata": {},
   "source": [
    "# Initialize the FM-model"
   ]
  },
  {
   "cell_type": "markdown",
   "id": "c49c9f45",
   "metadata": {},
   "source": [
    "At this stage also the start and stoptime are defined, they will be used in the other modules if needed"
   ]
  },
  {
   "cell_type": "code",
   "execution_count": null,
   "id": "1669a7bb",
   "metadata": {},
   "outputs": [],
   "source": [
    "fm = FMModel()\n",
    "# Set start and stop time\n",
    "fm.time.refdate = 20160601\n",
    "fm.time.tstop = 2 * 3600 * 24"
   ]
  },
  {
   "cell_type": "markdown",
   "id": "0f1a3496",
   "metadata": {},
   "source": [
    "## Add the 1D mesh"
   ]
  },
  {
   "cell_type": "markdown",
   "id": "7e2acdb7",
   "metadata": {},
   "source": [
    "The above structures are collected in one dataframe and in the generation of calculation poins, as structures should be separated by calculation points."
   ]
  },
  {
   "cell_type": "code",
   "execution_count": null,
   "id": "ac5bac05",
   "metadata": {},
   "outputs": [],
   "source": [
    "structures = hydamo.structures.as_dataframe(\n",
    "    rweirs=True,\n",
    "    bridges=True,\n",
    "    uweirs=True,\n",
    "    culverts=True,\n",
    "    orifices=True,\n",
    "    pumps=True,\n",
    ")"
   ]
  },
  {
   "cell_type": "code",
   "execution_count": null,
   "id": "82f201d7",
   "metadata": {},
   "outputs": [],
   "source": [
    "mesh.mesh1d_add_branches_from_gdf(\n",
    "    fm.geometry.netfile.network,\n",
    "    branches=hydamo.branches,\n",
    "    branch_name_col=\"code\",\n",
    "    node_distance=20,\n",
    "    max_dist_to_struc=None,\n",
    "    structures=structures,\n",
    ")"
   ]
  },
  {
   "cell_type": "markdown",
   "id": "97e1d829",
   "metadata": {},
   "source": [
    "Add cross-sections to the branches. TO do this, many HyDAMO objects might be needed: if parameterised profiles occur, they are taken from hydamo.param_profile and, param_profile_values; if crosssections are associated with structures, those are specified in profile_group and profile lines. \n",
    "\n",
    "HyDAMO DAMO2.2 data contains two roughness values (high and low); here it can be specified which one to use.\n",
    "\n",
    "For branches without a crosssection, a default profile can be defined."
   ]
  },
  {
   "cell_type": "code",
   "execution_count": null,
   "id": "351c2006",
   "metadata": {},
   "outputs": [],
   "source": [
    "hydamo.crosssections.convert.profiles(\n",
    "    crosssections=hydamo.profile,\n",
    "    crosssection_roughness=hydamo.profile_roughness,\n",
    "    profile_groups=hydamo.profile_group,\n",
    "    profile_lines=hydamo.profile_line,\n",
    "    param_profile=hydamo.param_profile,\n",
    "    param_profile_values=hydamo.param_profile_values,\n",
    "    branches=hydamo.branches,\n",
    "    roughness_variant=\"High\",\n",
    ")\n",
    "\n",
    "# Set a default cross section\n",
    "default = hydamo.crosssections.add_rectangle_definition(\n",
    "    height=5.0, width=5.0, closed=False, roughnesstype=\"StricklerKs\", roughnessvalue=30, name=\"default\"\n",
    ")\n",
    "hydamo.crosssections.set_default_definition(definition=default, shift=10.0)"
   ]
  },
  {
   "cell_type": "markdown",
   "id": "9f833b8e",
   "metadata": {},
   "source": [
    "### Observation points"
   ]
  },
  {
   "cell_type": "markdown",
   "id": "7f8c2d7e",
   "metadata": {},
   "source": [
    "Observation points are now written in the new format, where one can discriminate between 1D ('1d') and 2D ('2d') observation points. This can be done using the optional argument 'locationTypes'. If it is omitted, all points are assumed to be 1d. 1D-points are always snapped to a the nearest branch. 2D-observation points are always defined by their X/Y-coordinates.\n",
    "\n",
    "Note: add_points can be called only once: once dfmodel.observation_points is filled,the add_points-method is not available anymore. Observation point coordinates can be definied eiher as an (x,y)-tuple or as a shapely Point-object."
   ]
  },
  {
   "cell_type": "code",
   "execution_count": null,
   "id": "117a2022",
   "metadata": {},
   "outputs": [],
   "source": [
    "hydamo.observationpoints.add_points(\n",
    "    [Point(199617,394885), Point(199421,393769), Point(199398,393770)],\n",
    "    [\"Obs_BV152054\", \"ObsS_96684_1\",\"ObsS_96684_2\"],\n",
    "    locationTypes=[\"1d\", \"1d\", \"1d\"],\n",
    "    snap_distance=10.0,\n",
    ")"
   ]
  },
  {
   "cell_type": "code",
   "execution_count": null,
   "id": "718922b5",
   "metadata": {},
   "outputs": [],
   "source": [
    "hydamo.observationpoints.observation_points.head()"
   ]
  },
  {
   "cell_type": "markdown",
   "id": "f6187b91",
   "metadata": {},
   "source": [
    "### Boundary conditions"
   ]
  },
  {
   "cell_type": "markdown",
   "id": "50ec0b90",
   "metadata": {},
   "source": [
    "The HyDAMO database contains constant boundaries. They are added to the model:"
   ]
  },
  {
   "cell_type": "code",
   "execution_count": null,
   "id": "98f316f6",
   "metadata": {},
   "outputs": [],
   "source": [
    "hydamo.external_forcings.convert.boundaries(hydamo.boundary_conditions, mesh1d=fm.geometry.netfile.network)"
   ]
  },
  {
   "cell_type": "markdown",
   "id": "0d75b135",
   "metadata": {},
   "source": [
    "However, we also need an upstream discharge boundary, which is not constant. We add a fictional time series, which can be read from Excel as well:"
   ]
  },
  {
   "cell_type": "code",
   "execution_count": null,
   "id": "43a9d94d",
   "metadata": {},
   "outputs": [],
   "source": [
    "series = pd.Series(np.sin(np.linspace(2, 8, 120) * -1) + 1.0)\n",
    "series.index = [pd.Timestamp(\"2016-06-01 00:00:00\") + pd.Timedelta(hours=i) for i in range(120)]\n",
    "series.plot()"
   ]
  },
  {
   "cell_type": "markdown",
   "id": "657c1f0d",
   "metadata": {},
   "source": [
    "There is also a fuction to convert laterals, but to run this we also need the RR model. Therefore, see below. It also possible to manually add boundaries and laterals as constants or timeseries. We implement the sinoid above as an upstream streamflow boundary:"
   ]
  },
  {
   "cell_type": "code",
   "execution_count": null,
   "id": "d495ec3c",
   "metadata": {},
   "outputs": [],
   "source": [
    "hydamo.external_forcings.add_boundary_condition(\n",
    "    \"RVW_01\", (197464.0, 392130.0), \"dischargebnd\", series, fm.geometry.netfile.network\n",
    ")"
   ]
  },
  {
   "cell_type": "code",
   "execution_count": null,
   "id": "4aef6ae5",
   "metadata": {},
   "outputs": [],
   "source": [
    "hydamo.dict_to_dataframe(hydamo.external_forcings.boundary_nodes)"
   ]
  },
  {
   "cell_type": "markdown",
   "id": "66ff2a8f",
   "metadata": {},
   "source": [
    "### Initial conditions"
   ]
  },
  {
   "cell_type": "markdown",
   "id": "19062279",
   "metadata": {},
   "source": [
    "Set the initial water depth to 1.5 m. It is also possible to set a global water level using the equivalent function \"set_initial_waterlevel\"."
   ]
  },
  {
   "cell_type": "code",
   "execution_count": null,
   "id": "c6d2d3f9",
   "metadata": {},
   "outputs": [],
   "source": [
    "hydamo.external_forcings.set_initial_waterdepth(1.5)"
   ]
  },
  {
   "cell_type": "markdown",
   "id": "eb566ece",
   "metadata": {},
   "source": [
    "### 2D mesh"
   ]
  },
  {
   "cell_type": "markdown",
   "id": "22bc466a",
   "metadata": {},
   "source": [
    "To add a mesh, currently 2 options exist:\n",
    "1. The converter can generate a relatively simple mesh, with a rotation or refinement. Note that rotation _and_ refinement is currently not possible. In the section below we generate a refined 2D mesh with the following steps:\n",
    "\n",
    "    - Generate grid within a polygon. The polygon is the extent given to the HyDAMO model.\n",
    "    - Refine along the main branch\n",
    "    - Determine altitude from a DEM. \n"
   ]
  },
  {
   "cell_type": "code",
   "execution_count": null,
   "id": "3eda5878",
   "metadata": {},
   "outputs": [],
   "source": [
    "# 2d mesh extent\n",
    "if TwoD:\n",
    "    extent = gpd.read_file(\"../tests/data/2D_extent.shp\").at[0, \"geometry\"]\n",
    "    network = fm.geometry.netfile.network"
   ]
  },
  {
   "cell_type": "markdown",
   "id": "8179b099",
   "metadata": {},
   "source": [
    "To generate a triangular mesh:"
   ]
  },
  {
   "cell_type": "code",
   "execution_count": null,
   "id": "cf662b6b",
   "metadata": {},
   "outputs": [],
   "source": [
    "if TwoD:\n",
    "    mesh.mesh2d_add_triangular(network, extent, edge_length=150)"
   ]
  },
  {
   "cell_type": "code",
   "execution_count": null,
   "id": "624e6c7e",
   "metadata": {},
   "outputs": [],
   "source": [
    "# if TwoD:\n",
    "#     mesh.mesh2d_add_rectilinear(network, extent, dx=50, dy=50)          "
   ]
  },
  {
   "cell_type": "markdown",
   "id": "7ac3c0c0",
   "metadata": {},
   "source": [
    "Refine the 2D mesh within an arbitrary distance of 50 m from all branches (works on a subselection as well):"
   ]
  },
  {
   "cell_type": "code",
   "execution_count": null,
   "id": "6bc1509d",
   "metadata": {},
   "outputs": [],
   "source": [
    "if TwoD:\n",
    "    print(\"Nodes before refinement:\", network._mesh2d.mesh2d_node_x.size)\n",
    "\n",
    "    # refine around the branches. This does only work for a polygon without holes, so use the exterior\n",
    "    buffer = Polygon(hydamo.branches.buffer(50.0).unary_union.exterior)\n",
    "    mesh.mesh2d_refine(network, buffer, 1)\n",
    "    print(\"Nodes after refinement:\", network._mesh2d.mesh2d_node_x.size)\n",
    "    \n",
    "    # add terrain level\n",
    "    mesh.mesh2d_altitude_from_raster(network, \"../tests/data/rasters/AHN_2m_clipped_filled2.tif\", \"face\", \"mean\", fill_value=-999)"
   ]
  },
  {
   "cell_type": "markdown",
   "id": "fc34f2df",
   "metadata": {},
   "source": [
    "For linking the 1D and 2D model, three options are available:\n",
    "1. Generating links from each 1d node to the nearest 2d node.\n",
    "2. Generating links from each 2d node to the nearest 1d node (intersecting==True)\n",
    "3. Generating links from each 2d node to the nearest 1d node, while not allowing the links to intersect other cells (intersecting==True).\n",
    "\n",
    "Intersecting indicates whether or not the 2D cells cross the 1D network (lateral versus embedded links).\n",
    "So, option 3 is relevant when there is no 2d mesh on top of the 1d mesh: the lateral links.\n",
    "\n",
    "Note that for each option a maximum link length can be chosen, to prevent creating long (and perhaps unrealistic) links."
   ]
  },
  {
   "cell_type": "markdown",
   "id": "c788d20c",
   "metadata": {},
   "source": [
    "### Add 1d-2d links"
   ]
  },
  {
   "cell_type": "code",
   "execution_count": null,
   "id": "6f2b5322",
   "metadata": {},
   "outputs": [],
   "source": [
    "if TwoD:\n",
    "    mesh.links1d2d_add_links_1d_to_2d(fm.geometry.netfile.network)    "
   ]
  },
  {
   "cell_type": "code",
   "execution_count": null,
   "id": "c6b076f2",
   "metadata": {},
   "outputs": [],
   "source": [
    "# plot the network\n",
    "if TwoD:\n",
    "    network = fm.geometry.netfile.network\n",
    "    fig, axs = plt.subplots(figsize=(13.5, 6), ncols=2, constrained_layout=True)\n",
    "    plot_network(network, ax=axs[0])\n",
    "    plot_network(network, ax=axs[1], links1d2d_kwargs=dict(lw=3, color=\"k\"))\n",
    "    for ax in axs:\n",
    "        ax.set_aspect(1.0)\n",
    "        ax.plot(*buffer.exterior.coords.xy, color=\"k\", lw=0.5)\n",
    "    axs[0].autoscale_view()\n",
    "    axs[1].set_xlim(199700, 200200)\n",
    "    axs[1].set_ylim(393600, 394100)\n",
    "\n",
    "    sc = axs[1].scatter(\n",
    "        x=network._mesh2d.mesh2d_face_x,\n",
    "        y=network._mesh2d.mesh2d_face_y,\n",
    "        c=network._mesh2d.mesh2d_face_z,\n",
    "        s=10,\n",
    "        vmin=17,\n",
    "        vmax=20,\n",
    "    )\n",
    "    cb = plt.colorbar(sc, ax=axs[1])\n",
    "    cb.set_label(\"Face level [m+NAP]\")\n",
    "\n",
    "    plt.show()"
   ]
  },
  {
   "cell_type": "markdown",
   "id": "c8a12976",
   "metadata": {},
   "source": [
    "# STOP. Exercise 1. Change the 2d mesh to rectangular."
   ]
  },
  {
   "cell_type": "markdown",
   "id": "a6993926",
   "metadata": {},
   "source": [
    "Above you see the result of a triangular mesh with a resolution of 150m. Make a rectangular mesh and examine the result in this figure. An example of the required function is commented out above in the 2D section. Suggestions for steps if needed:<br>\n",
    "    1)\tComment the block where the triangular mesh is generated (crt + /) <br>\n",
    "    2)\tUndo comment in the block where de rectangular mesh will be generated (ctr + /)<br>\n",
    "    3)\tSelect the cell below the figure with the mesh (the cell where you are now)<br>\n",
    "    4)\tSelect in the menu [Kernel] and then [Restart kernel and clear all outputs] and push the [restart] button<br>\n",
    "    5)\tSelect in the menu [Run] and then [Run all above selected cell]<br>\n",
    "    6)\tWait until the new figure with the rectangular mesh is generated<br>\n"
   ]
  },
  {
   "cell_type": "markdown",
   "id": "86ead332",
   "metadata": {},
   "source": [
    "For finalizing the FM-model, we also need the coupling to the other modules. Therefore, we will do that first."
   ]
  },
  {
   "cell_type": "markdown",
   "id": "8b1487c4",
   "metadata": {},
   "source": [
    "# Add an RTC model"
   ]
  },
  {
   "cell_type": "markdown",
   "id": "1d9feda1",
   "metadata": {},
   "source": [
    "RTC contains many different options. Three are now implemented in D-HyDAMO: \n",
    "- a PID controller (crest level is determined by water level at an observation point);\n",
    "- a time controller (a time series of crest level is provided);\n",
    "- the possibility for the users to provide their own XML-files for more complex cases. Depending on the complexity, the integration might not yet work for all cases."
   ]
  },
  {
   "cell_type": "markdown",
   "id": "e172252c",
   "metadata": {},
   "source": [
    "First, initialize a DRTCModel-object. The input is hydamo (for the data), fm (for the time settings), a path where the model will be created (typically an 'rtc' subfolder), a timestep (default 60 seconds) and, optionally, a folder where the user can put 'custom' XML code that will be integrated in the RTC-model. These files will be parsed now and be integrated later."
   ]
  },
  {
   "cell_type": "code",
   "execution_count": null,
   "id": "849d4bab",
   "metadata": {},
   "outputs": [],
   "source": [
    "if RTC:\n",
    "    drtcmodel = DRTCModel(\n",
    "        hydamo,\n",
    "        fm,\n",
    "        output_path=output_path,\n",
    "        rtc_timestep=60.0,\n",
    "        complex_controllers_folder=data_path / \"complex_controllers\"        \n",
    "    )"
   ]
  },
  {
   "cell_type": "markdown",
   "id": "755b275a",
   "metadata": {},
   "source": [
    "If PID controllers are present, they need settings that are not included in the HyDAMO DAMO2.2 data. We define those in a dictionary. They can be specified for each structure - in that case the key of the dictionary should match the key in the HyDAMO DAMO2.2 'sturing'-object. If no separate settings are provided the 'global' settings are used."
   ]
  },
  {
   "cell_type": "code",
   "execution_count": null,
   "id": "f4ffc926",
   "metadata": {},
   "outputs": [],
   "source": [
    "if RTC:\n",
    "    pid_settings = {}\n",
    "    pid_settings[\"global\"] = {\n",
    "        \"ki\": 0.001,\n",
    "        \"kp\": 0.00,\n",
    "        \"kd\": 0.0,\n",
    "        \"maxspeed\": 0.00033,\n",
    "    }\n",
    "    pid_settings[\"kst_pid\"] = {\n",
    "            \"ki\": 0.001,\n",
    "            \"kp\": 0.0,\n",
    "            \"kd\": 0.0,\n",
    "            \"maxspeed\": 0.00033,\n",
    "        }"
   ]
  },
  {
   "cell_type": "markdown",
   "id": "057601e2",
   "metadata": {},
   "source": [
    "The function 'from_hydamo' converts the controllers that are specified in the HyDAMO DAMO2.2 data. The extra input consists of the settings for PID controllers (see above) and a dataframe with time series for the time controllers."
   ]
  },
  {
   "cell_type": "code",
   "execution_count": null,
   "id": "d725f2f9",
   "metadata": {},
   "outputs": [],
   "source": [
    "if RTC:\n",
    "    if not hydamo.management.typecontroller.empty:\n",
    "        timeseries = pd.read_csv(data_path / \"timecontrollers.csv\")\n",
    "        timeseries.index = timeseries.Time        \n",
    "\n",
    "        drtcmodel.from_hydamo(pid_settings=pid_settings, timeseries=timeseries)\n",
    "        timeseries.plot()"
   ]
  },
  {
   "cell_type": "markdown",
   "id": "c2d38c57",
   "metadata": {},
   "source": [
    "Additional controllers, that are not included in D-HyDAMO DAMO2.2 might be specified like this:"
   ]
  },
  {
   "cell_type": "code",
   "execution_count": null,
   "id": "1bb43072",
   "metadata": {},
   "outputs": [],
   "source": [
    "if RTC:\n",
    "    drtcmodel.add_time_controller(\n",
    "        structure_id=\"S_96548\", steering_variable=\"Crest level (s)\", data=timeseries.loc[:,'S_96548']\n",
    "    )"
   ]
  },
  {
   "cell_type": "markdown",
   "id": "5e67f0af",
   "metadata": {},
   "source": [
    "## STOP. Exercise 2: Add a PID controller. \n",
    "\n",
    "In the cell above, a time controller is added. A PID controller can be added in the same way. Add a PID controller to weir S_96544. Additional settings are needed to do this:\n",
    "\n",
    "* Structure_id: 'S_96544'\n",
    "* Observation_location: 'ObsS_96544'\n",
    "* steering_variable: 'Crest level (s)'\n",
    "* target_variable: 'Water level (op)'\n",
    "* setpoint: 13.2\n",
    "* upper_bound: 13.4\n",
    "* lower_bound: 12.8\n",
    "* pid_settings: pid_settings['global']\n"
   ]
  },
  {
   "cell_type": "code",
   "execution_count": null,
   "id": "b04219b4",
   "metadata": {},
   "outputs": [],
   "source": []
  },
  {
   "cell_type": "markdown",
   "id": "7b508301",
   "metadata": {},
   "source": [
    "The observation point above is not yet in the model. Add  an observation point with name \"ObsS_96544\" and coordinates  (200198,396489). See \"Observation points\" above for an example.\n",
    "\n",
    "Note that although we add only one point, the function needs a list as input. So keep the rectangular brackets ([]) as in the example input."
   ]
  },
  {
   "cell_type": "code",
   "execution_count": null,
   "id": "ee2331f4",
   "metadata": {},
   "outputs": [],
   "source": []
  },
  {
   "cell_type": "markdown",
   "id": "4135512e",
   "metadata": {},
   "source": [
    "You can check that the point is added like this:"
   ]
  },
  {
   "cell_type": "code",
   "execution_count": null,
   "id": "f4355360",
   "metadata": {},
   "outputs": [],
   "source": [
    "hydamo.observationpoints.observation_points.head()"
   ]
  },
  {
   "cell_type": "markdown",
   "id": "2a14da50",
   "metadata": {},
   "source": [
    "## Add a rainfall runoff model"
   ]
  },
  {
   "cell_type": "markdown",
   "id": "0bb15d11",
   "metadata": {},
   "source": [
    "RR has not changed yet compared to delft3dfmpy. Initialize a model:"
   ]
  },
  {
   "cell_type": "code",
   "execution_count": null,
   "id": "b936f4ce",
   "metadata": {},
   "outputs": [],
   "source": [
    "if RR:\n",
    "    drrmodel = DRRModel()"
   ]
  },
  {
   "cell_type": "markdown",
   "id": "ddfbea5d",
   "metadata": {},
   "source": [
    "Catchments are provided in the HyDAMO DAMO2.2 format and included in the GPKG. They can also be read from other formats using 'read_gml', or 'read_shp'. Note that in case of shapefiles column mapping is necessary because the column names are truncated. \n",
    "\n",
    "Note that when catchments have a \"MultiPolygon' geometry, the multipolygons are 'exploded' into single polygon geometries. A warning of this is isued, and a suffix is added to every polygons ID to prevent duplicates. \n",
    "\n",
    "For every catchment, the land use areas will be calculated and if appopriate a maximum of four RR-nodes will be created per catchment:\n",
    " - unpaved (based on the Ernst concept)\n",
    " - paved \n",
    " - greenhouse\n",
    " - open water (not the full Sobek2 open water, but only used to transfer (net) precipitation that falls on open water that is schematized in RR to the 1D/2D network.\n",
    " \n",
    "At the moment, two options exist for the schematisation of the paved area:\n",
    " 1) simple: the paved fraction of each catchment is modelled with a paved node, directly connected to catchments' boundary node\n",
    " <br>\n",
    " 2) more complex: sewer area polygons and overflow points are used a input as well. For each sewer area, the overlapping paved area is the distributed over the overflows that are associated with the sewerarea (the column 'lateraleknoopcode') using the area fraction (column 'fractie') for each overflow. In each catchment, paved area that does not intersect with a sewer area gets an unpaved node as in option (1).\n"
   ]
  },
  {
   "cell_type": "markdown",
   "id": "0baec96a",
   "metadata": {},
   "source": [
    "Load data and settings (still to fill with documentatation from delft3dfmpy)"
   ]
  },
  {
   "cell_type": "code",
   "execution_count": null,
   "id": "88d091ae",
   "metadata": {},
   "outputs": [],
   "source": [
    "if RR:\n",
    "    # all data and settings to create the RR-model\n",
    "    lu_file = data_path / \"rasters\" / \"sobek_landuse.tif\"\n",
    "    ahn_file = data_path / \"rasters\" / \"AHN_2m_clipped_filled.tif\"\n",
    "    soil_file = data_path / \"rasters\" / \"sobek_soil.tif\"\n",
    "    surface_storage = 10.0\n",
    "    infiltration_capacity = 100.0\n",
    "    initial_gwd = 1.2  # water level depth below surface\n",
    "\n",
    "    runoff_resistance = 1.0\n",
    "    infil_resistance = 300.0\n",
    "    layer_depths = [0.0, 1.0, 2.0]\n",
    "    layer_resistances = [30, 200, 10000]\n",
    "    street_storage = 10.0\n",
    "    sewer_storage = 10.0\n",
    "    pumpcapacity = 10.0\n",
    "    roof_storage = 10.0\n",
    "    meteo_areas = hydamo.catchments"
   ]
  },
  {
   "cell_type": "markdown",
   "id": "e377d59b",
   "metadata": {},
   "source": [
    "Fill the nodes:"
   ]
  },
  {
   "cell_type": "markdown",
   "id": "a49402ea",
   "metadata": {},
   "source": [
    "For land use and soil type a coding is prescribed. For landuse, the legend of the map is expected to be as follows: <br>\n",
    " 1 potatoes  <br>\n",
    " 2 wheat<br>\n",
    " 3 sugar beet<br> \n",
    " 4 corn       <br> \n",
    " 5 other crops <br> \n",
    " 6 bulbous plants<br> \n",
    " 7 orchard<br>\n",
    " 8 grass  <br>\n",
    " 9 deciduous forest  <br>\n",
    "10 coniferous forest<br>\n",
    "11 nature<br>\n",
    "12 barren<br>\n",
    "13 open water<br>\n",
    "14 built-up<br>\n",
    "15 greenhouses<br>\n",
    "\n",
    "For classes 1-12, the areas are calculated from the provided raster and remapped to the classification in the Sobek RR-tables.\n",
    "\n",
    "\n",
    "The coding for the soil types:<br>\n",
    "1 'Veengrond met veraarde bovengrond'<br>\n",
    " 2 'Veengrond met veraarde bovengrond, zand'<br>\n",
    " 3 'Veengrond met kleidek'<br>\n",
    " 4 'Veengrond met kleidek op zand'<br>\n",
    " 5 'Veengrond met zanddek op zand'<br>\n",
    " 6 'Veengrond op ongerijpte klei'<br>\n",
    " 7 'Stuifzand'<br>\n",
    " 8 'Podzol (Leemarm, fijn zand)'<br>\n",
    " 9 'Podzol (zwak lemig, fijn zand)'<br>\n",
    "10 'Podzol (zwak lemig, fijn zand op grof zand)'<br>\n",
    "11 'Podzol (lemig keileem)'<br>\n",
    "12 'Enkeerd (zwak lemig, fijn zand)'<br>\n",
    "13 'Beekeerd (lemig fijn zand)'<br>\n",
    "14 'Podzol (grof zand)'<br>\n",
    "15 'Zavel'<br>\n",
    "16 'Lichte klei'<br>\n",
    "17 'Zware klei'<br>\n",
    "18 'Klei op veen'<br>\n",
    "19 'Klei op zand'<br>\n",
    "20 'Klei op grof zand'<br>\n",
    "21 'Leem'<br>\n",
    "\n",
    "\n",
    "And surface elevation needs to be in m+NAP."
   ]
  },
  {
   "cell_type": "code",
   "execution_count": null,
   "id": "0dd0a5e5",
   "metadata": {},
   "outputs": [],
   "source": [
    "if RR:\n",
    "    drrmodel.unpaved.io.unpaved_from_input(\n",
    "        hydamo.catchments,\n",
    "        lu_file,\n",
    "        ahn_file,\n",
    "        soil_file,\n",
    "        surface_storage,\n",
    "        infiltration_capacity,\n",
    "        initial_gwd,\n",
    "        meteo_areas,\n",
    "    )\n",
    "    drrmodel.unpaved.io.ernst_from_input(\n",
    "        hydamo.catchments,\n",
    "        depths=layer_depths,\n",
    "        resistance=layer_resistances,\n",
    "        infiltration_resistance=infil_resistance,\n",
    "        runoff_resistance=runoff_resistance,\n",
    "    )\n",
    "    drrmodel.paved.io.paved_from_input(\n",
    "        catchments=hydamo.catchments,\n",
    "        landuse=lu_file,\n",
    "        surface_level=ahn_file,\n",
    "        street_storage=street_storage,\n",
    "        sewer_storage=sewer_storage,\n",
    "        pump_capacity=pumpcapacity,\n",
    "        meteo_areas=meteo_areas,\n",
    "        zonalstats_alltouched=True,\n",
    "    )\n",
    "    drrmodel.greenhouse.io.greenhouse_from_input(\n",
    "        hydamo.catchments, lu_file, ahn_file, roof_storage, meteo_areas, zonalstats_alltouched=True\n",
    "    )\n",
    "    drrmodel.openwater.io.openwater_from_input(\n",
    "        hydamo.catchments, lu_file, meteo_areas, zonalstats_alltouched=True\n",
    "    )"
   ]
  },
  {
   "cell_type": "markdown",
   "id": "7ad17902",
   "metadata": {},
   "source": [
    "Make the RR boundaries:"
   ]
  },
  {
   "cell_type": "code",
   "execution_count": null,
   "id": "be6dfe5a",
   "metadata": {},
   "outputs": [],
   "source": [
    "if RR:\n",
    "    drrmodel.external_forcings.io.boundary_from_input(hydamo.laterals, hydamo.catchments, drrmodel)"
   ]
  },
  {
   "cell_type": "markdown",
   "id": "b8a927e1",
   "metadata": {},
   "source": [
    "Again, the result is a dictionary, but it can be easily displayed as a dataframe:"
   ]
  },
  {
   "cell_type": "code",
   "execution_count": null,
   "id": "8581887b",
   "metadata": {},
   "outputs": [],
   "source": [
    "if RR:\n",
    "    hydamo.dict_to_dataframe(drrmodel.paved.pav_nodes).tail()"
   ]
  },
  {
   "cell_type": "markdown",
   "id": "1552ca42",
   "metadata": {},
   "source": [
    "As with FM objects, also RR-nodes can be added from the workflow. A paved node as an example:"
   ]
  },
  {
   "cell_type": "code",
   "execution_count": null,
   "id": "1cb2809c",
   "metadata": {},
   "outputs": [],
   "source": [
    "if RR:\n",
    "    drrmodel.paved.add_paved(\n",
    "        id=\"test_pav\",\n",
    "        area=\"100\",\n",
    "        surface_level=\"18.1\",\n",
    "        street_storage=\"10.0\",\n",
    "        sewer_storage=\"10.0\",\n",
    "        pump_capacity=\"1.\",\n",
    "        meteo_area=hydamo.catchments.iloc[0].code,\n",
    "        px=str(hydamo.catchments.iloc[0].geometry.centroid.coords[0][0]),\n",
    "        py=str(hydamo.catchments.iloc[0].geometry.centroid.coords[0][1]),\n",
    "        boundary_node=list(drrmodel.external_forcings.boundary_nodes.keys())[0],\n",
    "    )"
   ]
  },
  {
   "cell_type": "markdown",
   "id": "faec663c",
   "metadata": {},
   "source": [
    "### External forcings\n",
    "\n",
    "Three types of external forcing need to be provided:<br>\n",
    "- Seepage/drainage\n",
    "- Precipitation\n",
    "- Evaporation\n",
    "\n",
    "All are assumed to be spatially variable and thus need to pe provided as rasters per time step. Only the locations of the folders containing the rasters need to be provided; the time step is then derived from the file names.\n",
    "\n",
    "Precipitation and evaporation are assumed to be in mm/d. As for evaporation only one meteostation is used, the meteo_areas are dissolved. For seepage, as the use of Metaswap-rasters is allowed, the unit is assumed to m3/grid cell/timestep.\n",
    "\n",
    "Rastertypes can be any type that is recognized by rasterio (in any case Geotiff and ArcASCII rasters). If the file extension is 'IDF', as is the case in Modflow output, the raster is read using the 'imod'-package.\n",
    "\n",
    "IMPORTANT: time steps are extracted from the file names. Therefore, the names should cohere to some conditions:\n",
    "The filename should consist of at least two parts, separated by underscores. The second part needs to contain time information, which should be formatted as YYYYMMDDHHMMSS (SS may be omitted). Or, for daily data YYYYMMDD.\n",
    "\n",
    "For example: 'precip_20200605151500.tif'\n",
    "\n",
    "Extracting meteo-data from rasters can be time consuming. If precip_file and evap_file are specified, meteo-files are copied from an existing location."
   ]
  },
  {
   "cell_type": "code",
   "execution_count": null,
   "id": "044abbf8",
   "metadata": {},
   "outputs": [],
   "source": [
    "if RR:\n",
    "    seepage_folder = data_path / \"rasters\" / \"seepage\"\n",
    "    precip_file = str(data_path / \"DEFAULT.BUI\")\n",
    "    evap_folder = data_path / \"rasters\" / \"evaporation\"\n",
    "    drrmodel.external_forcings.io.seepage_from_input(hydamo.catchments, seepage_folder)\n",
    "    drrmodel.external_forcings.io.precip_from_input(meteo_areas, precip_folder=None, precip_file=precip_file)\n",
    "    drrmodel.external_forcings.io.evap_from_input(meteo_areas, evap_folder=evap_folder, evap_file=None)"
   ]
  },
  {
   "cell_type": "markdown",
   "id": "31cb98db",
   "metadata": {},
   "source": [
    "Add the main parameters:"
   ]
  },
  {
   "cell_type": "code",
   "execution_count": null,
   "id": "04e6f66e",
   "metadata": {},
   "outputs": [],
   "source": [
    "if RR:   \n",
    "    drrmodel.d3b_parameters[\"Timestepsize\"] = 300\n",
    "    drrmodel.d3b_parameters[\"StartTime\"] = \"'2016/06/01;00:00:00'\"  # should be equal to refdate for D-HYDRO\n",
    "    drrmodel.d3b_parameters[\"EndTime\"] = \"'2016/06/03;00:00:00'\"\n",
    "    drrmodel.d3b_parameters[\"RestartIn\"] = 0\n",
    "    drrmodel.d3b_parameters[\"RestartOut\"] = 0\n",
    "    drrmodel.d3b_parameters[\"RestartFileNamePrefix\"] = \"Test\"\n",
    "    drrmodel.d3b_parameters[\"UnsaturatedZone\"] = 1\n",
    "    drrmodel.d3b_parameters[\"UnpavedPercolationLikeSobek213\"] = -1\n",
    "    drrmodel.d3b_parameters[\"VolumeCheckFactorToCF\"] = 100000\n"
   ]
  },
  {
   "cell_type": "markdown",
   "id": "de064e1c",
   "metadata": {},
   "source": [
    "And now we can also add the laterals to FM with the correct settings:"
   ]
  },
  {
   "cell_type": "code",
   "execution_count": null,
   "id": "0b51c232",
   "metadata": {},
   "outputs": [],
   "source": [
    "if RR:\n",
    "    hydamo.external_forcings.convert.laterals(\n",
    "        hydamo.laterals,\n",
    "        lateral_discharges=None,\n",
    "        rr_boundaries=drrmodel.external_forcings.boundary_nodes,\n",
    "    )\n",
    "else:\n",
    "    # if no  realtime coupling, we apply constant dscharge which is included in the laterals object\n",
    "    lateral_discharges = hydamo.laterals[\"afvoer\"]\n",
    "    lateral_discharges.index = hydamo.laterals.code\n",
    "    hydamo.external_forcings.convert.laterals(\n",
    "        hydamo.laterals, lateral_discharges=lateral_discharges, rr_boundaries=None\n",
    "    )\n"
   ]
  },
  {
   "cell_type": "markdown",
   "id": "5f319856",
   "metadata": {},
   "source": [
    "And now we can also manually add lateral nodes, which we still need to convert to a dataframe."
   ]
  },
  {
   "cell_type": "markdown",
   "id": "3c12a619",
   "metadata": {},
   "source": [
    "### Plot the RR model"
   ]
  },
  {
   "cell_type": "code",
   "execution_count": null,
   "id": "15ec6897",
   "metadata": {},
   "outputs": [],
   "source": [
    "def node_geometry(dict):\n",
    "    # Function to put the node geometries in geodataframes\n",
    "    from shapely.geometry import Point, LineString\n",
    "\n",
    "    geoms = []\n",
    "    links = []\n",
    "    for i in dict.items():\n",
    "        if \"ar\" in i[1]:\n",
    "            if np.sum([float(s) for s in i[1][\"ar\"].split(\" \")]) > 0:\n",
    "                geoms.append(Point((float(i[1][\"px\"]), float(i[1][\"py\"]))))\n",
    "                links.append(\n",
    "                    LineString(\n",
    "                        (\n",
    "                            Point(float(i[1][\"px\"]), float(i[1][\"py\"])),\n",
    "                            Point(\n",
    "                                float(drrmodel.external_forcings.boundary_nodes[i[1][\"boundary_node\"]][\"px\"]),\n",
    "                                float(drrmodel.external_forcings.boundary_nodes[i[1][\"boundary_node\"]][\"py\"]),\n",
    "                            ),\n",
    "                        )\n",
    "                    )\n",
    "                )\n",
    "        else:\n",
    "            geoms.append(Point((float(i[1][\"px\"]), float(i[1][\"py\"]))))\n",
    "    return ((gpd.GeoDataFrame(geoms, columns=[\"geometry\"])), gpd.GeoDataFrame(links, columns=[\"geometry\"]))"
   ]
  },
  {
   "cell_type": "code",
   "execution_count": null,
   "id": "7d6a7fd3",
   "metadata": {},
   "outputs": [],
   "source": [
    "if RR:\n",
    "    ## plt.rcParams['axes.edgecolor'] = 'w'\n",
    "    import matplotlib.patches as mpatches\n",
    "\n",
    "    fig, ax = plt.subplots(figsize=(10, 10))\n",
    "\n",
    "    ax.xaxis.set_visible(False)\n",
    "    ax.yaxis.set_visible(False)\n",
    "    ax.set_xlim(195000, 205000)\n",
    "    ax.set_ylim(390000, 399000)\n",
    "\n",
    "    hydamo.catchments.geometry.plot(ax=ax, label=\"Catchments\", edgecolor=\"black\", facecolor=\"pink\", alpha=0.5)\n",
    "    hydamo.branches.geometry.plot(ax=ax, label=\"Channel\")\n",
    "    node_geometry(drrmodel.unpaved.unp_nodes)[0].plot(\n",
    "        ax=ax, markersize=30, marker=\"s\", color=\"green\", label=\"Unpaved\"\n",
    "    )\n",
    "    node_geometry(drrmodel.unpaved.unp_nodes)[1].plot(ax=ax, color=\"black\", linewidth=0.5)\n",
    "    node_geometry(drrmodel.paved.pav_nodes)[0].plot(ax=ax, markersize=20, marker=\"s\", color=\"red\", label=\"Paved\")\n",
    "    node_geometry(drrmodel.paved.pav_nodes)[1].plot(ax=ax, color=\"black\", linewidth=0.5)\n",
    "    node_geometry(drrmodel.greenhouse.gh_nodes)[0].plot(ax=ax, markersize=15, color=\"yellow\", label=\"Greenhouse\")\n",
    "    node_geometry(drrmodel.greenhouse.gh_nodes)[1].plot(ax=ax, color=\"black\", linewidth=0.5)\n",
    "    node_geometry(drrmodel.openwater.ow_nodes)[0].plot(ax=ax, markersize=10, color=\"blue\", label=\"Openwater\")\n",
    "    node_geometry(drrmodel.openwater.ow_nodes)[1].plot(ax=ax, color=\"black\", linewidth=0.5, label=\"RR-link\")\n",
    "    node_geometry(drrmodel.external_forcings.boundary_nodes)[0].plot(\n",
    "        ax=ax, markersize=15, color=\"purple\", label=\"RR Boundary\"\n",
    "    )\n",
    "\n",
    "    # manually add handles for polygon plot\n",
    "    handles, labels = ax.get_legend_handles_labels()\n",
    "    poly = mpatches.Patch(facecolor=\"pink\", edgecolor=\"black\", alpha=0.5)\n",
    "    cx.add_basemap(ax, crs=28992, source=cx.providers.OpenStreetMap.Mapnik)\n",
    "    ax.legend(handles=handles.append(poly), labels=labels.append(\"Catchments\"))\n",
    "    fig.tight_layout()"
   ]
  },
  {
   "cell_type": "markdown",
   "id": "496246a6",
   "metadata": {},
   "source": [
    "## Writing the model"
   ]
  },
  {
   "cell_type": "markdown",
   "id": "017362ec",
   "metadata": {},
   "source": [
    "Now we call Hydrolib-core functionality to write the model. First, we initialize an object that converts all dataframes to Hydrolib-core objects. Then we add these models to the file structure of the FM model."
   ]
  },
  {
   "cell_type": "markdown",
   "id": "cd38d190",
   "metadata": {},
   "source": [
    "Call a function to convert the dataframes to Hydrolib-core classes:"
   ]
  },
  {
   "cell_type": "code",
   "execution_count": null,
   "id": "ddab8915",
   "metadata": {},
   "outputs": [],
   "source": [
    "models = Df2HydrolibModel(hydamo)"
   ]
  },
  {
   "cell_type": "markdown",
   "id": "b48a4654",
   "metadata": {},
   "source": [
    "And add the classes to the file structure"
   ]
  },
  {
   "cell_type": "code",
   "execution_count": null,
   "id": "c83774f6",
   "metadata": {},
   "outputs": [],
   "source": [
    "fm.geometry.structurefile = [StructureModel(structure=models.structures)]\n",
    "fm.geometry.crosslocfile = CrossLocModel(crosssection=models.crosslocs)\n",
    "fm.geometry.crossdeffile = CrossDefModel(definition=models.crossdefs)\n",
    "\n",
    "fm.geometry.frictfile = []\n",
    "for i, fric_def in enumerate(models.friction_defs):\n",
    "    fric_model = FrictionModel(global_=fric_def)\n",
    "    fric_model.filepath = f\"roughness_{i}.ini\"\n",
    "    fm.geometry.frictfile.append(fric_model)\n",
    "\n",
    "fm.output.obsfile = [ObservationPointModel(observationpoint=models.obspoints)]\n",
    "\n",
    "extmodel = ExtModel()\n",
    "extmodel.boundary = models.boundaries_ext\n",
    "extmodel.lateral = models.laterals_ext\n",
    "fm.external_forcing.extforcefilenew = extmodel\n",
    "\n",
    "fm.geometry.inifieldfile = IniFieldModel(initial=models.inifields)\n",
    "# for ifield, onedfield in enumerate(models.onedfieldmodels):\n",
    "#     fm.geometry.inifieldfile.initial[ifield].datafile = OneDFieldModel(\n",
    "#         global_= onedfield\n",
    "#     )\n",
    "# mdu settings\n",
    "fm.geometry.bedlevtype = 1"
   ]
  },
  {
   "cell_type": "markdown",
   "id": "cd4cc45c",
   "metadata": {},
   "source": [
    "Now we write the file structure:"
   ]
  },
  {
   "cell_type": "code",
   "execution_count": null,
   "id": "e5e26da8",
   "metadata": {},
   "outputs": [],
   "source": [
    "fm.filepath = Path(output_path) / \"fm\" / \"demo.mdu\"\n",
    "dimr = DIMR()\n",
    "dimr.component.append(\n",
    "    FMComponent(name=\"DFM\", workingDir=Path(output_path) / \"fm\", model=fm, inputfile=fm.filepath)    \n",
    ")\n",
    "dimr.save(recurse=True)"
   ]
  },
  {
   "cell_type": "code",
   "execution_count": null,
   "id": "fb539bc8",
   "metadata": {},
   "outputs": [],
   "source": [
    "import shutil\n",
    "shutil.copy(data_path / \"initialWaterDepth.ini\", output_path / \"fm\")"
   ]
  },
  {
   "cell_type": "markdown",
   "id": "e8a44fee",
   "metadata": {},
   "source": [
    "The writers for RR and RTC are not yet available in the HYDROLIB-core library. We use the original delft3dfmpy writer for RR and a custom writer for RTC:"
   ]
  },
  {
   "cell_type": "code",
   "execution_count": null,
   "id": "8aff8814",
   "metadata": {},
   "outputs": [],
   "source": [
    "if RTC:\n",
    "    drtcmodel.write_xml_v1()"
   ]
  },
  {
   "cell_type": "code",
   "execution_count": null,
   "id": "d6e41b9b",
   "metadata": {},
   "outputs": [],
   "source": [
    "if RR:\n",
    "    rr_writer = DRRWriter(drrmodel, output_dir=output_path, name=\"test\", wwtp=(199000.0, 396000.0))\n",
    "    rr_writer.write_all()"
   ]
  },
  {
   "cell_type": "code",
   "execution_count": null,
   "id": "1405757f",
   "metadata": {},
   "outputs": [],
   "source": [
    "if not RR:\n",
    "    drrmodel = None\n",
    "if not RTC:\n",
    "    drtcmodel = None\n",
    "dimr = DIMRWriter(output_path=output_path)\n",
    "dimr.write_dimrconfig(fm, rr_model=drrmodel, rtc_model=drtcmodel)\n",
    "dimr.write_runbat()"
   ]
  },
  {
   "cell_type": "code",
   "execution_count": null,
   "id": "5be7e8a1",
   "metadata": {},
   "outputs": [],
   "source": [
    "print(\"Done!\")"
   ]
  },
  {
   "cell_type": "code",
   "execution_count": null,
   "id": "c0f07aea",
   "metadata": {},
   "outputs": [],
   "source": [
    "import shutil\n",
    "shutil.make_archive(str(output_path),'zip',output_path)"
   ]
  },
  {
   "cell_type": "code",
   "execution_count": null,
   "id": "a6b8600c",
   "metadata": {},
   "outputs": [],
   "source": []
  }
 ],
 "metadata": {
  "kernelspec": {
   "display_name": "Python 3",
   "language": "python",
   "name": "python3"
  },
  "language_info": {
   "codemirror_mode": {
    "name": "ipython",
    "version": 3
   },
   "file_extension": ".py",
   "mimetype": "text/x-python",
   "name": "python",
   "nbconvert_exporter": "python",
   "pygments_lexer": "ipython3",
   "version": "3.8.13"
  },
  "toc": {
   "base_numbering": 1,
   "nav_menu": {},
   "number_sections": true,
   "sideBar": true,
   "skip_h1_title": true,
   "title_cell": "Table of Contents",
   "title_sidebar": "Contents",
   "toc_cell": false,
   "toc_position": {
    "height": "calc(100% - 180px)",
    "left": "10px",
    "top": "150px",
    "width": "435.2px"
   },
   "toc_section_display": true,
   "toc_window_display": true
  },
  "vscode": {
   "interpreter": {
    "hash": "c8f3abdefbf881e2b3539f5584c87a896a4670262e33cdd4a4c9f3bebf419aeb"
   }
  }
 },
 "nbformat": 4,
 "nbformat_minor": 5
}
