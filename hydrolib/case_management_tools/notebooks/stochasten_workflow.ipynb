{
 "cells": [
  {
   "cell_type": "code",
   "execution_count": 1,
   "id": "6afd5681",
   "metadata": {
    "scrolled": true
   },
   "outputs": [
    {
     "ename": "ModuleNotFoundError",
     "evalue": "No module named 'cmt'",
     "output_type": "error",
     "traceback": [
      "\u001b[1;31m---------------------------------------------------------------------------\u001b[0m",
      "\u001b[1;31mModuleNotFoundError\u001b[0m                       Traceback (most recent call last)",
      "\u001b[1;32m~\\AppData\\Local\\Temp\\ipykernel_16180\\740071012.py\u001b[0m in \u001b[0;36m<cell line: 1>\u001b[1;34m()\u001b[0m\n\u001b[1;32m----> 1\u001b[1;33m \u001b[1;32mfrom\u001b[0m \u001b[0mcmt\u001b[0m\u001b[1;33m.\u001b[0m\u001b[0mproject\u001b[0m \u001b[1;32mimport\u001b[0m \u001b[0mProject\u001b[0m\u001b[1;33m\u001b[0m\u001b[1;33m\u001b[0m\u001b[0m\n\u001b[0m\u001b[0;32m      2\u001b[0m \u001b[1;32mfrom\u001b[0m \u001b[0mpathlib\u001b[0m \u001b[1;32mimport\u001b[0m \u001b[0mPath\u001b[0m\u001b[1;33m\u001b[0m\u001b[1;33m\u001b[0m\u001b[0m\n\u001b[0;32m      3\u001b[0m \u001b[1;32mimport\u001b[0m \u001b[0mjson\u001b[0m\u001b[1;33m\u001b[0m\u001b[1;33m\u001b[0m\u001b[0m\n",
      "\u001b[1;31mModuleNotFoundError\u001b[0m: No module named 'cmt'"
     ]
    }
   ],
   "source": [
    "from cmt.project import Project\n",
    "from pathlib import Path\n",
    "import json"
   ]
  },
  {
   "cell_type": "markdown",
   "id": "39442b70",
   "metadata": {},
   "source": [
    "# Aanlevering vanuit de stochastentool\n",
    "\n",
    "De CMT kan een export vanuit de Stochastentool inlezen. Deze levering bevat:\n",
    "* een of meerdere modellen (in dit voorbeeld `dellen_rr_fm_rtc_T1.zip`)\n",
    "* initiele condities (in dit voorbeeld `hydrosummerhalfyear_middelnat.zip` en `hydrowinterhalfyear_middelnat.zip`)\n",
    "* eventueel randvoorwaarden\n",
    "* een json met daarin de informatie hoe dit te vertalen naar cases `populate_cases.json`\n",
    "\n",
    "Kijk maar!"
   ]
  },
  {
   "cell_type": "code",
   "execution_count": null,
   "id": "623b706b",
   "metadata": {
    "scrolled": true
   },
   "outputs": [],
   "source": [
    "from_stochastentool = Path(r\"../data/dellen\")\n",
    "[i.name for i in from_stochastentool.glob(\"*\")]"
   ]
  },
  {
   "cell_type": "markdown",
   "id": "7e3ac11c",
   "metadata": {},
   "source": [
    "Wat zit er ín populate_cases.json? Laten we het openen!"
   ]
  },
  {
   "cell_type": "code",
   "execution_count": null,
   "id": "32fcba14",
   "metadata": {},
   "outputs": [],
   "source": [
    "populate_cases_json = from_stochastentool / \"populate_cases.json\"\n",
    "populate_cases = json.loads(populate_cases_json.read_text())\n",
    "\n",
    "print(f\"De inhoud van {populate_cases_json.name} bevat:\")\n",
    "print(f\" Aantal meteorologische randvoorwaarden: {len(populate_cases['boundary_conditions']['meteo'])}\")\n",
    "print(f\" Aantal hydraulische randvoorwaarden: {len(populate_cases['boundary_conditions']['flow'])}\")\n",
    "print(f\" Aantal initiele condities voor RR: {len(populate_cases['initial_conditions']['rr'])}\")\n",
    "print(f\" Aantal modellen {len(populate_cases['initial_conditions'])}\")\n",
    "print(f\" Aantal cases hieruit afgeleid {len(populate_cases['cases'])}\")\n"
   ]
  },
  {
   "cell_type": "markdown",
   "id": "17cce551",
   "metadata": {},
   "source": [
    "We bekijken nu waarmee de eerste case moet worden opgebouwd en worden gedraaid"
   ]
  },
  {
   "cell_type": "code",
   "execution_count": null,
   "id": "19d1fa06",
   "metadata": {
    "scrolled": true
   },
   "outputs": [],
   "source": [
    "case = populate_cases[\"cases\"][0]\n",
    "print(f\"id van de case: {case['id']}\")\n",
    "print(f\"de meteo die moet worden gebruikt: {case['meteo_bc_id']}\")\n",
    "print(f\"de hydraulische rvw die moet worden gebruikt: {case['flow_bc_id']}\")\n",
    "print(f\"de initiele conditie voor RR: {case['rr_ini_id']}\")"
   ]
  },
  {
   "cell_type": "markdown",
   "id": "f0c228a7",
   "metadata": {},
   "source": [
    "De modulde `stowabui` is als onderdeel van deze TKI ontwikkeld voor het genereren van STOWA buien via Python. Deze module wordt hieronder geimporteerd. De MeteoEvent klasse binnen deze module maken we een standaard meteorologische forcing aan met een duur van 24 uur een bui-volume van 15mm het STOWA patroon `HOOG` en een verdamping van 0mm/dag. \n",
    "\n",
    "We maken hieronder de klasse aan en verifieren wat we hierboven beweren met een plotje. We printen ook de eigenschappen waarmee we een bui kunnen configureren:\n",
    "- `meteo_event.duration`: de duur van de bui in een pd.Timedelta\n",
    "- `meteo_event.volume.rainfall`: het volume van de neerslag over de duur\n",
    "- `meteo_event.pattern`: het gebruikte buipatroon\n",
    "- `meteo_event.season`: het gebruikte seizoen\n",
    "\n",
    "Voor onze case zien deze parameters er als volgt uit"
   ]
  },
  {
   "cell_type": "code",
   "execution_count": null,
   "id": "b958638e",
   "metadata": {},
   "outputs": [],
   "source": [
    "meteo = next(i for i in populate_cases[\"boundary_conditions\"][\"meteo\"] if i[\"id\"] == case['meteo_bc_id'])\n",
    "\n",
    "print(f\"duur: {meteo['stowa_bui']['duration']} uur\")\n",
    "print(f\"volume: {meteo['stowa_bui']['volume']} mm\")\n",
    "print(f\"patroon: {meteo['stowa_bui']['pattern']}\")\n",
    "print(f\"seizoen: {meteo['stowa_bui']['season']}\")"
   ]
  },
  {
   "cell_type": "markdown",
   "id": "edf3a3fe",
   "metadata": {},
   "source": [
    "# Aanmaken van cases\n",
    "\n",
    "Vanuit de aangeleverde data uit de stochastentool bouwen we cases"
   ]
  },
  {
   "cell_type": "code",
   "execution_count": null,
   "id": "5841b0e7",
   "metadata": {},
   "outputs": [],
   "source": [
    "project = Project(filepath=r\"../data/stochast\").from_stochastics(populate_cases_json)"
   ]
  },
  {
   "cell_type": "markdown",
   "id": "c3ae05a2",
   "metadata": {},
   "source": [
    "Hier alle cases die we hebben aangemaakt:"
   ]
  },
  {
   "cell_type": "code",
   "execution_count": null,
   "id": "4cb46dfb",
   "metadata": {},
   "outputs": [],
   "source": [
    "[i.name for i in project.cases]"
   ]
  },
  {
   "cell_type": "markdown",
   "id": "4b8a315a",
   "metadata": {},
   "source": [
    "We vinden hier de vertaalde case uit de populate_cases.json terug:"
   ]
  },
  {
   "cell_type": "code",
   "execution_count": null,
   "id": "5483f710",
   "metadata": {
    "scrolled": true
   },
   "outputs": [],
   "source": [
    "project.get_case(case[\"id\"]).dict()"
   ]
  },
  {
   "cell_type": "markdown",
   "id": "e8143b85",
   "metadata": {},
   "source": [
    "# Het runnen van 1 case\n",
    "We draaien de eerste case met `stream_output=True`. Wat normaal in de DHYDRO console wordt gelogd, zie je nu in de notebook"
   ]
  },
  {
   "cell_type": "code",
   "execution_count": null,
   "id": "405669ef",
   "metadata": {
    "scrolled": false
   },
   "outputs": [],
   "source": [
    "project.run_case(case[\"id\"], stream_output=True)"
   ]
  },
  {
   "cell_type": "markdown",
   "id": "1202e395",
   "metadata": {},
   "source": [
    "Wanneer we nogmaals de case opvragn, zien we dat de run heeft gedraaid, wanneer de run is gestart en hoelang de run erover heeft gedaan."
   ]
  },
  {
   "cell_type": "code",
   "execution_count": null,
   "id": "6476c02b",
   "metadata": {},
   "outputs": [],
   "source": [
    "project.get_case(case[\"id\"]).dict()"
   ]
  },
  {
   "cell_type": "markdown",
   "id": "36424268",
   "metadata": {},
   "source": [
    "Een samenvatting van de resultaten voor een select aantal locaties wordt weggeschreven:"
   ]
  },
  {
   "cell_type": "code",
   "execution_count": null,
   "id": "09c92c38",
   "metadata": {},
   "outputs": [],
   "source": [
    "project.results[0].results[case[\"id\"]]"
   ]
  },
  {
   "cell_type": "markdown",
   "id": "fbf45e39",
   "metadata": {},
   "source": [
    "# Runnen in batches\n",
    "\n",
    "Nu runnen we alles parallel:\n",
    "* workers=3: we verdelen de last over 3 CPU's\n",
    "* delete_output=True: we delete the fm output dir en slaan alleen de data op die we nodig hebben"
   ]
  },
  {
   "cell_type": "code",
   "execution_count": null,
   "id": "c7967651",
   "metadata": {},
   "outputs": [],
   "source": [
    "case_ids = project.get_cases()\n",
    "project.run_cases(case_ids, workers=3, delete_output=True)"
   ]
  }
 ],
 "metadata": {
  "kernelspec": {
   "display_name": "Python 3 (ipykernel)",
   "language": "python",
   "name": "python3"
  },
  "language_info": {
   "codemirror_mode": {
    "name": "ipython",
    "version": 3
   },
   "file_extension": ".py",
   "mimetype": "text/x-python",
   "name": "python",
   "nbconvert_exporter": "python",
   "pygments_lexer": "ipython3",
   "version": "3.8.13"
  }
 },
 "nbformat": 4,
 "nbformat_minor": 5
}
