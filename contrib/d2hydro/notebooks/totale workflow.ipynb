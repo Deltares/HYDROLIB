{
 "cells": [
  {
   "cell_type": "code",
   "execution_count": 1,
   "id": "6afd5681",
   "metadata": {
    "scrolled": true
   },
   "outputs": [],
   "source": [
    "from cmt.project import Project\n",
    "from pathlib import Path\n",
    "from hydrolib.core.io.bc.models import ForcingModel"
   ]
  },
  {
   "cell_type": "code",
   "execution_count": 2,
   "id": "32fcba14",
   "metadata": {},
   "outputs": [
    {
     "data": {
      "text/plain": [
       "<bound method BaseModel.dict of Project(filepath=WindowsPath('../data/test'), boundary_conditions=BoundaryConditions(meteo=[BoundaryCondition(id='24H_85MM_HOOG_WINTER', name='24H_85MM_HOOG_WINTER'), BoundaryCondition(id='24H_70MM_HOOG_WINTER', name='24H_70MM_HOOG_WINTER'), BoundaryCondition(id='24H_60MM_HOOG_WINTER', name='24H_60MM_HOOG_WINTER'), BoundaryCondition(id='24H_50MM_HOOG_WINTER', name='24H_50MM_HOOG_WINTER'), BoundaryCondition(id='24H_40MM_HOOG_WINTER', name='24H_40MM_HOOG_WINTER'), BoundaryCondition(id='24H_30MM_HOOG_WINTER', name='24H_30MM_HOOG_WINTER'), BoundaryCondition(id='24H_20MM_HOOG_WINTER', name='24H_20MM_HOOG_WINTER'), BoundaryCondition(id='24H_85MM_LAAG_WINTER', name='24H_85MM_LAAG_WINTER'), BoundaryCondition(id='24H_70MM_LAAG_WINTER', name='24H_70MM_LAAG_WINTER'), BoundaryCondition(id='24H_60MM_LAAG_WINTER', name='24H_60MM_LAAG_WINTER'), BoundaryCondition(id='24H_50MM_LAAG_WINTER', name='24H_50MM_LAAG_WINTER'), BoundaryCondition(id='24H_40MM_LAAG_WINTER', name='24H_40MM_LAAG_WINTER'), BoundaryCondition(id='24H_30MM_LAAG_WINTER', name='24H_30MM_LAAG_WINTER'), BoundaryCondition(id='24H_20MM_LAAG_WINTER', name='24H_20MM_LAAG_WINTER'), BoundaryCondition(id='24H_85MM_MIDDELHOOG_WINTER', name='24H_85MM_MIDDELHOOG_WINTER'), BoundaryCondition(id='24H_70MM_MIDDELHOOG_WINTER', name='24H_70MM_MIDDELHOOG_WINTER'), BoundaryCondition(id='24H_60MM_MIDDELHOOG_WINTER', name='24H_60MM_MIDDELHOOG_WINTER'), BoundaryCondition(id='24H_50MM_MIDDELHOOG_WINTER', name='24H_50MM_MIDDELHOOG_WINTER'), BoundaryCondition(id='24H_40MM_MIDDELHOOG_WINTER', name='24H_40MM_MIDDELHOOG_WINTER'), BoundaryCondition(id='24H_30MM_MIDDELHOOG_WINTER', name='24H_30MM_MIDDELHOOG_WINTER'), BoundaryCondition(id='24H_20MM_MIDDELHOOG_WINTER', name='24H_20MM_MIDDELHOOG_WINTER'), BoundaryCondition(id='24H_95MM_HOOG_ZOMER', name='24H_95MM_HOOG_ZOMER'), BoundaryCondition(id='24H_85MM_HOOG_ZOMER', name='24H_85MM_HOOG_ZOMER'), BoundaryCondition(id='24H_70MM_HOOG_ZOMER', name='24H_70MM_HOOG_ZOMER'), BoundaryCondition(id='24H_60MM_HOOG_ZOMER', name='24H_60MM_HOOG_ZOMER'), BoundaryCondition(id='24H_50MM_HOOG_ZOMER', name='24H_50MM_HOOG_ZOMER'), BoundaryCondition(id='24H_40MM_HOOG_ZOMER', name='24H_40MM_HOOG_ZOMER'), BoundaryCondition(id='24H_30MM_HOOG_ZOMER', name='24H_30MM_HOOG_ZOMER'), BoundaryCondition(id='24H_20MM_HOOG_ZOMER', name='24H_20MM_HOOG_ZOMER'), BoundaryCondition(id='24H_95MM_LAAG_ZOMER', name='24H_95MM_LAAG_ZOMER'), BoundaryCondition(id='24H_85MM_LAAG_ZOMER', name='24H_85MM_LAAG_ZOMER'), BoundaryCondition(id='24H_70MM_LAAG_ZOMER', name='24H_70MM_LAAG_ZOMER'), BoundaryCondition(id='24H_60MM_LAAG_ZOMER', name='24H_60MM_LAAG_ZOMER'), BoundaryCondition(id='24H_50MM_LAAG_ZOMER', name='24H_50MM_LAAG_ZOMER'), BoundaryCondition(id='24H_40MM_LAAG_ZOMER', name='24H_40MM_LAAG_ZOMER'), BoundaryCondition(id='24H_30MM_LAAG_ZOMER', name='24H_30MM_LAAG_ZOMER'), BoundaryCondition(id='24H_20MM_LAAG_ZOMER', name='24H_20MM_LAAG_ZOMER'), BoundaryCondition(id='24H_95MM_MIDDELHOOG_ZOMER', name='24H_95MM_MIDDELHOOG_ZOMER'), BoundaryCondition(id='24H_85MM_MIDDELHOOG_ZOMER', name='24H_85MM_MIDDELHOOG_ZOMER'), BoundaryCondition(id='24H_70MM_MIDDELHOOG_ZOMER', name='24H_70MM_MIDDELHOOG_ZOMER'), BoundaryCondition(id='24H_60MM_MIDDELHOOG_ZOMER', name='24H_60MM_MIDDELHOOG_ZOMER'), BoundaryCondition(id='24H_50MM_MIDDELHOOG_ZOMER', name='24H_50MM_MIDDELHOOG_ZOMER'), BoundaryCondition(id='24H_40MM_MIDDELHOOG_ZOMER', name='24H_40MM_MIDDELHOOG_ZOMER'), BoundaryCondition(id='24H_30MM_MIDDELHOOG_ZOMER', name='24H_30MM_MIDDELHOOG_ZOMER'), BoundaryCondition(id='24H_20MM_MIDDELHOOG_ZOMER', name='24H_20MM_MIDDELHOOG_ZOMER')], flow=[BoundaryCondition(id='NIET_VERHOOGD_WINTER', name='NIET_VERHOOGD_WINTER'), BoundaryCondition(id='NIET_VERHOOGD_ZOMER', name='NIET_VERHOOGD_ZOMER')]), models=Models(), Cases=Cases())>"
      ]
     },
     "execution_count": 2,
     "metadata": {},
     "output_type": "execute_result"
    }
   ],
   "source": [
    "cases_json = Path(r\"d:\\repositories\\HYDROLIB\\contrib\\d2hydro\\data\\populate_cases.json\")\n",
    "\n",
    "project = Project(filepath=r\"../data/test\").from_stochastics(cases_json)\n"
   ]
  },
  {
   "cell_type": "code",
   "execution_count": null,
   "id": "4cb46dfb",
   "metadata": {},
   "outputs": [],
   "source": []
  },
  {
   "cell_type": "code",
   "execution_count": null,
   "id": "f88adf25",
   "metadata": {},
   "outputs": [],
   "source": []
  },
  {
   "cell_type": "code",
   "execution_count": null,
   "id": "39b916f6",
   "metadata": {},
   "outputs": [],
   "source": []
  }
 ],
 "metadata": {
  "kernelspec": {
   "display_name": "Python 3 (ipykernel)",
   "language": "python",
   "name": "python3"
  },
  "language_info": {
   "codemirror_mode": {
    "name": "ipython",
    "version": 3
   },
   "file_extension": ".py",
   "mimetype": "text/x-python",
   "name": "python",
   "nbconvert_exporter": "python",
   "pygments_lexer": "ipython3",
   "version": "3.8.12"
  }
 },
 "nbformat": 4,
 "nbformat_minor": 5
}
