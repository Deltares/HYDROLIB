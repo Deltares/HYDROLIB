{
 "cells": [
  {
   "cell_type": "code",
   "execution_count": 1,
   "id": "a6cfe10f",
   "metadata": {},
   "outputs": [],
   "source": [
    "from ugrid import UGrid\n",
    "import netCDF4 as nc\n",
    "from pathlib import Path\n",
    "from sys import getsizeof\n",
    "\n",
    "nc_path = Path(r\"../data/dellen_map.nc\")"
   ]
  },
  {
   "cell_type": "markdown",
   "id": "c00af9ea",
   "metadata": {},
   "source": [
    "As a user I would like to query the (max)-values of a limited amount of locations (< 1000) for hydrological variables as water level and discharge. I know the node-ids, later probably x and y coordinates of these locations. A developper can expect models to contain as many nodes as DHYDRO can compute (e.g. 1E10^6) and dense timeseries (e.g. 1000 timesteps per simulation).\n",
    "\n",
    "I tested two approaches for reading a DHYDRO NetCDF file:\n",
    "1. Using Deltares UGrid: https://github.com/Deltares/UGridpy\n",
    "2. Using NeCDF4: https://unidata.github.io/netcdf4-python/\n",
    "\n",
    "For every approach I show the info I can get from each module:\n",
    "* UGrid gives me a flat (1D) array of a multi-dimensional variable.\n",
    "* NetCDF gives me the \"metadata\" of the variable; the variable is lazy-loaded. This metadata contains handy info (e.g. dimension variables) I can use to slice and transform the data.\n",
    "\n",
    "I checked the size and performance. As I can only read the entire array in memory UGrid more time and memory to load 1 variable. For this simple model (653 nodes, 145 timesteps) I do not run into a wall. But be aware, my model with 1E10^6 nodes and 1000 timesteps will consume 8GB of memory for loading 1 variable.\n",
    "\n",
    "netCDF4 also outperforms UGridpy in terms of user-friendlyness. As shown below I can see the dimension-variables (time and mesh1d_nNodes) I can use to conveniently slice the data and only load what I need."
   ]
  },
  {
   "cell_type": "code",
   "execution_count": 2,
   "id": "639e2eca",
   "metadata": {},
   "outputs": [
    {
     "name": "stdout",
     "output_type": "stream",
     "text": [
      "757592\n",
      "[-1.57       -2.15       -0.54       ... -3.10330762 -3.10849061\n",
      " -3.11363585]\n",
      "Wall time: 10.6 ms\n"
     ]
    }
   ],
   "source": [
    "%%time\n",
    "with UGrid(str(nc_path), \"r\") as ug:\n",
    "    ug_level = ug.variable_get_data_double(\"mesh1d_s1\")\n",
    "\n",
    "print(getsizeof(ug_level))\n",
    "print(ug_level)"
   ]
  },
  {
   "cell_type": "code",
   "execution_count": 3,
   "id": "d1e7a000",
   "metadata": {},
   "outputs": [
    {
     "name": "stdout",
     "output_type": "stream",
     "text": [
      "200\n",
      "<class 'netCDF4._netCDF4.Variable'>\n",
      "float64 mesh1d_s1(time, mesh1d_nNodes)\n",
      "    mesh: mesh1d\n",
      "    location: node\n",
      "    coordinates: mesh1d_node_x mesh1d_node_y\n",
      "    standard_name: sea_surface_height\n",
      "    long_name: Water level\n",
      "    units: m\n",
      "    grid_mapping: \n",
      "    _FillValue: -999.0\n",
      "unlimited dimensions: time\n",
      "current shape = (145, 653)\n",
      "filling on\n",
      "Wall time: 3.99 ms\n"
     ]
    }
   ],
   "source": [
    "%%time\n",
    "ds = nc.Dataset(nc_path)\n",
    "ds_level = ds[\"mesh1d_s1\"]\n",
    "\n",
    "print(getsizeof(ds_level))\n",
    "print(ds_level)"
   ]
  }
 ],
 "metadata": {
  "kernelspec": {
   "display_name": "Python 3 (ipykernel)",
   "language": "python",
   "name": "python3"
  },
  "language_info": {
   "codemirror_mode": {
    "name": "ipython",
    "version": 3
   },
   "file_extension": ".py",
   "mimetype": "text/x-python",
   "name": "python",
   "nbconvert_exporter": "python",
   "pygments_lexer": "ipython3",
   "version": "3.8.13"
  }
 },
 "nbformat": 4,
 "nbformat_minor": 5
}
