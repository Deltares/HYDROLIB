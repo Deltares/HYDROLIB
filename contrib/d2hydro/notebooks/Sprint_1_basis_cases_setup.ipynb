{
 "cells": [
  {
   "cell_type": "markdown",
   "id": "1d7371d3",
   "metadata": {},
   "source": [
    "# Sprint 1: Genereren van dhydro_project met cases\n",
    "\n",
    "In deze sprint definieren we de opzet van een DHYDRO project met meerdere cases. Een DHYDRO project bestaat uit de volgende componenten:\n",
    "* `models`: een aantal DHYDRO modellen: het netwerk, de netwerk objecten (kunstwerken, profiel-locaties, etc) en de object-paramters (kruinhoogte, profieldefinities, etc, etc)\n",
    "* `boundary_conditions`: dit zijn meerdere meteorologische randvoorwaarden in de sub-folder `meteo` en hydraulische randvoorwaarden in de sub-folder `flow`.\n",
    "* `initial_conditions`: initiele condities voor de modellen, wederom gescheiden in de mapjes `rr` en `cf`.\n",
    "\n",
    "Vanuit deze structuur volgt een aantal permutaties van modellen, randvoorwaarden en initiele condities die we, bijvoorbeeld, doorrekenen als onderdeel van een stochasten-onderzoek. Deze permutaties noemen we `cases` staan per case in een sub-map in de folder `cases` welke op gelijke hoogte staat met de bovengenoemde folders.\n",
    "\n",
    "In een case-folder wordt <u>verwezen</u> naar een model, sets meteorologische en hydraulische randvoorwaarden en initiele condities. Ook bevat de case-folder de resultaten indien de case is doorgerekend."
   ]
  },
  {
   "cell_type": "markdown",
   "id": "a76c930c",
   "metadata": {},
   "source": [
    "## Aanmaken directory structuur\n",
    "\n",
    "We maken de mappen-structuur aan voor ons D-HYDRO project:\n",
    "- boundary_conditions:\n",
    "    - flow: hydraulische randvoorwaarden (debiet en waterhoogte)\n",
    "    - rr: neerslag-afvoer randvoorwaarden (neerslag + verdamping)\n",
    "- cases: een directory met verwijzing naar boundary_conditions, intial_conditions en models\n",
    "- initial_conditions: initiele condities voor het RR/CF model\n",
    "- models: unieke RR/CF modellen\n",
    "\n",
    "We maken een index-dictionary object aan, waarin we de structuur netjes bijhouden"
   ]
  },
  {
   "cell_type": "code",
   "execution_count": 1,
   "id": "057c1b23",
   "metadata": {},
   "outputs": [],
   "source": [
    "from pathlib import Path\n",
    "import shutil\n",
    "\n",
    "# Our project_path\n",
    "project_path = Path(r\"../dhydro_project\")\n",
    "shutil.rmtree(project_path) #delete so we'll start with a fresh example\n",
    "\n",
    "# Create boundary conditions\n",
    "boundary_conditions_path = project_path / \"boundary_conditions\"\n",
    "meteo_path = boundary_conditions_path / \"meteo\"\n",
    "meteo_path.mkdir(parents=True, exist_ok=True)\n",
    "flow_path = boundary_conditions_path / \"flow\"\n",
    "flow_path.mkdir(parents=True, exist_ok=True)\n",
    "\n",
    "# Create initial conditions\n",
    "initial_conditions_path = project_path / \"initial_conditions\"\n",
    "initial_conditions_path.mkdir(parents=True, exist_ok=True)\n",
    "\n",
    "# Create model directory\n",
    "models_path = project_path / \"models\"\n",
    "models_path.mkdir(parents=True, exist_ok=True)\n",
    "\n",
    "# Create cases directory\n",
    "cases_path = project_path / \"cases\"\n",
    "cases_path.mkdir(parents=True, exist_ok=True)\n",
    "\n",
    "# Our index dict for administration\n",
    "index = dict(cases=[],\n",
    "             boundary_conditions=dict(flow=[],\n",
    "                                      meteo=[]),\n",
    "             initial_conditions=[],\n",
    "             models=[])"
   ]
  },
  {
   "cell_type": "markdown",
   "id": "59180c5c",
   "metadata": {},
   "source": [
    "## Aanmaken modellen\n",
    "Voor nu kopieren we één model vanuit de data-folder naar de model-folder"
   ]
  },
  {
   "cell_type": "code",
   "execution_count": 2,
   "id": "fb6c2b2f",
   "metadata": {},
   "outputs": [
    {
     "name": "stdout",
     "output_type": "stream",
     "text": [
      "..\\dhydro_project\\models\\e112_f01_c04_multiple_catchments\n"
     ]
    }
   ],
   "source": [
    "import zipfile\n",
    "zipped_base_model = Path(\"../data/e112_f01_c04_multiple_catchments.zip\")\n",
    "\n",
    "with zipfile.ZipFile(zipped_base_model) as zf:\n",
    "    zf.extractall(models_path)\n",
    "    \n",
    "print(\"\\n\".join([str(i) for i in Path(models_path).glob(\"*\")]))\n",
    "\n",
    "index[\"models\"].append(dict(id=\"e112_f01_c04_multiple_catchments\",\n",
    "                       name=\"testmodel aangeleverd door Deltares\",\n",
    "                       mdu_file=\"model4.mdu\",\n",
    "                       ext_file=\"model4.ext\"))"
   ]
  },
  {
   "cell_type": "markdown",
   "id": "a6bad73a",
   "metadata": {},
   "source": [
    "## Kopieren hydraulische randvoorwaarden\n",
    "Voor nu kopieren we de meegeleverde randvoorwaarde.\n",
    "\n",
    "Later willen we randvoorwaarden genereren zoals bij het aanmaken van meteorologische forcering."
   ]
  },
  {
   "cell_type": "code",
   "execution_count": 3,
   "id": "5b91decd",
   "metadata": {},
   "outputs": [
    {
     "name": "stdout",
     "output_type": "stream",
     "text": [
      "..\\dhydro_project\\boundary_conditions\\flow\\default.bc\n"
     ]
    }
   ],
   "source": [
    "source_file = models_path.joinpath(r\"e112_f01_c04_multiple_catchments/fm/model4.bc\")\n",
    "destination_file = flow_path / \"default.bc\"                               \n",
    "\n",
    "shutil.copy(source_file, destination_file)\n",
    "\n",
    "print(\"\\n\".join([str(i) for i in Path(flow_path).glob(\"*\")]))\n",
    "\n",
    "index[\"boundary_conditions\"][\"flow\"].append(dict(id=\"default\",\n",
    "                                                 name=\"aangeleverd door Deltares\"))"
   ]
  },
  {
   "cell_type": "markdown",
   "id": "9026ba2a",
   "metadata": {},
   "source": [
    "## Initiele condities\n",
    "Het default model maakt nog geen gebruik van initiele condities. In overleg met de TKI partners kunnen we een keuze maken welke soort CF-condities we gaan ondersteunen:\n",
    "- polygonen met initiele waterstand\n",
    "- XYZ locaties met initiele waterstand\n",
    "- Initiele condities berekend uit een modelrun"
   ]
  },
  {
   "cell_type": "markdown",
   "id": "2f649189",
   "metadata": {},
   "source": [
    "## Aanmaken meteorologische randvooraarde\n",
    "\n",
    "Meteorologische forcering schrijven we weg in het mapje `boundary_conditions_meteo`. De naam van elk forcering bestand volgt het patroon `{duur}H{volume}MM{patroon}`, waarbij:\n",
    "- `duur`: de duur van de bui in uren\n",
    "- `volume`: het totale volume van de bui in mm over de duur\n",
    "- `patroon` het STOWA bui-patroon dat de bui moet volgen\n",
    "\n",
    "Gegeven een bestandsnaam `NAAM` genereert de stowabui-module 3 bestanden:\n",
    "`NAAM.BUI`: het bui-bestand\n",
    "`NAAM.EVP`: het verdamping-bestand\n",
    "`NAAM.TMP`: het temperatuur-bestand\n",
    "\n",
    "Zie voor meer informatie de D-Hydro/Sobek gebruikershandleiding"
   ]
  },
  {
   "cell_type": "markdown",
   "id": "df5e03de",
   "metadata": {},
   "source": [
    "### Meteorologische randvoorwaarden\n",
    "\n",
    "De modulde `stowabui` is als onderdeel van deze TKI ontwikkeld voor het genereren van STOWA buien via Python. Deze module wordt hieronder geimporteerd. De MeteoEvent klasse binnen deze module maken we een standaard meteorologische forcing aan met een duur van 24 uur een bui-volume van 15mm het STOWA patroon `HOOG` en een verdamping van 0mm/dag. \n",
    "\n",
    "We maken hieronder de klasse aan en verifieren wat we hierboven beweren met een plotje. We printen ook de eigenschappen waarmee we een bui kunnen configureren:\n",
    "- `meteo_event.duration`: de duur van de bui in een pd.Timedelta\n",
    "- `meteo_event.volume.rainfall`: het volume van de neerslag over de duur\n",
    "- `meteo_event.pattern`: het gebruikte buipatroon\n",
    "- `meteo_event.season`: het gebruikte seizoen"
   ]
  },
  {
   "cell_type": "code",
   "execution_count": 4,
   "id": "68b238a4",
   "metadata": {},
   "outputs": [
    {
     "name": "stdout",
     "output_type": "stream",
     "text": [
      "duur: 1 days 00:00:00\n",
      "volume: 15mm\n",
      "patroon: HOOG\n",
      "seizoen: zomer\n"
     ]
    },
    {
     "data": {
      "image/png": "[encoded data removed]",
      "text/plain": [
       "<Figure size 432x288 with 1 Axes>"
      ]
     },
     "metadata": {
      "needs_background": "light"
     },
     "output_type": "display_data"
    }
   ],
   "source": [
    "import stowabui\n",
    "meteo_event = stowabui.MeteoEvent()\n",
    "meteo_event.get_rainfall_series().plot(ylabel=\"Neerslag [mm/uur]\", xlabel=\"Datum-tijd\", grid=True)\n",
    "\n",
    "print(f\"\"\"duur: {meteo_event.duration}\n",
    "volume: {meteo_event.volume.rainfall}mm\n",
    "patroon: {meteo_event.pattern}\n",
    "seizoen: {meteo_event.season}\"\"\")"
   ]
  },
  {
   "cell_type": "markdown",
   "id": "40177c97",
   "metadata": {},
   "source": [
    "We gaan nu de aangemaakte meteo_event ook wegschrijven als bestanden. Dit doen we met de method `write_meteo`, waarbij we aangeven in welke map de bestanden moeten worden beschreven.\n",
    "\n",
    "Na het wegschrijven bekijken we de inhoud van map. Zijn de bestanden correct geschreven?"
   ]
  },
  {
   "cell_type": "code",
   "execution_count": 5,
   "id": "e61c9150",
   "metadata": {},
   "outputs": [
    {
     "name": "stdout",
     "output_type": "stream",
     "text": [
      "..\\dhydro_project\\boundary_conditions\\meteo\\24H_15MM_HOOG_ZOMER.BUI\n",
      "..\\dhydro_project\\boundary_conditions\\meteo\\24H_15MM_HOOG_ZOMER.EVP\n",
      "..\\dhydro_project\\boundary_conditions\\meteo\\24H_15MM_HOOG_ZOMER.TMP\n"
     ]
    }
   ],
   "source": [
    "meteo_event.write_meteo(meteo_path)\n",
    "\n",
    "print(\"\\n\".join([str(i) for i in Path(meteo_path).glob(\"*.*\")]))"
   ]
  },
  {
   "cell_type": "markdown",
   "id": "62c890d9",
   "metadata": {},
   "source": [
    "We willen meer! We maken 24 buien aan waarbij we combineren:\n",
    "- patroon `LAAG`, `MIDDELHOOG` en `HOOG`\n",
    "- volumes `[15, 35, 50, 100]`\n",
    "- seizoen `zomer` en `winter`\n",
    "\n",
    "Na het wegschrijven bekijken we de inhoud van map. Zijn er inderdaad 24 bui-bestanden?"
   ]
  },
  {
   "cell_type": "code",
   "execution_count": 6,
   "id": "84a66a9b",
   "metadata": {},
   "outputs": [
    {
     "name": "stdout",
     "output_type": "stream",
     "text": [
      "..\\dhydro_project\\boundary_conditions\\meteo\\24H_100MM_HOOG_WINTER.BUI\n",
      "..\\dhydro_project\\boundary_conditions\\meteo\\24H_100MM_HOOG_ZOMER.BUI\n",
      "..\\dhydro_project\\boundary_conditions\\meteo\\24H_100MM_LAAG_WINTER.BUI\n",
      "..\\dhydro_project\\boundary_conditions\\meteo\\24H_100MM_LAAG_ZOMER.BUI\n",
      "..\\dhydro_project\\boundary_conditions\\meteo\\24H_100MM_MIDDELHOOG_WINTER.BUI\n",
      "..\\dhydro_project\\boundary_conditions\\meteo\\24H_100MM_MIDDELHOOG_ZOMER.BUI\n",
      "..\\dhydro_project\\boundary_conditions\\meteo\\24H_15MM_HOOG_WINTER.BUI\n",
      "..\\dhydro_project\\boundary_conditions\\meteo\\24H_15MM_HOOG_ZOMER.BUI\n",
      "..\\dhydro_project\\boundary_conditions\\meteo\\24H_15MM_LAAG_WINTER.BUI\n",
      "..\\dhydro_project\\boundary_conditions\\meteo\\24H_15MM_LAAG_ZOMER.BUI\n",
      "..\\dhydro_project\\boundary_conditions\\meteo\\24H_15MM_MIDDELHOOG_WINTER.BUI\n",
      "..\\dhydro_project\\boundary_conditions\\meteo\\24H_15MM_MIDDELHOOG_ZOMER.BUI\n",
      "..\\dhydro_project\\boundary_conditions\\meteo\\24H_35MM_HOOG_WINTER.BUI\n",
      "..\\dhydro_project\\boundary_conditions\\meteo\\24H_35MM_HOOG_ZOMER.BUI\n",
      "..\\dhydro_project\\boundary_conditions\\meteo\\24H_35MM_LAAG_WINTER.BUI\n",
      "..\\dhydro_project\\boundary_conditions\\meteo\\24H_35MM_LAAG_ZOMER.BUI\n",
      "..\\dhydro_project\\boundary_conditions\\meteo\\24H_35MM_MIDDELHOOG_WINTER.BUI\n",
      "..\\dhydro_project\\boundary_conditions\\meteo\\24H_35MM_MIDDELHOOG_ZOMER.BUI\n",
      "..\\dhydro_project\\boundary_conditions\\meteo\\24H_50MM_HOOG_WINTER.BUI\n",
      "..\\dhydro_project\\boundary_conditions\\meteo\\24H_50MM_HOOG_ZOMER.BUI\n",
      "..\\dhydro_project\\boundary_conditions\\meteo\\24H_50MM_LAAG_WINTER.BUI\n",
      "..\\dhydro_project\\boundary_conditions\\meteo\\24H_50MM_LAAG_ZOMER.BUI\n",
      "..\\dhydro_project\\boundary_conditions\\meteo\\24H_50MM_MIDDELHOOG_WINTER.BUI\n",
      "..\\dhydro_project\\boundary_conditions\\meteo\\24H_50MM_MIDDELHOOG_ZOMER.BUI\n"
     ]
    }
   ],
   "source": [
    "import itertools\n",
    "patterns = [\"LAAG\", \"MIDDELHOOG\", \"HOOG\"]\n",
    "volumes = [15, 35, 50, 100]\n",
    "seasons = [\"winter\", \"zomer\"]\n",
    "\n",
    "meteo_files = []\n",
    "\n",
    "for i in itertools.product(*[patterns, volumes, seasons]):\n",
    "    meteo_event.pattern = i[0]\n",
    "    meteo_event.volume.rainfall = i[1]\n",
    "    meteo_event.season = i[2]\n",
    "    file_name = meteo_event.write_meteo(meteo_path)\n",
    "    meteo_files.append({\"id\": file_name, \"start\":meteo_event.starts[i[2]]})\n",
    "    index[\"boundary_conditions\"][\"meteo\"].append(dict(id=file_name,\n",
    "                                                 name=f\"STOWA BUI: 24 uur, volume {i[1]} mm, patroon {i[0]}, seizoen {i[2]}\"))\n",
    "    \n",
    "print(\"\\n\".join([str(i) for i in Path(meteo_path).glob(\"*.BUI\")]))"
   ]
  },
  {
   "cell_type": "markdown",
   "id": "161b0f45",
   "metadata": {},
   "source": [
    "## Aanmaken cases\n",
    "Hier maken we voor alle runs een case-map aan. Elk mapje wordt voorzien van de volgende mappen en bestanden:\n",
    "- FM met hierin fm_settings.mdu en de fm_boundaries.ext waarin verwezen wordt naar de juiste paden\n",
    "- RR met hierin de rr_settings.fnm waarin verwezen wordt naar de juiste paden\n",
    "- dimr_config.xml met de configuratie\n",
    "\n",
    "<b>Let op (!); hier stopt de Notebook, omdat het lezen, wijzigen en schrijven van FM en RR config-bestanden nog niet lekker werkt in HYDROLIB-core</b>"
   ]
  },
  {
   "cell_type": "code",
   "execution_count": 7,
   "id": "e1141e58",
   "metadata": {
    "scrolled": true
   },
   "outputs": [
    {
     "name": "stderr",
     "output_type": "stream",
     "text": [
      "WARNING:root:Dropped unsupported comments from StructureGeneral init.\n"
     ]
    },
    {
     "name": "stdout",
     "output_type": "stream",
     "text": [
      "\n"
     ]
    }
   ],
   "source": [
    "from hydrolib.core.io.mdu.models import FMModel\n",
    "\n",
    "cases = list(itertools.product(*[index[\"boundary_conditions\"][\"meteo\"], \n",
    "                                 index[\"boundary_conditions\"][\"flow\"],\n",
    "                                 index[\"models\"]]))\n",
    "\n",
    "model_id = \"\"\n",
    "\n",
    "for id, case in enumerate(cases):\n",
    "    case_name = f\"{'_'.join([i['id'] for i in case])}\".upper()\n",
    "    case_id = f\"case_{id+1:04d}\"\n",
    "    case_path = cases_path / case_id\n",
    "    case_path.mkdir(parents=True, exist_ok=True)\n",
    "    \n",
    "    if model_id != case[2][\"id\"]:\n",
    "        print(model_id)\n",
    "        model_id = case[2][\"id\"]\n",
    "        mdu_file = models_path / model_id / \"fm\" / case[2][\"mdu_file\"]\n",
    "        ext_file = models_path / model_id / \"fm\" / case[2][\"ext_file\"]\n",
    "        fnm_file = models_path / model_id / \"rr\" / \"sobek_3b.fnm\"\n",
    "        #fm_model = FMModel(filepath=mdu_file)\n",
    "    \n",
    "    #update index\n",
    "    index[\"cases\"].append(dict(id=case_id,\n",
    "                              name=case_name,\n",
    "                              mdu_file=\"fm_settings.mdu\",\n",
    "                              fnm_file=\"rr_settings.fnm\",\n",
    "                              model_id=model_id,\n",
    "                              meteo_boundary_id=case[1][\"id\"],\n",
    "                              intial_conditions_id=None,\n",
    "                              flow_boundary_id=case[0][\"id\"],\n",
    "                              results=False))"
   ]
  },
  {
   "cell_type": "markdown",
   "id": "80fadc3b",
   "metadata": {},
   "source": [
    "## Wegschrijven index\n",
    "\n",
    "We schrijven de index weg als JSON, zodat we het overzicht van onze projectdirectory vastleggen."
   ]
  },
  {
   "cell_type": "code",
   "execution_count": 8,
   "id": "741c85c7",
   "metadata": {},
   "outputs": [],
   "source": [
    "import json\n",
    "index_json = project_path / \"index.json\"\n",
    "\n",
    "with open(index_json, \"w+\") as dst:\n",
    "    dst.write(json.dumps(index, indent=4, sort_keys=False))"
   ]
  }
 ],
 "metadata": {
  "kernelspec": {
   "display_name": "Python 3 (ipykernel)",
   "language": "python",
   "name": "python3"
  },
  "language_info": {
   "codemirror_mode": {
    "name": "ipython",
    "version": 3
   },
   "file_extension": ".py",
   "mimetype": "text/x-python",
   "name": "python",
   "nbconvert_exporter": "python",
   "pygments_lexer": "ipython3",
   "version": "3.8.10"
  }
 },
 "nbformat": 4,
 "nbformat_minor": 5
}
