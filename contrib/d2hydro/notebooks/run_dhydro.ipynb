{
 "cells": [
  {
   "cell_type": "markdown",
   "id": "f6c56aa7",
   "metadata": {},
   "source": [
    "## load cmt project\n",
    "\n",
    "Load a CMT project from manifest and get all cases. Inspect run-info of first case."
   ]
  },
  {
   "cell_type": "code",
   "execution_count": 1,
   "id": "5483f710",
   "metadata": {},
   "outputs": [
    {
     "data": {
      "text/plain": [
       "{'id': 'STOWA2014_HUIDIG_winter_middelnat_KORT_85mm_niet_verhoogd',\n",
       " 'name': 'STOWA2014_HUIDIG_winter_middelnat_KORT_85mm_niet_verhoogd',\n",
       " 'meteo_bc_id': '24H_85MM_HOOG_WINTER',\n",
       " 'flow_bc_id': 'NIET_VERHOOGD_WINTER',\n",
       " 'model_id': 'D-Hydro-model',\n",
       " 'fm_output_dir': WindowsPath('output'),\n",
       " 'start_datetime': datetime.datetime(2000, 1, 1, 0, 0),\n",
       " 'simulation_period': datetime.timedelta(days=1),\n",
       " 'run': {'completed': True,\n",
       "  'success': True,\n",
       "  'start_datetime': datetime.datetime(2022, 5, 1, 20, 31, 8, 2037),\n",
       "  'run_duration': datetime.timedelta(seconds=15, microseconds=388395),\n",
       "  'results_id': 'D-Hydro-model',\n",
       "  'output_deleted': True}}"
      ]
     },
     "execution_count": 1,
     "metadata": {},
     "output_type": "execute_result"
    }
   ],
   "source": [
    "from cmt.project import Project\n",
    "\n",
    "project = Project.from_manifest(r\"../data/stochast/manifest.json\")\n",
    "case_ids = project.get_cases()\n",
    "case_id = case_ids[0]\n",
    "\n",
    "project.get_case(case_id).dict()"
   ]
  },
  {
   "cell_type": "markdown",
   "id": "b4bdffc0",
   "metadata": {},
   "source": [
    "## singe case run\n",
    "\n",
    "Use the single case runner to run the first case:\n",
    "* stream_output=True to see DHYDRO output in Notebook\n",
    "* After the run we inspect the case-info in the manifest to see change in the run-specs"
   ]
  },
  {
   "cell_type": "code",
   "execution_count": 2,
   "id": "405669ef",
   "metadata": {},
   "outputs": [
    {
     "name": "stderr",
     "output_type": "stream",
     "text": [
      "INFO:cmt.project:Start running case: 'STOWA2014_HUIDIG_winter_middelnat_KORT_85mm_niet_verhoogd'\n"
     ]
    },
    {
     "name": "stdout",
     "output_type": "stream",
     "text": [
      "Configfile:dimr_config.xml\n",
      "OMP_NUM_THREADS is already defined\n",
      "OMP_NUM_THREADS is 1\n",
      "Working directory: D:\\repositories\\HYDROLIB\\contrib\\d2hydro\\data\\stochast\\cases\\STOWA2014_HUIDIG_winter_middelnat_KORT_85mm_niet_verhoogd\n",
      "executing: \"c:\\Program Files\\Deltares\\D-HYDRO Suite 2022.03 1D2D\\plugins\\DeltaShell.Dimr\\kernels\\x64\\dimr\\scripts\\..\\..\\..\\x64\\dimr\\bin\\dimr.exe\"  dimr_config.xml\n",
      "Dimr [2022-05-01 21:08:10.148] #0 >> Deltares, DIMR_EXE Version 2.00.00.140737, Feb 10 2022, 17:21:47\n",
      "Dimr [2022-05-01 21:08:10.153] #0 >> Deltares, DIMR_LIB Version 1.02.00.140737, Feb 10 2022, 17:21:17\n",
      "Dimr [2022-05-01 21:08:10.179] #0 >> \n",
      "Dimr [2022-05-01 21:08:10.179] #0 >> Version Information of Components\n",
      "Dimr [2022-05-01 21:08:10.179] #0 >> =================================\n",
      "Dimr [2022-05-01 21:08:10.179] #0 >> rr_dll                             : 3.216.56.74498M (Win64).74498M\n",
      "Dimr [2022-05-01 21:08:10.179] #0 >> FBCTools_BMI                       : 1.6.1.1227 (Win64)\n",
      "Dimr [2022-05-01 21:08:10.179] #0 >> dflowfm                            : 1.2.143.140737\n",
      "Dimr [2022-05-01 21:08:10.179] #0 >> ---------------------------------\n",
      "Dimr [2022-05-01 21:08:10.179] #0 >> \n",
      "Dimr [2022-05-01 21:08:10.179] #0 >> Flow1D.Initialize(dellen.mdu)\n",
      "** DEBUG  :            0  0.1000010      NOD(KMAX)\n",
      "** DEBUG  :            6  0.7000070      XK (KMAX), YK (KMAX), ZK (KMAX), KC (KMAX), NMK (KMAX), RNOD(KMAX)\n",
      " loading model\n",
      "** INFO   : DtMax should be <= DtUser. It has been reset to:    60.000\n",
      "** WARNING: MDU setting \"Wrihis_temperature = 1\" asks to write temperature to the output his file, but no temperature is involved due to MDU setting \"Temperature = 0\". So we set \"Wrihis_temperature = 0\"  and do not write temperature to his file.\n",
      "Dimr [2022-05-01 21:08:10.201] #0 >> kernel: MDU setting \"Wrihis_temperature = 1\" asks to write temperature to the output his file, but no temperature is involved due to MDU setting \"Temperature = 0\". So we set \"Wrihis_temperature = 0\"  and do not write temperature to his file.\n",
      "** WARNING: MDU setting \"Wrihis_salinity = 1\" asks to write salinity to the output his file, but no salinity is involved due to MDU setting \"Salinity = 0\". So we set \"Wrihis_salinity = 0\" and do not write salinity to his file.\n",
      "Dimr [2022-05-01 21:08:10.201] #0 >> kernel: MDU setting \"Wrihis_salinity = 1\" asks to write salinity to the output his file, but no salinity is involved due to MDU setting \"Salinity = 0\". So we set \"Wrihis_salinity = 0\" and do not write salinity to his file.\n",
      "** WARNING: TimeSplitInterval invalid, disabling time partitioning of output. Got: 0X\n",
      "Dimr [2022-05-01 21:08:10.201] #0 >> kernel: TimeSplitInterval invalid, disabling time partitioning of output. Got: 0X\n",
      "** INFO   : Read Structure data from ..\\..\\..\\models\\D-Hydro-model\\dflowfm\\structure.ini\n",
      "** WARNING: readMDUFile: [numerics] qhrelax=0.01 was in file, but not used. Check possible typo.\n",
      "Dimr [2022-05-01 21:08:10.209] #0 >> kernel: readMDUFile: [numerics] qhrelax=0.01 was in file, but not used. Check possible typo.\n",
      "** WARNING: readMDUFile: [output] wrishp_enc=0 was in file, but not used. Check possible typo.\n",
      "Dimr [2022-05-01 21:08:10.209] #0 >> kernel: readMDUFile: [output] wrishp_enc=0 was in file, but not used. Check possible typo.\n",
      "** WARNING: readMDUFile: [output] waterlevelclasses=0.0 was in file, but not used. Check possible typo.\n",
      "Dimr [2022-05-01 21:08:10.209] #0 >> kernel: readMDUFile: [output] waterlevelclasses=0.0 was in file, but not used. Check possible typo.\n",
      "** WARNING: readMDUFile: [output] waterdepthclasses=0.0 was in file, but not used. Check possible typo.\n",
      "Dimr [2022-05-01 21:08:10.209] #0 >> kernel: readMDUFile: [output] waterdepthclasses=0.0 was in file, but not used. Check possible typo.\n",
      "ug_get_meshgeom, #1, ierr=0\n",
      "ug_get_meshgeom, #2, ierr=0\n",
      "ug_get_meshgeom, #3, ierr=0\n",
      "ug_get_meshgeom, #10, ierr=0\n",
      "ug_get_meshgeom, #1, ierr=0\n",
      "ug_get_meshgeom, #2, ierr=0\n",
      "ug_get_meshgeom, #3, ierr=0\n",
      "ug_get_meshgeom, #4, ierr=0\n",
      "ug_get_meshgeom, #5, ierr=0\n",
      "ug_get_meshgeom, #6, ierr=0\n",
      "ug_get_meshgeom, #8, ierr=0\n",
      "ug_get_meshgeom, #10, ierr=0\n",
      "ug_get_meshgeom, #12, ierr=0\n",
      "ug_get_meshgeom, #13, ierr=0\n",
      "ug_get_meshgeom, #14, ierr=0\n",
      "ug_get_meshgeom, #1, ierr=0\n",
      "ug_get_meshgeom, #2, ierr=0\n",
      "ug_get_meshgeom, #3, ierr=0\n",
      "ug_get_meshgeom, #4, ierr=0\n",
      "ug_get_meshgeom, #5, ierr=0\n",
      "ug_get_meshgeom, #6, ierr=0\n",
      "ug_get_meshgeom, #8, ierr=0\n",
      "ug_get_meshgeom, #10, ierr=0\n",
      "ug_get_meshgeom, #12, ierr=0\n",
      "ug_get_meshgeom, #13, ierr=0\n",
      "ug_get_meshgeom, #14, ierr=0\n",
      "** INFO   : Reading Roughness ...\n",
      "** INFO   : Reading Roughness Done\n",
      "** INFO   : Reading Cross Section Definitions ...\n",
      "** INFO   : Reading Cross Section Definitions Done\n",
      "** INFO   : Reading Cross Section Locations ...\n",
      "** INFO   : Reading Cross Section Locations Done\n",
      "** INFO   : All 1D-Reading Done\n",
      "** INFO   : Reading Structures ...\n",
      "** INFO   : Reading Structures Done\n",
      "** INFO   : Opened file : ..\\..\\..\\models\\D-Hydro-model\\dflowfm\\structures.ldb\n",
      "** INFO   : Closed file : ..\\..\\..\\models\\D-Hydro-model\\dflowfm\\structures.ldb\n",
      "** INFO   : Reading Observation Points from '..\\..\\..\\models\\D-Hydro-model\\dflowfm\\observationPoints.ini'...\n",
      "** INFO   :         21 observation points have been read from file ..\\..\\..\\models\\D-Hydro-model\\dflowfm\\observationPoints.ini\n",
      " model loaded\n",
      " Initializing flow: flow_modelinit\n",
      "** INFO   : Initializing flow model geometry...\n",
      "** INFO   : isolated_1Dnetlink             29\n",
      "** INFO   :  2  2\n",
      "** INFO   :        251360.393511       576316.210301\n",
      "** INFO   :        251340.281269       576322.314491\n",
      "** INFO   : waterlevelbnd 258080.953900_584320.392095       1 nr of open bndcells\n",
      "ug_get_meshgeom, #1, ierr=0\n",
      "ug_get_meshgeom, #2, ierr=0\n",
      "ug_get_meshgeom, #3, ierr=0\n",
      "ug_get_meshgeom, #10, ierr=0\n",
      "** INFO   : setbedlevelfromextfile: Using bedlevel as specified in net-file.\n",
      "** INFO   : setbedlevelfromextfile: Mirroring input bedlevels at open boundaries.\n",
      "** INFO   : Done initializing flow model geometry.\n",
      "** INFO   : Start initializing external forcings...\n",
      "** INFO   :        1 nr of pump links\n",
      "** INFO   :        1 nr of pump links\n",
      "** INFO   : Reading initial field file '..\\..\\..\\models\\D-Hydro-model\\dflowfm\\initialFields.ini'.\n",
      "** INFO   : Finish initializing 1dField file '..\\..\\..\\models\\D-Hydro-model\\dflowfm\\./initialWaterDepth.ini':         0 [Branch] blocks have been read and handled.\n",
      "** INFO   : Finish initializing the initial field file '..\\..\\..\\models\\D-Hydro-model\\dflowfm\\initialFields.ini':       2 blocks have been read and handled.\n",
      "** INFO   : Done initializing external forcings.\n",
      "** WARNING: The bedlevel of the channel at the left side for 'KDU-O-01404' is changed from    -1.32 into    -1.50.\n",
      "Dimr [2022-05-01 21:08:10.333] #0 >> kernel: The bedlevel of the channel at the left side for 'KDU-O-01404' is changed from    -1.32 into    -1.50.\n",
      "** WARNING: The bedlevel of the channel at the left side for 'KDU-O-01404' is changed from    -1.32 into    -1.48.\n",
      "Dimr [2022-05-01 21:08:10.333] #0 >> kernel: The bedlevel of the channel at the left side for 'KDU-O-01404' is changed from    -1.32 into    -1.48.\n",
      "** WARNING: The bedlevel of the channel at the left side for 'KDU-O-01443' is changed from    -3.00 into    -3.15.\n",
      "Dimr [2022-05-01 21:08:10.333] #0 >> kernel: The bedlevel of the channel at the left side for 'KDU-O-01443' is changed from    -3.00 into    -3.15.\n",
      "** WARNING: The bedlevel of the channel at the left side for 'KDU-O-01443' is changed from    -3.00 into    -3.19.\n",
      "Dimr [2022-05-01 21:08:10.333] #0 >> kernel: The bedlevel of the channel at the left side for 'KDU-O-01443' is changed from    -3.00 into    -3.19.\n",
      "** WARNING: The bedlevel of the channel at the left side for 'KDU-O-01440' is changed from    -3.15 into    -3.16.\n",
      "Dimr [2022-05-01 21:08:10.333] #0 >> kernel: The bedlevel of the channel at the left side for 'KDU-O-01440' is changed from    -3.15 into    -3.16.\n",
      "** WARNING: The bedlevel of the channel at the left side for 'KDU-O-01400' is changed from    -1.32 into    -1.41.\n",
      "Dimr [2022-05-01 21:08:10.333] #0 >> kernel: The bedlevel of the channel at the left side for 'KDU-O-01400' is changed from    -1.32 into    -1.41.\n",
      "** WARNING: The bedlevel of the channel at the left side for 'KDU-O-01400' is changed from    -1.32 into    -1.44.\n",
      "Dimr [2022-05-01 21:08:10.333] #0 >> kernel: The bedlevel of the channel at the left side for 'KDU-O-01400' is changed from    -1.32 into    -1.44.\n",
      "** WARNING: The bedlevel of the channel at the left side for 'KDU-O-01414' is changed from    -1.83 into    -2.00.\n",
      "Dimr [2022-05-01 21:08:10.333] #0 >> kernel: The bedlevel of the channel at the left side for 'KDU-O-01414' is changed from    -1.83 into    -2.00.\n",
      "** WARNING: The bedlevel of the channel at the left side for 'KDU-O-01414' is changed from    -1.83 into    -1.88.\n",
      "Dimr [2022-05-01 21:08:10.333] #0 >> kernel: The bedlevel of the channel at the left side for 'KDU-O-01414' is changed from    -1.83 into    -1.88.\n",
      "** WARNING: The bedlevel of the channel at the left side for 'KDU-O-01390' is changed from    -1.23 into    -1.52.\n",
      "Dimr [2022-05-01 21:08:10.333] #0 >> kernel: The bedlevel of the channel at the left side for 'KDU-O-01390' is changed from    -1.23 into    -1.52.\n",
      "** WARNING: The bedlevel of the channel at the left side for 'KDU-O-01393' is changed from    -1.82 into    -1.83.\n",
      "Dimr [2022-05-01 21:08:10.334] #0 >> kernel: The bedlevel of the channel at the left side for 'KDU-O-01393' is changed from    -1.82 into    -1.83.\n",
      "** WARNING: The bedlevel of the channel at the left side for 'KDU-O-01393' is changed from    -1.82 into    -1.86.\n",
      "Dimr [2022-05-01 21:08:10.334] #0 >> kernel: The bedlevel of the channel at the left side for 'KDU-O-01393' is changed from    -1.82 into    -1.86.\n",
      "** WARNING: The bedlevel of the channel at the left side for 'KDU-O-01399' is changed from    -1.32 into    -1.39.\n",
      "Dimr [2022-05-01 21:08:10.334] #0 >> kernel: The bedlevel of the channel at the left side for 'KDU-O-01399' is changed from    -1.32 into    -1.39.\n",
      "** WARNING: The bedlevel of the channel at the left side for 'KDU-O-01399' is changed from    -1.32 into    -1.47.\n",
      "Dimr [2022-05-01 21:08:10.334] #0 >> kernel: The bedlevel of the channel at the left side for 'KDU-O-01399' is changed from    -1.32 into    -1.47.\n",
      "** WARNING: The bedlevel of the channel at the left side for 'KDU-O-01401' is changed from    -1.32 into    -1.36.\n",
      "Dimr [2022-05-01 21:08:10.334] #0 >> kernel: The bedlevel of the channel at the left side for 'KDU-O-01401' is changed from    -1.32 into    -1.36.\n",
      "** WARNING: The bedlevel of the channel at the left side for 'KDU-O-01401' is changed from    -1.32 into    -1.37.\n",
      "Dimr [2022-05-01 21:08:10.334] #0 >> kernel: The bedlevel of the channel at the left side for 'KDU-O-01401' is changed from    -1.32 into    -1.37.\n",
      "** WARNING: The bedlevel of the channel at the left side for 'KDU-O-01403' is changed from    -1.32 into    -1.47.\n",
      "Dimr [2022-05-01 21:08:10.334] #0 >> kernel: The bedlevel of the channel at the left side for 'KDU-O-01403' is changed from    -1.32 into    -1.47.\n",
      "** WARNING: The bedlevel of the channel at the left side for 'KDU-O-01403' is changed from    -1.32 into    -1.33.\n",
      "Dimr [2022-05-01 21:08:10.334] #0 >> kernel: The bedlevel of the channel at the left side for 'KDU-O-01403' is changed from    -1.32 into    -1.33.\n",
      "** WARNING: The bedlevel of the channel at the left side for 'KDU-O-01408' is changed from    -1.58 into    -1.60.\n",
      "Dimr [2022-05-01 21:08:10.334] #0 >> kernel: The bedlevel of the channel at the left side for 'KDU-O-01408' is changed from    -1.58 into    -1.60.\n",
      "** WARNING: The bedlevel of the channel at the left side for 'KDU-O-01564' is changed from    -3.25 into    -3.35.\n",
      "Dimr [2022-05-01 21:08:10.334] #0 >> kernel: The bedlevel of the channel at the left side for 'KDU-O-01564' is changed from    -3.25 into    -3.35.\n",
      "** WARNING: The bedlevel of the channel at the left side for 'KDU-O-02667' is changed from    -1.83 into    -1.96.\n",
      "Dimr [2022-05-01 21:08:10.334] #0 >> kernel: The bedlevel of the channel at the left side for 'KDU-O-02667' is changed from    -1.83 into    -1.96.\n",
      "** WARNING: The bedlevel of the channel at the left side for 'KDU-O-02667' is changed from    -1.83 into    -1.85.\n",
      "Dimr [2022-05-01 21:08:10.334] #0 >> kernel: The bedlevel of the channel at the left side for 'KDU-O-02667' is changed from    -1.83 into    -1.85.\n",
      "** WARNING: The bedlevel of the channel at the left side for 'KDU-O-01563' is changed from    -3.24 into    -3.51.\n",
      "Dimr [2022-05-01 21:08:10.334] #0 >> kernel: The bedlevel of the channel at the left side for 'KDU-O-01563' is changed from    -3.24 into    -3.51.\n",
      "** WARNING: The bedlevel of the channel at the left side for 'KDU-O-01563' is changed from    -3.24 into    -3.46.\n",
      "Dimr [2022-05-01 21:08:10.334] #0 >> kernel: The bedlevel of the channel at the left side for 'KDU-O-01563' is changed from    -3.24 into    -3.46.\n",
      "** WARNING: The bedlevel of the channel at the left side for 'KDU-O-01305' is changed from    -3.04 into    -3.06.\n",
      "Dimr [2022-05-01 21:08:10.334] #0 >> kernel: The bedlevel of the channel at the left side for 'KDU-O-01305' is changed from    -3.04 into    -3.06.\n",
      "** WARNING: The bedlevel of the channel at the left side for 'KDU-O-01159' is changed from    -4.17 into    -4.27.\n",
      "Dimr [2022-05-01 21:08:10.334] #0 >> kernel: The bedlevel of the channel at the left side for 'KDU-O-01159' is changed from    -4.17 into    -4.27.\n",
      "** WARNING: The bedlevel of the channel at the left side for 'KDU-O-01166' is changed from    -3.24 into    -3.56.\n",
      "Dimr [2022-05-01 21:08:10.334] #0 >> kernel: The bedlevel of the channel at the left side for 'KDU-O-01166' is changed from    -3.24 into    -3.56.\n",
      "** WARNING: The bedlevel of the channel at the left side for 'KDU-O-01166' is changed from    -3.24 into    -3.45.\n",
      "Dimr [2022-05-01 21:08:10.334] #0 >> kernel: The bedlevel of the channel at the left side for 'KDU-O-01166' is changed from    -3.24 into    -3.45.\n",
      "** WARNING: The bedlevel of the channel at the left side for 'KDU-O-01280' is changed from    -3.11 into    -3.19.\n",
      "Dimr [2022-05-01 21:08:10.334] #0 >> kernel: The bedlevel of the channel at the left side for 'KDU-O-01280' is changed from    -3.11 into    -3.19.\n",
      "** WARNING: The bedlevel of the channel at the left side for 'KDU-O-01280' is changed from    -3.11 into    -3.21.\n",
      "Dimr [2022-05-01 21:08:10.334] #0 >> kernel: The bedlevel of the channel at the left side for 'KDU-O-01280' is changed from    -3.11 into    -3.21.\n",
      "** WARNING: The bedlevel of the channel at the left side for 'KDU-O-01308' is changed from    -3.02 into    -3.44.\n",
      "Dimr [2022-05-01 21:08:10.334] #0 >> kernel: The bedlevel of the channel at the left side for 'KDU-O-01308' is changed from    -3.02 into    -3.44.\n",
      "** WARNING: The bedlevel of the channel at the left side for 'KDU-O-01308' is changed from    -3.02 into    -3.30.\n",
      "Dimr [2022-05-01 21:08:10.334] #0 >> kernel: The bedlevel of the channel at the left side for 'KDU-O-01308' is changed from    -3.02 into    -3.30.\n",
      "** WARNING: The bedlevel of the channel at the left side for 'KDU-O-01292' is changed from    -3.86 into    -3.90.\n",
      "Dimr [2022-05-01 21:08:10.334] #0 >> kernel: The bedlevel of the channel at the left side for 'KDU-O-01292' is changed from    -3.86 into    -3.90.\n",
      "** WARNING: The bedlevel of the channel at the left side for 'KDU-O-00347' is changed from    -3.24 into    -3.37.\n",
      "Dimr [2022-05-01 21:08:10.334] #0 >> kernel: The bedlevel of the channel at the left side for 'KDU-O-00347' is changed from    -3.24 into    -3.37.\n",
      "** WARNING: The bedlevel of the channel at the left side for 'KDU-O-00347' is changed from    -3.24 into    -3.57.\n",
      "Dimr [2022-05-01 21:08:10.334] #0 >> kernel: The bedlevel of the channel at the left side for 'KDU-O-00347' is changed from    -3.24 into    -3.57.\n",
      "** WARNING: The bedlevel of the channel at the left side for 'KDU-O-00349' is changed from    -2.76 into    -2.79.\n",
      "Dimr [2022-05-01 21:08:10.334] #0 >> kernel: The bedlevel of the channel at the left side for 'KDU-O-00349' is changed from    -2.76 into    -2.79.\n",
      "** WARNING: The bedlevel of the channel at the left side for 'KDU-O-00349' is changed from    -2.76 into    -2.79.\n",
      "Dimr [2022-05-01 21:08:10.334] #0 >> kernel: The bedlevel of the channel at the left side for 'KDU-O-00349' is changed from    -2.76 into    -2.79.\n",
      "** WARNING: The bedlevel of the channel at the left side for 'KDU-O-01296' is changed from    -3.62 into    -3.76.\n",
      "Dimr [2022-05-01 21:08:10.334] #0 >> kernel: The bedlevel of the channel at the left side for 'KDU-O-01296' is changed from    -3.62 into    -3.76.\n",
      "** WARNING: The bedlevel of the channel at the left side for 'KDU-O-01282' is changed from    -4.15 into    -4.17.\n",
      "Dimr [2022-05-01 21:08:10.334] #0 >> kernel: The bedlevel of the channel at the left side for 'KDU-O-01282' is changed from    -4.15 into    -4.17.\n",
      "** WARNING: The bedlevel of the channel at the left side for 'KDU-O-01112' is changed from    -4.23 into    -4.24.\n",
      "Dimr [2022-05-01 21:08:10.334] #0 >> kernel: The bedlevel of the channel at the left side for 'KDU-O-01112' is changed from    -4.23 into    -4.24.\n",
      "** WARNING: The bedlevel of the channel at the left side for 'KDU-O-00350' is changed from    -3.59 into    -3.84.\n",
      "Dimr [2022-05-01 21:08:10.334] #0 >> kernel: The bedlevel of the channel at the left side for 'KDU-O-00350' is changed from    -3.59 into    -3.84.\n",
      "** WARNING: The bedlevel of the channel at the left side for 'KDU-O-01171' is changed from    -2.76 into    -2.79.\n",
      "Dimr [2022-05-01 21:08:10.334] #0 >> kernel: The bedlevel of the channel at the left side for 'KDU-O-01171' is changed from    -2.76 into    -2.79.\n",
      "** WARNING: The bedlevel of the channel at the left side for 'KDU-O-01171' is changed from    -2.76 into    -2.95.\n",
      "Dimr [2022-05-01 21:08:10.334] #0 >> kernel: The bedlevel of the channel at the left side for 'KDU-O-01171' is changed from    -2.76 into    -2.95.\n",
      "** WARNING: The bedlevel of the channel at the left side for 'KDU-O-00140' is changed from    -1.38 into    -1.39.\n",
      "Dimr [2022-05-01 21:08:10.334] #0 >> kernel: The bedlevel of the channel at the left side for 'KDU-O-00140' is changed from    -1.38 into    -1.39.\n",
      "** WARNING: The bedlevel of the channel at the left side for 'KDU-O-01576' is changed from    -1.93 into    -2.05.\n",
      "Dimr [2022-05-01 21:08:10.334] #0 >> kernel: The bedlevel of the channel at the left side for 'KDU-O-01576' is changed from    -1.93 into    -2.05.\n",
      "** WARNING: The bedlevel of the channel at the left side for 'KDU-O-01576' is changed from    -1.93 into    -2.01.\n",
      "Dimr [2022-05-01 21:08:10.334] #0 >> kernel: The bedlevel of the channel at the left side for 'KDU-O-01576' is changed from    -1.93 into    -2.01.\n",
      "** WARNING: The bedlevel of the channel at the left side for 'KDU-O-01354' is changed from    -1.42 into    -1.69.\n",
      "Dimr [2022-05-01 21:08:10.334] #0 >> kernel: The bedlevel of the channel at the left side for 'KDU-O-01354' is changed from    -1.42 into    -1.69.\n",
      "** WARNING: The bedlevel of the channel at the left side for 'KDU-O-01354' is changed from    -1.43 into    -1.62.\n",
      "Dimr [2022-05-01 21:08:10.334] #0 >> kernel: The bedlevel of the channel at the left side for 'KDU-O-01354' is changed from    -1.43 into    -1.62.\n",
      "** WARNING: The bedlevel of the channel at the left side for 'KDU-O-01355' is changed from    -1.49 into    -1.81.\n",
      "Dimr [2022-05-01 21:08:10.334] #0 >> kernel: The bedlevel of the channel at the left side for 'KDU-O-01355' is changed from    -1.49 into    -1.81.\n",
      "** WARNING: The bedlevel of the channel at the left side for 'KDU-O-01355' is changed from    -1.51 into    -1.66.\n",
      "Dimr [2022-05-01 21:08:10.334] #0 >> kernel: The bedlevel of the channel at the left side for 'KDU-O-01355' is changed from    -1.51 into    -1.66.\n",
      "** WARNING: The bedlevel of the channel at the left side for 'KDU-O-01365' is changed from    -1.67 into    -1.69.\n",
      "Dimr [2022-05-01 21:08:10.334] #0 >> kernel: The bedlevel of the channel at the left side for 'KDU-O-01365' is changed from    -1.67 into    -1.69.\n",
      "** WARNING: The bedlevel of the channel at the left side for 'KDU-O-01356' is changed from    -1.51 into    -1.68.\n",
      "Dimr [2022-05-01 21:08:10.334] #0 >> kernel: The bedlevel of the channel at the left side for 'KDU-O-01356' is changed from    -1.51 into    -1.68.\n",
      "** WARNING: The bedlevel of the channel at the left side for 'KDU-O-01357' is changed from    -1.52 into    -1.69.\n",
      "Dimr [2022-05-01 21:08:10.334] #0 >> kernel: The bedlevel of the channel at the left side for 'KDU-O-01357' is changed from    -1.52 into    -1.69.\n",
      "** WARNING: The bedlevel of the channel at the left side for 'KDU-O-01357' is changed from    -1.53 into    -1.67.\n",
      "Dimr [2022-05-01 21:08:10.334] #0 >> kernel: The bedlevel of the channel at the left side for 'KDU-O-01357' is changed from    -1.53 into    -1.67.\n",
      "** WARNING: The bedlevel of the channel at the left side for 'KDU-O-01559' is changed from    -2.35 into    -2.39.\n",
      "Dimr [2022-05-01 21:08:10.334] #0 >> kernel: The bedlevel of the channel at the left side for 'KDU-O-01559' is changed from    -2.35 into    -2.39.\n",
      "** WARNING: The bedlevel of the channel at the left side for 'KDU-O-01484' is changed from    -0.75 into    -1.00.\n",
      "Dimr [2022-05-01 21:08:10.334] #0 >> kernel: The bedlevel of the channel at the left side for 'KDU-O-01484' is changed from    -0.75 into    -1.00.\n",
      "** WARNING: The bedlevel of the channel at the left side for 'KDU-O-00727' is changed from    -4.93 into    -4.96.\n",
      "Dimr [2022-05-01 21:08:10.334] #0 >> kernel: The bedlevel of the channel at the left side for 'KDU-O-00727' is changed from    -4.93 into    -4.96.\n",
      "** WARNING: The bedlevel of the channel at the left side for 'KDU-O-00729' is changed from    -4.38 into    -4.52.\n",
      "Dimr [2022-05-01 21:08:10.334] #0 >> kernel: The bedlevel of the channel at the left side for 'KDU-O-00729' is changed from    -4.38 into    -4.52.\n",
      "** WARNING: The bedlevel of the channel at the left side for 'KDU-O-00729' is changed from    -4.38 into    -4.54.\n",
      "Dimr [2022-05-01 21:08:10.334] #0 >> kernel: The bedlevel of the channel at the left side for 'KDU-O-00729' is changed from    -4.38 into    -4.54.\n",
      "** WARNING: The bedlevel of the channel at the left side for 'KDU-O-02468' is changed from    -4.38 into    -4.90.\n",
      "Dimr [2022-05-01 21:08:10.334] #0 >> kernel: The bedlevel of the channel at the left side for 'KDU-O-02468' is changed from    -4.38 into    -4.90.\n",
      "** WARNING: The bedlevel of the channel at the left side for 'KDU-O-02468' is changed from    -4.38 into    -4.81.\n",
      "Dimr [2022-05-01 21:08:10.334] #0 >> kernel: The bedlevel of the channel at the left side for 'KDU-O-02468' is changed from    -4.38 into    -4.81.\n",
      "** WARNING: The bedlevel of the channel at the left side for 'KDU-O-01129' is changed from    -4.14 into    -4.16.\n",
      "Dimr [2022-05-01 21:08:10.334] #0 >> kernel: The bedlevel of the channel at the left side for 'KDU-O-01129' is changed from    -4.14 into    -4.16.\n",
      "** WARNING: The bedlevel of the channel at the left side for 'KDU-O-01129' is changed from    -4.14 into    -4.66.\n",
      "Dimr [2022-05-01 21:08:10.334] #0 >> kernel: The bedlevel of the channel at the left side for 'KDU-O-01129' is changed from    -4.14 into    -4.66.\n",
      "** WARNING: The bedlevel of the channel at the left side for 'KDU-O-01140' is changed from    -4.54 into    -4.98.\n",
      "Dimr [2022-05-01 21:08:10.334] #0 >> kernel: The bedlevel of the channel at the left side for 'KDU-O-01140' is changed from    -4.54 into    -4.98.\n",
      "** WARNING: The bedlevel of the channel at the left side for 'KDU-O-01140' is changed from    -4.54 into    -4.78.\n",
      "Dimr [2022-05-01 21:08:10.334] #0 >> kernel: The bedlevel of the channel at the left side for 'KDU-O-01140' is changed from    -4.54 into    -4.78.\n",
      "** WARNING: The bedlevel of the channel at the left side for 'KDU-O-01141' is changed from    -4.53 into    -4.94.\n",
      "Dimr [2022-05-01 21:08:10.334] #0 >> kernel: The bedlevel of the channel at the left side for 'KDU-O-01141' is changed from    -4.53 into    -4.94.\n",
      "** WARNING: The bedlevel of the channel at the left side for 'KDU-O-01141' is changed from    -4.53 into    -4.95.\n",
      "Dimr [2022-05-01 21:08:10.334] #0 >> kernel: The bedlevel of the channel at the left side for 'KDU-O-01141' is changed from    -4.53 into    -4.95.\n",
      "** WARNING: The bedlevel of the channel at the left side for 'KDU-O-01153' is changed from    -4.17 into    -4.57.\n",
      "Dimr [2022-05-01 21:08:10.334] #0 >> kernel: The bedlevel of the channel at the left side for 'KDU-O-01153' is changed from    -4.17 into    -4.57.\n",
      "** WARNING: The bedlevel of the channel at the left side for 'KDU-O-01143' is changed from    -4.57 into    -4.60.\n",
      "Dimr [2022-05-01 21:08:10.334] #0 >> kernel: The bedlevel of the channel at the left side for 'KDU-O-01143' is changed from    -4.57 into    -4.60.\n",
      "** WARNING: The bedlevel of the channel at the left side for 'KDU-O-01143' is changed from    -4.57 into    -4.64.\n",
      "Dimr [2022-05-01 21:08:10.334] #0 >> kernel: The bedlevel of the channel at the left side for 'KDU-O-01143' is changed from    -4.57 into    -4.64.\n",
      "** WARNING: The bedlevel of the channel at the left side for 'KDU-O-01138' is changed from    -4.26 into    -4.52.\n",
      "Dimr [2022-05-01 21:08:10.334] #0 >> kernel: The bedlevel of the channel at the left side for 'KDU-O-01138' is changed from    -4.26 into    -4.52.\n",
      "** WARNING: The bedlevel of the channel at the left side for 'KDU-O-01138' is changed from    -4.26 into    -4.51.\n",
      "Dimr [2022-05-01 21:08:10.334] #0 >> kernel: The bedlevel of the channel at the left side for 'KDU-O-01138' is changed from    -4.26 into    -4.51.\n",
      "** WARNING: The bedlevel of the channel at the left side for 'KDU-O-01562' is changed from    -4.21 into    -4.33.\n",
      "Dimr [2022-05-01 21:08:10.334] #0 >> kernel: The bedlevel of the channel at the left side for 'KDU-O-01562' is changed from    -4.21 into    -4.33.\n",
      "** WARNING: The bedlevel of the channel at the left side for 'KDU-O-01609' is changed from    -4.45 into    -4.49.\n",
      "Dimr [2022-05-01 21:08:10.334] #0 >> kernel: The bedlevel of the channel at the left side for 'KDU-O-01609' is changed from    -4.45 into    -4.49.\n",
      "** WARNING: The bedlevel of the channel at the left side for 'KDU-O-01114' is changed from    -3.86 into    -4.37.\n",
      "Dimr [2022-05-01 21:08:10.334] #0 >> kernel: The bedlevel of the channel at the left side for 'KDU-O-01114' is changed from    -3.86 into    -4.37.\n",
      "** WARNING: The bedlevel of the channel at the left side for 'KDU-O-01114' is changed from    -3.86 into    -4.42.\n",
      "Dimr [2022-05-01 21:08:10.334] #0 >> kernel: The bedlevel of the channel at the left side for 'KDU-O-01114' is changed from    -3.86 into    -4.42.\n",
      "** WARNING: The bedlevel of the channel at the left side for 'KDU-O-01552' is changed from    -3.95 into    -4.17.\n",
      "Dimr [2022-05-01 21:08:10.334] #0 >> kernel: The bedlevel of the channel at the left side for 'KDU-O-01552' is changed from    -3.95 into    -4.17.\n",
      "** WARNING: The bedlevel of the channel at the left side for 'KDU-O-01552' is changed from    -3.95 into    -4.25.\n",
      "Dimr [2022-05-01 21:08:10.334] #0 >> kernel: The bedlevel of the channel at the left side for 'KDU-O-01552' is changed from    -3.95 into    -4.25.\n",
      "** WARNING: The bedlevel of the channel at the left side for 'KDU-O-01451' is changed from    -3.59 into    -3.85.\n",
      "Dimr [2022-05-01 21:08:10.334] #0 >> kernel: The bedlevel of the channel at the left side for 'KDU-O-01451' is changed from    -3.59 into    -3.85.\n",
      "** WARNING: The bedlevel of the channel at the left side for 'KDU-O-01451' is changed from    -3.59 into    -3.83.\n",
      "Dimr [2022-05-01 21:08:10.334] #0 >> kernel: The bedlevel of the channel at the left side for 'KDU-O-01451' is changed from    -3.59 into    -3.83.\n",
      "** WARNING: The bedlevel of the channel at the left side for 'KDU-O-01510' is changed from    -3.72 into    -3.89.\n",
      "Dimr [2022-05-01 21:08:10.334] #0 >> kernel: The bedlevel of the channel at the left side for 'KDU-O-01510' is changed from    -3.72 into    -3.89.\n",
      "** WARNING: The bedlevel of the channel at the left side for 'KDU-O-01510' is changed from    -3.72 into    -3.75.\n",
      "Dimr [2022-05-01 21:08:10.334] #0 >> kernel: The bedlevel of the channel at the left side for 'KDU-O-01510' is changed from    -3.72 into    -3.75.\n",
      "** WARNING: The bedlevel of the channel at the left side for 'KDU-O-01452' is changed from    -3.15 into    -3.57.\n",
      "Dimr [2022-05-01 21:08:10.334] #0 >> kernel: The bedlevel of the channel at the left side for 'KDU-O-01452' is changed from    -3.15 into    -3.57.\n",
      "** WARNING: The bedlevel of the channel at the left side for 'KDU-O-01452' is changed from    -3.15 into    -3.61.\n",
      "Dimr [2022-05-01 21:08:10.335] #0 >> kernel: The bedlevel of the channel at the left side for 'KDU-O-01452' is changed from    -3.15 into    -3.61.\n",
      "** WARNING: The bedlevel of the channel at the left side for 'KDU-O-01456' is changed from    -2.53 into    -2.56.\n",
      "Dimr [2022-05-01 21:08:10.335] #0 >> kernel: The bedlevel of the channel at the left side for 'KDU-O-01456' is changed from    -2.53 into    -2.56.\n",
      "** WARNING: The bedlevel of the channel at the left side for 'KDU-O-01456' is changed from    -2.53 into    -2.60.\n",
      "Dimr [2022-05-01 21:08:10.335] #0 >> kernel: The bedlevel of the channel at the left side for 'KDU-O-01456' is changed from    -2.53 into    -2.60.\n",
      "** WARNING: The bedlevel of the channel at the left side for 'KDU-O-01421' is changed from    -3.59 into    -3.62.\n",
      "Dimr [2022-05-01 21:08:10.335] #0 >> kernel: The bedlevel of the channel at the left side for 'KDU-O-01421' is changed from    -3.59 into    -3.62.\n",
      "** WARNING: The bedlevel of the channel at the left side for 'KDU-O-01421' is changed from    -3.59 into    -3.60.\n",
      "Dimr [2022-05-01 21:08:10.335] #0 >> kernel: The bedlevel of the channel at the left side for 'KDU-O-01421' is changed from    -3.59 into    -3.60.\n",
      "** WARNING: The bedlevel of the channel at the left side for 'KDU-O-01431' is changed from    -3.35 into    -3.41.\n",
      "Dimr [2022-05-01 21:08:10.335] #0 >> kernel: The bedlevel of the channel at the left side for 'KDU-O-01431' is changed from    -3.35 into    -3.41.\n",
      "** WARNING: The bedlevel of the channel at the left side for 'KDU-O-01437' is changed from    -3.15 into    -3.36.\n",
      "Dimr [2022-05-01 21:08:10.335] #0 >> kernel: The bedlevel of the channel at the left side for 'KDU-O-01437' is changed from    -3.15 into    -3.36.\n",
      "** WARNING: The bedlevel of the channel at the left side for 'KDU-O-01437' is changed from    -3.15 into    -3.24.\n",
      "Dimr [2022-05-01 21:08:10.335] #0 >> kernel: The bedlevel of the channel at the left side for 'KDU-O-01437' is changed from    -3.15 into    -3.24.\n",
      "** WARNING: The bedlevel of the channel at the left side for 'KDU-O-01522' is changed from    -2.86 into    -3.12.\n",
      "Dimr [2022-05-01 21:08:10.335] #0 >> kernel: The bedlevel of the channel at the left side for 'KDU-O-01522' is changed from    -2.86 into    -3.12.\n",
      "** WARNING: The bedlevel of the channel at the left side for 'KDU-O-01543' is changed from    -3.87 into    -3.98.\n",
      "Dimr [2022-05-01 21:08:10.335] #0 >> kernel: The bedlevel of the channel at the left side for 'KDU-O-01543' is changed from    -3.87 into    -3.98.\n",
      "** WARNING: The bedlevel of the channel at the left side for 'KDU-O-01543' is changed from    -3.90 into    -3.93.\n",
      "Dimr [2022-05-01 21:08:10.335] #0 >> kernel: The bedlevel of the channel at the left side for 'KDU-O-01543' is changed from    -3.90 into    -3.93.\n",
      "** WARNING: The bedlevel of the channel at the left side for 'KDU-O-01541' is changed from    -3.86 into    -4.17.\n",
      "Dimr [2022-05-01 21:08:10.335] #0 >> kernel: The bedlevel of the channel at the left side for 'KDU-O-01541' is changed from    -3.86 into    -4.17.\n",
      "** WARNING: The bedlevel of the channel at the left side for 'KDU-O-01541' is changed from    -3.86 into    -3.90.\n",
      "Dimr [2022-05-01 21:08:10.335] #0 >> kernel: The bedlevel of the channel at the left side for 'KDU-O-01541' is changed from    -3.86 into    -3.90.\n",
      "** WARNING: The bedlevel of the channel at the left side for 'KSY-O-00011' is changed from    -4.51 into    -4.53.\n",
      "Dimr [2022-05-01 21:08:10.335] #0 >> kernel: The bedlevel of the channel at the left side for 'KSY-O-00011' is changed from    -4.51 into    -4.53.\n",
      "** WARNING: The bedlevel of the channel at the left side for 'KSY-O-00011' is changed from    -4.41 into    -4.58.\n",
      "Dimr [2022-05-01 21:08:10.335] #0 >> kernel: The bedlevel of the channel at the left side for 'KSY-O-00011' is changed from    -4.41 into    -4.58.\n",
      "** INFO   : nogauss , nocg :            654             0\n",
      "** INFO   : ** Model initialization was successful **\n",
      "** INFO   : * Active Model definition:\n",
      "** INFO   : **\n",
      "** INFO   : Modelinit finished   at: 21:08:10, 01-05-2022\n",
      "** INFO   : \n",
      "** INFO   : \n",
      "** INFO   : nr of netnodes               ( )  :                      653\n",
      "** INFO   : nr of netlinks               ( )  :                      655\n",
      "** INFO   : \n",
      "** INFO   : nr of 2D netlinks            ( )  :                        0\n",
      "** INFO   : nr of 1D netlinks            ( )  :                      655\n",
      "** INFO   : \n",
      "** INFO   : nr of netcells               ( )  :                        0\n",
      "** INFO   : nr of netcells 1D2D          ( )  :                      653\n",
      "** INFO   : \n",
      "** INFO   : nr of flownodes              ( )  :                      654\n",
      "** INFO   : nr of internal flownodes     ( )  :                      653\n",
      "** INFO   : nr of 2D internal flownodes  ( )  :                        0\n",
      "** INFO   : nr of 1D internal flownodes  ( )  :                      653\n",
      "** INFO   : \n",
      "** INFO   : nr of openbnd cells       ( )     :                        1\n",
      "** INFO   : nr of 2D boundaries       ( )     :                        0\n",
      "** INFO   : nr of 1D boundaries       ( )     :                        1\n",
      "** INFO   : nr of flowlinks           ( )     :                      656\n",
      "** INFO   : nr of internal links      ( )     :                      655\n",
      "** INFO   : nr of 1D links            ( )     :                      655\n",
      "** INFO   : \n",
      "** INFO   : nr of closed walls     ( )  :                        0\n",
      "** INFO   : \n",
      "** INFO   : \n",
      "** INFO   : my model area          (m2) :         0.6167484720E+05\n",
      "** INFO   : my model volume        (m3) :         0.2000981222E+06\n",
      "** INFO   : \n",
      "** INFO   : \n",
      "** INFO   : Writing initial output to file(s)...\n",
      "** WARNING: Missing coordinate reference system. Now using default: projected_coordinate_system (EPSG:0).\n",
      "Dimr [2022-05-01 21:08:10.345] #0 >> kernel: Missing coordinate reference system. Now using default: projected_coordinate_system (EPSG:0).\n",
      "** INFO   : Done writing initial output to file(s).\n",
      "Dimr [2022-05-01 21:08:10.399] #0 >> Rainfall Runoff.Initialize(Sobek_3b.fnm)\n"
     ]
    },
    {
     "name": "stdout",
     "output_type": "stream",
     "text": [
      "Dimr [2022-05-01 21:08:10.750] #0 >> Real-Time Control.Initialize(D:\\repositories\\HYDROLIB\\contrib\\d2hydro\\data\\stochast\\cases\\STOWA2014_HUIDIG_winter_middelnat_KORT_85mm_niet_verhoogd\\rtc)\n",
      "******************************************************************************\n",
      "   This program contains RTC-Tools, a library for real-time control. It is    \n",
      "  released as open source code under the GNU General Public License 2 (GPL2). \n",
      "      For more information visit http://oss.deltares.nl/web/rtc-tools/        \n",
      "******************************************************************************\n",
      "Dimr [2022-05-01 21:08:10.838] #0 >> PARALLEL:\n",
      "Dimr [2022-05-01 21:08:10.840] #0 >>        0.0:    Rainfall Runoff.Update(       0.0)\n",
      "Dimr [2022-05-01 21:08:10.875] #0 >>        0.0:    Real-Time Control.Update(      -1.0)\n",
      "Dimr [2022-05-01 21:08:10.876] #0 >>        0.0:    Flow1D.Update(     600.0)\n",
      "Dimr [2022-05-01 21:08:10.997] #0 >>      600.0:    Rainfall Runoff.Update(     600.0)\n",
      "Dimr [2022-05-01 21:08:11.029] #0 >>      600.0:    Real-Time Control.Update(      -1.0)\n",
      "Dimr [2022-05-01 21:08:11.030] #0 >>      600.0:    Flow1D.Update(     600.0)\n",
      "Dimr [2022-05-01 21:08:11.162] #0 >>     1200.0:    Rainfall Runoff.Update(     600.0)\n",
      "Dimr [2022-05-01 21:08:11.187] #0 >>     1200.0:    Real-Time Control.Update(      -1.0)\n",
      "Dimr [2022-05-01 21:08:11.188] #0 >>     1200.0:    Flow1D.Update(     600.0)\n",
      "Dimr [2022-05-01 21:08:11.305] #0 >>     1800.0:    Rainfall Runoff.Update(     600.0)\n",
      "Dimr [2022-05-01 21:08:11.326] #0 >>     1800.0:    Real-Time Control.Update(      -1.0)\n",
      "Dimr [2022-05-01 21:08:11.327] #0 >>     1800.0:    Flow1D.Update(     600.0)\n",
      "Dimr [2022-05-01 21:08:11.426] #0 >>     2400.0:    Rainfall Runoff.Update(     600.0)\n",
      "Dimr [2022-05-01 21:08:11.453] #0 >>     2400.0:    Real-Time Control.Update(      -1.0)\n",
      "Dimr [2022-05-01 21:08:11.453] #0 >>     2400.0:    Flow1D.Update(     600.0)\n",
      "Dimr [2022-05-01 21:08:11.546] #0 >>     3000.0:    Rainfall Runoff.Update(     600.0)\n",
      "Dimr [2022-05-01 21:08:11.578] #0 >>     3000.0:    Real-Time Control.Update(      -1.0)\n",
      "Dimr [2022-05-01 21:08:11.579] #0 >>     3000.0:    Flow1D.Update(     600.0)\n",
      "Dimr [2022-05-01 21:08:11.667] #0 >>     3600.0:    Rainfall Runoff.Update(     600.0)\n",
      "Dimr [2022-05-01 21:08:11.688] #0 >>     3600.0:    Real-Time Control.Update(      -1.0)\n",
      "Dimr [2022-05-01 21:08:11.688] #0 >>     3600.0:    Flow1D.Update(     600.0)\n",
      "Dimr [2022-05-01 21:08:11.800] #0 >>     4200.0:    Rainfall Runoff.Update(     600.0)\n",
      "Dimr [2022-05-01 21:08:11.826] #0 >>     4200.0:    Real-Time Control.Update(      -1.0)\n",
      "Dimr [2022-05-01 21:08:11.827] #0 >>     4200.0:    Flow1D.Update(     600.0)\n",
      "Dimr [2022-05-01 21:08:11.928] #0 >>     4800.0:    Rainfall Runoff.Update(     600.0)\n",
      "Dimr [2022-05-01 21:08:11.953] #0 >>     4800.0:    Real-Time Control.Update(      -1.0)\n",
      "Dimr [2022-05-01 21:08:11.954] #0 >>     4800.0:    Flow1D.Update(     600.0)\n",
      "Dimr [2022-05-01 21:08:12.043] #0 >>     5400.0:    Rainfall Runoff.Update(     600.0)\n",
      "Dimr [2022-05-01 21:08:12.075] #0 >>     5400.0:    Real-Time Control.Update(      -1.0)\n",
      "Dimr [2022-05-01 21:08:12.075] #0 >>     5400.0:    Flow1D.Update(     600.0)\n",
      "Dimr [2022-05-01 21:08:12.149] #0 >>     6000.0:    Rainfall Runoff.Update(     600.0)\n",
      "Dimr [2022-05-01 21:08:12.183] #0 >>     6000.0:    Real-Time Control.Update(      -1.0)\n",
      "Dimr [2022-05-01 21:08:12.183] #0 >>     6000.0:    Flow1D.Update(     600.0)\n",
      "Dimr [2022-05-01 21:08:12.257] #0 >>     6600.0:    Rainfall Runoff.Update(     600.0)\n",
      "Dimr [2022-05-01 21:08:12.275] #0 >>     6600.0:    Real-Time Control.Update(      -1.0)\n",
      "Dimr [2022-05-01 21:08:12.276] #0 >>     6600.0:    Flow1D.Update(     600.0)\n",
      "Dimr [2022-05-01 21:08:12.360] #0 >>     7200.0:    Rainfall Runoff.Update(     600.0)\n",
      "Dimr [2022-05-01 21:08:12.386] #0 >>     7200.0:    Real-Time Control.Update(      -1.0)\n",
      "Dimr [2022-05-01 21:08:12.387] #0 >>     7200.0:    Flow1D.Update(     600.0)\n",
      "Dimr [2022-05-01 21:08:12.481] #0 >>     7800.0:    Rainfall Runoff.Update(     600.0)\n",
      "Dimr [2022-05-01 21:08:12.508] #0 >>     7800.0:    Real-Time Control.Update(      -1.0)\n",
      "Dimr [2022-05-01 21:08:12.509] #0 >>     7800.0:    Flow1D.Update(     600.0)\n",
      "Dimr [2022-05-01 21:08:12.577] #0 >>     8400.0:    Rainfall Runoff.Update(     600.0)\n",
      "Dimr [2022-05-01 21:08:12.602] #0 >>     8400.0:    Real-Time Control.Update(      -1.0)\n",
      "Dimr [2022-05-01 21:08:12.602] #0 >>     8400.0:    Flow1D.Update(     600.0)\n",
      "Dimr [2022-05-01 21:08:12.660] #0 >>     9000.0:    Rainfall Runoff.Update(     600.0)\n",
      "Dimr [2022-05-01 21:08:12.681] #0 >>     9000.0:    Real-Time Control.Update(      -1.0)\n",
      "Dimr [2022-05-01 21:08:12.681] #0 >>     9000.0:    Flow1D.Update(     600.0)\n",
      "Dimr [2022-05-01 21:08:12.754] #0 >>     9600.0:    Rainfall Runoff.Update(     600.0)\n",
      "Dimr [2022-05-01 21:08:12.774] #0 >>     9600.0:    Real-Time Control.Update(      -1.0)\n",
      "Dimr [2022-05-01 21:08:12.774] #0 >>     9600.0:    Flow1D.Update(     600.0)\n",
      "Dimr [2022-05-01 21:08:12.833] #0 >>    10200.0:    Rainfall Runoff.Update(     600.0)\n",
      "Dimr [2022-05-01 21:08:12.867] #0 >>    10200.0:    Real-Time Control.Update(      -1.0)\n",
      "Dimr [2022-05-01 21:08:12.867] #0 >>    10200.0:    Flow1D.Update(     600.0)\n",
      "Dimr [2022-05-01 21:08:12.934] #0 >>    10800.0:    Rainfall Runoff.Update(     600.0)\n",
      "Dimr [2022-05-01 21:08:12.961] #0 >>    10800.0:    Real-Time Control.Update(      -1.0)\n",
      "Dimr [2022-05-01 21:08:12.961] #0 >>    10800.0:    Flow1D.Update(     600.0)\n",
      "Dimr [2022-05-01 21:08:13.034] #0 >>    11400.0:    Rainfall Runoff.Update(     600.0)\n",
      "Dimr [2022-05-01 21:08:13.054] #0 >>    11400.0:    Real-Time Control.Update(      -1.0)\n",
      "Dimr [2022-05-01 21:08:13.055] #0 >>    11400.0:    Flow1D.Update(     600.0)\n",
      "Dimr [2022-05-01 21:08:13.118] #0 >>    12000.0:    Rainfall Runoff.Update(     600.0)\n",
      "Dimr [2022-05-01 21:08:13.147] #0 >>    12000.0:    Real-Time Control.Update(      -1.0)\n",
      "Dimr [2022-05-01 21:08:13.148] #0 >>    12000.0:    Flow1D.Update(     600.0)\n",
      "Dimr [2022-05-01 21:08:13.216] #0 >>    12600.0:    Rainfall Runoff.Update(     600.0)\n",
      "Dimr [2022-05-01 21:08:13.241] #0 >>    12600.0:    Real-Time Control.Update(      -1.0)\n",
      "Dimr [2022-05-01 21:08:13.241] #0 >>    12600.0:    Flow1D.Update(     600.0)\n",
      "Dimr [2022-05-01 21:08:13.308] #0 >>    13200.0:    Rainfall Runoff.Update(     600.0)\n",
      "Dimr [2022-05-01 21:08:13.333] #0 >>    13200.0:    Real-Time Control.Update(      -1.0)\n",
      "Dimr [2022-05-01 21:08:13.334] #0 >>    13200.0:    Flow1D.Update(     600.0)\n",
      "Dimr [2022-05-01 21:08:13.392] #0 >>    13800.0:    Rainfall Runoff.Update(     600.0)\n",
      "Dimr [2022-05-01 21:08:13.410] #0 >>    13800.0:    Real-Time Control.Update(      -1.0)\n",
      "Dimr [2022-05-01 21:08:13.411] #0 >>    13800.0:    Flow1D.Update(     600.0)\n",
      "Dimr [2022-05-01 21:08:13.473] #0 >>    14400.0:    Rainfall Runoff.Update(     600.0)\n",
      "Dimr [2022-05-01 21:08:13.505] #0 >>    14400.0:    Real-Time Control.Update(      -1.0)\n",
      "Dimr [2022-05-01 21:08:13.505] #0 >>    14400.0:    Flow1D.Update(     600.0)\n",
      "Dimr [2022-05-01 21:08:13.556] #0 >>    15000.0:    Rainfall Runoff.Update(     600.0)\n",
      "Dimr [2022-05-01 21:08:13.582] #0 >>    15000.0:    Real-Time Control.Update(      -1.0)\n",
      "Dimr [2022-05-01 21:08:13.582] #0 >>    15000.0:    Flow1D.Update(     600.0)\n",
      "Dimr [2022-05-01 21:08:13.637] #0 >>    15600.0:    Rainfall Runoff.Update(     600.0)\n",
      "Dimr [2022-05-01 21:08:13.661] #0 >>    15600.0:    Real-Time Control.Update(      -1.0)\n",
      "Dimr [2022-05-01 21:08:13.661] #0 >>    15600.0:    Flow1D.Update(     600.0)\n",
      "Dimr [2022-05-01 21:08:13.723] #0 >>    16200.0:    Rainfall Runoff.Update(     600.0)\n",
      "Dimr [2022-05-01 21:08:13.754] #0 >>    16200.0:    Real-Time Control.Update(      -1.0)\n",
      "Dimr [2022-05-01 21:08:13.754] #0 >>    16200.0:    Flow1D.Update(     600.0)\n",
      "Dimr [2022-05-01 21:08:13.816] #0 >>    16800.0:    Rainfall Runoff.Update(     600.0)\n",
      "Dimr [2022-05-01 21:08:13.846] #0 >>    16800.0:    Real-Time Control.Update(      -1.0)\n",
      "Dimr [2022-05-01 21:08:13.847] #0 >>    16800.0:    Flow1D.Update(     600.0)\n",
      "Dimr [2022-05-01 21:08:13.904] #0 >>    17400.0:    Rainfall Runoff.Update(     600.0)\n",
      "Dimr [2022-05-01 21:08:13.925] #0 >>    17400.0:    Real-Time Control.Update(      -1.0)\n",
      "Dimr [2022-05-01 21:08:13.926] #0 >>    17400.0:    Flow1D.Update(     600.0)\n"
     ]
    },
    {
     "name": "stdout",
     "output_type": "stream",
     "text": [
      "Dimr [2022-05-01 21:08:13.987] #0 >>    18000.0:    Rainfall Runoff.Update(     600.0)\n",
      "Dimr [2022-05-01 21:08:14.019] #0 >>    18000.0:    Real-Time Control.Update(      -1.0)\n",
      "Dimr [2022-05-01 21:08:14.020] #0 >>    18000.0:    Flow1D.Update(     600.0)\n",
      "Dimr [2022-05-01 21:08:14.080] #0 >>    18600.0:    Rainfall Runoff.Update(     600.0)\n",
      "Dimr [2022-05-01 21:08:14.112] #0 >>    18600.0:    Real-Time Control.Update(      -1.0)\n",
      "Dimr [2022-05-01 21:08:14.113] #0 >>    18600.0:    Flow1D.Update(     600.0)\n",
      "Dimr [2022-05-01 21:08:14.176] #0 >>    19200.0:    Rainfall Runoff.Update(     600.0)\n",
      "Dimr [2022-05-01 21:08:14.205] #0 >>    19200.0:    Real-Time Control.Update(      -1.0)\n",
      "Dimr [2022-05-01 21:08:14.206] #0 >>    19200.0:    Flow1D.Update(     600.0)\n",
      "Dimr [2022-05-01 21:08:14.272] #0 >>    19800.0:    Rainfall Runoff.Update(     600.0)\n",
      "Dimr [2022-05-01 21:08:14.298] #0 >>    19800.0:    Real-Time Control.Update(      -1.0)\n",
      "Dimr [2022-05-01 21:08:14.299] #0 >>    19800.0:    Flow1D.Update(     600.0)\n",
      "Dimr [2022-05-01 21:08:14.371] #0 >>    20400.0:    Rainfall Runoff.Update(     600.0)\n",
      "Dimr [2022-05-01 21:08:14.392] #0 >>    20400.0:    Real-Time Control.Update(      -1.0)\n",
      "Dimr [2022-05-01 21:08:14.393] #0 >>    20400.0:    Flow1D.Update(     600.0)\n",
      "Dimr [2022-05-01 21:08:14.463] #0 >>    21000.0:    Rainfall Runoff.Update(     600.0)\n",
      "Dimr [2022-05-01 21:08:14.486] #0 >>    21000.0:    Real-Time Control.Update(      -1.0)\n",
      "Dimr [2022-05-01 21:08:14.487] #0 >>    21000.0:    Flow1D.Update(     600.0)\n",
      "Dimr [2022-05-01 21:08:14.550] #0 >>    21600.0:    Rainfall Runoff.Update(     600.0)\n",
      "Dimr [2022-05-01 21:08:14.580] #0 >>    21600.0:    Real-Time Control.Update(      -1.0)\n",
      "Dimr [2022-05-01 21:08:14.581] #0 >>    21600.0:    Flow1D.Update(     600.0)\n",
      "Dimr [2022-05-01 21:08:14.644] #0 >>    22200.0:    Rainfall Runoff.Update(     600.0)\n",
      "Dimr [2022-05-01 21:08:14.674] #0 >>    22200.0:    Real-Time Control.Update(      -1.0)\n",
      "Dimr [2022-05-01 21:08:14.675] #0 >>    22200.0:    Flow1D.Update(     600.0)\n",
      "Dimr [2022-05-01 21:08:14.752] #0 >>    22800.0:    Rainfall Runoff.Update(     600.0)\n",
      "Dimr [2022-05-01 21:08:14.784] #0 >>    22800.0:    Real-Time Control.Update(      -1.0)\n",
      "Dimr [2022-05-01 21:08:14.784] #0 >>    22800.0:    Flow1D.Update(     600.0)\n",
      "Dimr [2022-05-01 21:08:14.853] #0 >>    23400.0:    Rainfall Runoff.Update(     600.0)\n",
      "Dimr [2022-05-01 21:08:14.879] #0 >>    23400.0:    Real-Time Control.Update(      -1.0)\n",
      "Dimr [2022-05-01 21:08:14.879] #0 >>    23400.0:    Flow1D.Update(     600.0)\n",
      "Dimr [2022-05-01 21:08:14.947] #0 >>    24000.0:    Rainfall Runoff.Update(     600.0)\n",
      "Dimr [2022-05-01 21:08:14.970] #0 >>    24000.0:    Real-Time Control.Update(      -1.0)\n",
      "Dimr [2022-05-01 21:08:14.971] #0 >>    24000.0:    Flow1D.Update(     600.0)\n",
      "Dimr [2022-05-01 21:08:15.037] #0 >>    24600.0:    Rainfall Runoff.Update(     600.0)\n",
      "Dimr [2022-05-01 21:08:15.064] #0 >>    24600.0:    Real-Time Control.Update(      -1.0)\n",
      "Dimr [2022-05-01 21:08:15.064] #0 >>    24600.0:    Flow1D.Update(     600.0)\n",
      "Dimr [2022-05-01 21:08:15.129] #0 >>    25200.0:    Rainfall Runoff.Update(     600.0)\n",
      "Dimr [2022-05-01 21:08:15.158] #0 >>    25200.0:    Real-Time Control.Update(      -1.0)\n",
      "Dimr [2022-05-01 21:08:15.158] #0 >>    25200.0:    Flow1D.Update(     600.0)\n",
      "Dimr [2022-05-01 21:08:15.218] #0 >>    25800.0:    Rainfall Runoff.Update(     600.0)\n",
      "Dimr [2022-05-01 21:08:15.253] #0 >>    25800.0:    Real-Time Control.Update(      -1.0)\n",
      "Dimr [2022-05-01 21:08:15.253] #0 >>    25800.0:    Flow1D.Update(     600.0)\n",
      "Dimr [2022-05-01 21:08:15.320] #0 >>    26400.0:    Rainfall Runoff.Update(     600.0)\n",
      "Dimr [2022-05-01 21:08:15.346] #0 >>    26400.0:    Real-Time Control.Update(      -1.0)\n",
      "Dimr [2022-05-01 21:08:15.346] #0 >>    26400.0:    Flow1D.Update(     600.0)\n",
      "Dimr [2022-05-01 21:08:15.412] #0 >>    27000.0:    Rainfall Runoff.Update(     600.0)\n",
      "Dimr [2022-05-01 21:08:15.441] #0 >>    27000.0:    Real-Time Control.Update(      -1.0)\n",
      "Dimr [2022-05-01 21:08:15.441] #0 >>    27000.0:    Flow1D.Update(     600.0)\n",
      "Dimr [2022-05-01 21:08:15.498] #0 >>    27600.0:    Rainfall Runoff.Update(     600.0)\n",
      "Dimr [2022-05-01 21:08:15.520] #0 >>    27600.0:    Real-Time Control.Update(      -1.0)\n",
      "Dimr [2022-05-01 21:08:15.520] #0 >>    27600.0:    Flow1D.Update(     600.0)\n",
      "Dimr [2022-05-01 21:08:15.583] #0 >>    28200.0:    Rainfall Runoff.Update(     600.0)\n",
      "Dimr [2022-05-01 21:08:15.613] #0 >>    28200.0:    Real-Time Control.Update(      -1.0)\n",
      "Dimr [2022-05-01 21:08:15.614] #0 >>    28200.0:    Flow1D.Update(     600.0)\n",
      "Dimr [2022-05-01 21:08:15.678] #0 >>    28800.0:    Rainfall Runoff.Update(     600.0)\n",
      "Dimr [2022-05-01 21:08:15.708] #0 >>    28800.0:    Real-Time Control.Update(      -1.0)\n",
      "Dimr [2022-05-01 21:08:15.709] #0 >>    28800.0:    Flow1D.Update(     600.0)\n",
      "Dimr [2022-05-01 21:08:15.780] #0 >>    29400.0:    Rainfall Runoff.Update(     600.0)\n",
      "Dimr [2022-05-01 21:08:15.802] #0 >>    29400.0:    Real-Time Control.Update(      -1.0)\n",
      "Dimr [2022-05-01 21:08:15.803] #0 >>    29400.0:    Flow1D.Update(     600.0)\n",
      "Dimr [2022-05-01 21:08:15.867] #0 >>    30000.0:    Rainfall Runoff.Update(     600.0)\n",
      "Dimr [2022-05-01 21:08:15.896] #0 >>    30000.0:    Real-Time Control.Update(      -1.0)\n",
      "Dimr [2022-05-01 21:08:15.896] #0 >>    30000.0:    Flow1D.Update(     600.0)\n",
      "Dimr [2022-05-01 21:08:15.965] #0 >>    30600.0:    Rainfall Runoff.Update(     600.0)\n",
      "Dimr [2022-05-01 21:08:15.989] #0 >>    30600.0:    Real-Time Control.Update(      -1.0)\n",
      "Dimr [2022-05-01 21:08:15.989] #0 >>    30600.0:    Flow1D.Update(     600.0)\n",
      "Dimr [2022-05-01 21:08:16.062] #0 >>    31200.0:    Rainfall Runoff.Update(     600.0)\n",
      "Dimr [2022-05-01 21:08:16.082] #0 >>    31200.0:    Real-Time Control.Update(      -1.0)\n",
      "Dimr [2022-05-01 21:08:16.082] #0 >>    31200.0:    Flow1D.Update(     600.0)\n",
      "Dimr [2022-05-01 21:08:16.152] #0 >>    31800.0:    Rainfall Runoff.Update(     600.0)\n",
      "Dimr [2022-05-01 21:08:16.175] #0 >>    31800.0:    Real-Time Control.Update(      -1.0)\n",
      "Dimr [2022-05-01 21:08:16.176] #0 >>    31800.0:    Flow1D.Update(     600.0)\n",
      "Dimr [2022-05-01 21:08:16.243] #0 >>    32400.0:    Rainfall Runoff.Update(     600.0)\n",
      "Dimr [2022-05-01 21:08:16.271] #0 >>    32400.0:    Real-Time Control.Update(      -1.0)\n",
      "Dimr [2022-05-01 21:08:16.271] #0 >>    32400.0:    Flow1D.Update(     600.0)\n",
      "Dimr [2022-05-01 21:08:16.338] #0 >>    33000.0:    Rainfall Runoff.Update(     600.0)\n",
      "Dimr [2022-05-01 21:08:16.365] #0 >>    33000.0:    Real-Time Control.Update(      -1.0)\n",
      "Dimr [2022-05-01 21:08:16.367] #0 >>    33000.0:    Flow1D.Update(     600.0)\n",
      "Dimr [2022-05-01 21:08:16.430] #0 >>    33600.0:    Rainfall Runoff.Update(     600.0)\n",
      "Dimr [2022-05-01 21:08:16.460] #0 >>    33600.0:    Real-Time Control.Update(      -1.0)\n",
      "Dimr [2022-05-01 21:08:16.461] #0 >>    33600.0:    Flow1D.Update(     600.0)\n",
      "Dimr [2022-05-01 21:08:16.533] #0 >>    34200.0:    Rainfall Runoff.Update(     600.0)\n",
      "Dimr [2022-05-01 21:08:16.555] #0 >>    34200.0:    Real-Time Control.Update(      -1.0)\n",
      "Dimr [2022-05-01 21:08:16.555] #0 >>    34200.0:    Flow1D.Update(     600.0)\n",
      "Dimr [2022-05-01 21:08:16.617] #0 >>    34800.0:    Rainfall Runoff.Update(     600.0)\n",
      "Dimr [2022-05-01 21:08:16.646] #0 >>    34800.0:    Real-Time Control.Update(      -1.0)\n",
      "Dimr [2022-05-01 21:08:16.647] #0 >>    34800.0:    Flow1D.Update(     600.0)\n",
      "Dimr [2022-05-01 21:08:16.706] #0 >>    35400.0:    Rainfall Runoff.Update(     600.0)\n",
      "Dimr [2022-05-01 21:08:16.741] #0 >>    35400.0:    Real-Time Control.Update(      -1.0)\n",
      "Dimr [2022-05-01 21:08:16.741] #0 >>    35400.0:    Flow1D.Update(     600.0)\n",
      "Dimr [2022-05-01 21:08:16.808] #0 >>    36000.0:    Rainfall Runoff.Update(     600.0)\n",
      "Dimr [2022-05-01 21:08:16.835] #0 >>    36000.0:    Real-Time Control.Update(      -1.0)\n",
      "Dimr [2022-05-01 21:08:16.835] #0 >>    36000.0:    Flow1D.Update(     600.0)\n",
      "Dimr [2022-05-01 21:08:16.906] #0 >>    36600.0:    Rainfall Runoff.Update(     600.0)\n",
      "Dimr [2022-05-01 21:08:16.929] #0 >>    36600.0:    Real-Time Control.Update(      -1.0)\n",
      "Dimr [2022-05-01 21:08:16.930] #0 >>    36600.0:    Flow1D.Update(     600.0)\n",
      "Dimr [2022-05-01 21:08:17.004] #0 >>    37200.0:    Rainfall Runoff.Update(     600.0)\n",
      "Dimr [2022-05-01 21:08:17.023] #0 >>    37200.0:    Real-Time Control.Update(      -1.0)\n",
      "Dimr [2022-05-01 21:08:17.024] #0 >>    37200.0:    Flow1D.Update(     600.0)\n",
      "Dimr [2022-05-01 21:08:17.097] #0 >>    37800.0:    Rainfall Runoff.Update(     600.0)\n",
      "Dimr [2022-05-01 21:08:17.117] #0 >>    37800.0:    Real-Time Control.Update(      -1.0)\n",
      "Dimr [2022-05-01 21:08:17.120] #0 >>    37800.0:    Flow1D.Update(     600.0)\n",
      "Dimr [2022-05-01 21:08:17.192] #0 >>    38400.0:    Rainfall Runoff.Update(     600.0)\n"
     ]
    },
    {
     "name": "stdout",
     "output_type": "stream",
     "text": [
      "Dimr [2022-05-01 21:08:17.227] #0 >>    38400.0:    Real-Time Control.Update(      -1.0)\n",
      "Dimr [2022-05-01 21:08:17.227] #0 >>    38400.0:    Flow1D.Update(     600.0)\n",
      "Dimr [2022-05-01 21:08:17.301] #0 >>    39000.0:    Rainfall Runoff.Update(     600.0)\n",
      "Dimr [2022-05-01 21:08:17.320] #0 >>    39000.0:    Real-Time Control.Update(      -1.0)\n",
      "Dimr [2022-05-01 21:08:17.321] #0 >>    39000.0:    Flow1D.Update(     600.0)\n",
      "Dimr [2022-05-01 21:08:17.402] #0 >>    39600.0:    Rainfall Runoff.Update(     600.0)\n",
      "Dimr [2022-05-01 21:08:17.430] #0 >>    39600.0:    Real-Time Control.Update(      -1.0)\n",
      "Dimr [2022-05-01 21:08:17.430] #0 >>    39600.0:    Flow1D.Update(     600.0)\n",
      "Dimr [2022-05-01 21:08:17.563] #0 >>    40200.0:    Rainfall Runoff.Update(     600.0)\n",
      "Dimr [2022-05-01 21:08:17.587] #0 >>    40200.0:    Real-Time Control.Update(      -1.0)\n",
      "Dimr [2022-05-01 21:08:17.588] #0 >>    40200.0:    Flow1D.Update(     600.0)\n",
      "Dimr [2022-05-01 21:08:17.725] #0 >>    40800.0:    Rainfall Runoff.Update(     600.0)\n",
      "Dimr [2022-05-01 21:08:17.758] #0 >>    40800.0:    Real-Time Control.Update(      -1.0)\n",
      "Dimr [2022-05-01 21:08:17.759] #0 >>    40800.0:    Flow1D.Update(     600.0)\n",
      "Dimr [2022-05-01 21:08:17.930] #0 >>    41400.0:    Rainfall Runoff.Update(     600.0)\n",
      "Dimr [2022-05-01 21:08:17.961] #0 >>    41400.0:    Real-Time Control.Update(      -1.0)\n",
      "Dimr [2022-05-01 21:08:17.962] #0 >>    41400.0:    Flow1D.Update(     600.0)\n",
      "Dimr [2022-05-01 21:08:18.112] #0 >>    42000.0:    Rainfall Runoff.Update(     600.0)\n",
      "Dimr [2022-05-01 21:08:18.132] #0 >>    42000.0:    Real-Time Control.Update(      -1.0)\n",
      "Dimr [2022-05-01 21:08:18.133] #0 >>    42000.0:    Flow1D.Update(     600.0)\n",
      "Dimr [2022-05-01 21:08:18.294] #0 >>    42600.0:    Rainfall Runoff.Update(     600.0)\n",
      "Dimr [2022-05-01 21:08:18.319] #0 >>    42600.0:    Real-Time Control.Update(      -1.0)\n",
      "Dimr [2022-05-01 21:08:18.320] #0 >>    42600.0:    Flow1D.Update(     600.0)\n",
      "Dimr [2022-05-01 21:08:18.479] #0 >>    43200.0:    Rainfall Runoff.Update(     600.0)\n",
      "Dimr [2022-05-01 21:08:18.507] #0 >>    43200.0:    Real-Time Control.Update(      -1.0)\n",
      "Dimr [2022-05-01 21:08:18.507] #0 >>    43200.0:    Flow1D.Update(     600.0)\n",
      "Dimr [2022-05-01 21:08:18.653] #0 >>    43800.0:    Rainfall Runoff.Update(     600.0)\n",
      "Dimr [2022-05-01 21:08:18.678] #0 >>    43800.0:    Real-Time Control.Update(      -1.0)\n",
      "Dimr [2022-05-01 21:08:18.679] #0 >>    43800.0:    Flow1D.Update(     600.0)\n",
      "Dimr [2022-05-01 21:08:18.812] #0 >>    44400.0:    Rainfall Runoff.Update(     600.0)\n",
      "Dimr [2022-05-01 21:08:18.832] #0 >>    44400.0:    Real-Time Control.Update(      -1.0)\n",
      "Dimr [2022-05-01 21:08:18.833] #0 >>    44400.0:    Flow1D.Update(     600.0)\n",
      "Dimr [2022-05-01 21:08:18.930] #0 >>    45000.0:    Rainfall Runoff.Update(     600.0)\n",
      "Dimr [2022-05-01 21:08:18.959] #0 >>    45000.0:    Real-Time Control.Update(      -1.0)\n",
      "Dimr [2022-05-01 21:08:18.959] #0 >>    45000.0:    Flow1D.Update(     600.0)\n",
      "Dimr [2022-05-01 21:08:19.079] #0 >>    45600.0:    Rainfall Runoff.Update(     600.0)\n",
      "Dimr [2022-05-01 21:08:19.100] #0 >>    45600.0:    Real-Time Control.Update(      -1.0)\n",
      "Dimr [2022-05-01 21:08:19.100] #0 >>    45600.0:    Flow1D.Update(     600.0)\n",
      "Dimr [2022-05-01 21:08:19.217] #0 >>    46200.0:    Rainfall Runoff.Update(     600.0)\n",
      "Dimr [2022-05-01 21:08:19.241] #0 >>    46200.0:    Real-Time Control.Update(      -1.0)\n",
      "Dimr [2022-05-01 21:08:19.241] #0 >>    46200.0:    Flow1D.Update(     600.0)\n",
      "Dimr [2022-05-01 21:08:19.326] #0 >>    46800.0:    Rainfall Runoff.Update(     600.0)\n",
      "Dimr [2022-05-01 21:08:19.351] #0 >>    46800.0:    Real-Time Control.Update(      -1.0)\n",
      "Dimr [2022-05-01 21:08:19.351] #0 >>    46800.0:    Flow1D.Update(     600.0)\n",
      "Dimr [2022-05-01 21:08:19.467] #0 >>    47400.0:    Rainfall Runoff.Update(     600.0)\n",
      "Dimr [2022-05-01 21:08:19.491] #0 >>    47400.0:    Real-Time Control.Update(      -1.0)\n",
      "Dimr [2022-05-01 21:08:19.492] #0 >>    47400.0:    Flow1D.Update(     600.0)\n",
      "Dimr [2022-05-01 21:08:19.610] #0 >>    48000.0:    Rainfall Runoff.Update(     600.0)\n",
      "Dimr [2022-05-01 21:08:19.630] #0 >>    48000.0:    Real-Time Control.Update(      -1.0)\n",
      "Dimr [2022-05-01 21:08:19.631] #0 >>    48000.0:    Flow1D.Update(     600.0)\n",
      "Dimr [2022-05-01 21:08:19.714] #0 >>    48600.0:    Rainfall Runoff.Update(     600.0)\n",
      "Dimr [2022-05-01 21:08:19.739] #0 >>    48600.0:    Real-Time Control.Update(      -1.0)\n",
      "Dimr [2022-05-01 21:08:19.740] #0 >>    48600.0:    Flow1D.Update(     600.0)\n",
      "Dimr [2022-05-01 21:08:19.807] #0 >>    49200.0:    Rainfall Runoff.Update(     600.0)\n",
      "Dimr [2022-05-01 21:08:19.833] #0 >>    49200.0:    Real-Time Control.Update(      -1.0)\n",
      "Dimr [2022-05-01 21:08:19.834] #0 >>    49200.0:    Flow1D.Update(     600.0)\n",
      "Dimr [2022-05-01 21:08:19.871] #0 >>    49800.0:    Rainfall Runoff.Update(     600.0)\n",
      "Dimr [2022-05-01 21:08:19.895] #0 >>    49800.0:    Real-Time Control.Update(      -1.0)\n",
      "Dimr [2022-05-01 21:08:20.462] #0 >>    49800.0:    Flow1D.Update(     600.0)\n",
      "Dimr [2022-05-01 21:08:20.521] #0 >>    50400.0:    Rainfall Runoff.Update(     600.0)\n",
      "Dimr [2022-05-01 21:08:20.551] #0 >>    50400.0:    Real-Time Control.Update(      -1.0)\n",
      "Dimr [2022-05-01 21:08:20.552] #0 >>    50400.0:    Flow1D.Update(     600.0)\n",
      "Dimr [2022-05-01 21:08:20.594] #0 >>    51000.0:    Rainfall Runoff.Update(     600.0)\n",
      "Dimr [2022-05-01 21:08:20.614] #0 >>    51000.0:    Real-Time Control.Update(      -1.0)\n",
      "Dimr [2022-05-01 21:08:20.614] #0 >>    51000.0:    Flow1D.Update(     600.0)\n",
      "Dimr [2022-05-01 21:08:20.664] #0 >>    51600.0:    Rainfall Runoff.Update(     600.0)\n",
      "Dimr [2022-05-01 21:08:20.692] #0 >>    51600.0:    Real-Time Control.Update(      -1.0)\n",
      "Dimr [2022-05-01 21:08:20.692] #0 >>    51600.0:    Flow1D.Update(     600.0)\n",
      "Dimr [2022-05-01 21:08:20.803] #0 >>    52200.0:    Rainfall Runoff.Update(     600.0)\n",
      "Dimr [2022-05-01 21:08:20.834] #0 >>    52200.0:    Real-Time Control.Update(      -1.0)\n",
      "Dimr [2022-05-01 21:08:20.835] #0 >>    52200.0:    Flow1D.Update(     600.0)\n",
      "Dimr [2022-05-01 21:08:20.952] #0 >>    52800.0:    Rainfall Runoff.Update(     600.0)\n",
      "Dimr [2022-05-01 21:08:20.972] #0 >>    52800.0:    Real-Time Control.Update(      -1.0)\n",
      "Dimr [2022-05-01 21:08:20.973] #0 >>    52800.0:    Flow1D.Update(     600.0)\n",
      "Dimr [2022-05-01 21:08:21.046] #0 >>    53400.0:    Rainfall Runoff.Update(     600.0)\n",
      "Dimr [2022-05-01 21:08:21.067] #0 >>    53400.0:    Real-Time Control.Update(      -1.0)\n",
      "Dimr [2022-05-01 21:08:21.067] #0 >>    53400.0:    Flow1D.Update(     600.0)\n",
      "Dimr [2022-05-01 21:08:21.124] #0 >>    54000.0:    Rainfall Runoff.Update(     600.0)\n",
      "Dimr [2022-05-01 21:08:21.145] #0 >>    54000.0:    Real-Time Control.Update(      -1.0)\n",
      "Dimr [2022-05-01 21:08:21.146] #0 >>    54000.0:    Flow1D.Update(     600.0)\n",
      "Dimr [2022-05-01 21:08:21.189] #0 >>    54600.0:    Rainfall Runoff.Update(     600.0)\n",
      "Dimr [2022-05-01 21:08:21.221] #0 >>    54600.0:    Real-Time Control.Update(      -1.0)\n",
      "Dimr [2022-05-01 21:08:21.222] #0 >>    54600.0:    Flow1D.Update(     600.0)\n",
      "Dimr [2022-05-01 21:08:21.279] #0 >>    55200.0:    Rainfall Runoff.Update(     600.0)\n",
      "Dimr [2022-05-01 21:08:21.300] #0 >>    55200.0:    Real-Time Control.Update(      -1.0)\n",
      "Dimr [2022-05-01 21:08:21.301] #0 >>    55200.0:    Flow1D.Update(     600.0)\n",
      "Dimr [2022-05-01 21:08:21.349] #0 >>    55800.0:    Rainfall Runoff.Update(     600.0)\n",
      "Dimr [2022-05-01 21:08:21.378] #0 >>    55800.0:    Real-Time Control.Update(      -1.0)\n",
      "Dimr [2022-05-01 21:08:21.379] #0 >>    55800.0:    Flow1D.Update(     600.0)\n",
      "Dimr [2022-05-01 21:08:21.420] #0 >>    56400.0:    Rainfall Runoff.Update(     600.0)\n",
      "Dimr [2022-05-01 21:08:21.442] #0 >>    56400.0:    Real-Time Control.Update(      -1.0)\n",
      "Dimr [2022-05-01 21:08:21.442] #0 >>    56400.0:    Flow1D.Update(     600.0)\n",
      "Dimr [2022-05-01 21:08:21.481] #0 >>    57000.0:    Rainfall Runoff.Update(     600.0)\n",
      "Dimr [2022-05-01 21:08:21.505] #0 >>    57000.0:    Real-Time Control.Update(      -1.0)\n",
      "Dimr [2022-05-01 21:08:21.505] #0 >>    57000.0:    Flow1D.Update(     600.0)\n",
      "Dimr [2022-05-01 21:08:21.592] #0 >>    57600.0:    Rainfall Runoff.Update(     600.0)\n",
      "Dimr [2022-05-01 21:08:21.612] #0 >>    57600.0:    Real-Time Control.Update(      -1.0)\n",
      "Dimr [2022-05-01 21:08:21.613] #0 >>    57600.0:    Flow1D.Update(     600.0)\n"
     ]
    },
    {
     "name": "stdout",
     "output_type": "stream",
     "text": [
      "Dimr [2022-05-01 21:08:21.691] #0 >>    58200.0:    Rainfall Runoff.Update(     600.0)\n",
      "Dimr [2022-05-01 21:08:21.720] #0 >>    58200.0:    Real-Time Control.Update(      -1.0)\n",
      "Dimr [2022-05-01 21:08:21.721] #0 >>    58200.0:    Flow1D.Update(     600.0)\n",
      "Dimr [2022-05-01 21:08:21.776] #0 >>    58800.0:    Rainfall Runoff.Update(     600.0)\n",
      "Dimr [2022-05-01 21:08:21.799] #0 >>    58800.0:    Real-Time Control.Update(      -1.0)\n",
      "Dimr [2022-05-01 21:08:21.800] #0 >>    58800.0:    Flow1D.Update(     600.0)\n",
      "Dimr [2022-05-01 21:08:21.841] #0 >>    59400.0:    Rainfall Runoff.Update(     600.0)\n",
      "Dimr [2022-05-01 21:08:21.862] #0 >>    59400.0:    Real-Time Control.Update(      -1.0)\n",
      "Dimr [2022-05-01 21:08:21.862] #0 >>    59400.0:    Flow1D.Update(     600.0)\n",
      "Dimr [2022-05-01 21:08:21.890] #0 >>    60000.0:    Rainfall Runoff.Update(     600.0)\n",
      "Dimr [2022-05-01 21:08:21.924] #0 >>    60000.0:    Real-Time Control.Update(      -1.0)\n",
      "Dimr [2022-05-01 21:08:21.925] #0 >>    60000.0:    Flow1D.Update(     600.0)\n",
      "Dimr [2022-05-01 21:08:21.963] #0 >>    60600.0:    Rainfall Runoff.Update(     600.0)\n",
      "Dimr [2022-05-01 21:08:21.987] #0 >>    60600.0:    Real-Time Control.Update(      -1.0)\n",
      "Dimr [2022-05-01 21:08:21.988] #0 >>    60600.0:    Flow1D.Update(     600.0)\n",
      "Dimr [2022-05-01 21:08:22.075] #0 >>    61200.0:    Rainfall Runoff.Update(     600.0)\n",
      "Dimr [2022-05-01 21:08:22.096] #0 >>    61200.0:    Real-Time Control.Update(      -1.0)\n",
      "Dimr [2022-05-01 21:08:22.097] #0 >>    61200.0:    Flow1D.Update(     600.0)\n",
      "Dimr [2022-05-01 21:08:22.171] #0 >>    61800.0:    Rainfall Runoff.Update(     600.0)\n",
      "Dimr [2022-05-01 21:08:22.192] #0 >>    61800.0:    Real-Time Control.Update(      -1.0)\n",
      "Dimr [2022-05-01 21:08:22.192] #0 >>    61800.0:    Flow1D.Update(     600.0)\n",
      "Dimr [2022-05-01 21:08:22.244] #0 >>    62400.0:    Rainfall Runoff.Update(     600.0)\n",
      "Dimr [2022-05-01 21:08:22.269] #0 >>    62400.0:    Real-Time Control.Update(      -1.0)\n",
      "Dimr [2022-05-01 21:08:22.270] #0 >>    62400.0:    Flow1D.Update(     600.0)\n",
      "Dimr [2022-05-01 21:08:22.310] #0 >>    63000.0:    Rainfall Runoff.Update(     600.0)\n",
      "Dimr [2022-05-01 21:08:22.332] #0 >>    63000.0:    Real-Time Control.Update(      -1.0)\n",
      "Dimr [2022-05-01 21:08:22.333] #0 >>    63000.0:    Flow1D.Update(     600.0)\n",
      "Dimr [2022-05-01 21:08:22.362] #0 >>    63600.0:    Rainfall Runoff.Update(     600.0)\n",
      "Dimr [2022-05-01 21:08:22.393] #0 >>    63600.0:    Real-Time Control.Update(      -1.0)\n",
      "Dimr [2022-05-01 21:08:22.394] #0 >>    63600.0:    Flow1D.Update(     600.0)\n",
      "Dimr [2022-05-01 21:08:22.448] #0 >>    64200.0:    Rainfall Runoff.Update(     600.0)\n",
      "Dimr [2022-05-01 21:08:22.470] #0 >>    64200.0:    Real-Time Control.Update(      -1.0)\n",
      "Dimr [2022-05-01 21:08:22.471] #0 >>    64200.0:    Flow1D.Update(     600.0)\n",
      "Dimr [2022-05-01 21:08:22.509] #0 >>    64800.0:    Rainfall Runoff.Update(     600.0)\n",
      "Dimr [2022-05-01 21:08:22.534] #0 >>    64800.0:    Real-Time Control.Update(      -1.0)\n",
      "Dimr [2022-05-01 21:08:22.534] #0 >>    64800.0:    Flow1D.Update(     600.0)\n",
      "Dimr [2022-05-01 21:08:22.574] #0 >>    65400.0:    Rainfall Runoff.Update(     600.0)\n",
      "Dimr [2022-05-01 21:08:22.597] #0 >>    65400.0:    Real-Time Control.Update(      -1.0)\n",
      "Dimr [2022-05-01 21:08:22.597] #0 >>    65400.0:    Flow1D.Update(     600.0)\n",
      "Dimr [2022-05-01 21:08:22.650] #0 >>    66000.0:    Rainfall Runoff.Update(     600.0)\n",
      "Dimr [2022-05-01 21:08:22.674] #0 >>    66000.0:    Real-Time Control.Update(      -1.0)\n",
      "Dimr [2022-05-01 21:08:22.675] #0 >>    66000.0:    Flow1D.Update(     600.0)\n",
      "Dimr [2022-05-01 21:08:22.702] #0 >>    66600.0:    Rainfall Runoff.Update(     600.0)\n",
      "Dimr [2022-05-01 21:08:22.737] #0 >>    66600.0:    Real-Time Control.Update(      -1.0)\n",
      "Dimr [2022-05-01 21:08:22.737] #0 >>    66600.0:    Flow1D.Update(     600.0)\n",
      "Dimr [2022-05-01 21:08:22.773] #0 >>    67200.0:    Rainfall Runoff.Update(     600.0)\n",
      "Dimr [2022-05-01 21:08:22.799] #0 >>    67200.0:    Real-Time Control.Update(      -1.0)\n",
      "Dimr [2022-05-01 21:08:22.799] #0 >>    67200.0:    Flow1D.Update(     600.0)\n",
      "Dimr [2022-05-01 21:08:22.831] #0 >>    67800.0:    Rainfall Runoff.Update(     600.0)\n",
      "Dimr [2022-05-01 21:08:22.860] #0 >>    67800.0:    Real-Time Control.Update(      -1.0)\n",
      "Dimr [2022-05-01 21:08:22.860] #0 >>    67800.0:    Flow1D.Update(     600.0)\n",
      "Dimr [2022-05-01 21:08:22.891] #0 >>    68400.0:    Rainfall Runoff.Update(     600.0)\n",
      "Dimr [2022-05-01 21:08:22.921] #0 >>    68400.0:    Real-Time Control.Update(      -1.0)\n",
      "Dimr [2022-05-01 21:08:22.922] #0 >>    68400.0:    Flow1D.Update(     600.0)\n",
      "Dimr [2022-05-01 21:08:22.996] #0 >>    69000.0:    Rainfall Runoff.Update(     600.0)\n",
      "Dimr [2022-05-01 21:08:23.017] #0 >>    69000.0:    Real-Time Control.Update(      -1.0)\n",
      "Dimr [2022-05-01 21:08:23.017] #0 >>    69000.0:    Flow1D.Update(     600.0)\n",
      "Dimr [2022-05-01 21:08:23.111] #0 >>    69600.0:    Rainfall Runoff.Update(     600.0)\n",
      "Dimr [2022-05-01 21:08:23.141] #0 >>    69600.0:    Real-Time Control.Update(      -1.0)\n",
      "Dimr [2022-05-01 21:08:23.142] #0 >>    69600.0:    Flow1D.Update(     600.0)\n",
      "Dimr [2022-05-01 21:08:23.204] #0 >>    70200.0:    Rainfall Runoff.Update(     600.0)\n",
      "Dimr [2022-05-01 21:08:23.237] #0 >>    70200.0:    Real-Time Control.Update(      -1.0)\n",
      "Dimr [2022-05-01 21:08:23.237] #0 >>    70200.0:    Flow1D.Update(     600.0)\n",
      "Dimr [2022-05-01 21:08:23.279] #0 >>    70800.0:    Rainfall Runoff.Update(     600.0)\n",
      "Dimr [2022-05-01 21:08:23.300] #0 >>    70800.0:    Real-Time Control.Update(      -1.0)\n",
      "Dimr [2022-05-01 21:08:23.300] #0 >>    70800.0:    Flow1D.Update(     600.0)\n",
      "Dimr [2022-05-01 21:08:23.350] #0 >>    71400.0:    Rainfall Runoff.Update(     600.0)\n",
      "Dimr [2022-05-01 21:08:23.378] #0 >>    71400.0:    Real-Time Control.Update(      -1.0)\n",
      "Dimr [2022-05-01 21:08:23.379] #0 >>    71400.0:    Flow1D.Update(     600.0)\n",
      "Dimr [2022-05-01 21:08:23.420] #0 >>    72000.0:    Rainfall Runoff.Update(     600.0)\n",
      "Dimr [2022-05-01 21:08:23.455] #0 >>    72000.0:    Real-Time Control.Update(      -1.0)\n",
      "Dimr [2022-05-01 21:08:23.455] #0 >>    72000.0:    Flow1D.Update(     600.0)\n",
      "Dimr [2022-05-01 21:08:23.485] #0 >>    72600.0:    Rainfall Runoff.Update(     600.0)\n",
      "Dimr [2022-05-01 21:08:23.518] #0 >>    72600.0:    Real-Time Control.Update(      -1.0)\n",
      "Dimr [2022-05-01 21:08:23.519] #0 >>    72600.0:    Flow1D.Update(     600.0)\n",
      "Dimr [2022-05-01 21:08:23.557] #0 >>    73200.0:    Rainfall Runoff.Update(     600.0)\n",
      "Dimr [2022-05-01 21:08:23.581] #0 >>    73200.0:    Real-Time Control.Update(      -1.0)\n",
      "Dimr [2022-05-01 21:08:23.581] #0 >>    73200.0:    Flow1D.Update(     600.0)\n",
      "Dimr [2022-05-01 21:08:23.658] #0 >>    73800.0:    Rainfall Runoff.Update(     600.0)\n",
      "Dimr [2022-05-01 21:08:23.689] #0 >>    73800.0:    Real-Time Control.Update(      -1.0)\n",
      "Dimr [2022-05-01 21:08:23.689] #0 >>    73800.0:    Flow1D.Update(     600.0)\n",
      "Dimr [2022-05-01 21:08:23.783] #0 >>    74400.0:    Rainfall Runoff.Update(     600.0)\n",
      "Dimr [2022-05-01 21:08:23.812] #0 >>    74400.0:    Real-Time Control.Update(      -1.0)\n",
      "Dimr [2022-05-01 21:08:23.813] #0 >>    74400.0:    Flow1D.Update(     600.0)\n",
      "Dimr [2022-05-01 21:08:23.876] #0 >>    75000.0:    Rainfall Runoff.Update(     600.0)\n",
      "Dimr [2022-05-01 21:08:23.904] #0 >>    75000.0:    Real-Time Control.Update(      -1.0)\n",
      "Dimr [2022-05-01 21:08:23.905] #0 >>    75000.0:    Flow1D.Update(     600.0)\n",
      "Dimr [2022-05-01 21:08:23.956] #0 >>    75600.0:    Rainfall Runoff.Update(     600.0)\n",
      "Dimr [2022-05-01 21:08:23.980] #0 >>    75600.0:    Real-Time Control.Update(      -1.0)\n",
      "Dimr [2022-05-01 21:08:23.981] #0 >>    75600.0:    Flow1D.Update(     600.0)\n",
      "Dimr [2022-05-01 21:08:24.030] #0 >>    76200.0:    Rainfall Runoff.Update(     600.0)\n",
      "Dimr [2022-05-01 21:08:24.058] #0 >>    76200.0:    Real-Time Control.Update(      -1.0)\n",
      "Dimr [2022-05-01 21:08:24.059] #0 >>    76200.0:    Flow1D.Update(     600.0)\n",
      "Dimr [2022-05-01 21:08:24.106] #0 >>    76800.0:    Rainfall Runoff.Update(     600.0)\n",
      "Dimr [2022-05-01 21:08:24.137] #0 >>    76800.0:    Real-Time Control.Update(      -1.0)\n",
      "Dimr [2022-05-01 21:08:24.137] #0 >>    76800.0:    Flow1D.Update(     600.0)\n",
      "Dimr [2022-05-01 21:08:24.181] #0 >>    77400.0:    Rainfall Runoff.Update(     600.0)\n",
      "Dimr [2022-05-01 21:08:24.213] #0 >>    77400.0:    Real-Time Control.Update(      -1.0)\n",
      "Dimr [2022-05-01 21:08:24.214] #0 >>    77400.0:    Flow1D.Update(     600.0)\n",
      "Dimr [2022-05-01 21:08:24.302] #0 >>    78000.0:    Rainfall Runoff.Update(     600.0)\n"
     ]
    },
    {
     "name": "stdout",
     "output_type": "stream",
     "text": [
      "Dimr [2022-05-01 21:08:24.322] #0 >>    78000.0:    Real-Time Control.Update(      -1.0)\n",
      "Dimr [2022-05-01 21:08:24.322] #0 >>    78000.0:    Flow1D.Update(     600.0)\n",
      "Dimr [2022-05-01 21:08:24.426] #0 >>    78600.0:    Rainfall Runoff.Update(     600.0)\n",
      "Dimr [2022-05-01 21:08:24.447] #0 >>    78600.0:    Real-Time Control.Update(      -1.0)\n",
      "Dimr [2022-05-01 21:08:24.447] #0 >>    78600.0:    Flow1D.Update(     600.0)\n",
      "Dimr [2022-05-01 21:08:24.517] #0 >>    79200.0:    Rainfall Runoff.Update(     600.0)\n",
      "Dimr [2022-05-01 21:08:24.539] #0 >>    79200.0:    Real-Time Control.Update(      -1.0)\n",
      "Dimr [2022-05-01 21:08:24.540] #0 >>    79200.0:    Flow1D.Update(     600.0)\n",
      "Dimr [2022-05-01 21:08:24.589] #0 >>    79800.0:    Rainfall Runoff.Update(     600.0)\n",
      "Dimr [2022-05-01 21:08:24.617] #0 >>    79800.0:    Real-Time Control.Update(      -1.0)\n",
      "Dimr [2022-05-01 21:08:24.618] #0 >>    79800.0:    Flow1D.Update(     600.0)\n",
      "Dimr [2022-05-01 21:08:24.661] #0 >>    80400.0:    Rainfall Runoff.Update(     600.0)\n",
      "Dimr [2022-05-01 21:08:24.680] #0 >>    80400.0:    Real-Time Control.Update(      -1.0)\n",
      "Dimr [2022-05-01 21:08:24.681] #0 >>    80400.0:    Flow1D.Update(     600.0)\n",
      "Dimr [2022-05-01 21:08:24.723] #0 >>    81000.0:    Rainfall Runoff.Update(     600.0)\n",
      "Dimr [2022-05-01 21:08:24.743] #0 >>    81000.0:    Real-Time Control.Update(      -1.0)\n",
      "Dimr [2022-05-01 21:08:24.743] #0 >>    81000.0:    Flow1D.Update(     600.0)\n",
      "Dimr [2022-05-01 21:08:24.828] #0 >>    81600.0:    Rainfall Runoff.Update(     600.0)\n",
      "Dimr [2022-05-01 21:08:24.851] #0 >>    81600.0:    Real-Time Control.Update(      -1.0)\n",
      "Dimr [2022-05-01 21:08:24.851] #0 >>    81600.0:    Flow1D.Update(     600.0)\n",
      "Dimr [2022-05-01 21:08:24.940] #0 >>    82200.0:    Rainfall Runoff.Update(     600.0)\n",
      "Dimr [2022-05-01 21:08:24.961] #0 >>    82200.0:    Real-Time Control.Update(      -1.0)\n",
      "Dimr [2022-05-01 21:08:24.961] #0 >>    82200.0:    Flow1D.Update(     600.0)\n",
      "Dimr [2022-05-01 21:08:25.027] #0 >>    82800.0:    Rainfall Runoff.Update(     600.0)\n",
      "Dimr [2022-05-01 21:08:25.054] #0 >>    82800.0:    Real-Time Control.Update(      -1.0)\n",
      "Dimr [2022-05-01 21:08:25.055] #0 >>    82800.0:    Flow1D.Update(     600.0)\n",
      "Dimr [2022-05-01 21:08:25.100] #0 >>    83400.0:    Rainfall Runoff.Update(     600.0)\n",
      "Dimr [2022-05-01 21:08:25.132] #0 >>    83400.0:    Real-Time Control.Update(      -1.0)\n",
      "Dimr [2022-05-01 21:08:25.132] #0 >>    83400.0:    Flow1D.Update(     600.0)\n",
      "Dimr [2022-05-01 21:08:25.183] #0 >>    84000.0:    Rainfall Runoff.Update(     600.0)\n",
      "Dimr [2022-05-01 21:08:25.209] #0 >>    84000.0:    Real-Time Control.Update(      -1.0)\n",
      "Dimr [2022-05-01 21:08:25.210] #0 >>    84000.0:    Flow1D.Update(     600.0)\n",
      "Dimr [2022-05-01 21:08:25.245] #0 >>    84600.0:    Rainfall Runoff.Update(     600.0)\n",
      "Dimr [2022-05-01 21:08:25.271] #0 >>    84600.0:    Real-Time Control.Update(      -1.0)\n",
      "Dimr [2022-05-01 21:08:25.272] #0 >>    84600.0:    Flow1D.Update(     600.0)\n",
      "Dimr [2022-05-01 21:08:25.351] #0 >>    85200.0:    Rainfall Runoff.Update(     600.0)\n",
      "Dimr [2022-05-01 21:08:25.382] #0 >>    85200.0:    Real-Time Control.Update(      -1.0)\n",
      "Dimr [2022-05-01 21:08:25.382] #0 >>    85200.0:    Flow1D.Update(     600.0)\n",
      "Dimr [2022-05-01 21:08:25.477] #0 >>    85800.0:    Rainfall Runoff.Update(     600.0)\n",
      "Dimr [2022-05-01 21:08:25.506] #0 >>    85800.0:    Real-Time Control.Update(      -1.0)\n",
      "Dimr [2022-05-01 21:08:25.507] #0 >>    85800.0:    Flow1D.Update(     600.0)\n",
      "Dimr [2022-05-01 21:08:25.572] #0 >>     Rainfall Runoff.Finalize()\n",
      "Dimr [2022-05-01 21:08:25.586] #0 >>     Real-Time Control.Finalize()\n",
      "Dimr [2022-05-01 21:08:25.611] #0 >>     Flow1D.Finalize()\n",
      "** INFO   : \n",
      "** INFO   : \n",
      "** INFO   : \n",
      "** INFO   : extra timer:Flow init                                            0.0150001049\n",
      "** INFO   : extra timer:Set boundaries                                       0.0490000248\n",
      "** INFO   : extra timer:Sethuau                                              2.2679951191\n",
      "** INFO   : extra timer:setdt                                                0.0419981480\n",
      "** INFO   : extra timer:Compute advection term                               0.2550015450\n",
      "** INFO   : extra timer:u0u1                                                 0.0290000439\n",
      "** INFO   : extra timer:Setumod                                              0.2200000286\n",
      "** INFO   : extra timer:Set conveyance                                       0.0159997940\n",
      "** INFO   : extra timer:Set structures actual parameters                     0.0239994526\n",
      "** INFO   : extra timer:step_reduce                                          6.3600080013\n",
      "** INFO   : extra timer:Transport                                            0.0980024338\n",
      "** INFO   : extra timer:Output                                               0.3829996586\n",
      "** INFO   : extra timer:unc_write_his                                        0.3119978905\n",
      "** INFO   : extra timer:unc_write_his INIT/DEF                               0.0429999828\n",
      "** INFO   : extra timer:unc_write_his str write                              0.2299978733\n",
      "** INFO   : extra timer:unc_write_his time data                              0.0119998455\n",
      "** INFO   : extra timer:unc_write_map_filepointer_ugrid                      0.0900015831\n",
      "** INFO   : extra timer:unc_write_map_filepointer_ugrid TIME wri             0.0420007706\n",
      "** INFO   : extra timer:unc_write_map_filepointer_ugrid vars                 0.0430006981\n",
      "** INFO   : extra timer:call wrimap                                          0.1000013351\n",
      "** INFO   : extra timer:call flow_externaloutput                             0.3709995747\n",
      "** INFO   : \n",
      "** INFO   : \n",
      "** INFO   : \n",
      "** INFO   : nr of timesteps        ( )  :          8115.0000000000\n",
      "** INFO   : average timestep       (s)  :            10.6456382454\n",
      "** INFO   : nr of setbacks         ( )  :             1.0000000000\n",
      "** INFO   : \n",
      "** INFO   : \n",
      "** INFO   : simulation period      (d)  :             1.0000000000\n",
      "** INFO   : total computation time (d)  :             0.0001783912\n",
      "** INFO   : time modelinit         (d)  :             0.0000023148\n",
      "** INFO   : time steps (+ plots)   (d)  :             0.0001760764\n",
      "** INFO   : \n",
      "** INFO   : simulation period      (h)  :            24.0000000000\n",
      "** INFO   : total computation time (h)  :             0.0042813889\n",
      "** INFO   : time modelinit         (h)  :             0.0000555556\n",
      "** INFO   : time steps (+ plots)   (h)  :             0.0042258333\n",
      "** INFO   : \n",
      "** INFO   : simulation period      (s)  :         86400.0000000000\n",
      "** INFO   : total computation time (s)  :            15.4130001068\n",
      "** INFO   : time modelinit         (s)  :             0.2000000477\n",
      "** INFO   : time steps (+ plots)   (s)  :            15.2130000591\n",
      "** INFO   : \n",
      "** INFO   : \n",
      "** INFO   : time iniexternalforc.  (s)  :             0.0090000629\n",
      "** INFO   : \n",
      "** INFO   : time inistep           (s)  :             2.9799950123\n",
      "** INFO   : time setumod           (s)  :             0.2009997368\n",
      "** INFO   : time furu              (s)  :             3.7050035000\n",
      "** INFO   : time solve             (s)  :             0.4759974480\n",
      "** INFO   : time gausselimination  (s)  :             0.1760000000\n",
      "** INFO   : time gausssubstitution (s)  :             0.0860000000\n",
      "** INFO   : time totalsolve        (s)  :             0.5120000001\n",
      "** INFO   : time setexternalforc.  (s)  :             0.0080001354\n",
      "** INFO   : time setexternalfbnd.  (s)  :             0.0300002098\n",
      "** INFO   : time steps             (s)  :             9.5740022659\n",
      "** INFO   : fraction solve/steps   ( )  :             0.0497177079\n",
      "** INFO   : total/(dnt*ndx)        (s)  :             0.0000029042\n",
      "** INFO   : av nr of cont. it s1it ( )  :             0.0002464268\n",
      "** INFO   : time transport [s]         :             0.1320000000\n",
      "** INFO   : time debug     [s]         :             0.0000000000\n",
      "** INFO   : \n",
      "** INFO   : \n",
      "** INFO   : \n",
      "** INFO   : Computation started  at: 21:08:10, 01-05-2022\n",
      "** INFO   : Computation finished at: 21:08:25, 01-05-2022\n",
      "** INFO   : \n",
      "** INFO   : simulation period      (h)  :            24.0000000000\n",
      "** INFO   : total time in timeloop (h)  :             0.0042258333\n",
      "** INFO   : MPI    : no.\n",
      "** INFO   : OpenMP : yes.         #threads max : 1\n",
      "** INFO   : \n",
      "** INFO   : \n",
      "** INFO   : \n",
      "** INFO   : Opened file : output\\dellen_numlimdt.xyz\n",
      "** INFO   : Closed file : output\\dellen_numlimdt.xyz\n",
      "** INFO   : \n",
      "Dimr [2022-05-01 21:08:25.613] #0 >> TIMER INFO:\n",
      "\n",
      "Dimr [2022-05-01 21:08:25.613] #0 >> Rainfall Runoff\t: 3.1052 sec\n",
      "Dimr [2022-05-01 21:08:25.613] #0 >> Real-Time Control\t: 0.158 sec\n",
      "Dimr [2022-05-01 21:08:25.613] #0 >> Flow1D\t: 10.999202 sec\n",
      "Dimr [2022-05-01 21:08:25.613] #0 >> DIMR_LIB\t: 15.460 sec\n",
      "Dimr [2022-05-01 21:08:25.613] #0 >> DIMR_EXE\t: 15.465 sec\n"
     ]
    },
    {
     "name": "stderr",
     "output_type": "stream",
     "text": [
      "INFO:cmt.project:finished running case: 'STOWA2014_HUIDIG_winter_middelnat_KORT_85mm_niet_verhoogd' in 15.625491 secs\n"
     ]
    },
    {
     "name": "stdout",
     "output_type": "stream",
     "text": [
      "D:\\repositories\\HYDROLIB\\contrib\\d2hydro\\data\\stochast\\results\\D-Hydro-model.json\n"
     ]
    }
   ],
   "source": [
    "project.run_case(case_id, stream_output=True)"
   ]
  },
  {
   "cell_type": "code",
   "execution_count": 3,
   "id": "c971fdeb",
   "metadata": {},
   "outputs": [
    {
     "data": {
      "text/plain": [
       "{'id': 'STOWA2014_HUIDIG_winter_middelnat_KORT_85mm_niet_verhoogd',\n",
       " 'name': 'STOWA2014_HUIDIG_winter_middelnat_KORT_85mm_niet_verhoogd',\n",
       " 'meteo_bc_id': '24H_85MM_HOOG_WINTER',\n",
       " 'flow_bc_id': 'NIET_VERHOOGD_WINTER',\n",
       " 'model_id': 'D-Hydro-model',\n",
       " 'fm_output_dir': WindowsPath('output'),\n",
       " 'start_datetime': datetime.datetime(2000, 1, 1, 0, 0),\n",
       " 'simulation_period': datetime.timedelta(days=1),\n",
       " 'run': {'completed': True,\n",
       "  'success': True,\n",
       "  'start_datetime': datetime.datetime(2022, 5, 1, 21, 8, 10, 81287),\n",
       "  'run_duration': datetime.timedelta(seconds=15, microseconds=625491),\n",
       "  'results_id': 'D-Hydro-model',\n",
       "  'output_deleted': True}}"
      ]
     },
     "execution_count": 3,
     "metadata": {},
     "output_type": "execute_result"
    }
   ],
   "source": [
    "project.get_case(case_id).dict()"
   ]
  },
  {
   "cell_type": "markdown",
   "id": "fbf45e39",
   "metadata": {},
   "source": [
    "## run in batchmode\n",
    "\n",
    "Use the run_cases method to run in parallel:\n",
    "* workers=3: we divide the load over 3 CPU's\n",
    "* delete_output=True: we delete the fm output dir (and store samples only)"
   ]
  },
  {
   "cell_type": "code",
   "execution_count": 4,
   "id": "c7967651",
   "metadata": {},
   "outputs": [
    {
     "name": "stderr",
     "output_type": "stream",
     "text": [
      "INFO:cmt.project:Start running batch: #cases: 44, #workers 3\n",
      "INFO:cmt.project:Start running case (1/44): 'STOWA2014_HUIDIG_winter_middelnat_KORT_70mm_niet_verhoogd'\n",
      "INFO:cmt.project:Start running case (2/44): 'STOWA2014_HUIDIG_winter_middelnat_KORT_60mm_niet_verhoogd'\n",
      "INFO:cmt.project:Start running case (3/44): 'STOWA2014_HUIDIG_winter_middelnat_KORT_50mm_niet_verhoogd'\n",
      "INFO:cmt.project:finished running case: 'STOWA2014_HUIDIG_winter_middelnat_KORT_70mm_niet_verhoogd' in 19.138782 secs\n",
      "INFO:cmt.project:Start running case (4/44): 'STOWA2014_HUIDIG_winter_middelnat_KORT_40mm_niet_verhoogd'\n"
     ]
    },
    {
     "name": "stdout",
     "output_type": "stream",
     "text": [
      "D:\\repositories\\HYDROLIB\\contrib\\d2hydro\\data\\stochast\\results\\D-Hydro-model.json\n"
     ]
    },
    {
     "name": "stderr",
     "output_type": "stream",
     "text": [
      "INFO:cmt.project:finished running case: 'STOWA2014_HUIDIG_winter_middelnat_KORT_60mm_niet_verhoogd' in 20.449702 secs\n",
      "INFO:cmt.project:Start running case (5/44): 'STOWA2014_HUIDIG_winter_middelnat_KORT_30mm_niet_verhoogd'\n"
     ]
    },
    {
     "name": "stdout",
     "output_type": "stream",
     "text": [
      "D:\\repositories\\HYDROLIB\\contrib\\d2hydro\\data\\stochast\\results\\D-Hydro-model.json\n"
     ]
    },
    {
     "name": "stderr",
     "output_type": "stream",
     "text": [
      "INFO:cmt.project:finished running case: 'STOWA2014_HUIDIG_winter_middelnat_KORT_50mm_niet_verhoogd' in 21.500864 secs\n",
      "INFO:cmt.project:Start running case (6/44): 'STOWA2014_HUIDIG_winter_middelnat_KORT_20mm_niet_verhoogd'\n"
     ]
    },
    {
     "name": "stdout",
     "output_type": "stream",
     "text": [
      "D:\\repositories\\HYDROLIB\\contrib\\d2hydro\\data\\stochast\\results\\D-Hydro-model.json\n"
     ]
    },
    {
     "name": "stderr",
     "output_type": "stream",
     "text": [
      "INFO:cmt.project:finished running case: 'STOWA2014_HUIDIG_winter_middelnat_KORT_20mm_niet_verhoogd' in 18.259354 secs\n",
      "INFO:cmt.project:Start running case (7/44): 'STOWA2014_HUIDIG_winter_middelnat_LAAG_85mm_niet_verhoogd'\n",
      "INFO:cmt.project:finished running case: 'STOWA2014_HUIDIG_winter_middelnat_KORT_30mm_niet_verhoogd' in 19.421385 secs\n",
      "INFO:cmt.project:Start running case (8/44): 'STOWA2014_HUIDIG_winter_middelnat_LAAG_70mm_niet_verhoogd'\n"
     ]
    },
    {
     "name": "stdout",
     "output_type": "stream",
     "text": [
      "D:\\repositories\\HYDROLIB\\contrib\\d2hydro\\data\\stochast\\results\\D-Hydro-model.json\n",
      "D:\\repositories\\HYDROLIB\\contrib\\d2hydro\\data\\stochast\\results\\D-Hydro-model.json\n"
     ]
    },
    {
     "name": "stderr",
     "output_type": "stream",
     "text": [
      "INFO:cmt.project:finished running case: 'STOWA2014_HUIDIG_winter_middelnat_KORT_40mm_niet_verhoogd' in 22.028119 secs\n",
      "INFO:cmt.project:Start running case (9/44): 'STOWA2014_HUIDIG_winter_middelnat_LAAG_60mm_niet_verhoogd'\n"
     ]
    },
    {
     "name": "stdout",
     "output_type": "stream",
     "text": [
      "D:\\repositories\\HYDROLIB\\contrib\\d2hydro\\data\\stochast\\results\\D-Hydro-model.json\n"
     ]
    },
    {
     "name": "stderr",
     "output_type": "stream",
     "text": [
      "INFO:cmt.project:finished running case: 'STOWA2014_HUIDIG_winter_middelnat_LAAG_85mm_niet_verhoogd' in 19.304033 secs\n",
      "INFO:cmt.project:Start running case (10/44): 'STOWA2014_HUIDIG_winter_middelnat_LAAG_50mm_niet_verhoogd'\n"
     ]
    },
    {
     "name": "stdout",
     "output_type": "stream",
     "text": [
      "D:\\repositories\\HYDROLIB\\contrib\\d2hydro\\data\\stochast\\results\\D-Hydro-model.json\n"
     ]
    },
    {
     "name": "stderr",
     "output_type": "stream",
     "text": [
      "INFO:cmt.project:finished running case: 'STOWA2014_HUIDIG_winter_middelnat_LAAG_60mm_niet_verhoogd' in 19.985771 secs\n",
      "INFO:cmt.project:Start running case (11/44): 'STOWA2014_HUIDIG_winter_middelnat_LAAG_40mm_niet_verhoogd'\n"
     ]
    },
    {
     "name": "stdout",
     "output_type": "stream",
     "text": [
      "D:\\repositories\\HYDROLIB\\contrib\\d2hydro\\data\\stochast\\results\\D-Hydro-model.json\n"
     ]
    },
    {
     "name": "stderr",
     "output_type": "stream",
     "text": [
      "INFO:cmt.project:finished running case: 'STOWA2014_HUIDIG_winter_middelnat_LAAG_70mm_niet_verhoogd' in 21.930874 secs\n",
      "INFO:cmt.project:Start running case (12/44): 'STOWA2014_HUIDIG_winter_middelnat_LAAG_30mm_niet_verhoogd'\n"
     ]
    },
    {
     "name": "stdout",
     "output_type": "stream",
     "text": [
      "D:\\repositories\\HYDROLIB\\contrib\\d2hydro\\data\\stochast\\results\\D-Hydro-model.json\n"
     ]
    },
    {
     "name": "stderr",
     "output_type": "stream",
     "text": [
      "INFO:cmt.project:finished running case: 'STOWA2014_HUIDIG_winter_middelnat_LAAG_30mm_niet_verhoogd' in 16.920731 secs\n",
      "INFO:cmt.project:Start running case (13/44): 'STOWA2014_HUIDIG_winter_middelnat_LAAG_20mm_niet_verhoogd'\n"
     ]
    },
    {
     "name": "stdout",
     "output_type": "stream",
     "text": [
      "D:\\repositories\\HYDROLIB\\contrib\\d2hydro\\data\\stochast\\results\\D-Hydro-model.json\n"
     ]
    },
    {
     "name": "stderr",
     "output_type": "stream",
     "text": [
      "INFO:cmt.project:finished running case: 'STOWA2014_HUIDIG_winter_middelnat_LAAG_40mm_niet_verhoogd' in 18.704086 secs\n",
      "INFO:cmt.project:Start running case (14/44): 'STOWA2014_HUIDIG_winter_middelnat_MIDDELHOOG_85mm_niet_verhoogd'\n"
     ]
    },
    {
     "name": "stdout",
     "output_type": "stream",
     "text": [
      "D:\\repositories\\HYDROLIB\\contrib\\d2hydro\\data\\stochast\\results\\D-Hydro-model.json\n"
     ]
    },
    {
     "name": "stderr",
     "output_type": "stream",
     "text": [
      "INFO:cmt.project:finished running case: 'STOWA2014_HUIDIG_winter_middelnat_LAAG_50mm_niet_verhoogd' in 21.95223 secs\n",
      "INFO:cmt.project:Start running case (15/44): 'STOWA2014_HUIDIG_winter_middelnat_MIDDELHOOG_70mm_niet_verhoogd'\n"
     ]
    },
    {
     "name": "stdout",
     "output_type": "stream",
     "text": [
      "D:\\repositories\\HYDROLIB\\contrib\\d2hydro\\data\\stochast\\results\\D-Hydro-model.json\n"
     ]
    },
    {
     "name": "stderr",
     "output_type": "stream",
     "text": [
      "INFO:cmt.project:finished running case: 'STOWA2014_HUIDIG_winter_middelnat_LAAG_20mm_niet_verhoogd' in 17.202477 secs\n",
      "INFO:cmt.project:Start running case (16/44): 'STOWA2014_HUIDIG_winter_middelnat_MIDDELHOOG_60mm_niet_verhoogd'\n"
     ]
    },
    {
     "name": "stdout",
     "output_type": "stream",
     "text": [
      "D:\\repositories\\HYDROLIB\\contrib\\d2hydro\\data\\stochast\\results\\D-Hydro-model.json\n"
     ]
    },
    {
     "name": "stderr",
     "output_type": "stream",
     "text": [
      "INFO:cmt.project:finished running case: 'STOWA2014_HUIDIG_winter_middelnat_MIDDELHOOG_85mm_niet_verhoogd' in 18.188529 secs\n",
      "INFO:cmt.project:Start running case (17/44): 'STOWA2014_HUIDIG_winter_middelnat_MIDDELHOOG_50mm_niet_verhoogd'\n"
     ]
    },
    {
     "name": "stdout",
     "output_type": "stream",
     "text": [
      "D:\\repositories\\HYDROLIB\\contrib\\d2hydro\\data\\stochast\\results\\D-Hydro-model.json\n"
     ]
    },
    {
     "name": "stderr",
     "output_type": "stream",
     "text": [
      "INFO:cmt.project:finished running case: 'STOWA2014_HUIDIG_winter_middelnat_MIDDELHOOG_70mm_niet_verhoogd' in 19.109853 secs\n",
      "INFO:cmt.project:Start running case (18/44): 'STOWA2014_HUIDIG_winter_middelnat_MIDDELHOOG_40mm_niet_verhoogd'\n"
     ]
    },
    {
     "name": "stdout",
     "output_type": "stream",
     "text": [
      "D:\\repositories\\HYDROLIB\\contrib\\d2hydro\\data\\stochast\\results\\D-Hydro-model.json\n"
     ]
    },
    {
     "name": "stderr",
     "output_type": "stream",
     "text": [
      "INFO:cmt.project:finished running case: 'STOWA2014_HUIDIG_winter_middelnat_MIDDELHOOG_60mm_niet_verhoogd' in 18.815929 secs\n",
      "INFO:cmt.project:Start running case (19/44): 'STOWA2014_HUIDIG_winter_middelnat_MIDDELHOOG_30mm_niet_verhoogd'\n"
     ]
    },
    {
     "name": "stdout",
     "output_type": "stream",
     "text": [
      "D:\\repositories\\HYDROLIB\\contrib\\d2hydro\\data\\stochast\\results\\D-Hydro-model.json\n"
     ]
    },
    {
     "name": "stderr",
     "output_type": "stream",
     "text": [
      "INFO:cmt.project:finished running case: 'STOWA2014_HUIDIG_winter_middelnat_MIDDELHOOG_50mm_niet_verhoogd' in 19.049733 secs\n",
      "INFO:cmt.project:Start running case (20/44): 'STOWA2014_HUIDIG_winter_middelnat_MIDDELHOOG_20mm_niet_verhoogd'\n"
     ]
    },
    {
     "name": "stdout",
     "output_type": "stream",
     "text": [
      "D:\\repositories\\HYDROLIB\\contrib\\d2hydro\\data\\stochast\\results\\D-Hydro-model.json\n"
     ]
    },
    {
     "name": "stderr",
     "output_type": "stream",
     "text": [
      "INFO:cmt.project:finished running case: 'STOWA2014_HUIDIG_winter_middelnat_MIDDELHOOG_40mm_niet_verhoogd' in 19.833013 secs\n"
     ]
    },
    {
     "name": "stdout",
     "output_type": "stream",
     "text": [
      "D:\\repositories\\HYDROLIB\\contrib\\d2hydro\\data\\stochast\\results\\D-Hydro-model.json\n"
     ]
    },
    {
     "name": "stderr",
     "output_type": "stream",
     "text": [
      "INFO:cmt.project:Start running case (21/44): 'STOWA2014_HUIDIG_zomer_middelnat_KORT_95mm_niet_verhoogd'\n",
      "INFO:cmt.project:finished running case: 'STOWA2014_HUIDIG_winter_middelnat_MIDDELHOOG_30mm_niet_verhoogd' in 20.687959 secs\n",
      "INFO:cmt.project:Start running case (22/44): 'STOWA2014_HUIDIG_zomer_middelnat_KORT_85mm_niet_verhoogd'\n"
     ]
    },
    {
     "name": "stdout",
     "output_type": "stream",
     "text": [
      "D:\\repositories\\HYDROLIB\\contrib\\d2hydro\\data\\stochast\\results\\D-Hydro-model.json\n"
     ]
    },
    {
     "name": "stderr",
     "output_type": "stream",
     "text": [
      "INFO:cmt.project:finished running case: 'STOWA2014_HUIDIG_winter_middelnat_MIDDELHOOG_20mm_niet_verhoogd' in 20.087898 secs\n",
      "INFO:cmt.project:Start running case (23/44): 'STOWA2014_HUIDIG_zomer_middelnat_KORT_70mm_niet_verhoogd'\n"
     ]
    },
    {
     "name": "stdout",
     "output_type": "stream",
     "text": [
      "D:\\repositories\\HYDROLIB\\contrib\\d2hydro\\data\\stochast\\results\\D-Hydro-model.json\n"
     ]
    },
    {
     "name": "stderr",
     "output_type": "stream",
     "text": [
      "INFO:cmt.project:finished running case: 'STOWA2014_HUIDIG_zomer_middelnat_KORT_95mm_niet_verhoogd' in 19.951982 secs\n",
      "INFO:cmt.project:Start running case (24/44): 'STOWA2014_HUIDIG_zomer_middelnat_KORT_60mm_niet_verhoogd'\n"
     ]
    },
    {
     "name": "stdout",
     "output_type": "stream",
     "text": [
      "D:\\repositories\\HYDROLIB\\contrib\\d2hydro\\data\\stochast\\results\\D-Hydro-model.json\n"
     ]
    },
    {
     "name": "stderr",
     "output_type": "stream",
     "text": [
      "INFO:cmt.project:finished running case: 'STOWA2014_HUIDIG_zomer_middelnat_KORT_85mm_niet_verhoogd' in 18.597054 secs\n",
      "INFO:cmt.project:Start running case (25/44): 'STOWA2014_HUIDIG_zomer_middelnat_KORT_50mm_niet_verhoogd'\n"
     ]
    },
    {
     "name": "stdout",
     "output_type": "stream",
     "text": [
      "D:\\repositories\\HYDROLIB\\contrib\\d2hydro\\data\\stochast\\results\\D-Hydro-model.json\n"
     ]
    },
    {
     "name": "stderr",
     "output_type": "stream",
     "text": [
      "INFO:cmt.project:finished running case: 'STOWA2014_HUIDIG_zomer_middelnat_KORT_70mm_niet_verhoogd' in 20.34477 secs\n",
      "INFO:cmt.project:Start running case (26/44): 'STOWA2014_HUIDIG_zomer_middelnat_KORT_40mm_niet_verhoogd'\n"
     ]
    },
    {
     "name": "stdout",
     "output_type": "stream",
     "text": [
      "D:\\repositories\\HYDROLIB\\contrib\\d2hydro\\data\\stochast\\results\\D-Hydro-model.json\n"
     ]
    },
    {
     "name": "stderr",
     "output_type": "stream",
     "text": [
      "INFO:cmt.project:finished running case: 'STOWA2014_HUIDIG_zomer_middelnat_KORT_60mm_niet_verhoogd' in 21.495632 secs\n",
      "INFO:cmt.project:Start running case (27/44): 'STOWA2014_HUIDIG_zomer_middelnat_KORT_30mm_niet_verhoogd'\n"
     ]
    },
    {
     "name": "stdout",
     "output_type": "stream",
     "text": [
      "D:\\repositories\\HYDROLIB\\contrib\\d2hydro\\data\\stochast\\results\\D-Hydro-model.json\n"
     ]
    },
    {
     "name": "stderr",
     "output_type": "stream",
     "text": [
      "INFO:cmt.project:finished running case: 'STOWA2014_HUIDIG_zomer_middelnat_KORT_50mm_niet_verhoogd' in 23.01053 secs\n",
      "INFO:cmt.project:Start running case (28/44): 'STOWA2014_HUIDIG_zomer_middelnat_KORT_20mm_niet_verhoogd'\n"
     ]
    },
    {
     "name": "stdout",
     "output_type": "stream",
     "text": [
      "D:\\repositories\\HYDROLIB\\contrib\\d2hydro\\data\\stochast\\results\\D-Hydro-model.json\n"
     ]
    },
    {
     "name": "stderr",
     "output_type": "stream",
     "text": [
      "INFO:cmt.project:finished running case: 'STOWA2014_HUIDIG_zomer_middelnat_KORT_40mm_niet_verhoogd' in 22.401456 secs\n",
      "INFO:cmt.project:Start running case (29/44): 'STOWA2014_HUIDIG_zomer_middelnat_LAAG_95mm_niet_verhoogd'\n"
     ]
    },
    {
     "name": "stdout",
     "output_type": "stream",
     "text": [
      "D:\\repositories\\HYDROLIB\\contrib\\d2hydro\\data\\stochast\\results\\D-Hydro-model.json\n"
     ]
    },
    {
     "name": "stderr",
     "output_type": "stream",
     "text": [
      "INFO:cmt.project:finished running case: 'STOWA2014_HUIDIG_zomer_middelnat_KORT_30mm_niet_verhoogd' in 19.751468 secs\n",
      "INFO:cmt.project:Start running case (30/44): 'STOWA2014_HUIDIG_zomer_middelnat_LAAG_85mm_niet_verhoogd'\n"
     ]
    },
    {
     "name": "stdout",
     "output_type": "stream",
     "text": [
      "D:\\repositories\\HYDROLIB\\contrib\\d2hydro\\data\\stochast\\results\\D-Hydro-model.json\n"
     ]
    },
    {
     "name": "stderr",
     "output_type": "stream",
     "text": [
      "INFO:cmt.project:finished running case: 'STOWA2014_HUIDIG_zomer_middelnat_KORT_20mm_niet_verhoogd' in 17.879195 secs\n",
      "INFO:cmt.project:Start running case (31/44): 'STOWA2014_HUIDIG_zomer_middelnat_LAAG_70mm_niet_verhoogd'\n"
     ]
    },
    {
     "name": "stdout",
     "output_type": "stream",
     "text": [
      "D:\\repositories\\HYDROLIB\\contrib\\d2hydro\\data\\stochast\\results\\D-Hydro-model.json\n"
     ]
    },
    {
     "name": "stderr",
     "output_type": "stream",
     "text": [
      "INFO:cmt.project:finished running case: 'STOWA2014_HUIDIG_zomer_middelnat_LAAG_95mm_niet_verhoogd' in 19.682406 secs\n",
      "INFO:cmt.project:Start running case (32/44): 'STOWA2014_HUIDIG_zomer_middelnat_LAAG_60mm_niet_verhoogd'\n"
     ]
    },
    {
     "name": "stdout",
     "output_type": "stream",
     "text": [
      "D:\\repositories\\HYDROLIB\\contrib\\d2hydro\\data\\stochast\\results\\D-Hydro-model.json\n"
     ]
    },
    {
     "name": "stderr",
     "output_type": "stream",
     "text": [
      "INFO:cmt.project:finished running case: 'STOWA2014_HUIDIG_zomer_middelnat_LAAG_85mm_niet_verhoogd' in 19.13089 secs\n",
      "INFO:cmt.project:Start running case (33/44): 'STOWA2014_HUIDIG_zomer_middelnat_LAAG_50mm_niet_verhoogd'\n"
     ]
    },
    {
     "name": "stdout",
     "output_type": "stream",
     "text": [
      "D:\\repositories\\HYDROLIB\\contrib\\d2hydro\\data\\stochast\\results\\D-Hydro-model.json\n"
     ]
    },
    {
     "name": "stderr",
     "output_type": "stream",
     "text": [
      "INFO:cmt.project:finished running case: 'STOWA2014_HUIDIG_zomer_middelnat_LAAG_70mm_niet_verhoogd' in 24.098077 secs\n",
      "INFO:cmt.project:Start running case (34/44): 'STOWA2014_HUIDIG_zomer_middelnat_LAAG_40mm_niet_verhoogd'\n"
     ]
    },
    {
     "name": "stdout",
     "output_type": "stream",
     "text": [
      "D:\\repositories\\HYDROLIB\\contrib\\d2hydro\\data\\stochast\\results\\D-Hydro-model.json\n"
     ]
    },
    {
     "name": "stderr",
     "output_type": "stream",
     "text": [
      "INFO:cmt.project:finished running case: 'STOWA2014_HUIDIG_zomer_middelnat_LAAG_60mm_niet_verhoogd' in 22.181758 secs\n",
      "INFO:cmt.project:Start running case (35/44): 'STOWA2014_HUIDIG_zomer_middelnat_LAAG_30mm_niet_verhoogd'\n"
     ]
    },
    {
     "name": "stdout",
     "output_type": "stream",
     "text": [
      "D:\\repositories\\HYDROLIB\\contrib\\d2hydro\\data\\stochast\\results\\D-Hydro-model.json\n"
     ]
    },
    {
     "name": "stderr",
     "output_type": "stream",
     "text": [
      "INFO:cmt.project:finished running case: 'STOWA2014_HUIDIG_zomer_middelnat_LAAG_50mm_niet_verhoogd' in 23.798867 secs\n",
      "INFO:cmt.project:Start running case (36/44): 'STOWA2014_HUIDIG_zomer_middelnat_LAAG_20mm_niet_verhoogd'\n"
     ]
    },
    {
     "name": "stdout",
     "output_type": "stream",
     "text": [
      "D:\\repositories\\HYDROLIB\\contrib\\d2hydro\\data\\stochast\\results\\D-Hydro-model.json\n"
     ]
    },
    {
     "name": "stderr",
     "output_type": "stream",
     "text": [
      "INFO:cmt.project:finished running case: 'STOWA2014_HUIDIG_zomer_middelnat_LAAG_40mm_niet_verhoogd' in 19.595836 secs\n",
      "INFO:cmt.project:Start running case (37/44): 'STOWA2014_HUIDIG_zomer_middelnat_MIDDELHOOG_95mm_niet_verhoogd'\n"
     ]
    },
    {
     "name": "stdout",
     "output_type": "stream",
     "text": [
      "D:\\repositories\\HYDROLIB\\contrib\\d2hydro\\data\\stochast\\results\\D-Hydro-model.json\n"
     ]
    },
    {
     "name": "stderr",
     "output_type": "stream",
     "text": [
      "INFO:cmt.project:finished running case: 'STOWA2014_HUIDIG_zomer_middelnat_LAAG_30mm_niet_verhoogd' in 18.012385 secs\n",
      "INFO:cmt.project:Start running case (38/44): 'STOWA2014_HUIDIG_zomer_middelnat_MIDDELHOOG_85mm_niet_verhoogd'\n"
     ]
    },
    {
     "name": "stdout",
     "output_type": "stream",
     "text": [
      "D:\\repositories\\HYDROLIB\\contrib\\d2hydro\\data\\stochast\\results\\D-Hydro-model.json\n"
     ]
    },
    {
     "name": "stderr",
     "output_type": "stream",
     "text": [
      "INFO:cmt.project:finished running case: 'STOWA2014_HUIDIG_zomer_middelnat_LAAG_20mm_niet_verhoogd' in 17.790272 secs\n"
     ]
    },
    {
     "name": "stdout",
     "output_type": "stream",
     "text": [
      "D:\\repositories\\HYDROLIB\\contrib\\d2hydro\\data\\stochast\\results\\D-Hydro-model.json\n"
     ]
    },
    {
     "name": "stderr",
     "output_type": "stream",
     "text": [
      "INFO:cmt.project:Start running case (39/44): 'STOWA2014_HUIDIG_zomer_middelnat_MIDDELHOOG_70mm_niet_verhoogd'\n",
      "INFO:cmt.project:finished running case: 'STOWA2014_HUIDIG_zomer_middelnat_MIDDELHOOG_95mm_niet_verhoogd' in 17.947124 secs\n",
      "INFO:cmt.project:Start running case (40/44): 'STOWA2014_HUIDIG_zomer_middelnat_MIDDELHOOG_60mm_niet_verhoogd'\n"
     ]
    },
    {
     "name": "stdout",
     "output_type": "stream",
     "text": [
      "D:\\repositories\\HYDROLIB\\contrib\\d2hydro\\data\\stochast\\results\\D-Hydro-model.json\n"
     ]
    },
    {
     "name": "stderr",
     "output_type": "stream",
     "text": [
      "INFO:cmt.project:finished running case: 'STOWA2014_HUIDIG_zomer_middelnat_MIDDELHOOG_85mm_niet_verhoogd' in 18.256689 secs\n",
      "INFO:cmt.project:Start running case (41/44): 'STOWA2014_HUIDIG_zomer_middelnat_MIDDELHOOG_50mm_niet_verhoogd'\n"
     ]
    },
    {
     "name": "stdout",
     "output_type": "stream",
     "text": [
      "D:\\repositories\\HYDROLIB\\contrib\\d2hydro\\data\\stochast\\results\\D-Hydro-model.json\n"
     ]
    },
    {
     "name": "stderr",
     "output_type": "stream",
     "text": [
      "INFO:cmt.project:finished running case: 'STOWA2014_HUIDIG_zomer_middelnat_MIDDELHOOG_70mm_niet_verhoogd' in 18.41332 secs\n",
      "INFO:cmt.project:Start running case (42/44): 'STOWA2014_HUIDIG_zomer_middelnat_MIDDELHOOG_40mm_niet_verhoogd'\n"
     ]
    },
    {
     "name": "stdout",
     "output_type": "stream",
     "text": [
      "D:\\repositories\\HYDROLIB\\contrib\\d2hydro\\data\\stochast\\results\\D-Hydro-model.json\n"
     ]
    },
    {
     "name": "stderr",
     "output_type": "stream",
     "text": [
      "INFO:cmt.project:finished running case: 'STOWA2014_HUIDIG_zomer_middelnat_MIDDELHOOG_60mm_niet_verhoogd' in 19.358772 secs\n",
      "INFO:cmt.project:Start running case (43/44): 'STOWA2014_HUIDIG_zomer_middelnat_MIDDELHOOG_30mm_niet_verhoogd'\n"
     ]
    },
    {
     "name": "stdout",
     "output_type": "stream",
     "text": [
      "D:\\repositories\\HYDROLIB\\contrib\\d2hydro\\data\\stochast\\results\\D-Hydro-model.json\n"
     ]
    },
    {
     "name": "stderr",
     "output_type": "stream",
     "text": [
      "INFO:cmt.project:finished running case: 'STOWA2014_HUIDIG_zomer_middelnat_MIDDELHOOG_50mm_niet_verhoogd' in 19.909768 secs\n",
      "INFO:cmt.project:Start running case (44/44): 'STOWA2014_HUIDIG_zomer_middelnat_MIDDELHOOG_20mm_niet_verhoogd'\n"
     ]
    },
    {
     "name": "stdout",
     "output_type": "stream",
     "text": [
      "D:\\repositories\\HYDROLIB\\contrib\\d2hydro\\data\\stochast\\results\\D-Hydro-model.json\n"
     ]
    },
    {
     "name": "stderr",
     "output_type": "stream",
     "text": [
      "INFO:cmt.project:finished running case: 'STOWA2014_HUIDIG_zomer_middelnat_MIDDELHOOG_40mm_niet_verhoogd' in 19.455054 secs\n"
     ]
    },
    {
     "name": "stdout",
     "output_type": "stream",
     "text": [
      "D:\\repositories\\HYDROLIB\\contrib\\d2hydro\\data\\stochast\\results\\D-Hydro-model.json\n"
     ]
    },
    {
     "name": "stderr",
     "output_type": "stream",
     "text": [
      "INFO:cmt.project:finished running case: 'STOWA2014_HUIDIG_zomer_middelnat_MIDDELHOOG_30mm_niet_verhoogd' in 16.677278 secs\n"
     ]
    },
    {
     "name": "stdout",
     "output_type": "stream",
     "text": [
      "D:\\repositories\\HYDROLIB\\contrib\\d2hydro\\data\\stochast\\results\\D-Hydro-model.json\n"
     ]
    },
    {
     "name": "stderr",
     "output_type": "stream",
     "text": [
      "INFO:cmt.project:finished running case: 'STOWA2014_HUIDIG_zomer_middelnat_MIDDELHOOG_20mm_niet_verhoogd' in 15.946394 secs\n",
      "INFO:cmt.project:Finished running batch\n"
     ]
    },
    {
     "name": "stdout",
     "output_type": "stream",
     "text": [
      "D:\\repositories\\HYDROLIB\\contrib\\d2hydro\\data\\stochast\\results\\D-Hydro-model.json\n"
     ]
    }
   ],
   "source": [
    "case_ids = case_ids[1:]\n",
    "project.run_cases(case_ids, workers=3, delete_output=True)"
   ]
  }
 ],
 "metadata": {
  "kernelspec": {
   "display_name": "Python 3 (ipykernel)",
   "language": "python",
   "name": "python3"
  },
  "language_info": {
   "codemirror_mode": {
    "name": "ipython",
    "version": 3
   },
   "file_extension": ".py",
   "mimetype": "text/x-python",
   "name": "python",
   "nbconvert_exporter": "python",
   "pygments_lexer": "ipython3",
   "version": "3.8.13"
  }
 },
 "nbformat": 4,
 "nbformat_minor": 5
}
