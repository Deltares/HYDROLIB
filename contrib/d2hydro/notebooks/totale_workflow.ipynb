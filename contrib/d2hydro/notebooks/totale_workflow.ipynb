{
 "cells": [
  {
   "cell_type": "code",
   "execution_count": 1,
   "id": "6afd5681",
   "metadata": {
    "scrolled": true
   },
   "outputs": [],
   "source": [
    "from cmt.project import Project\n",
    "from pathlib import Path"
   ]
  },
  {
   "cell_type": "code",
   "execution_count": 2,
   "id": "32fcba14",
   "metadata": {},
   "outputs": [
    {
     "ename": "ValidationError",
     "evalue": "6 validation errors for FMModel\ndellen.mdu -> output -> obsFile -> 0 -> observationPoints.ini -> general -> fileType\n  unexpected value; permitted: 'obsPoints' (type=value_error.const; given=obsPoint; permitted=('obsPoints',))\ndellen.mdu -> output -> obsFile -> 0 -> observationPoints.ini -> observationpoint -> 2 -> ObservationPoint_KST-O-17680 -> comments -> branchId\n  str type expected. The key branchId might be duplicated in the input file. (type=type_error.str; msg_template=str type expected. The key branchId might be duplicated in the input file.)\ndellen.mdu -> output -> obsFile -> 0 -> observationPoints.ini -> observationpoint -> 2 -> ObservationPoint_KST-O-17680 -> comments -> chainage\n  str type expected. The key chainage might be duplicated in the input file. (type=type_error.str; msg_template=str type expected. The key chainage might be duplicated in the input file.)\ndellen.mdu -> output -> obsFile -> 0 -> observationPoints.ini -> observationpoint -> 2 -> ObservationPoint_KST-O-17680 -> branchId\n  str type expected. The key branchId might be duplicated in the input file. (type=type_error.str; msg_template=str type expected. The key branchId might be duplicated in the input file.)\ndellen.mdu -> output -> obsFile -> 0 -> observationPoints.ini -> observationpoint -> 2 -> ObservationPoint_KST-O-17680 -> chainage\n  value is not a valid float. The key chainage might be duplicated in the input file. (type=type_error.float; msg_template=value is not a valid float. The key chainage might be duplicated in the input file.)\ndellen.mdu -> output -> obsFile -> 0 -> observationPoints.ini -> observationpoint -> 2 -> ObservationPoint_KST-O-17680 -> __root__\n  x should be given. (type=value_error)",
     "output_type": "error",
     "traceback": [
      "\u001b[1;31m---------------------------------------------------------------------------\u001b[0m",
      "\u001b[1;31mValidationError\u001b[0m                           Traceback (most recent call last)",
      "\u001b[1;32mc:\\Miniconda3\\envs\\hydrolib\\lib\\site-packages\\hydrolib\\core\\basemodel.py\u001b[0m in \u001b[0;36m__init__\u001b[1;34m(self, **data)\u001b[0m\n\u001b[0;32m     48\u001b[0m         \u001b[1;32mtry\u001b[0m\u001b[1;33m:\u001b[0m\u001b[1;33m\u001b[0m\u001b[1;33m\u001b[0m\u001b[0m\n\u001b[1;32m---> 49\u001b[1;33m             \u001b[0msuper\u001b[0m\u001b[1;33m(\u001b[0m\u001b[1;33m)\u001b[0m\u001b[1;33m.\u001b[0m\u001b[0m__init__\u001b[0m\u001b[1;33m(\u001b[0m\u001b[1;33m**\u001b[0m\u001b[0mdata\u001b[0m\u001b[1;33m)\u001b[0m\u001b[1;33m\u001b[0m\u001b[1;33m\u001b[0m\u001b[0m\n\u001b[0m\u001b[0;32m     50\u001b[0m         \u001b[1;32mexcept\u001b[0m \u001b[0mValidationError\u001b[0m \u001b[1;32mas\u001b[0m \u001b[0me\u001b[0m\u001b[1;33m:\u001b[0m\u001b[1;33m\u001b[0m\u001b[1;33m\u001b[0m\u001b[0m\n",
      "\u001b[1;32mc:\\Miniconda3\\envs\\hydrolib\\lib\\site-packages\\pydantic\\main.cp38-win_amd64.pyd\u001b[0m in \u001b[0;36mpydantic.main.BaseModel.__init__\u001b[1;34m()\u001b[0m\n",
      "\u001b[1;31mValidationError\u001b[0m: 6 validation errors for FMModel\noutput -> obsFile -> 0 -> observationPoints.ini -> general -> fileType\n  unexpected value; permitted: 'obsPoints' (type=value_error.const; given=obsPoint; permitted=('obsPoints',))\noutput -> obsFile -> 0 -> observationPoints.ini -> observationpoint -> 2 -> ObservationPoint_KST-O-17680 -> comments -> branchId\n  str type expected. The key branchId might be duplicated in the input file. (type=type_error.str; msg_template=str type expected. The key branchId might be duplicated in the input file.)\noutput -> obsFile -> 0 -> observationPoints.ini -> observationpoint -> 2 -> ObservationPoint_KST-O-17680 -> comments -> chainage\n  str type expected. The key chainage might be duplicated in the input file. (type=type_error.str; msg_template=str type expected. The key chainage might be duplicated in the input file.)\noutput -> obsFile -> 0 -> observationPoints.ini -> observationpoint -> 2 -> ObservationPoint_KST-O-17680 -> branchId\n  str type expected. The key branchId might be duplicated in the input file. (type=type_error.str; msg_template=str type expected. The key branchId might be duplicated in the input file.)\noutput -> obsFile -> 0 -> observationPoints.ini -> observationpoint -> 2 -> ObservationPoint_KST-O-17680 -> chainage\n  value is not a valid float. The key chainage might be duplicated in the input file. (type=type_error.float; msg_template=value is not a valid float. The key chainage might be duplicated in the input file.)\noutput -> obsFile -> 0 -> observationPoints.ini -> observationpoint -> 2 -> ObservationPoint_KST-O-17680 -> __root__\n  x should be given. (type=value_error)",
      "\nDuring handling of the above exception, another exception occurred:\n",
      "\u001b[1;31mValidationError\u001b[0m                           Traceback (most recent call last)",
      "\u001b[1;32m~\\AppData\\Local\\Temp\\ipykernel_21188\\1295973638.py\u001b[0m in \u001b[0;36m<cell line: 2>\u001b[1;34m()\u001b[0m\n\u001b[0;32m      1\u001b[0m \u001b[0mstochastics_json\u001b[0m \u001b[1;33m=\u001b[0m \u001b[0mPath\u001b[0m\u001b[1;33m(\u001b[0m\u001b[1;34mr\"../data/dellen/populate_cases.json\"\u001b[0m\u001b[1;33m)\u001b[0m\u001b[1;33m\u001b[0m\u001b[1;33m\u001b[0m\u001b[0m\n\u001b[1;32m----> 2\u001b[1;33m \u001b[0mproject\u001b[0m \u001b[1;33m=\u001b[0m \u001b[0mProject\u001b[0m\u001b[1;33m(\u001b[0m\u001b[0mfilepath\u001b[0m\u001b[1;33m=\u001b[0m\u001b[1;34mr\"../data/stochast\"\u001b[0m\u001b[1;33m)\u001b[0m\u001b[1;33m.\u001b[0m\u001b[0mfrom_stochastics\u001b[0m\u001b[1;33m(\u001b[0m\u001b[0mstochastics_json\u001b[0m\u001b[1;33m)\u001b[0m\u001b[1;33m\u001b[0m\u001b[1;33m\u001b[0m\u001b[0m\n\u001b[0m",
      "\u001b[1;32md:\\repositories\\hydrolib\\contrib\\d2hydro\\modules\\case_management_tools\\src\\cmt\\project.py\u001b[0m in \u001b[0;36mfrom_stochastics\u001b[1;34m(self, stochastics_json)\u001b[0m\n\u001b[0;32m    357\u001b[0m                 \u001b[0mmodel\u001b[0m \u001b[1;33m=\u001b[0m \u001b[0mself\u001b[0m\u001b[1;33m.\u001b[0m\u001b[0mget_model\u001b[0m\u001b[1;33m(\u001b[0m\u001b[0mmodel_id\u001b[0m\u001b[1;33m)\u001b[0m\u001b[1;33m\u001b[0m\u001b[1;33m\u001b[0m\u001b[0m\n\u001b[0;32m    358\u001b[0m                 \u001b[0mcases_subset\u001b[0m \u001b[1;33m=\u001b[0m \u001b[1;33m[\u001b[0m\u001b[0mi\u001b[0m \u001b[1;32mfor\u001b[0m \u001b[0mi\u001b[0m \u001b[1;32min\u001b[0m \u001b[0mcases\u001b[0m \u001b[1;32mif\u001b[0m \u001b[0mi\u001b[0m\u001b[1;33m[\u001b[0m\u001b[1;34m\"model_id\"\u001b[0m\u001b[1;33m]\u001b[0m \u001b[1;33m==\u001b[0m \u001b[0mmodel_id\u001b[0m\u001b[1;33m]\u001b[0m\u001b[1;33m\u001b[0m\u001b[1;33m\u001b[0m\u001b[0m\n\u001b[1;32m--> 359\u001b[1;33m                 \u001b[0mmdu\u001b[0m \u001b[1;33m=\u001b[0m \u001b[0mFMModel\u001b[0m\u001b[1;33m(\u001b[0m\u001b[0mfilepath\u001b[0m\u001b[1;33m=\u001b[0m\u001b[0mself\u001b[0m\u001b[1;33m.\u001b[0m\u001b[0mfilepath\u001b[0m \u001b[1;33m/\u001b[0m \u001b[1;34m\"models\"\u001b[0m \u001b[1;33m/\u001b[0m \u001b[0mmodel\u001b[0m\u001b[1;33m.\u001b[0m\u001b[0mid\u001b[0m \u001b[1;33m/\u001b[0m \u001b[0mmodel\u001b[0m\u001b[1;33m.\u001b[0m\u001b[0mmdu\u001b[0m\u001b[1;33m)\u001b[0m\u001b[1;33m\u001b[0m\u001b[1;33m\u001b[0m\u001b[0m\n\u001b[0m\u001b[0;32m    360\u001b[0m                 \u001b[0mmdu_parent\u001b[0m \u001b[1;33m=\u001b[0m \u001b[0mmdu\u001b[0m\u001b[1;33m.\u001b[0m\u001b[0mfilepath\u001b[0m\u001b[1;33m.\u001b[0m\u001b[0mparent\u001b[0m\u001b[1;33m\u001b[0m\u001b[1;33m\u001b[0m\u001b[0m\n\u001b[0;32m    361\u001b[0m                 \u001b[0mmdu\u001b[0m\u001b[1;33m.\u001b[0m\u001b[0mgeneral\u001b[0m\u001b[1;33m.\u001b[0m\u001b[0mpathsrelativetoparent\u001b[0m \u001b[1;33m=\u001b[0m \u001b[1;32mTrue\u001b[0m\u001b[1;33m\u001b[0m\u001b[1;33m\u001b[0m\u001b[0m\n",
      "\u001b[1;32mc:\\Miniconda3\\envs\\hydrolib\\lib\\site-packages\\hydrolib\\core\\basemodel.py\u001b[0m in \u001b[0;36m__init__\u001b[1;34m(self, filepath, *args, **kwargs)\u001b[0m\n\u001b[0;32m    561\u001b[0m             \u001b[0mcontext\u001b[0m\u001b[1;33m.\u001b[0m\u001b[0mpush_new_parent\u001b[0m\u001b[1;33m(\u001b[0m\u001b[0mfilepath\u001b[0m\u001b[1;33m.\u001b[0m\u001b[0mparent\u001b[0m\u001b[1;33m,\u001b[0m \u001b[0mrelative_mode\u001b[0m\u001b[1;33m)\u001b[0m\u001b[1;33m\u001b[0m\u001b[1;33m\u001b[0m\u001b[0m\n\u001b[0;32m    562\u001b[0m \u001b[1;33m\u001b[0m\u001b[0m\n\u001b[1;32m--> 563\u001b[1;33m             \u001b[0msuper\u001b[0m\u001b[1;33m(\u001b[0m\u001b[1;33m)\u001b[0m\u001b[1;33m.\u001b[0m\u001b[0m__init__\u001b[0m\u001b[1;33m(\u001b[0m\u001b[1;33m*\u001b[0m\u001b[0margs\u001b[0m\u001b[1;33m,\u001b[0m \u001b[1;33m**\u001b[0m\u001b[0mkwargs\u001b[0m\u001b[1;33m)\u001b[0m\u001b[1;33m\u001b[0m\u001b[1;33m\u001b[0m\u001b[0m\n\u001b[0m\u001b[0;32m    564\u001b[0m             \u001b[0mself\u001b[0m\u001b[1;33m.\u001b[0m\u001b[0m_post_init_load\u001b[0m\u001b[1;33m(\u001b[0m\u001b[1;33m)\u001b[0m\u001b[1;33m\u001b[0m\u001b[1;33m\u001b[0m\u001b[0m\n\u001b[0;32m    565\u001b[0m \u001b[1;33m\u001b[0m\u001b[0m\n",
      "\u001b[1;32mc:\\Miniconda3\\envs\\hydrolib\\lib\\site-packages\\hydrolib\\core\\basemodel.py\u001b[0m in \u001b[0;36m__init__\u001b[1;34m(self, **data)\u001b[0m\n\u001b[0;32m     67\u001b[0m             \u001b[1;32melse\u001b[0m\u001b[1;33m:\u001b[0m\u001b[1;33m\u001b[0m\u001b[1;33m\u001b[0m\u001b[0m\n\u001b[0;32m     68\u001b[0m                 \u001b[1;31m# If there is an identifier, include this in the ValidationError messages.\u001b[0m\u001b[1;33m\u001b[0m\u001b[1;33m\u001b[0m\u001b[1;33m\u001b[0m\u001b[0m\n\u001b[1;32m---> 69\u001b[1;33m                 \u001b[1;32mraise\u001b[0m \u001b[0mValidationError\u001b[0m\u001b[1;33m(\u001b[0m\u001b[1;33m[\u001b[0m\u001b[0mErrorWrapper\u001b[0m\u001b[1;33m(\u001b[0m\u001b[0me\u001b[0m\u001b[1;33m,\u001b[0m \u001b[0mloc\u001b[0m\u001b[1;33m=\u001b[0m\u001b[0midentifier\u001b[0m\u001b[1;33m)\u001b[0m\u001b[1;33m]\u001b[0m\u001b[1;33m,\u001b[0m \u001b[0mself\u001b[0m\u001b[1;33m.\u001b[0m\u001b[0m__class__\u001b[0m\u001b[1;33m)\u001b[0m\u001b[1;33m\u001b[0m\u001b[1;33m\u001b[0m\u001b[0m\n\u001b[0m\u001b[0;32m     70\u001b[0m \u001b[1;33m\u001b[0m\u001b[0m\n\u001b[0;32m     71\u001b[0m     \u001b[1;32mdef\u001b[0m \u001b[0mis_file_link\u001b[0m\u001b[1;33m(\u001b[0m\u001b[0mself\u001b[0m\u001b[1;33m)\u001b[0m \u001b[1;33m->\u001b[0m \u001b[0mbool\u001b[0m\u001b[1;33m:\u001b[0m\u001b[1;33m\u001b[0m\u001b[1;33m\u001b[0m\u001b[0m\n",
      "\u001b[1;31mValidationError\u001b[0m: 6 validation errors for FMModel\ndellen.mdu -> output -> obsFile -> 0 -> observationPoints.ini -> general -> fileType\n  unexpected value; permitted: 'obsPoints' (type=value_error.const; given=obsPoint; permitted=('obsPoints',))\ndellen.mdu -> output -> obsFile -> 0 -> observationPoints.ini -> observationpoint -> 2 -> ObservationPoint_KST-O-17680 -> comments -> branchId\n  str type expected. The key branchId might be duplicated in the input file. (type=type_error.str; msg_template=str type expected. The key branchId might be duplicated in the input file.)\ndellen.mdu -> output -> obsFile -> 0 -> observationPoints.ini -> observationpoint -> 2 -> ObservationPoint_KST-O-17680 -> comments -> chainage\n  str type expected. The key chainage might be duplicated in the input file. (type=type_error.str; msg_template=str type expected. The key chainage might be duplicated in the input file.)\ndellen.mdu -> output -> obsFile -> 0 -> observationPoints.ini -> observationpoint -> 2 -> ObservationPoint_KST-O-17680 -> branchId\n  str type expected. The key branchId might be duplicated in the input file. (type=type_error.str; msg_template=str type expected. The key branchId might be duplicated in the input file.)\ndellen.mdu -> output -> obsFile -> 0 -> observationPoints.ini -> observationpoint -> 2 -> ObservationPoint_KST-O-17680 -> chainage\n  value is not a valid float. The key chainage might be duplicated in the input file. (type=type_error.float; msg_template=value is not a valid float. The key chainage might be duplicated in the input file.)\ndellen.mdu -> output -> obsFile -> 0 -> observationPoints.ini -> observationpoint -> 2 -> ObservationPoint_KST-O-17680 -> __root__\n  x should be given. (type=value_error)"
     ]
    }
   ],
   "source": [
    "stochastics_json = Path(r\"../data/dellen/populate_cases.json\")\n",
    "project = Project(filepath=r\"../data/stochast\").from_stochastics(stochastics_json)"
   ]
  },
  {
   "cell_type": "code",
   "execution_count": null,
   "id": "4cb46dfb",
   "metadata": {},
   "outputs": [],
   "source": [
    "project.dict()"
   ]
  }
 ],
 "metadata": {
  "kernelspec": {
   "display_name": "Python 3 (ipykernel)",
   "language": "python",
   "name": "python3"
  },
  "language_info": {
   "codemirror_mode": {
    "name": "ipython",
    "version": 3
   },
   "file_extension": ".py",
   "mimetype": "text/x-python",
   "name": "python",
   "nbconvert_exporter": "python",
   "pygments_lexer": "ipython3",
   "version": "3.8.13"
  }
 },
 "nbformat": 4,
 "nbformat_minor": 5
}
