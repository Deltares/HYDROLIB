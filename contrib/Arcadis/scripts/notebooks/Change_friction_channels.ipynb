{
 "cells": [
  {
   "cell_type": "markdown",
   "id": "423e8a62",
   "metadata": {},
   "source": [
    "# Genereer fricties over de watergangen gebaseerd op peilgebieden / shapefile\n",
    "\n",
    "Deze notebook runt het .py bestand dat in de scripts map staat. Dit .py bestand wordt geimporteerd met de aanname dat het script in één folder hoger zit dan dit notebook. Als het script niet werkt, check dan eerst of dit klopt.\n",
    "\n",
    "Dit script heeft zes inputs nodig:\n",
    "* `mdu_path`: Pad naar input nc-file met het D-Hydro netwerk\n",
    "* `shape_path`: Pad naar shape met frictionvalues.\n",
    "* `output_path`: Pad naar folder om resultaten weg te schrijven.\n",
    "* `wipe`: True/False: True als alle andere waardes verwijderd moeten worden die niet in de shape staan.\n",
    "* `replace`: True/False: True als de waardes die in de shape vervangen moeten worden in het model.\n",
    "* `append`: True/False: True als de waardes in de shape moeten worden toegevoegd als deze nog niet in het model staan.\n",
    "\n",
    "\n",
    "Opmerkingen:\n",
    "-  Hydrolib dient in python geïnstalleerd te zijn (open prompt, pip install hydrolib-core)\n",
    "-  De gebruiker dient een map \"C:\\temp\\Hydrolib\" te hebben."
   ]
  },
  {
   "cell_type": "markdown",
   "id": "f06ce113",
   "metadata": {},
   "source": [
    "## Importeer het benodigde script: Run onderstaande cel"
   ]
  },
  {
   "cell_type": "code",
   "execution_count": 1,
   "id": "71b0ca9a",
   "metadata": {},
   "outputs": [],
   "source": [
    "import os \n",
    "import sys\n",
    "from pathlib import Path\n",
    "currentdir = os.path.dirname(os.path.abspath(''))\n",
    "sys.path.insert(0,currentdir) \n",
    "\n",
    "from change_friction_channels import change_friction_shape"
   ]
  },
  {
   "cell_type": "markdown",
   "id": "d20374da",
   "metadata": {},
   "source": [
    "## Definieer de inputs: Pas deze hieronder aan en run de cel"
   ]
  },
  {
   "cell_type": "code",
   "execution_count": 2,
   "id": "64e14e17",
   "metadata": {},
   "outputs": [],
   "source": [
    "mdu_path = Path(os.path.join(currentdir, r\"exampledata\\Dellen\",\"Model_cleaned\\dflowfm\\Flow1D.mdu\"))\n",
    "\n",
    "shape_path = Path(os.path.join(currentdir, r\"exampledata\\Dellen\\GIS\",\"Friction_Dellen.shp\"))\n",
    "output_path = r\"C:\\temp\\Hydrolib\"\n"
   ]
  },
  {
   "cell_type": "markdown",
   "id": "a0e921e1",
   "metadata": {},
   "source": [
    "## Run het script"
   ]
  },
  {
   "cell_type": "code",
   "execution_count": 3,
   "id": "88dd7150",
   "metadata": {
    "scrolled": false
   },
   "outputs": [
    {
     "ename": "ValidationError",
     "evalue": "3 validation errors for FMModel\nFlow1D.mdu -> geometry -> structureFile -> 0 -> structures.ini -> structure -> 4 -> PMP_KGM-O-11730 -> __root__\n  Number of values for head should be equal to the numreductionlevels value. (type=value_error)\nFlow1D.mdu -> geometry -> structureFile -> 0 -> structures.ini -> structure -> 72 -> PMP_KGM-O-11860 -> __root__\n  Number of values for head should be equal to the numreductionlevels value. (type=value_error)\nFlow1D.mdu -> grw\n  extra fields not permitted (type=value_error.extra)",
     "output_type": "error",
     "traceback": [
      "\u001b[1;31m---------------------------------------------------------------------------\u001b[0m",
      "\u001b[1;31mValidationError\u001b[0m                           Traceback (most recent call last)",
      "\u001b[1;32mC:\\Python39\\lib\\site-packages\\hydrolib\\core\\basemodel.py\u001b[0m in \u001b[0;36m__init__\u001b[1;34m(self, **data)\u001b[0m\n\u001b[0;32m     47\u001b[0m         \u001b[1;32mtry\u001b[0m\u001b[1;33m:\u001b[0m\u001b[1;33m\u001b[0m\u001b[1;33m\u001b[0m\u001b[0m\n\u001b[1;32m---> 48\u001b[1;33m             \u001b[0msuper\u001b[0m\u001b[1;33m(\u001b[0m\u001b[1;33m)\u001b[0m\u001b[1;33m.\u001b[0m\u001b[0m__init__\u001b[0m\u001b[1;33m(\u001b[0m\u001b[1;33m**\u001b[0m\u001b[0mdata\u001b[0m\u001b[1;33m)\u001b[0m\u001b[1;33m\u001b[0m\u001b[1;33m\u001b[0m\u001b[0m\n\u001b[0m\u001b[0;32m     49\u001b[0m         \u001b[1;32mexcept\u001b[0m \u001b[0mValidationError\u001b[0m \u001b[1;32mas\u001b[0m \u001b[0me\u001b[0m\u001b[1;33m:\u001b[0m\u001b[1;33m\u001b[0m\u001b[1;33m\u001b[0m\u001b[0m\n",
      "\u001b[1;32mC:\\Python39\\lib\\site-packages\\pydantic\\main.cp39-win_amd64.pyd\u001b[0m in \u001b[0;36mpydantic.main.BaseModel.__init__\u001b[1;34m()\u001b[0m\n",
      "\u001b[1;31mValidationError\u001b[0m: 3 validation errors for FMModel\ngeometry -> structureFile -> 0 -> structures.ini -> structure -> 4 -> PMP_KGM-O-11730 -> __root__\n  Number of values for head should be equal to the numreductionlevels value. (type=value_error)\ngeometry -> structureFile -> 0 -> structures.ini -> structure -> 72 -> PMP_KGM-O-11860 -> __root__\n  Number of values for head should be equal to the numreductionlevels value. (type=value_error)\ngrw\n  extra fields not permitted (type=value_error.extra)",
      "\nDuring handling of the above exception, another exception occurred:\n",
      "\u001b[1;31mValidationError\u001b[0m                           Traceback (most recent call last)",
      "\u001b[1;32m~\\AppData\\Local\\Temp\\ipykernel_31472\\13889467.py\u001b[0m in \u001b[0;36m<cell line: 1>\u001b[1;34m()\u001b[0m\n\u001b[1;32m----> 1\u001b[1;33m \u001b[0mchange_friction_shape\u001b[0m\u001b[1;33m(\u001b[0m\u001b[0mmdu_path\u001b[0m\u001b[1;33m,\u001b[0m \u001b[0mshape_path\u001b[0m\u001b[1;33m,\u001b[0m  \u001b[0moutput_path\u001b[0m\u001b[1;33m,\u001b[0m \u001b[0mwipe\u001b[0m \u001b[1;33m=\u001b[0m \u001b[1;32mFalse\u001b[0m\u001b[1;33m,\u001b[0m \u001b[0mreplace\u001b[0m \u001b[1;33m=\u001b[0m \u001b[1;32mTrue\u001b[0m\u001b[1;33m,\u001b[0m \u001b[0mappend\u001b[0m \u001b[1;33m=\u001b[0m \u001b[1;32mFalse\u001b[0m\u001b[1;33m)\u001b[0m\u001b[1;33m\u001b[0m\u001b[1;33m\u001b[0m\u001b[0m\n\u001b[0m",
      "\u001b[1;32mC:\\scripts\\HYDROLIB\\HYDROLIB\\contrib\\Arcadis\\scripts\\change_friction_channels.py\u001b[0m in \u001b[0;36mchange_friction_shape\u001b[1;34m(mdu_path, shape_path, output_path, wipe, replace, append)\u001b[0m\n\u001b[0;32m     55\u001b[0m     \u001b[0mbuffer\u001b[0m \u001b[1;33m=\u001b[0m \u001b[1;36m10\u001b[0m\u001b[1;33m\u001b[0m\u001b[1;33m\u001b[0m\u001b[0m\n\u001b[0;32m     56\u001b[0m \u001b[1;33m\u001b[0m\u001b[0m\n\u001b[1;32m---> 57\u001b[1;33m     \u001b[0mfm\u001b[0m \u001b[1;33m=\u001b[0m \u001b[0mFMModel\u001b[0m\u001b[1;33m(\u001b[0m\u001b[0mmdu_path\u001b[0m\u001b[1;33m)\u001b[0m\u001b[1;33m\u001b[0m\u001b[1;33m\u001b[0m\u001b[0m\n\u001b[0m\u001b[0;32m     58\u001b[0m     \u001b[0mdict_global\u001b[0m\u001b[1;33m,\u001b[0m \u001b[0mdict_frictions\u001b[0m \u001b[1;33m=\u001b[0m \u001b[0mfriction2dict\u001b[0m\u001b[1;33m(\u001b[0m\u001b[0mfm\u001b[0m\u001b[1;33m)\u001b[0m\u001b[1;33m\u001b[0m\u001b[1;33m\u001b[0m\u001b[0m\n\u001b[0;32m     59\u001b[0m     \u001b[0mgdf_frict\u001b[0m \u001b[1;33m=\u001b[0m \u001b[0mgpd\u001b[0m\u001b[1;33m.\u001b[0m\u001b[0mread_file\u001b[0m\u001b[1;33m(\u001b[0m\u001b[0mshape_path\u001b[0m\u001b[1;33m)\u001b[0m\u001b[1;33m\u001b[0m\u001b[1;33m\u001b[0m\u001b[0m\n",
      "\u001b[1;32mC:\\Python39\\lib\\site-packages\\hydrolib\\core\\basemodel.py\u001b[0m in \u001b[0;36m__init__\u001b[1;34m(self, filepath, *args, **kwargs)\u001b[0m\n\u001b[0;32m    560\u001b[0m             \u001b[0mcontext\u001b[0m\u001b[1;33m.\u001b[0m\u001b[0mpush_new_parent\u001b[0m\u001b[1;33m(\u001b[0m\u001b[0mfilepath\u001b[0m\u001b[1;33m.\u001b[0m\u001b[0mparent\u001b[0m\u001b[1;33m,\u001b[0m \u001b[0mrelative_mode\u001b[0m\u001b[1;33m)\u001b[0m\u001b[1;33m\u001b[0m\u001b[1;33m\u001b[0m\u001b[0m\n\u001b[0;32m    561\u001b[0m \u001b[1;33m\u001b[0m\u001b[0m\n\u001b[1;32m--> 562\u001b[1;33m             \u001b[0msuper\u001b[0m\u001b[1;33m(\u001b[0m\u001b[1;33m)\u001b[0m\u001b[1;33m.\u001b[0m\u001b[0m__init__\u001b[0m\u001b[1;33m(\u001b[0m\u001b[1;33m*\u001b[0m\u001b[0margs\u001b[0m\u001b[1;33m,\u001b[0m \u001b[1;33m**\u001b[0m\u001b[0mkwargs\u001b[0m\u001b[1;33m)\u001b[0m\u001b[1;33m\u001b[0m\u001b[1;33m\u001b[0m\u001b[0m\n\u001b[0m\u001b[0;32m    563\u001b[0m             \u001b[0mself\u001b[0m\u001b[1;33m.\u001b[0m\u001b[0m_post_init_load\u001b[0m\u001b[1;33m(\u001b[0m\u001b[1;33m)\u001b[0m\u001b[1;33m\u001b[0m\u001b[1;33m\u001b[0m\u001b[0m\n\u001b[0;32m    564\u001b[0m \u001b[1;33m\u001b[0m\u001b[0m\n",
      "\u001b[1;32mC:\\Python39\\lib\\site-packages\\hydrolib\\core\\basemodel.py\u001b[0m in \u001b[0;36m__init__\u001b[1;34m(self, **data)\u001b[0m\n\u001b[0;32m     66\u001b[0m             \u001b[1;32melse\u001b[0m\u001b[1;33m:\u001b[0m\u001b[1;33m\u001b[0m\u001b[1;33m\u001b[0m\u001b[0m\n\u001b[0;32m     67\u001b[0m                 \u001b[1;31m# If there is an identifier, include this in the ValidationError messages.\u001b[0m\u001b[1;33m\u001b[0m\u001b[1;33m\u001b[0m\u001b[0m\n\u001b[1;32m---> 68\u001b[1;33m                 \u001b[1;32mraise\u001b[0m \u001b[0mValidationError\u001b[0m\u001b[1;33m(\u001b[0m\u001b[1;33m[\u001b[0m\u001b[0mErrorWrapper\u001b[0m\u001b[1;33m(\u001b[0m\u001b[0me\u001b[0m\u001b[1;33m,\u001b[0m \u001b[0mloc\u001b[0m\u001b[1;33m=\u001b[0m\u001b[0midentifier\u001b[0m\u001b[1;33m)\u001b[0m\u001b[1;33m]\u001b[0m\u001b[1;33m,\u001b[0m \u001b[0mself\u001b[0m\u001b[1;33m.\u001b[0m\u001b[0m__class__\u001b[0m\u001b[1;33m)\u001b[0m\u001b[1;33m\u001b[0m\u001b[1;33m\u001b[0m\u001b[0m\n\u001b[0m\u001b[0;32m     69\u001b[0m \u001b[1;33m\u001b[0m\u001b[0m\n\u001b[0;32m     70\u001b[0m     \u001b[1;32mdef\u001b[0m \u001b[0mis_file_link\u001b[0m\u001b[1;33m(\u001b[0m\u001b[0mself\u001b[0m\u001b[1;33m)\u001b[0m \u001b[1;33m->\u001b[0m \u001b[0mbool\u001b[0m\u001b[1;33m:\u001b[0m\u001b[1;33m\u001b[0m\u001b[1;33m\u001b[0m\u001b[0m\n",
      "\u001b[1;31mValidationError\u001b[0m: 3 validation errors for FMModel\nFlow1D.mdu -> geometry -> structureFile -> 0 -> structures.ini -> structure -> 4 -> PMP_KGM-O-11730 -> __root__\n  Number of values for head should be equal to the numreductionlevels value. (type=value_error)\nFlow1D.mdu -> geometry -> structureFile -> 0 -> structures.ini -> structure -> 72 -> PMP_KGM-O-11860 -> __root__\n  Number of values for head should be equal to the numreductionlevels value. (type=value_error)\nFlow1D.mdu -> grw\n  extra fields not permitted (type=value_error.extra)"
     ]
    }
   ],
   "source": [
    "change_friction_shape(mdu_path, shape_path,  output_path, wipe = False, replace = True, append = False)"
   ]
  },
  {
   "cell_type": "code",
   "execution_count": null,
   "id": "e3fc612c",
   "metadata": {},
   "outputs": [],
   "source": []
  },
  {
   "cell_type": "code",
   "execution_count": null,
   "id": "b3e252d4",
   "metadata": {},
   "outputs": [],
   "source": []
  }
 ],
 "metadata": {
  "kernelspec": {
   "display_name": "Python 3 (ipykernel)",
   "language": "python",
   "name": "python3"
  },
  "language_info": {
   "codemirror_mode": {
    "name": "ipython",
    "version": 3
   },
   "file_extension": ".py",
   "mimetype": "text/x-python",
   "name": "python",
   "nbconvert_exporter": "python",
   "pygments_lexer": "ipython3",
   "version": "3.9.12"
  }
 },
 "nbformat": 4,
 "nbformat_minor": 5
}
