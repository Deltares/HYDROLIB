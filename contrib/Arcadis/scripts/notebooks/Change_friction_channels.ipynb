{
 "cells": [
  {
   "cell_type": "markdown",
   "id": "423e8a62",
   "metadata": {},
   "source": [
    "# Genereer fricties over de watergangen gebaseerd op peilgebieden / shapefile\n",
    "\n",
    "Deze notebook runt het .py bestand dat in de scripts map staat. Dit .py bestand wordt geimporteerd met de aanname dat het script in één folder hoger zit dan dit notebook. Als het script niet werkt, check dan eerst of dit klopt.\n",
    "\n",
    "Dit script heeft zes inputs nodig:\n",
    "* `mdu_path`: Pad naar input nc-file met het D-Hydro netwerk\n",
    "* `shape_path`: Pad naar shape met frictionvalues.\n",
    "* `output_path`: Pad naar folder om resultaten weg te schrijven.\n",
    "* `wipe`: True/False: True als alle andere waardes verwijderd moeten worden die niet in de shape staan.\n",
    "* `replace`: True/False: True als de waardes die in de shape vervangen moeten worden in het model.\n",
    "* `append`: True/False: True als de waardes in de shape moeten worden toegevoegd als deze nog niet in het model staan.\n",
    "\n",
    "\n",
    "Opmerkingen:\n",
    "-  Hydrolib dient in python geïnstalleerd te zijn (open prompt, pip install hydrolib-core)\n",
    "-  De gebruiker dient een map \"C:\\temp\\Hydrolib\" te hebben."
   ]
  },
  {
   "cell_type": "markdown",
   "id": "f06ce113",
   "metadata": {},
   "source": [
    "## Importeer het benodigde script: Run onderstaande cel"
   ]
  },
  {
   "cell_type": "code",
   "execution_count": 4,
   "id": "71b0ca9a",
   "metadata": {},
   "outputs": [],
   "source": [
    "import os \n",
    "import sys\n",
    "from pathlib import Path\n",
    "currentdir = os.path.dirname(os.path.abspath(''))\n",
    "sys.path.insert(0,currentdir) \n",
    "\n",
    "from change_friction_channels import change_friction_shape"
   ]
  },
  {
   "cell_type": "markdown",
   "id": "d20374da",
   "metadata": {},
   "source": [
    "## Definieer de inputs: Pas deze hieronder aan en run de cel"
   ]
  },
  {
   "cell_type": "code",
   "execution_count": 5,
   "id": "64e14e17",
   "metadata": {},
   "outputs": [],
   "source": [
    "mdu_path = Path(os.path.join(currentdir, r\"exampledata\\Dellen\",\"Model_cleaned\\dflowfm\\Flow1D.mdu\"))\n",
    "\n",
    "shape_path = Path(os.path.join(currentdir, r\"exampledata\\Dellen\\GIS\",\"Friction_Dellen_full.shp\"))\n",
    "output_path = r\"C:\\temp\\Hydrolib\"\n"
   ]
  },
  {
   "cell_type": "markdown",
   "id": "a0e921e1",
   "metadata": {},
   "source": [
    "## Run het script"
   ]
  },
  {
   "cell_type": "code",
   "execution_count": 6,
   "id": "88dd7150",
   "metadata": {
    "scrolled": false
   },
   "outputs": [
    {
     "name": "stdout",
     "output_type": "stream",
     "text": [
      "Amersfoort aangenomen als projectie\n",
      "no 1d2d links in model\n",
      "Aangenomen dat alle lijnen watergangen zijn, branches.gui is leeg.\n",
      "s\n"
     ]
    }
   ],
   "source": [
    "change_friction_shape(mdu_path, shape_path,  output_path, wipe = False, replace = True, append = False)"
   ]
  },
  {
   "cell_type": "code",
   "execution_count": null,
   "id": "e3fc612c",
   "metadata": {},
   "outputs": [],
   "source": []
  },
  {
   "cell_type": "code",
   "execution_count": null,
   "id": "b3e252d4",
   "metadata": {},
   "outputs": [],
   "source": []
  }
 ],
 "metadata": {
  "kernelspec": {
   "display_name": "Python 3 (ipykernel)",
   "language": "python",
   "name": "python3"
  },
  "language_info": {
   "codemirror_mode": {
    "name": "ipython",
    "version": 3
   },
   "file_extension": ".py",
   "mimetype": "text/x-python",
   "name": "python",
   "nbconvert_exporter": "python",
   "pygments_lexer": "ipython3",
   "version": "3.9.12"
  }
 },
 "nbformat": 4,
 "nbformat_minor": 5
}
