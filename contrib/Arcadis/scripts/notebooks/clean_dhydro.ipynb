{
 "cells": [
  {
   "cell_type": "markdown",
   "id": "f1925cfa",
   "metadata": {},
   "source": [
    "# Opschonen dhydro model om te importeren naar hydrolib\n",
    "\n",
    "Deze notebook runt het .py bestand dat in de scripts map staat. Dit .py bestand wordt geimporteerd met de aanname dat het script in één folder hoger zit dan dit notebook. Als het script niet werkt, check dan eerst of dit klopt.\n",
    "\n",
    "Dit script heeft één input nodig:\n",
    "* `mdupath`: pad naar mdu in de dflowfm folder die schoongemaakt moet worden. Staat nu relatief pad in, kan helemaal aan worden gepast door r\"padnaam\"\n",
    "\n",
    "## DISCLAIMER: Run dit script maar één keer op een dflowfm folder. Als dit script twee keer wordt gerund, kan het model veranderd worden in de .mdu."
   ]
  },
  {
   "cell_type": "markdown",
   "id": "35a90d58",
   "metadata": {},
   "source": [
    "## Importeer het benodigde script: Run onderstaande cel\n"
   ]
  },
  {
   "cell_type": "code",
   "execution_count": 1,
   "id": "75df2fc1",
   "metadata": {},
   "outputs": [],
   "source": [
    "import os \n",
    "import sys\n",
    "currentdir = os.path.dirname(os.path.abspath(''))\n",
    "sys.path.insert(0,currentdir) \n",
    "from clean_dhydro_model_for_hydrolib import clean_model"
   ]
  },
  {
   "cell_type": "markdown",
   "id": "d9287199",
   "metadata": {},
   "source": [
    "## Definieer de inputs: Pas deze hieronder aan en run de cel"
   ]
  },
  {
   "cell_type": "code",
   "execution_count": 4,
   "id": "b8230aa1",
   "metadata": {},
   "outputs": [
    {
     "name": "stdout",
     "output_type": "stream",
     "text": [
      "folder already copied.\n",
      "C:\\scripts\\HYDROLIB\\contrib\\Arcadis\\scripts\\exampledata\\Zwolle-Minimodel_clean\\1D2D-DIMR\\dflowfm\n",
      "Start opschonen model, pliz bestanden verplaatsen naar cleanup_pliz map.\n",
      "cleanup folder al aanwezig\n",
      "Start opschonen mdu file, FixedWeirFile hashtaggen.\n",
      "pliz files opgeschoond\n",
      "Start verplaatsen roughness files naar een aparte map.\n",
      "roughness folder al aanwezig\n",
      "mdu aanpassen dat roughness in aparte map staat\n",
      "Start opschonen roughness definities, enters verwijderen bij frictionValues\n",
      "roughness opgeschoond\n",
      "[grw] verwijderen uit mdu file\n",
      "[grw] verwijderd\n"
     ]
    }
   ],
   "source": [
    "mdu_path = os.path.join(currentdir,'exampledata\\Zwolle-Minimodel_clean','1D2D-DIMR\\dflowfm\\FlowFM.mdu')\n",
    "clean_model(mdu_path)"
   ]
  },
  {
   "cell_type": "code",
   "execution_count": null,
   "id": "47c3800d",
   "metadata": {},
   "outputs": [],
   "source": []
  }
 ],
 "metadata": {
  "kernelspec": {
   "display_name": "Python 3 (ipykernel)",
   "language": "python",
   "name": "python3"
  },
  "language_info": {
   "codemirror_mode": {
    "name": "ipython",
    "version": 3
   },
   "file_extension": ".py",
   "mimetype": "text/x-python",
   "name": "python",
   "nbconvert_exporter": "python",
   "pygments_lexer": "ipython3",
   "version": "3.9.12"
  }
 },
 "nbformat": 4,
 "nbformat_minor": 5
}
