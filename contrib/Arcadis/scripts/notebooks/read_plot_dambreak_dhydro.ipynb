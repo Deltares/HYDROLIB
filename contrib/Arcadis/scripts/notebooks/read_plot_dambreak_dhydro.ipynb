{
 "cells": [
  {
   "cell_type": "markdown",
   "id": "423e8a62",
   "metadata": {},
   "source": [
    "# Uitlezen dambreak run dhydro en plotten\n",
    "\n",
    "Deze notebook runt het .py bestand dat in de scripts map staat. Dit .py bestand wordt geimporteerd met de aanname dat het script in één folder hoger zit dan dit notebook. Als het script niet werkt, check dan eerst of dit klopt.\n",
    "\n",
    "Dit script heeft vijf inputs nodig:\n",
    "* `filepath`: pad naar dflowfm folder\n",
    "* `outpath`: pad naar gewenste output folder.\n",
    "* `dambreak`: True of False: is er een dambreak? \n",
    "* `shpfile`: pad naar de shapefile van de dijkringen.\n",
    "* `dijkringnummer`: Specifiek voor WRIJ: nummer van de dijkring waarvoor script wordt geschreven.\n",
    "\n",
    "Opmerking: De achtergrond van de plot van het overstromingsbeeld werkt op het moment niet."
   ]
  },
  {
   "cell_type": "markdown",
   "id": "f06ce113",
   "metadata": {},
   "source": [
    "## Importeer het benodigde script: Run onderstaande cel"
   ]
  },
  {
   "cell_type": "code",
   "execution_count": 1,
   "id": "5c0830ff",
   "metadata": {},
   "outputs": [],
   "source": [
    "import os \n",
    "import sys\n",
    "currentdir = os.path.dirname(os.path.abspath(''))\n",
    "sys.path.insert(0,currentdir) \n",
    "from read_plot_dambreak_dhydro import analyse_bres_run"
   ]
  },
  {
   "cell_type": "markdown",
   "id": "d20374da",
   "metadata": {},
   "source": [
    "## Definieer de inputs: Pas deze hieronder aan en run de cel"
   ]
  },
  {
   "cell_type": "code",
   "execution_count": 2,
   "id": "64e14e17",
   "metadata": {},
   "outputs": [
    {
     "name": "stdout",
     "output_type": "stream",
     "text": [
      "C:\\scripts\\HYDROLIB\\contrib\\Arcadis\\scripts\\notebooks\n"
     ]
    }
   ],
   "source": [
    "# filepath = os.path.join(currentdir,'Zwolle-Minimodel','1D2D-DIMR\\dflowfm')\n",
    "filepath = r\"\\\\c1j6rd93\\Arcadis\\WRIJ_overstromingsinformatie\\DR47_50_51_oplevering\\20220511_finalversies\\dr50_update\\DR50_Eefdensebrug-zuid_T10000\\dflowfm\"\n",
    "outpath = os.path.join(currentdir,'notebooks')\n",
    "dambreak = True\n",
    "shpfile = os.path.join(currentdir,'exampledata','shapes','dijkringen_wrij.shp')\n",
    "dijkringnummer = 50\n",
    "print (outpath)"
   ]
  },
  {
   "cell_type": "markdown",
   "id": "a0e921e1",
   "metadata": {},
   "source": [
    "## Run het script"
   ]
  },
  {
   "cell_type": "code",
   "execution_count": 3,
   "id": "88dd7150",
   "metadata": {},
   "outputs": [
    {
     "name": "stdout",
     "output_type": "stream",
     "text": [
      "dr_50_fou.nc\n",
      "dr_50_his.nc\n",
      "dr_50_map.nc\n"
     ]
    },
    {
     "name": "stderr",
     "output_type": "stream",
     "text": [
      "C:\\Users\\delanger3781\\Miniconda3\\lib\\site-packages\\pyproj\\crs\\crs.py:131: FutureWarning: '+init=<authority>:<code>' syntax is deprecated. '<authority>:<code>' is the preferred initialization method. When making the change, be mindful of axis order changes: https://pyproj4.github.io/pyproj/stable/gotchas.html#axis-order-changes-in-proj-6\n",
      "  in_crs_string = _prepare_from_proj_string(in_crs_string)\n",
      "C:\\Users\\delanger3781\\Miniconda3\\lib\\site-packages\\pyproj\\crs\\crs.py:131: FutureWarning: '+init=<authority>:<code>' syntax is deprecated. '<authority>:<code>' is the preferred initialization method. When making the change, be mindful of axis order changes: https://pyproj4.github.io/pyproj/stable/gotchas.html#axis-order-changes-in-proj-6\n",
      "  in_crs_string = _prepare_from_proj_string(in_crs_string)\n"
     ]
    },
    {
     "name": "stdout",
     "output_type": "stream",
     "text": [
      "total time [h] = 1.4417738889\n",
      "average time step [s] = 12.1693687043\n",
      "minimal time step [s] = 2.84585\n",
      "initialisation time [s] = 35.353000164\n",
      "\n",
      "afgeronde waardes onder elkaar (zie ook output file: diagnostics_summary.txt):\n",
      "1.44\n",
      "12.17\n",
      "2.85\n",
      "35.35\n"
     ]
    }
   ],
   "source": [
    "analyse_bres_run(filepath,outpath,dambreak,shpfile,dijkringnummer)"
   ]
  },
  {
   "cell_type": "code",
   "execution_count": null,
   "id": "e3fc612c",
   "metadata": {},
   "outputs": [],
   "source": []
  }
 ],
 "metadata": {
  "kernelspec": {
   "display_name": "Python 3 (ipykernel)",
   "language": "python",
   "name": "python3"
  },
  "language_info": {
   "codemirror_mode": {
    "name": "ipython",
    "version": 3
   },
   "file_extension": ".py",
   "mimetype": "text/x-python",
   "name": "python",
   "nbconvert_exporter": "python",
   "pygments_lexer": "ipython3",
   "version": "3.8.10"
  }
 },
 "nbformat": 4,
 "nbformat_minor": 5
}
