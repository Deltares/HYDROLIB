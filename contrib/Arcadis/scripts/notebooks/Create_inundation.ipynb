{
 "cells": [
  {
   "cell_type": "markdown",
   "id": "423e8a62",
   "metadata": {},
   "source": [
    "# Deepen/raise profiles de bodem van D-hydro profielen \n",
    "\n",
    "Deze notebook runt het .py bestand dat in de scripts map staat. Dit .py bestand wordt geimporteerd met de aanname dat het script in één folder hoger zit dan dit notebook. Als het script niet werkt, check dan eerst of dit klopt.\n",
    "\n",
    "Dit script heeft vijf inputs nodig:\n",
    "* `net_nc_path`:  Path to input nc-file containing the D-hydro model results\n",
    "* `result_path`: Path to the output file\n",
    "* `type`:  Analysis type (\"type\" and \"level\")\n",
    "* `dtm_path`: Path to the dtm in tif format\n",
    "* `sdate`: Optional start of period to find maximal level\n",
    "* `edate`: Optional end of period to find maximal level\n",
    "* `domain`: Optional domain to determine inundations (\"1D\" or \"2D\")\n",
    "* `filter`: Optional filtering of the inundations, based on connectivity\n",
    "* `extrapol`: Optional extrapolation of 2D results\n",
    "* `debug`: Write aditional information about the calculation.\n",
    "* `areas1D`: Path to areas that limit 1D voronoi generation (catchments or watersheds)\n",
    "\n",
    "Opmerkingen:\n",
    "-  Hydrolib dient in python geïnstalleerd te zijn (open prompt, pip install hydrolib-core)\n",
    "-  De gebruiker dient een map \"C:\\temp\\Hydrolib\" te hebben."
   ]
  },
  {
   "cell_type": "markdown",
   "id": "f06ce113",
   "metadata": {},
   "source": [
    "## Importeer het benodigde script: Run onderstaande cel"
   ]
  },
  {
   "cell_type": "code",
   "execution_count": 1,
   "id": "71b0ca9a",
   "metadata": {},
   "outputs": [],
   "source": [
    "import os \n",
    "import sys\n",
    "from pathlib import Path\n",
    "currentdir = os.path.dirname(os.path.abspath(''))\n",
    "sys.path.insert(0,currentdir) \n",
    "\n",
    "from create_inundation import inun_dhydro"
   ]
  },
  {
   "cell_type": "markdown",
   "id": "d20374da",
   "metadata": {},
   "source": [
    "## Definieer de inputs: Pas deze hieronder aan en run de cel"
   ]
  },
  {
   "cell_type": "code",
   "execution_count": 2,
   "id": "64e14e17",
   "metadata": {},
   "outputs": [],
   "source": [
    "#Het voorbeeld heet nog niet een correct 2D voorbeeld?\n",
    "nc_path = os.path.join(currentdir, r\"exampledata/Dellen/Model\",\"dflowfm/output/Flow1D_map.nc\")\n",
    "result_path = os.path.join(currentdir, r\"notebooks/output/results.tif\")\n",
    "type =\"level\"\n",
    "dtm_path = os.path.join(currentdir, r\"exampledata/Dellen/GIS\",\"AHN3_clip_fill.tif\")\n",
    "sdate=\"\"\n",
    "edate=\"\"\n",
    "domain=\"1D\"\n",
    "filter=False\n",
    "extrapol=0.5\n",
    "debug=False\n",
    "areas1D = \"\""
   ]
  },
  {
   "cell_type": "markdown",
   "id": "a0e921e1",
   "metadata": {},
   "source": [
    "## Run het script"
   ]
  },
  {
   "cell_type": "code",
   "execution_count": 3,
   "id": "88dd7150",
   "metadata": {
    "scrolled": false
   },
   "outputs": [
    {
     "name": "stdout",
     "output_type": "stream",
     "text": [
      "Amersfoort aangenomen als projectie\n",
      "Inlezen van dem en goedzetten nodata.\n"
     ]
    },
    {
     "name": "stderr",
     "output_type": "stream",
     "text": [
      "C:\\scripts\\HYDROLIB\\HYDROLIB\\contrib\\Arcadis\\scripts\\voronoi.py:51: UserWarning: CRS mismatch between the CRS of left geometries and the CRS of right geometries.\n",
      "Use `to_crs()` to reproject one of the input geometries to match the CRS of the other.\n",
      "\n",
      "Left CRS: EPSG:28992\n",
      "Right CRS: None\n",
      "\n",
      "  gdf_points_clip = gpd.sjoin(\n",
      "C:\\scripts\\HYDROLIB\\HYDROLIB\\contrib\\Arcadis\\scripts\\voronoi.py:79: FutureWarning: The frame.append method is deprecated and will be removed from pandas in a future version. Use pandas.concat instead.\n",
      "  points_used = points_used.append(gdf_points_extra_clip)\n"
     ]
    },
    {
     "name": "stdout",
     "output_type": "stream",
     "text": [
      "1 gebieden verwerkt\n",
      "0 gebieden zonder punten.\n",
      "0 met errors.\n",
      "Berekenen van inundaties.\n",
      "Exporteren van inundaties.\n",
      "\n",
      "Maken van inundatiegrid afgerond\n"
     ]
    }
   ],
   "source": [
    " inun_dhydro(\n",
    "        nc_path,\n",
    "        result_path,\n",
    "        type=\"level\",\n",
    "        dtm_path=dtm_path,\n",
    "        sdate=\"\",\n",
    "        edate=\"\",\n",
    "        domain=domain,\n",
    "        filter=filter,\n",
    "        extrapol=extrapol,\n",
    "        debug=debug,\n",
    "        areas1D=areas1D,\n",
    "    );"
   ]
  },
  {
   "cell_type": "markdown",
   "id": "a9e83e95",
   "metadata": {},
   "source": [
    "# Output\n",
    "Het resultaat kan nu ingeladen worden in GIS. Het output bestand staat onder notebooks/output"
   ]
  },
  {
   "cell_type": "code",
   "execution_count": null,
   "id": "b3e252d4",
   "metadata": {},
   "outputs": [],
   "source": []
  }
 ],
 "metadata": {
  "kernelspec": {
   "display_name": "Python 3 (ipykernel)",
   "language": "python",
   "name": "python3"
  },
  "language_info": {
   "codemirror_mode": {
    "name": "ipython",
    "version": 3
   },
   "file_extension": ".py",
   "mimetype": "text/x-python",
   "name": "python",
   "nbconvert_exporter": "python",
   "pygments_lexer": "ipython3",
   "version": "3.9.12"
  }
 },
 "nbformat": 4,
 "nbformat_minor": 5
}
