{
 "cells": [
  {
   "cell_type": "markdown",
   "id": "423e8a62",
   "metadata": {},
   "source": [
    "# Genereer 1D waterstanden gebaseerd op peilgebieden / shapefile\n",
    "\n",
    "Deze notebook runt het .py bestand dat in de scripts map staat. Dit .py bestand wordt geimporteerd met de aanname dat het script in één folder hoger zit dan dit notebook. Als het script niet werkt, check dan eerst of dit klopt.\n",
    "\n",
    "Dit script heeft vijf inputs nodig:\n",
    "* `net_nc_path`: Pad naar input nc-file met het D-Hydro netwerk\n",
    "* `areas_path`: pad naar shapefile met de intiele waardes\n",
    "* `value_field`: kolomnaam die de initiele waardes bevat\n",
    "* `value_type`: type van initiele waarde (waterLevel of WaterDepth)\n",
    "* `global_value`: Standaard waarde voor watergangen die buiten het gebied liggen.\n",
    "* `output_path`: Pad naar folder om resultaten weg te schrijven.\n",
    "\n",
    "Opmerkingen:\n",
    "- Hydrolib dient in python geïnstalleerd te zijn (open prompt, pip install hydrolib-core)\n",
    "-  De gebruiker dient een map \"C:\\temp\\Hydrolib\" te hebben."
   ]
  },
  {
   "cell_type": "markdown",
   "id": "f06ce113",
   "metadata": {},
   "source": [
    "## Importeer het benodigde script: Run onderstaande cel"
   ]
  },
  {
   "cell_type": "code",
   "execution_count": 1,
   "id": "5c0830ff",
   "metadata": {},
   "outputs": [],
   "source": [
    "import os \n",
    "import sys\n",
    "currentdir = os.path.dirname(os.path.abspath(''))\n",
    "sys.path.insert(0,currentdir) \n",
    "from initial_dhydro import initial_dhydro"
   ]
  },
  {
   "cell_type": "markdown",
   "id": "d20374da",
   "metadata": {},
   "source": [
    "## Definieer de inputs: Pas deze hieronder aan en run de cel"
   ]
  },
  {
   "cell_type": "code",
   "execution_count": 6,
   "id": "64e14e17",
   "metadata": {},
   "outputs": [],
   "source": [
    "net_nc_path = os.path.join(\n",
    "    currentdir, r\"exampledata\\Zwolle-Minimodel\",\"1D2D-DIMR\\dflowfm\\FlowFM_net.nc\"\n",
    ")\n",
    "areas_path = os.path.join(currentdir, \"exampledata\\shapes\\gebieden.shp\")\n",
    "value_field = \"Level\"\n",
    "value_type = \"WaterLevel\"\n",
    "output_path = r\"C:\\temp\\Hydrolib\\InitialWaterLevel.ini\""
   ]
  },
  {
   "cell_type": "markdown",
   "id": "a0e921e1",
   "metadata": {},
   "source": [
    "## Run het script"
   ]
  },
  {
   "cell_type": "code",
   "execution_count": 7,
   "id": "88dd7150",
   "metadata": {},
   "outputs": [
    {
     "name": "stdout",
     "output_type": "stream",
     "text": [
      "Amersfoort aangenomen als projectie\n",
      "LET OP: Union niet gelukt. Oude waardes worden niet weggeschreven.\n",
      "Wegschrijven van initiele situatie gelukt\n",
      "Script finished\n"
     ]
    },
    {
     "name": "stderr",
     "output_type": "stream",
     "text": [
      "C:\\scripts\\HYDROLIB\\contrib\\Arcadis\\scripts\\initial_waterlevels_dhydro.py:77: UserWarning: CRS mismatch between the CRS of left geometries and the CRS of right geometries.\n",
      "Use `to_crs()` to reproject one of the input geometries to match the CRS of the other.\n",
      "\n",
      "Left CRS: None\n",
      "Right CRS: EPSG:28992\n",
      "\n",
      "  gdf_union = gpd.overlay(\n",
      "C:\\scripts\\HYDROLIB\\contrib\\Arcadis\\scripts\\initial_waterlevels_dhydro.py:81: UserWarning: CRS mismatch between the CRS of left geometries and the CRS of right geometries.\n",
      "Use `to_crs()` to reproject one of the input geometries to match the CRS of the other.\n",
      "\n",
      "Left CRS: None\n",
      "Right CRS: EPSG:28992\n",
      "\n",
      "  gdf_union = gpd.overlay(gdf1, gdf2)\n",
      "C:\\Users\\delanger3781\\Miniconda3\\lib\\site-packages\\geopandas\\geodataframe.py:1351: SettingWithCopyWarning: \n",
      "A value is trying to be set on a copy of a slice from a DataFrame.\n",
      "Try using .loc[row_indexer,col_indexer] = value instead\n",
      "\n",
      "See the caveats in the documentation: https://pandas.pydata.org/pandas-docs/stable/user_guide/indexing.html#returning-a-view-versus-a-copy\n",
      "  super().__setitem__(key, value)\n",
      "C:\\Users\\delanger3781\\Miniconda3\\lib\\site-packages\\geopandas\\geodataframe.py:1351: SettingWithCopyWarning: \n",
      "A value is trying to be set on a copy of a slice from a DataFrame.\n",
      "Try using .loc[row_indexer,col_indexer] = value instead\n",
      "\n",
      "See the caveats in the documentation: https://pandas.pydata.org/pandas-docs/stable/user_guide/indexing.html#returning-a-view-versus-a-copy\n",
      "  super().__setitem__(key, value)\n",
      "C:\\Users\\delanger3781\\Miniconda3\\lib\\site-packages\\geopandas\\geodataframe.py:1351: SettingWithCopyWarning: \n",
      "A value is trying to be set on a copy of a slice from a DataFrame.\n",
      "Try using .loc[row_indexer,col_indexer] = value instead\n",
      "\n",
      "See the caveats in the documentation: https://pandas.pydata.org/pandas-docs/stable/user_guide/indexing.html#returning-a-view-versus-a-copy\n",
      "  super().__setitem__(key, value)\n",
      "C:\\Users\\delanger3781\\Miniconda3\\lib\\site-packages\\geopandas\\geodataframe.py:1351: SettingWithCopyWarning: \n",
      "A value is trying to be set on a copy of a slice from a DataFrame.\n",
      "Try using .loc[row_indexer,col_indexer] = value instead\n",
      "\n",
      "See the caveats in the documentation: https://pandas.pydata.org/pandas-docs/stable/user_guide/indexing.html#returning-a-view-versus-a-copy\n",
      "  super().__setitem__(key, value)\n"
     ]
    }
   ],
   "source": [
    "initial_dhydro(\n",
    "    net_nc_path,\n",
    "    areas_path,\n",
    "    value_field,\n",
    "    value_type,\n",
    "    global_value=1.0,\n",
    "    output_path=output_path,\n",
    ")\n",
    "print(\"Script finished\")"
   ]
  },
  {
   "cell_type": "code",
   "execution_count": null,
   "id": "e3fc612c",
   "metadata": {},
   "outputs": [],
   "source": []
  }
 ],
 "metadata": {
  "kernelspec": {
   "display_name": "Python 3 (ipykernel)",
   "language": "python",
   "name": "python3"
  },
  "language_info": {
   "codemirror_mode": {
    "name": "ipython",
    "version": 3
   },
   "file_extension": ".py",
   "mimetype": "text/x-python",
   "name": "python",
   "nbconvert_exporter": "python",
   "pygments_lexer": "ipython3",
   "version": "3.9.12"
  }
 },
 "nbformat": 4,
 "nbformat_minor": 5
}
