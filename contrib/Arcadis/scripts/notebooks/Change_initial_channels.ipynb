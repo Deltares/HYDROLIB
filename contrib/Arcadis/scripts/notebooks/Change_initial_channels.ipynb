{
 "cells": [
  {
   "cell_type": "markdown",
   "id": "423e8a62",
   "metadata": {},
   "source": [
    "# Genereer 1D waterstanden gebaseerd op peilgebieden / shapefile\n",
    "\n",
    "Deze notebook runt het .py bestand dat in de scripts map staat. Dit .py bestand wordt geimporteerd met de aanname dat het script in één folder hoger zit dan dit notebook. Als het script niet werkt, check dan eerst of dit klopt.\n",
    "\n",
    "Dit script heeft vijf inputs nodig:\n",
    "* `net_nc_path`: Pad naar input nc-file met het D-Hydro netwerk\n",
    "* `areas_path`: pad naar shapefile met de intiele waardes\n",
    "* `value_field`: kolomnaam die de initiele waardes bevat\n",
    "* `value_type`: type van initiele waarde (waterLevel of WaterDepth)\n",
    "* `value_unit`: eenheid van initiele waarde (\"m\")\n",
    "* `global_value`: Standaard waarde voor watergangen die buiten het gebied liggen.\n",
    "* `output_path`: Pad naar folder om resultaten weg te schrijven.\n",
    "\n",
    "Opmerkingen:\n",
    "- Hydrolib dient in python geïnstalleerd te zijn (open prompt, pip install hydrolib-core)\n",
    "-  De gebruiker dient een map \"C:\\temp\\Hydrolib\" te hebben."
   ]
  },
  {
   "cell_type": "markdown",
   "id": "f06ce113",
   "metadata": {},
   "source": [
    "## Importeer het benodigde script: Run onderstaande cel"
   ]
  },
  {
   "cell_type": "code",
   "execution_count": 1,
   "id": "5c0830ff",
   "metadata": {},
   "outputs": [],
   "source": [
    "import os \n",
    "import sys\n",
    "currentdir = os.path.dirname(os.path.abspath(''))\n",
    "sys.path.insert(0,currentdir) \n",
    "from change_initial_channels import initial_dhydro"
   ]
  },
  {
   "cell_type": "markdown",
   "id": "d20374da",
   "metadata": {},
   "source": [
    "## Definieer de inputs: Pas deze hieronder aan en run de cel"
   ]
  },
  {
   "cell_type": "code",
   "execution_count": 2,
   "id": "64e14e17",
   "metadata": {},
   "outputs": [],
   "source": [
    "net_nc_path = os.path.join(\n",
    "    currentdir, r\"exampledata/Dellen/Model/dflowfm/dellen_net.nc\"\n",
    ")\n",
    "areas_path = os.path.join(currentdir, r\"exampledata/Dellen/GIS/Peilgebied_Dellen.shp\")\n",
    "value_field = \"GPGWNTPL\"\n",
    "value_type = \"WaterLevel\"\n",
    "value_unit = \"m\"\n",
    "global_value = 1.0\n",
    "output_path = os.path.join(currentdir, r\"notebooks/output/InitialWaterLevel.ini\")"
   ]
  },
  {
   "cell_type": "markdown",
   "id": "a0e921e1",
   "metadata": {},
   "source": [
    "## Run het script"
   ]
  },
  {
   "cell_type": "code",
   "execution_count": 3,
   "id": "88dd7150",
   "metadata": {},
   "outputs": [
    {
     "name": "stdout",
     "output_type": "stream",
     "text": [
      "Amersfoort aangenomen als projectie\n",
      "Aangenomen dat alle lijnen watergangen zijn, branches.gui is leeg.\n",
      "Wegschrijven van initiele situatie gelukt\n"
     ]
    }
   ],
   "source": [
    "initial_dhydro(\n",
    "    net_nc_path,\n",
    "    areas_path,\n",
    "    value_field,\n",
    "    value_type,\n",
    "    value_unit,\n",
    "    global_value=1.0,\n",
    "    output_path=output_path,\n",
    ")"
   ]
  },
  {
   "cell_type": "markdown",
   "id": "36930336",
   "metadata": {},
   "source": [
    "# Output\n",
    "In je lokale folder \"C\\Temp\\Hydrolib\" is nu een nieuw .ini bestand verschenen. Deze kan in het nieuwe model worden gezet:\n",
    "1. Voeg het nieuwe .ini bestand toe in de bestand structuur van het model (onder dflowfm)\n",
    "2. Bekijk in de initialfields.ini of het juiste bestand wordt aangehaald voor initiele waterdieptes. Als dit niet het geval is, voer hier dan het juiste bestand in.\n",
    "3. Open het model in D-Hydro om te bekijken of het script de output goed heeft gegenereerd."
   ]
  },
  {
   "cell_type": "code",
   "execution_count": null,
   "id": "cc139e15",
   "metadata": {},
   "outputs": [],
   "source": []
  }
 ],
 "metadata": {
  "kernelspec": {
   "display_name": "Python 3 (ipykernel)",
   "language": "python",
   "name": "python3"
  },
  "language_info": {
   "codemirror_mode": {
    "name": "ipython",
    "version": 3
   },
   "file_extension": ".py",
   "mimetype": "text/x-python",
   "name": "python",
   "nbconvert_exporter": "python",
   "pygments_lexer": "ipython3",
   "version": "3.9.12"
  }
 },
 "nbformat": 4,
 "nbformat_minor": 5
}
