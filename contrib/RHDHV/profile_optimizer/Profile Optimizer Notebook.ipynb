{
 "cells": [
  {
   "cell_type": "markdown",
   "id": "77b38e3d",
   "metadata": {},
   "source": [
    "<img src=\"./figures/rhdhv_logo.jpg\" width=200 height=400 align=\"right\" />\n",
    "<img src=\"./figures/vallei_veluwe.png\" width=200 height=400 align=\"right\" />\n",
    "\n",
    "***\n",
    "\n",
    "# Profile Optimizer DHydro - Jupyter notebook \n",
    "\n",
    "\n",
    "****"
   ]
  },
  {
   "cell_type": "markdown",
   "id": "4bfb65a2",
   "metadata": {},
   "source": [
    "\n",
    "***\n",
    "\n",
    "## Introductie\n",
    "De **Profile Optimizer** is een Python-tool waarin het optimaliseren van profielen voor D-Hydro modellen geautomatiseerd is. Gebaseerd op een bestaand D-Hydro model, zal een deel van het systeem worden gewijzigd om een geoptimaliseerde situatie te vinden. In deze versie (v1.0) is het mogelijk om de bodembreedte van één profiel van één tak te optimaliseren aan de hand van de huidige bodembreedte en de helling. De bodembreedte wordt geoptimaliseerd, zodat een gewenste stroomsnelheid ontstaat bij de gekozen profiel locatie. \n",
    "\n",
    "Deze notebook is opgezet tijdens TKI4 als workflow voor de Pilot van de Profile Optimizer bij Waterschap Vallei en Veluwe. \n",
    "\n",
    "\n",
    "## Contact \n",
    "De Profile Optimizer is onderdeel van HYDROLIB, een open source community voor python tools voor het D-Hydro software pakket. Bezoek de website van Hydrolib voor meer informatie: https://github.com/Deltares/HYDROLIB\n",
    "\n",
    "De Profile Optimizer is ontwikkeld door Royal HaskoningDHV:\n",
    "- rineke.hulsman@rhdhv.com\n",
    "- lisa.weijers@rhdhv.com\n",
    "- valerie.demetriades@rhdhv.com\n",
    "\n",
    "****"
   ]
  },
  {
   "cell_type": "markdown",
   "id": "763d2e33",
   "metadata": {},
   "source": [
    "### Content\n",
    "\n",
    "* [Stap 0: Klaarzetten input](#stap0)\n",
    "\n",
    "* [Stap 1: Kies optimalisatie gebied/locatie](#stap1)\n",
    "\n",
    "* [Stap 2: Optimaliseer de bodembreedte](#stap2)\n",
    "    * [Stap 2.1: Kies de startwaarde voor de bodembreedte](#stap2.1)\n",
    "    * [Stap 2.2: Genereer optimalisatie window voor de bodembreedte](#stap2.2)\n",
    "    * [Stap 2.3: Reken de modellen door voor de bodembreedtes in de optimalisatie window](#stap2.3)\n",
    "    * [Stap 2.4: Voer het optimalisatie-algoritme uit](#stap2.4)\n",
    "    \n",
    "* [Stap 3: Controleer of de bodembreedte voldoet](#stap3)\n",
    "\n",
    "* [Stap 4: Maak een schets van de geoptimaliseerde profielen](#stap4)\n",
    "\n",
    "* [Stap 5: Kies of je het model met geoptimaliseerde profiel wilt bewaren](#stap5)\n"
   ]
  },
  {
   "cell_type": "markdown",
   "id": "4cfa82f3",
   "metadata": {},
   "source": [
    "*****\n",
    "Import general packages:"
   ]
  },
  {
   "cell_type": "code",
   "execution_count": null,
   "id": "cea856bb",
   "metadata": {},
   "outputs": [],
   "source": [
    "import warnings\n",
    "warnings.filterwarnings('ignore')\n",
    "import numpy as np\n",
    "import pandas as pd\n",
    "from pathlib import Path\n",
    "import tqdm"
   ]
  },
  {
   "cell_type": "markdown",
   "id": "6b8a8491",
   "metadata": {},
   "source": [
    "***\n",
    "\n",
    "### Stap 0: Klaarzetten input <a class=\"anchor\" id=\"stap0\"></a>"
   ]
  },
  {
   "cell_type": "markdown",
   "id": "a85f6c46",
   "metadata": {},
   "source": [
    "In deze stap selecteren we het model waarvoor we de Profile Optimizer willen gaan gebruiken. Uit het geselecteerde model zijn een aantal bestanden essentieel voor deze tool. Die worden in deze stap geïdentificeerd.\n",
    "\n",
    "Tevens worden de werkmappen en outputfolder aangemaakt. "
   ]
  },
  {
   "cell_type": "markdown",
   "id": "0f94ce08",
   "metadata": {},
   "source": [
    "### Mappen:\n",
    "\n",
    "`temp_folder`: tijdelijke map waarin iteraties worden weggeschreven. Deze map mag nog niet bestaan en kan aan het einde van het process automatisch verwijderd worden.  \n",
    "`output_folder`: map waarin het geoptimaliseerde model wordt weggeschreven. Deze map mag nog niet bestaan. "
   ]
  },
  {
   "cell_type": "code",
   "execution_count": null,
   "id": "f9f96f2a",
   "metadata": {},
   "outputs": [],
   "source": [
    "temp_folder = 'C:/local/wvv_test'\n",
    "output_folder = 'C:/local/wvv_temp'"
   ]
  },
  {
   "cell_type": "markdown",
   "id": "1e8ea5e1",
   "metadata": {},
   "source": [
    "### D-Hydro model input\n",
    "\n",
    "`model_map`: de map waarin het bron model staat (als `Path` voor makkelijke relatieve paden vanaf hier).    \n",
    "`model_mdu`: de MDU van dit model (verwijs relatief op deze manier: `model_map/'model_naam.mdu'`).  \n",
    "`model_network_nc`: naam van het netwerk bestand van dit model.  \n",
    "`crossdef_filename`: naam van het bestand waarin de cross section definities van dit model staan.  \n",
    "`crossloc_filename`: naam van het bestand waarin de cross section locaties van dit model staan.  \n",
    "`bat_file`: naam van de batchfile waarmee de DIMR berekening wordt uitgevoerd. "
   ]
  },
  {
   "cell_type": "code",
   "execution_count": null,
   "id": "2b345d73",
   "metadata": {},
   "outputs": [],
   "source": [
    "model_map = Path(r'c:\\Users\\908367\\Box\\BH6657 TKI4 DHYDRO\\BH6657 TKI4 DHYDRO WIP\\08_Oppervlaktewater\\1_modellen\\Project1.dsproj_data\\FlowFM\\input')\n",
    "model_mdu = model_map/'FlowFM.mdu'\n",
    "model_network_nc = model_map/'FlowFM_net.nc'\n",
    "crossdef_filename = model_map/'crsdef.ini'\n",
    "crossloc_filename = model_map/'crsloc.ini' \n",
    "bat_file = model_map/'run.bat'"
   ]
  },
  {
   "cell_type": "markdown",
   "id": "d758008f",
   "metadata": {},
   "source": [
    "### Hydrologische kenmerken en uitgangspunten:\n",
    "\n",
    "`u_gewenst`: doelwaarde stroomsnelheid. $[m/s]$  \n",
    "`afvoer`: debiet in de waterloop die geoptimaliseerd wordt. $[m^3/s]$  \n",
    "`waterdiepte`: gewenste/verwachtte waterdiepte in waterloop die geoptimaliseerd wordt. $[m]$  \n",
    "`profieldiepte`: diepte van het trapeziumprofiel. Wordt alleen gebruikt in schematisatie. Diepte van profiel wordt gebaseerd op bronmodel, profieldiepte bepaalt tot hoe hoog de oevers lopen. $[m]$  \n",
    "`talud_profiel`: gewenst talud van het profiel. $[m/m]$  \n",
    "`verhang`: verhang binnen de waterloop die geoptimaliseerd wordt. $[m/m]$  \n",
    "`strickler_ks`: ruwheid van de waterloop als strickler ks coefficient. $[\\dfrac{m^{1/3}}{s}]$  "
   ]
  },
  {
   "cell_type": "code",
   "execution_count": null,
   "id": "3e7e9768",
   "metadata": {},
   "outputs": [],
   "source": [
    "u_gewenst = 0.22   \n",
    "afvoer = 0.368        \n",
    "waterdiepte = 0.60\n",
    "profieldiepte = 1.5\n",
    "talud_profiel = 2   \n",
    "verhang = 0.8/1000     \n",
    "strickler_ks = 10       "
   ]
  },
  {
   "cell_type": "markdown",
   "id": "8223a49e",
   "metadata": {},
   "source": [
    "### Input voor optimalisatie:\n",
    "\n",
    "`shapefile_path`: shapefile (polygoon) waarmee het optimalisatie gebied wordt geselecteerd.  \n",
    "`check_point`: X & Y coordinaten (RD New) waar de berekende stroomsnelheid wordt gecontroleerd. "
   ]
  },
  {
   "cell_type": "code",
   "execution_count": null,
   "id": "66cad418",
   "metadata": {},
   "outputs": [],
   "source": [
    "shapefile_path = r'c:\\local\\grift.gpkg'\n",
    "check_point = {'x': 194746, 'y': 470795} "
   ]
  },
  {
   "cell_type": "markdown",
   "id": "428fd10c",
   "metadata": {},
   "source": [
    "***\n",
    "### Stap 1: Kies optimalisatie gebied/locatie <a class=\"anchor\" id=\"stap1\"></a>"
   ]
  },
  {
   "cell_type": "markdown",
   "id": "6d93d9e1",
   "metadata": {},
   "source": [
    "In deze stap selecteren we een deel van het model waarvoor we de profielen gaan optimaliseren. We gebruiken hiervoor de functie *selected_area_for_optimization* van *select_area.py*. Let op dat in deze versie van de Profile Optimizer je alleen één shapefile kunt opgeven van één bepaalde branch. Je selecteert dan alle profielen binnen deze branch en opgegeven shapefile. Zie het voorbeeld hieronder. \n",
    "\n",
    "<img src=\"./figures/selectie_profielen.png\" width=400 />"
   ]
  },
  {
   "cell_type": "code",
   "execution_count": null,
   "id": "57259312",
   "metadata": {},
   "outputs": [],
   "source": [
    "from profile_optimizer.geometry import create_branches, create_crosssections, select_crosssection_locations\n",
    "\n",
    "#Run de functie en print het resultaat\n",
    "branches = create_branches(model_network_nc)\n",
    "crosssection_locations = create_crosssections(branches, crossloc_filename)\n",
    "selected_profiles = select_crosssection_locations(crosssection_locations, shapefile_path)\n",
    "selected_profiles"
   ]
  },
  {
   "cell_type": "markdown",
   "id": "04bc399d",
   "metadata": {},
   "source": [
    "***\n",
    "### Stap 2: Optimaliseer de bodembreedte <a class=\"anchor\" id=\"stap2\"></a>"
   ]
  },
  {
   "cell_type": "markdown",
   "id": "dde3c622",
   "metadata": {},
   "source": [
    "#### Stap 2.1: Eerste inschatting bodembreedte <a class=\"anchor\" id=\"stap2.1\"></a>"
   ]
  },
  {
   "cell_type": "markdown",
   "id": "b5cbaf18",
   "metadata": {},
   "source": [
    "Voor het optimaliseren van de bodembreedte bij een gewenste stroomsnelheid wordt begonnen met een inschatting van de bodembreedte. Deze waarde wordt berekend met de Manning formule voor de gewenste snelheid V bij een gegeven verhang, ruwheid, waterdiepte en gekozen talud (stap 0).  Vervolgens wordt de eerste inschatting gecontroleerd met $Q=V*A$, aangezien de eerste schatting met manning geen rekening houdt met het totale debiet. Bij deze controle (`check_QVA`) wordt de bodembreedte in stappen van 5% nog verder aangepast om te zorgen dat het debiet past bij de breedte. Is het berekende debiet met de gevonden bodembreedte te laag, dan wordt de bodembreedte vergroot tot er voldoende debiet is en vice versa. \n",
    "\n",
    "`eerste_schatting_breedte` is een bodembreedte op basis van Manning, voor controle van het debiet.  \n",
    "`nadere_schatting_breedte` is de aangepaste bodembreedte welke past bij het debiet. Deze wordt gebruikt als eerste inschatting binnen het optimalisatie window in de volgende stap. "
   ]
  },
  {
   "cell_type": "code",
   "execution_count": null,
   "id": "894e75e1",
   "metadata": {},
   "outputs": [],
   "source": [
    "from profile_optimizer.preprocessing import bottom_width, check_QVA\n",
    "\n",
    "eerste_schatting_breedte = bottom_width(strickler_ks, verhang, talud_profiel, waterdiepte, u_gewenst)[0]\n",
    "nadere_schatting_breedte = check_QVA(afvoer, waterdiepte, talud_profiel, eerste_schatting_breedte, verhang, strickler_ks)\n",
    "print (f\"De geschatte bodembreedte op basis van Manning & Q=V*A: {nadere_schatting_breedte:.2f} m\")"
   ]
  },
  {
   "cell_type": "code",
   "execution_count": null,
   "id": "cfa5357a",
   "metadata": {},
   "outputs": [],
   "source": [
    "nadere_schatting_breedte"
   ]
  },
  {
   "cell_type": "markdown",
   "id": "51aefa76",
   "metadata": {},
   "source": [
    "#### Stap 2.2: Genereer optimalisatie window voor de bodembreedte <a class=\"anchor\" id=\"stap2.2\"></a>"
   ]
  },
  {
   "cell_type": "markdown",
   "id": "4e7dc621",
   "metadata": {},
   "source": [
    "Voor het optimalisatie algoritme definiëren we een optimalisatie window van de bodembreedte om de 'nadere schatting breedte' van stap 2.1 heen. Je kunt hierbij zelf aangeven wat de bandbreedte (in %) is t.o.v. de gekozen startwaarde en hoeveel waardes je in de window wilt definiëren. Het is tevens mogelijk om in plaats van de `nadere_schatting_breedte` een eigen gekozen breedte te gebruiken, indien je een gericht optimalisatie window zelf wilt instellen. Vul dan zelf een waarde in voor `b_start_value`."
   ]
  },
  {
   "cell_type": "code",
   "execution_count": null,
   "id": "e0d229ef",
   "metadata": {},
   "outputs": [],
   "source": [
    "#Importeer functie\n",
    "from profile_optimizer.preprocessing import search_window\n",
    "\n",
    "#Definieer de argumenten voor deze functie\n",
    "b_start_value = float(nadere_schatting_breedte) \n",
    "# b_start_value = 7\n",
    "bandwidth_perc = 50\n",
    "iterations = 5\n",
    "\n",
    "#Run de functie en print het resultaat\n",
    "window_b = search_window(b_start_value, bandwidth_perc, iterations)\n",
    "\n",
    "print(f\"Het optimalisatie window loopt van {min(window_b):.2f} m tot {max(window_b):.2f} m\")\n",
    "print(f\"De volgende bodembreedtes worden binnen het optimalisatie window doorgerekend:\")\n",
    "print([round(b, 2) for b in window_b])\n",
    "\n",
    "# print (\"Voor de volgende bodembreedtes - binnen het optimalisatie window - gaan we het model doorrekenen om de bijbehorende stroomsnelheid te berekenen:      \"+str(np.round(window_b,2)))"
   ]
  },
  {
   "cell_type": "markdown",
   "id": "43c00f92",
   "metadata": {},
   "source": [
    "#### Stap 2.3: Reken de modellen door voor de bodembreedtes in de optimalisatie window <a class=\"anchor\" id=\"stap2.3\"></a>"
   ]
  },
  {
   "cell_type": "markdown",
   "id": "4a6d36d6",
   "metadata": {},
   "source": [
    "Op basis van het gerealiseerde optimalisatie window van de bodembreedte b wordt nu voor iedere bodembreedte het model doorgerekend en de resultaten (Q=debiet, V=stroomsnelheid, d=waterdiepte) weggeschreven in een dataframe. Ook wordt de gekozen bodembreedte (B) hierin opgenomen."
   ]
  },
  {
   "cell_type": "code",
   "execution_count": null,
   "id": "3a93dfe5",
   "metadata": {},
   "outputs": [],
   "source": [
    "from profile_optimizer.postprocessing import Results\n",
    "from profile_optimizer.optimizer import ProfileOptimizer\n",
    "\n",
    "result_list = []\n",
    "\n",
    "optimizer = ProfileOptimizer(base_model_fn = model_mdu,\n",
    "                            bat_file = bat_file,\n",
    "                            work_dir = temp_folder,\n",
    "                            output_dir = output_folder,\n",
    "                            iteration_name = 'Demo')\n",
    "\n",
    "for bottom_width in tqdm.tqdm(window_b, total=len(window_b)):\n",
    "    prof = {'depth': profieldiepte, 'bottom_width': bottom_width, 'slope_l': 2, 'slope_r': 2}\n",
    "    latest_folder = optimizer.create_iteration(list(selected_profiles['definitionid']), prof)\n",
    "    optimizer.run_latest()\n",
    "    dfm_output_folder = Path(latest_folder).parent/f\"output_{Path(latest_folder).name}\"\n",
    "    result = Results(dfm_output_folder)\n",
    "    xy_result = result.result_at_xy(check_point['x'], check_point['y'])\n",
    "    result_list.append(xy_result)\n",
    "\n",
    "results = pd.concat(result_list, axis=0)\n",
    "results['B'] = window_b"
   ]
  },
  {
   "cell_type": "code",
   "execution_count": null,
   "id": "a78f1882",
   "metadata": {},
   "outputs": [],
   "source": [
    "results.to_csv(Path(output_folder)/'results.csv')"
   ]
  },
  {
   "cell_type": "code",
   "execution_count": null,
   "id": "1789075a",
   "metadata": {},
   "outputs": [],
   "source": [
    "results"
   ]
  },
  {
   "cell_type": "markdown",
   "id": "0a029a7b",
   "metadata": {},
   "source": [
    "#### Stap 2.4: Voer het optimalisatie-algoritme uit <a class=\"anchor\" id=\"stap2.4\"></a>\n",
    "\n",
    "In deze wordt het optimalisatie-algoritme uitgevoerd. Hierbij wordt voor alle doorgerekende bodembreedtes de relatie tussen de bodembreedte (x-as) en de bijbehorende berekende stroomsnelheid (y-as) geplot. Vervolgens wordt het punt dat boven de gewenste stroomsnelheid ligt gekozen en het punt dat eronder ligt. Tussen deze twee punten wordt een lineaire interpolatie uitgevoerd en zo kan de bodembreedte worden berekend die bij de gewenste stroomsnelheid hoort."
   ]
  },
  {
   "cell_type": "markdown",
   "id": "71e6ed83",
   "metadata": {},
   "source": [
    "* Dit optimalisatie algoritme werkt alleen als V_target (de gewenste stroomsnelheid) tussen twee punten zit van bovenstaande dataframe resultaten. "
   ]
  },
  {
   "cell_type": "code",
   "execution_count": null,
   "id": "d0e05fc2",
   "metadata": {},
   "outputs": [],
   "source": [
    "from profile_optimizer.optimizer import find_optimum\n",
    "\n",
    "window_b = results['B']\n",
    "u_bij_berekende_window_b = results['V']\n",
    "berekende_waterdiepte = results['WL']\n",
    "\n",
    "df, geoptimaliseerde_b = find_optimum(window_b, u_bij_berekende_window_b, u_gewenst, berekende_waterdiepte)\n",
    "print (f'De geoptimaliseerde bodembreedte is: {geoptimaliseerde_b:.2f} m')"
   ]
  },
  {
   "cell_type": "markdown",
   "id": "d76998d2",
   "metadata": {},
   "source": [
    "************\n",
    "### Stap 3: Modelberekening geoptimaliseerde bodembreedte <a class=\"anchor\" id=\"stap3\"></a>\n",
    "\n",
    "Nu is de geoptimaliseerde bodembreedte verkregen, die volgens het optimalisatie-algoritme bij de gewenste stroomsnelheid hoort. Het model wordt nu nogmaals doorgerekend met de geoptimaliseerde bodembreedte. De gebruiker kan zo het effect op het systeem beoordelen."
   ]
  },
  {
   "cell_type": "code",
   "execution_count": null,
   "id": "77f92e4a",
   "metadata": {},
   "outputs": [],
   "source": [
    "geoptimaliseerde_b \n",
    "profiel = {'depth': waterdiepte, 'bottom_width': geoptimaliseerde_b, 'slope_l': talud_profiel, 'slope_r': talud_profiel}\n",
    "geoptimaliseerde_run = optimizer.create_iteration(list(selected_profiles['definitionid']), profiel)\n",
    "optimizer.run_latest()\n",
    "\n",
    "dfm_output_folder = Path(geoptimaliseerde_run).parent/f\"DFM_OUTPUT_{Path(geoptimaliseerde_run).name}\"\n",
    "result = Results(dfm_output_folder)\n",
    "xy_result = result.result_at_xy(check_point['x'], check_point['y'])\n",
    "xy_result['B'] = geoptimaliseerde_b"
   ]
  },
  {
   "cell_type": "markdown",
   "id": "2383df73",
   "metadata": {},
   "source": [
    "Voeg de resultaten van de modelrun van de geoptimaliseerde bodembreedte toe aan de dataframe van resultaten --> als laatste regel."
   ]
  },
  {
   "cell_type": "code",
   "execution_count": null,
   "id": "290bbc5c",
   "metadata": {},
   "outputs": [],
   "source": [
    "results = results.append(xy_result[['geometry', 'Q', 'V', 'WL', 'WD', 'B']])\n",
    "results"
   ]
  },
  {
   "cell_type": "code",
   "execution_count": null,
   "id": "7ad6a193",
   "metadata": {},
   "outputs": [],
   "source": [
    "results.to_csv(Path(output_folder)/'results_with_optimized.csv')"
   ]
  },
  {
   "cell_type": "markdown",
   "id": "181464cb",
   "metadata": {},
   "source": [
    "****\n",
    "### Stap 4: Maak een schets van de geoptimaliseerde profielen: <a class=\"anchor\" id=\"stap4\"></a>"
   ]
  },
  {
   "cell_type": "markdown",
   "id": "53198770",
   "metadata": {},
   "source": [
    "In deze stap kan je een profile_ id opgeven van één locatie waarbij het profiel van het huidige model en van het geoptimaliseerde model weergegeven wordt. Let op dat deze profielen genormaliseerd zijn weergegeven."
   ]
  },
  {
   "cell_type": "code",
   "execution_count": null,
   "id": "5fd8e00b",
   "metadata": {},
   "outputs": [],
   "source": [
    "from profile_optimizer.postprocessing import plot_profiles\n",
    "\n",
    "#Kies een profiel uit je model. Of gebruik het eerste profiel uit het interessegebied. \n",
    "profile_id = 'prof_24102013-DP14'\n",
    "if profile_id is None:\n",
    "    profile_id = list(selected_profiles['defenitionid'])[0]\n",
    "\n",
    "#Run de functie en print het resultaat\n",
    "plot_profiles(model_mdu, talud_profiel, geoptimaliseerde_b, profieldiepte, profile_id)"
   ]
  },
  {
   "cell_type": "markdown",
   "id": "80143213",
   "metadata": {},
   "source": [
    "Wegschrijven alle profielen in de folder van de geoptimaliseerde model run resultaten:"
   ]
  },
  {
   "cell_type": "code",
   "execution_count": null,
   "id": "6668575c",
   "metadata": {},
   "outputs": [],
   "source": [
    "for i in range(len(selected_profiles['definitionid'])):\n",
    "    profile_id = selected_profiles['definitionid'].iloc[i]\n",
    "    profiel_figuur = plot_profiles(model_mdu, talud_profiel, geoptimaliseerde_b, profieldiepte, profile_id)\n",
    "    profiel_figuur.write_html(str(dfm_output_folder/f'{profile_id}.html'))"
   ]
  },
  {
   "cell_type": "markdown",
   "id": "7bdad4e0",
   "metadata": {},
   "source": [
    "***"
   ]
  },
  {
   "cell_type": "markdown",
   "id": "b589675e",
   "metadata": {},
   "source": [
    "****\n",
    "### Stap 5: Kies of je het model met geoptimaliseerde profiel wilt bewaren<a class=\"anchor\" id=\"stap5\"></a>\n",
    "\n",
    "In deze stap kun je ervoor kiezen om de werkmap met de iteraties weg te gooien en het geoptimaliseerde model over te zetten naar de output folder. Je kunt er ook voor kiezen om een andere iteratie dan de geoptimaliseerde run te bewaren en de rest weg te gooien. "
   ]
  },
  {
   "cell_type": "code",
   "execution_count": null,
   "id": "e8696f34",
   "metadata": {},
   "outputs": [],
   "source": [
    "optimizer.export_model(specific_iteration=\"latest\", #Can also be an interger of a specific run, for example: 3\n",
    "                      cleanup=True)"
   ]
  },
  {
   "cell_type": "code",
   "execution_count": null,
   "id": "6fb87ee9",
   "metadata": {},
   "outputs": [],
   "source": []
  }
 ],
 "metadata": {
  "kernelspec": {
   "display_name": "Python 3 (ipykernel)",
   "language": "python",
   "name": "python3"
  },
  "language_info": {
   "codemirror_mode": {
    "name": "ipython",
    "version": 3
   },
   "file_extension": ".py",
   "mimetype": "text/x-python",
   "name": "python",
   "nbconvert_exporter": "python",
   "pygments_lexer": "ipython3",
   "version": "3.8.12"
  }
 },
 "nbformat": 4,
 "nbformat_minor": 5
}
