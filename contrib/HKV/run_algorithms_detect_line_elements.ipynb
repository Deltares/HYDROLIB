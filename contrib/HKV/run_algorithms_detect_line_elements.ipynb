{
 "cells": [
  {
   "cell_type": "markdown",
   "id": "11ad606b",
   "metadata": {},
   "source": [
    "# Prepare and run automatic detection of line elements in AHN"
   ]
  },
  {
   "cell_type": "code",
   "execution_count": 1,
   "id": "e8a10a84-25c4-49d4-a9b1-09f08b27df7f",
   "metadata": {},
   "outputs": [],
   "source": [
    "import os\n",
    "from pathlib import Path\n",
    "import pandas as pd\n",
    "import numpy as np\n",
    "import geopandas as gpd\n",
    "from tqdm.auto import tqdm\n",
    "from dtm import DTM\n",
    "from detectlineelements_V2 import DetectLineElements\n",
    "from rasterio.enums import Resampling\n",
    "import rasterio\n",
    "import rioxarray as rio"
   ]
  },
  {
   "cell_type": "markdown",
   "id": "01961700",
   "metadata": {},
   "source": [
    "Opvullen DTM"
   ]
  },
  {
   "cell_type": "code",
   "execution_count": null,
   "id": "d1c306d8",
   "metadata": {},
   "outputs": [],
   "source": [
    "dtm = DTM(Path('data'))\n",
    "ahn_path = Path('data') \n",
    "extent_path = Path('data')/'OLO_stroomgebied_incl.maas.shp'\n",
    "dtm.compose_ahn( extent_path=extent_path, ahn_path = Path(ahn_path), max_fill_distance=100, output_path=ahn_path / 'out')"
   ]
  },
  {
   "cell_type": "code",
   "execution_count": 2,
   "id": "bb1f0d9d",
   "metadata": {},
   "outputs": [],
   "source": [
    "lines = DetectLineElements(path=Path('data'))\n",
    "ahn = Path('data') / 'out' / 'AHN.tif'"
   ]
  },
  {
   "cell_type": "markdown",
   "id": "c98e1117",
   "metadata": {},
   "source": [
    "Fast algorithm - skeletonization"
   ]
  },
  {
   "cell_type": "code",
   "execution_count": 3,
   "id": "5ce4cc9b-0fd2-4e80-b1cc-c23634f6cb2f",
   "metadata": {},
   "outputs": [
    {
     "ename": "KeyboardInterrupt",
     "evalue": "",
     "output_type": "error",
     "traceback": [
      "\u001b[1;31m---------------------------------------------------------------------------\u001b[0m",
      "\u001b[1;31mKeyboardInterrupt\u001b[0m                         Traceback (most recent call last)",
      "\u001b[1;32m<ipython-input-3-c8c6fd79f14e>\u001b[0m in \u001b[0;36m<module>\u001b[1;34m\u001b[0m\n\u001b[1;32m----> 1\u001b[1;33m \u001b[0mlines\u001b[0m\u001b[1;33m.\u001b[0m\u001b[0malgorithm_3\u001b[0m\u001b[1;33m(\u001b[0m\u001b[0mraster_in\u001b[0m\u001b[1;33m=\u001b[0m\u001b[0mahn\u001b[0m\u001b[1;33m,\u001b[0m\u001b[0mvariable_sigma\u001b[0m\u001b[1;33m=\u001b[0m \u001b[0mnp\u001b[0m\u001b[1;33m.\u001b[0m\u001b[0marange\u001b[0m\u001b[1;33m(\u001b[0m\u001b[1;36m0.2\u001b[0m\u001b[1;33m,\u001b[0m\u001b[1;36m1.1\u001b[0m\u001b[1;33m,\u001b[0m \u001b[1;36m0.2\u001b[0m\u001b[1;33m)\u001b[0m\u001b[1;33m,\u001b[0m \u001b[0mresult_path\u001b[0m \u001b[1;33m=\u001b[0m \u001b[0mPath\u001b[0m\u001b[1;33m(\u001b[0m\u001b[1;34m'data'\u001b[0m\u001b[1;33m)\u001b[0m\u001b[1;33m/\u001b[0m\u001b[1;34m'out'\u001b[0m\u001b[1;33m)\u001b[0m\u001b[1;33m\u001b[0m\u001b[1;33m\u001b[0m\u001b[0m\n\u001b[0m",
      "\u001b[1;32mD:\\3640.20\\lijnelementen\\detectlineelements_V2.py\u001b[0m in \u001b[0;36malgorithm_3\u001b[1;34m(self, raster_in, result_path, N_theta, variable_sigma, threshold)\u001b[0m\n\u001b[0;32m    772\u001b[0m \u001b[1;33m\u001b[0m\u001b[0m\n\u001b[0;32m    773\u001b[0m         \u001b[0mDirection\u001b[0m \u001b[1;33m=\u001b[0m \u001b[0mnp\u001b[0m\u001b[1;33m.\u001b[0m\u001b[0mzeros\u001b[0m\u001b[1;33m(\u001b[0m\u001b[0mnp\u001b[0m\u001b[1;33m.\u001b[0m\u001b[0mshape\u001b[0m\u001b[1;33m(\u001b[0m\u001b[0msample\u001b[0m\u001b[1;33m)\u001b[0m\u001b[1;33m)\u001b[0m\u001b[1;33m\u001b[0m\u001b[1;33m\u001b[0m\u001b[0m\n\u001b[1;32m--> 774\u001b[1;33m         \u001b[0mSigma_final\u001b[0m \u001b[1;33m=\u001b[0m \u001b[0mnp\u001b[0m\u001b[1;33m.\u001b[0m\u001b[0mzeros\u001b[0m\u001b[1;33m(\u001b[0m\u001b[0mnp\u001b[0m\u001b[1;33m.\u001b[0m\u001b[0mshape\u001b[0m\u001b[1;33m(\u001b[0m\u001b[0msample\u001b[0m\u001b[1;33m)\u001b[0m\u001b[1;33m)\u001b[0m \u001b[1;33m+\u001b[0m \u001b[0mvariable_sigma\u001b[0m\u001b[1;33m[\u001b[0m\u001b[1;36m0\u001b[0m\u001b[1;33m]\u001b[0m\u001b[1;33m\u001b[0m\u001b[1;33m\u001b[0m\u001b[0m\n\u001b[0m\u001b[0;32m    775\u001b[0m         \u001b[0mlogf\u001b[0m \u001b[1;33m=\u001b[0m \u001b[0mopen\u001b[0m\u001b[1;33m(\u001b[0m\u001b[0mresult_path\u001b[0m \u001b[1;33m/\u001b[0m \u001b[1;34m\"logfile_algorithm3.txt\"\u001b[0m\u001b[1;33m,\u001b[0m \u001b[1;34m\"a\"\u001b[0m\u001b[1;33m)\u001b[0m\u001b[1;33m\u001b[0m\u001b[1;33m\u001b[0m\u001b[0m\n\u001b[0;32m    776\u001b[0m         \u001b[0mlogf\u001b[0m\u001b[1;33m.\u001b[0m\u001b[0mwrite\u001b[0m\u001b[1;33m(\u001b[0m\u001b[1;34m\"Starting loops...\\n\"\u001b[0m\u001b[1;33m)\u001b[0m\u001b[1;33m\u001b[0m\u001b[1;33m\u001b[0m\u001b[0m\n",
      "\u001b[1;31mKeyboardInterrupt\u001b[0m: "
     ]
    }
   ],
   "source": [
    "lines.algorithm_3(raster_in=ahn,variable_sigma= np.arange(0.2,1.1, 0.2), result_path = Path('data')/'out')"
   ]
  },
  {
   "cell_type": "markdown",
   "id": "a3ef8cd9",
   "metadata": {},
   "source": [
    "Slower algorithms"
   ]
  },
  {
   "cell_type": "code",
   "execution_count": null,
   "id": "add984dc",
   "metadata": {},
   "outputs": [
    {
     "data": {
      "application/vnd.jupyter.widget-view+json": {
       "model_id": "11b9f796bc9b4ce4888203b70087e67c",
       "version_major": 2,
       "version_minor": 0
      },
      "text/plain": [
       "  0%|          | 0/4 [00:00<?, ?it/s]"
      ]
     },
     "metadata": {},
     "output_type": "display_data"
    }
   ],
   "source": [
    "lines.algorithm_2(raster_in= ahn, variable_sigma= np.arange(0.2,1.1, 0.2), result_path = Path('data')/'out')"
   ]
  },
  {
   "cell_type": "code",
   "execution_count": null,
   "id": "282fbfb8-3906-4635-bb74-f2007fc70c73",
   "metadata": {},
   "outputs": [],
   "source": [
    "lines.algorithm_1(raster_in= ahn, variable_sigma= np.arange(0.2,1.1, 0.2), result_path = Path('data')/'out')"
   ]
  },
  {
   "cell_type": "code",
   "execution_count": null,
   "id": "09d4847b",
   "metadata": {},
   "outputs": [],
   "source": []
  }
 ],
 "metadata": {
  "kernelspec": {
   "display_name": "Python 3",
   "language": "python",
   "name": "python3"
  },
  "language_info": {
   "codemirror_mode": {
    "name": "ipython",
    "version": 3
   },
   "file_extension": ".py",
   "mimetype": "text/x-python",
   "name": "python",
   "nbconvert_exporter": "python",
   "pygments_lexer": "ipython3",
   "version": "3.8.13"
  },
  "toc-autonumbering": true,
  "toc-showcode": true
 },
 "nbformat": 4,
 "nbformat_minor": 5
}
